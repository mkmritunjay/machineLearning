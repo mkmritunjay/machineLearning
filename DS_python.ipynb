{
  "nbformat": 4,
  "nbformat_minor": 0,
  "metadata": {
    "colab": {
      "name": "DS_python.ipynb",
      "provenance": [],
      "collapsed_sections": [],
      "authorship_tag": "ABX9TyNyAZUia/k4fSGhpWFwEB7h",
      "include_colab_link": true
    },
    "kernelspec": {
      "name": "python3",
      "display_name": "Python 3"
    }
  },
  "cells": [
    {
      "cell_type": "markdown",
      "metadata": {
        "id": "view-in-github",
        "colab_type": "text"
      },
      "source": [
        "<a href=\"https://colab.research.google.com/github/mkmritunjay/machineLearning/blob/master/DS_python.ipynb\" target=\"_parent\"><img src=\"https://colab.research.google.com/assets/colab-badge.svg\" alt=\"Open In Colab\"/></a>"
      ]
    },
    {
      "cell_type": "markdown",
      "metadata": {
        "id": "5eGU8OojQfif",
        "colab_type": "text"
      },
      "source": [
        "## 1. Data Structures and Algorithms\n",
        "\n",
        "### 1.1. Unpacking a sequence into separate variables"
      ]
    },
    {
      "cell_type": "markdown",
      "metadata": {
        "id": "jLVaKlUlQzgI",
        "colab_type": "text"
      },
      "source": [
        "---\n",
        "#### Q. You have N-element tuple or sequence that you would like to unpack into a collection of N variables.\n",
        "---"
      ]
    },
    {
      "cell_type": "code",
      "metadata": {
        "id": "XDK3Aq4WQwO6",
        "colab_type": "code",
        "colab": {
          "base_uri": "https://localhost:8080/",
          "height": 51
        },
        "outputId": "bc47c368-5a37-4435-9fb5-1b6ac41c8bc1"
      },
      "source": [
        "# Any sequence or iterable can be unpacked into variables using a simple assignment operation. The only requirement is that the number of variables\n",
        "# and structure match the sequence. For Example:\n",
        "p = (4,5)\n",
        "x,y = p\n",
        "print('x is: {}'.format(x))\n",
        "print('y is: {}'.format(y))"
      ],
      "execution_count": 1,
      "outputs": [
        {
          "output_type": "stream",
          "text": [
            "x is: 4\n",
            "y is: 5\n"
          ],
          "name": "stdout"
        }
      ]
    },
    {
      "cell_type": "code",
      "metadata": {
        "id": "h4q5uu-zRoFc",
        "colab_type": "code",
        "colab": {
          "base_uri": "https://localhost:8080/",
          "height": 85
        },
        "outputId": "153a090d-367d-4209-9fca-3ebdf08ab842"
      },
      "source": [
        "data = ['ACME', 50, 91.1, (2012, 12, 21)]\n",
        "name, shares, price, date = data\n",
        "print('name is: {}'.format(name))\n",
        "print('shares is: {}'.format(shares))\n",
        "print('price is: {}'.format(price))\n",
        "print('date is: {}'.format(date))"
      ],
      "execution_count": 2,
      "outputs": [
        {
          "output_type": "stream",
          "text": [
            "name is: ACME\n",
            "shares is: 50\n",
            "price is: 91.1\n",
            "date is: (2012, 12, 21)\n"
          ],
          "name": "stdout"
        }
      ]
    },
    {
      "cell_type": "code",
      "metadata": {
        "id": "tcNDx8HYSKsn",
        "colab_type": "code",
        "colab": {
          "base_uri": "https://localhost:8080/",
          "height": 119
        },
        "outputId": "513c68c2-df17-43b1-8de9-fe153092236e"
      },
      "source": [
        "data = ['ACME', 50, 91.1, (2012, 12, 21)]\n",
        "name, shares, price, (year, month, day) = data\n",
        "print('name is: {}'.format(name))\n",
        "print('shares is: {}'.format(shares))\n",
        "print('price is: {}'.format(price))\n",
        "print('year is: {}'.format(year))\n",
        "print('month is: {}'.format(month))\n",
        "print('day is: {}'.format(day))"
      ],
      "execution_count": 3,
      "outputs": [
        {
          "output_type": "stream",
          "text": [
            "name is: ACME\n",
            "shares is: 50\n",
            "price is: 91.1\n",
            "year is: 2012\n",
            "month is: 12\n",
            "day is: 21\n"
          ],
          "name": "stdout"
        }
      ]
    },
    {
      "cell_type": "code",
      "metadata": {
        "id": "bTXYxqG1SiRu",
        "colab_type": "code",
        "colab": {
          "base_uri": "https://localhost:8080/",
          "height": 181
        },
        "outputId": "64c29b8b-ef92-4293-dae3-d0732b237920"
      },
      "source": [
        "# If there is a mismatch in the numbers of elements we will get an error. For example:\n",
        "p = (4,5)\n",
        "x,y,z = p"
      ],
      "execution_count": 4,
      "outputs": [
        {
          "output_type": "error",
          "ename": "ValueError",
          "evalue": "ignored",
          "traceback": [
            "\u001b[0;31m---------------------------------------------------------------------------\u001b[0m",
            "\u001b[0;31mValueError\u001b[0m                                Traceback (most recent call last)",
            "\u001b[0;32m<ipython-input-4-6f98f1fa66f8>\u001b[0m in \u001b[0;36m<module>\u001b[0;34m()\u001b[0m\n\u001b[1;32m      1\u001b[0m \u001b[0mp\u001b[0m \u001b[0;34m=\u001b[0m \u001b[0;34m(\u001b[0m\u001b[0;36m4\u001b[0m\u001b[0;34m,\u001b[0m\u001b[0;36m5\u001b[0m\u001b[0;34m)\u001b[0m\u001b[0;34m\u001b[0m\u001b[0;34m\u001b[0m\u001b[0m\n\u001b[0;32m----> 2\u001b[0;31m \u001b[0mx\u001b[0m\u001b[0;34m,\u001b[0m\u001b[0my\u001b[0m\u001b[0;34m,\u001b[0m\u001b[0mz\u001b[0m \u001b[0;34m=\u001b[0m \u001b[0mp\u001b[0m\u001b[0;34m\u001b[0m\u001b[0;34m\u001b[0m\u001b[0m\n\u001b[0m",
            "\u001b[0;31mValueError\u001b[0m: not enough values to unpack (expected 3, got 2)"
          ]
        }
      ]
    },
    {
      "cell_type": "markdown",
      "metadata": {
        "id": "MwyKO_mUS0NE",
        "colab_type": "text"
      },
      "source": [
        "---\n",
        "Unpacking actually works with any object that happens to be iterable, not just tuples or lists. This includes strings, files, iterators and generators.\n",
        "\n",
        "---"
      ]
    },
    {
      "cell_type": "code",
      "metadata": {
        "id": "7tUO9dCySvyF",
        "colab_type": "code",
        "colab": {
          "base_uri": "https://localhost:8080/",
          "height": 102
        },
        "outputId": "7cb5d271-8156-48f8-a835-c0df07695ac3"
      },
      "source": [
        "# Example:\n",
        "s = 'Hello'\n",
        "a, b, c, d, e = s\n",
        "print('a is: {}'.format(a))\n",
        "print('b is: {}'.format(b))\n",
        "print('c is: {}'.format(c))\n",
        "print('d is: {}'.format(d))\n",
        "print('e is: {}'.format(e))"
      ],
      "execution_count": 5,
      "outputs": [
        {
          "output_type": "stream",
          "text": [
            "a is: H\n",
            "b is: e\n",
            "c is: l\n",
            "d is: l\n",
            "e is: o\n"
          ],
          "name": "stdout"
        }
      ]
    },
    {
      "cell_type": "markdown",
      "metadata": {
        "id": "ppsQdkTFUBvu",
        "colab_type": "text"
      },
      "source": [
        "---\n",
        "When unpacking we may sometimes want to discard certain values. Python has no special syntax for this, but we can often just pick a throwaway variable name for it.\n",
        "\n",
        "---"
      ]
    },
    {
      "cell_type": "code",
      "metadata": {
        "id": "mjbsPjkkT_WB",
        "colab_type": "code",
        "colab": {
          "base_uri": "https://localhost:8080/",
          "height": 51
        },
        "outputId": "4296107d-63f1-4b80-b217-9d7fbc7b798a"
      },
      "source": [
        "# Example:\n",
        "data = [ 'ACME', 50, 91.1, (2012, 12, 21) ]\n",
        "_, shares, price, _ = data\n",
        "print('shares is: {}'.format(shares))\n",
        "print('price is: {}'.format(price))\n",
        "\n",
        "# We need to make sure that the variable name we pick isn't being used for something else already."
      ],
      "execution_count": 7,
      "outputs": [
        {
          "output_type": "stream",
          "text": [
            "shares is: 50\n",
            "price is: 91.1\n"
          ],
          "name": "stdout"
        }
      ]
    },
    {
      "cell_type": "markdown",
      "metadata": {
        "id": "gGbniSfMU-pw",
        "colab_type": "text"
      },
      "source": [
        "### 1.1. Unpacking Elements from Iterables of Arbitrary Length"
      ]
    },
    {
      "cell_type": "markdown",
      "metadata": {
        "id": "gyxVV6y-Vbtq",
        "colab_type": "text"
      },
      "source": [
        "---\n",
        "#### Q. You need to unpack N elements from an iterable, but the iterable may be longer than N elements, causing a \"too many values to unpack\" exception.\n",
        "\n",
        "---\n",
        "\n"
      ]
    },
    {
      "cell_type": "code",
      "metadata": {
        "id": "L9jjF7CXUqhi",
        "colab_type": "code",
        "colab": {
          "base_uri": "https://localhost:8080/",
          "height": 68
        },
        "outputId": "9cc5b5f6-3cb5-4172-9456-b2633a2df170"
      },
      "source": [
        "# Python \"star expressions\" can be used to address this problem.\n",
        "# Suppose we have user records that consist of a name and email address, followed by an arbitrary number of phone numbers.\n",
        "# We could unpack the records like this:\n",
        "record = ('Mritunjay', 'mj@example.com', '111-222-333', '444-555-666')\n",
        "name, email, *phone_numbers = record\n",
        "print('name is: {}'.format(name))\n",
        "print('email is: {}'.format(email))\n",
        "print('phone numbers are: {}'.format(phone_numbers))\n",
        "\n",
        "# phone_numbers variable will always be a list, regardless of how many phone numbers are unpacked (including none)."
      ],
      "execution_count": 9,
      "outputs": [
        {
          "output_type": "stream",
          "text": [
            "name is: Mritunjay\n",
            "email is: mj@example.com\n",
            "phone numbers are: ['111-222-333', '444-555-666']\n"
          ],
          "name": "stdout"
        }
      ]
    },
    {
      "cell_type": "code",
      "metadata": {
        "id": "TjffeiRZZwGL",
        "colab_type": "code",
        "colab": {
          "base_uri": "https://localhost:8080/",
          "height": 51
        },
        "outputId": "92de197e-793e-4563-fcf6-fa0c8bb877ba"
      },
      "source": [
        "# The starred variable can also be the first one in the list.\n",
        "*trailing, current = [1, 2, 3, 4, 5, 6, 7, 8, 9]\n",
        "print('trailing: {}'.format(trailing))\n",
        "print('current: {}'.format(current))"
      ],
      "execution_count": 10,
      "outputs": [
        {
          "output_type": "stream",
          "text": [
            "trailing: [1, 2, 3, 4, 5, 6, 7, 8]\n",
            "current: 9\n"
          ],
          "name": "stdout"
        }
      ]
    },
    {
      "cell_type": "code",
      "metadata": {
        "id": "JX_8Tv72azot",
        "colab_type": "code",
        "colab": {}
      },
      "source": [
        ""
      ],
      "execution_count": 0,
      "outputs": []
    }
  ]
}