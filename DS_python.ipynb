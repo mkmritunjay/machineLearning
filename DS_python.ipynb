{
  "nbformat": 4,
  "nbformat_minor": 0,
  "metadata": {
    "colab": {
      "name": "DS_python.ipynb",
      "provenance": [],
      "collapsed_sections": [],
      "authorship_tag": "ABX9TyMQ7S7Z3+0yC/3oztBsQwLF",
      "include_colab_link": true
    },
    "kernelspec": {
      "name": "python3",
      "display_name": "Python 3"
    }
  },
  "cells": [
    {
      "cell_type": "markdown",
      "metadata": {
        "id": "view-in-github",
        "colab_type": "text"
      },
      "source": [
        "<a href=\"https://colab.research.google.com/github/mkmritunjay/machineLearning/blob/master/DS_python.ipynb\" target=\"_parent\"><img src=\"https://colab.research.google.com/assets/colab-badge.svg\" alt=\"Open In Colab\"/></a>"
      ]
    },
    {
      "cell_type": "markdown",
      "metadata": {
        "id": "5eGU8OojQfif",
        "colab_type": "text"
      },
      "source": [
        "## 1. Data Structures and Algorithms\n",
        "\n",
        "### 1.1. Unpacking a sequence into separate variables"
      ]
    },
    {
      "cell_type": "markdown",
      "metadata": {
        "id": "jLVaKlUlQzgI",
        "colab_type": "text"
      },
      "source": [
        "---\n",
        "#### Q. You have N-element tuple or sequence that you would like to unpack into a collection of N variables.\n",
        "---"
      ]
    },
    {
      "cell_type": "code",
      "metadata": {
        "id": "XDK3Aq4WQwO6",
        "colab_type": "code",
        "outputId": "bc47c368-5a37-4435-9fb5-1b6ac41c8bc1",
        "colab": {
          "base_uri": "https://localhost:8080/",
          "height": 51
        }
      },
      "source": [
        "# Any sequence or iterable can be unpacked into variables using a simple assignment operation. The only requirement is that the number of variables\n",
        "# and structure match the sequence. For Example:\n",
        "p = (4,5)\n",
        "x,y = p\n",
        "print('x is: {}'.format(x))\n",
        "print('y is: {}'.format(y))"
      ],
      "execution_count": 0,
      "outputs": [
        {
          "output_type": "stream",
          "text": [
            "x is: 4\n",
            "y is: 5\n"
          ],
          "name": "stdout"
        }
      ]
    },
    {
      "cell_type": "code",
      "metadata": {
        "id": "h4q5uu-zRoFc",
        "colab_type": "code",
        "outputId": "153a090d-367d-4209-9fca-3ebdf08ab842",
        "colab": {
          "base_uri": "https://localhost:8080/",
          "height": 85
        }
      },
      "source": [
        "data = ['ACME', 50, 91.1, (2012, 12, 21)]\n",
        "name, shares, price, date = data\n",
        "print('name is: {}'.format(name))\n",
        "print('shares is: {}'.format(shares))\n",
        "print('price is: {}'.format(price))\n",
        "print('date is: {}'.format(date))"
      ],
      "execution_count": 0,
      "outputs": [
        {
          "output_type": "stream",
          "text": [
            "name is: ACME\n",
            "shares is: 50\n",
            "price is: 91.1\n",
            "date is: (2012, 12, 21)\n"
          ],
          "name": "stdout"
        }
      ]
    },
    {
      "cell_type": "code",
      "metadata": {
        "id": "tcNDx8HYSKsn",
        "colab_type": "code",
        "outputId": "513c68c2-df17-43b1-8de9-fe153092236e",
        "colab": {
          "base_uri": "https://localhost:8080/",
          "height": 119
        }
      },
      "source": [
        "data = ['ACME', 50, 91.1, (2012, 12, 21)]\n",
        "name, shares, price, (year, month, day) = data\n",
        "print('name is: {}'.format(name))\n",
        "print('shares is: {}'.format(shares))\n",
        "print('price is: {}'.format(price))\n",
        "print('year is: {}'.format(year))\n",
        "print('month is: {}'.format(month))\n",
        "print('day is: {}'.format(day))"
      ],
      "execution_count": 0,
      "outputs": [
        {
          "output_type": "stream",
          "text": [
            "name is: ACME\n",
            "shares is: 50\n",
            "price is: 91.1\n",
            "year is: 2012\n",
            "month is: 12\n",
            "day is: 21\n"
          ],
          "name": "stdout"
        }
      ]
    },
    {
      "cell_type": "code",
      "metadata": {
        "id": "bTXYxqG1SiRu",
        "colab_type": "code",
        "outputId": "64c29b8b-ef92-4293-dae3-d0732b237920",
        "colab": {
          "base_uri": "https://localhost:8080/",
          "height": 181
        }
      },
      "source": [
        "# If there is a mismatch in the numbers of elements we will get an error. For example:\n",
        "p = (4,5)\n",
        "x,y,z = p"
      ],
      "execution_count": 0,
      "outputs": [
        {
          "output_type": "error",
          "ename": "ValueError",
          "evalue": "ignored",
          "traceback": [
            "\u001b[0;31m---------------------------------------------------------------------------\u001b[0m",
            "\u001b[0;31mValueError\u001b[0m                                Traceback (most recent call last)",
            "\u001b[0;32m<ipython-input-4-6f98f1fa66f8>\u001b[0m in \u001b[0;36m<module>\u001b[0;34m()\u001b[0m\n\u001b[1;32m      1\u001b[0m \u001b[0mp\u001b[0m \u001b[0;34m=\u001b[0m \u001b[0;34m(\u001b[0m\u001b[0;36m4\u001b[0m\u001b[0;34m,\u001b[0m\u001b[0;36m5\u001b[0m\u001b[0;34m)\u001b[0m\u001b[0;34m\u001b[0m\u001b[0;34m\u001b[0m\u001b[0m\n\u001b[0;32m----> 2\u001b[0;31m \u001b[0mx\u001b[0m\u001b[0;34m,\u001b[0m\u001b[0my\u001b[0m\u001b[0;34m,\u001b[0m\u001b[0mz\u001b[0m \u001b[0;34m=\u001b[0m \u001b[0mp\u001b[0m\u001b[0;34m\u001b[0m\u001b[0;34m\u001b[0m\u001b[0m\n\u001b[0m",
            "\u001b[0;31mValueError\u001b[0m: not enough values to unpack (expected 3, got 2)"
          ]
        }
      ]
    },
    {
      "cell_type": "markdown",
      "metadata": {
        "id": "MwyKO_mUS0NE",
        "colab_type": "text"
      },
      "source": [
        "---\n",
        "Unpacking actually works with any object that happens to be iterable, not just tuples or lists. This includes strings, files, iterators and generators.\n",
        "\n",
        "---"
      ]
    },
    {
      "cell_type": "code",
      "metadata": {
        "id": "7tUO9dCySvyF",
        "colab_type": "code",
        "outputId": "7cb5d271-8156-48f8-a835-c0df07695ac3",
        "colab": {
          "base_uri": "https://localhost:8080/",
          "height": 102
        }
      },
      "source": [
        "# Example:\n",
        "s = 'Hello'\n",
        "a, b, c, d, e = s\n",
        "print('a is: {}'.format(a))\n",
        "print('b is: {}'.format(b))\n",
        "print('c is: {}'.format(c))\n",
        "print('d is: {}'.format(d))\n",
        "print('e is: {}'.format(e))"
      ],
      "execution_count": 0,
      "outputs": [
        {
          "output_type": "stream",
          "text": [
            "a is: H\n",
            "b is: e\n",
            "c is: l\n",
            "d is: l\n",
            "e is: o\n"
          ],
          "name": "stdout"
        }
      ]
    },
    {
      "cell_type": "markdown",
      "metadata": {
        "id": "ppsQdkTFUBvu",
        "colab_type": "text"
      },
      "source": [
        "---\n",
        "When unpacking we may sometimes want to discard certain values. Python has no special syntax for this, but we can often just pick a throwaway variable name for it.\n",
        "\n",
        "---"
      ]
    },
    {
      "cell_type": "code",
      "metadata": {
        "id": "mjbsPjkkT_WB",
        "colab_type": "code",
        "outputId": "4296107d-63f1-4b80-b217-9d7fbc7b798a",
        "colab": {
          "base_uri": "https://localhost:8080/",
          "height": 51
        }
      },
      "source": [
        "# Example:\n",
        "data = [ 'ACME', 50, 91.1, (2012, 12, 21) ]\n",
        "_, shares, price, _ = data\n",
        "print('shares is: {}'.format(shares))\n",
        "print('price is: {}'.format(price))\n",
        "\n",
        "# We need to make sure that the variable name we pick isn't being used for something else already."
      ],
      "execution_count": 0,
      "outputs": [
        {
          "output_type": "stream",
          "text": [
            "shares is: 50\n",
            "price is: 91.1\n"
          ],
          "name": "stdout"
        }
      ]
    },
    {
      "cell_type": "markdown",
      "metadata": {
        "id": "gGbniSfMU-pw",
        "colab_type": "text"
      },
      "source": [
        "### 1.2. Unpacking Elements from Iterables of Arbitrary Length"
      ]
    },
    {
      "cell_type": "markdown",
      "metadata": {
        "id": "gyxVV6y-Vbtq",
        "colab_type": "text"
      },
      "source": [
        "---\n",
        "#### Q. You need to unpack N elements from an iterable, but the iterable may be longer than N elements, causing a \"too many values to unpack\" exception.\n",
        "\n",
        "---\n",
        "\n"
      ]
    },
    {
      "cell_type": "code",
      "metadata": {
        "id": "L9jjF7CXUqhi",
        "colab_type": "code",
        "outputId": "9cc5b5f6-3cb5-4172-9456-b2633a2df170",
        "colab": {
          "base_uri": "https://localhost:8080/",
          "height": 68
        }
      },
      "source": [
        "# Python \"star expressions\" can be used to address this problem.\n",
        "# Suppose we have user records that consist of a name and email address, followed by an arbitrary number of phone numbers.\n",
        "# We could unpack the records like this:\n",
        "record = ('Mritunjay', 'mj@example.com', '111-222-333', '444-555-666')\n",
        "name, email, *phone_numbers = record\n",
        "print('name is: {}'.format(name))\n",
        "print('email is: {}'.format(email))\n",
        "print('phone numbers are: {}'.format(phone_numbers))\n",
        "\n",
        "# phone_numbers variable will always be a list, regardless of how many phone numbers are unpacked (including none)."
      ],
      "execution_count": 0,
      "outputs": [
        {
          "output_type": "stream",
          "text": [
            "name is: Mritunjay\n",
            "email is: mj@example.com\n",
            "phone numbers are: ['111-222-333', '444-555-666']\n"
          ],
          "name": "stdout"
        }
      ]
    },
    {
      "cell_type": "code",
      "metadata": {
        "id": "TjffeiRZZwGL",
        "colab_type": "code",
        "outputId": "92de197e-793e-4563-fcf6-fa0c8bb877ba",
        "colab": {
          "base_uri": "https://localhost:8080/",
          "height": 51
        }
      },
      "source": [
        "# The starred variable can also be the first one in the list.\n",
        "*trailing, current = [1, 2, 3, 4, 5, 6, 7, 8, 9]\n",
        "print('trailing: {}'.format(trailing))\n",
        "print('current: {}'.format(current))"
      ],
      "execution_count": 0,
      "outputs": [
        {
          "output_type": "stream",
          "text": [
            "trailing: [1, 2, 3, 4, 5, 6, 7, 8]\n",
            "current: 9\n"
          ],
          "name": "stdout"
        }
      ]
    },
    {
      "cell_type": "code",
      "metadata": {
        "id": "JX_8Tv72azot",
        "colab_type": "code",
        "outputId": "2f110410-aa03-4e18-e6b6-9aa1d1543bae",
        "colab": {
          "base_uri": "https://localhost:8080/",
          "height": 68
        }
      },
      "source": [
        "# Star syntax can be especially useful when iterating over a sequence of tuples of varying length. For Example:\n",
        "records = [\n",
        "           ('foo', 1, 2),\n",
        "           ('bar', 'hello'),\n",
        "           ('foo', 3, 4)\n",
        "]\n",
        "\n",
        "def do_foo(x, y):\n",
        "  print('foo', x, y)\n",
        "\n",
        "def do_bar(s):\n",
        "  print('bar', s)\n",
        "\n",
        "for tag, *args in records:\n",
        "  if tag == \"foo\":\n",
        "    do_foo(*args)\n",
        "  elif tag == \"bar\":\n",
        "    do_bar(*args)"
      ],
      "execution_count": 0,
      "outputs": [
        {
          "output_type": "stream",
          "text": [
            "foo 1 2\n",
            "bar hello\n",
            "foo 3 4\n"
          ],
          "name": "stdout"
        }
      ]
    },
    {
      "cell_type": "code",
      "metadata": {
        "id": "SYzln0WBcm__",
        "colab_type": "code",
        "outputId": "99195149-6e14-49bc-df65-4f3dc142a263",
        "colab": {
          "base_uri": "https://localhost:8080/",
          "height": 68
        }
      },
      "source": [
        "# Star unpacking can also be useful when combined with certain kinds of string processing operations, such as splitting. For example:\n",
        "line = 'mritunjay:*:-2:-2:Admin User:/var/empty:/usr/bin/false'\n",
        "uname, *fields, homedir, sh = line.split(':')\n",
        "print('uname: {}'.format(uname))\n",
        "print('homedir: {}'.format(homedir))\n",
        "print('sh: {}'.format(sh))"
      ],
      "execution_count": 0,
      "outputs": [
        {
          "output_type": "stream",
          "text": [
            "uname: mritunjay\n",
            "homedir: /var/empty\n",
            "sh: /usr/bin/false\n"
          ],
          "name": "stdout"
        }
      ]
    },
    {
      "cell_type": "code",
      "metadata": {
        "id": "xEcbUp7jdnav",
        "colab_type": "code",
        "outputId": "d1535dfe-ad44-4c9c-e2b3-c0555ae1924e",
        "colab": {
          "base_uri": "https://localhost:8080/",
          "height": 51
        }
      },
      "source": [
        "# Sometimes we want to unpack values and throw them away. We can't just specify a bare * when unpacking, but we could use a common throwaway\n",
        "# name such as _ or ign(ignored). For example:\n",
        "record = ('ACME', 50, 91.1, (2012, 12, 21))\n",
        "name, *_, (*_, day) = record\n",
        "print('name: {}'.format(name))\n",
        "print('day: {}'.format(day))"
      ],
      "execution_count": 0,
      "outputs": [
        {
          "output_type": "stream",
          "text": [
            "name: ACME\n",
            "day: 21\n"
          ],
          "name": "stdout"
        }
      ]
    },
    {
      "cell_type": "code",
      "metadata": {
        "id": "e6ME9GbjenVo",
        "colab_type": "code",
        "outputId": "a1df2d5b-1723-4e87-c692-4b235db844c7",
        "colab": {
          "base_uri": "https://localhost:8080/",
          "height": 51
        }
      },
      "source": [
        "# There is a certain similarity between star unpacking and list-processing feature of various functional languages.\n",
        "# For example, if we have a list, we can easily split it into head and tail components like below:\n",
        "items = [1, 4, 7, 2, 8, 10, 3]\n",
        "head, *tail = items\n",
        "print('head: {}'.format(head))\n",
        "print('tails: {}'.format(tail)) "
      ],
      "execution_count": 0,
      "outputs": [
        {
          "output_type": "stream",
          "text": [
            "head: 1\n",
            "tails: [4, 7, 2, 8, 10, 3]\n"
          ],
          "name": "stdout"
        }
      ]
    },
    {
      "cell_type": "code",
      "metadata": {
        "id": "ILGW_IqsfgXs",
        "colab_type": "code",
        "outputId": "4fc87aff-e2de-40d5-a269-3a7496b2988e",
        "colab": {
          "base_uri": "https://localhost:8080/",
          "height": 34
        }
      },
      "source": [
        "# we can write a recursive function to get sum of all elements in the list.\n",
        "def sum(items):\n",
        "  head, *tails = items\n",
        "  return head + sum(tails) if tails else head\n",
        "\n",
        "sum(items)"
      ],
      "execution_count": 0,
      "outputs": [
        {
          "output_type": "execute_result",
          "data": {
            "text/plain": [
              "35"
            ]
          },
          "metadata": {
            "tags": []
          },
          "execution_count": 18
        }
      ]
    },
    {
      "cell_type": "code",
      "metadata": {
        "id": "Ppa5Fk-QjVbG",
        "colab_type": "code",
        "outputId": "ac1ca040-78c9-43fa-cad1-a55ec7421722",
        "colab": {
          "base_uri": "https://localhost:8080/",
          "height": 68
        }
      },
      "source": [
        "# Before we move on lets understand what is list comprehension, generators and yield\n",
        "# List comprehension\n",
        "my_list = [i*i for i in range(3)]\n",
        "for i in my_list:\n",
        "  print(i)"
      ],
      "execution_count": 0,
      "outputs": [
        {
          "output_type": "stream",
          "text": [
            "0\n",
            "1\n",
            "4\n"
          ],
          "name": "stdout"
        }
      ]
    },
    {
      "cell_type": "code",
      "metadata": {
        "id": "G6UO2GfWkCDb",
        "colab_type": "code",
        "outputId": "aeb45583-431d-4dc9-ec56-142c11a4dae1",
        "colab": {
          "base_uri": "https://localhost:8080/",
          "height": 68
        }
      },
      "source": [
        "# Generators\n",
        "my_generator = (i*i for i in range(3))\n",
        "for i in my_generator:\n",
        "  print(i)\n",
        "\n",
        "# Generators are iterators, a kind of iterable you can only iterate over once. Generators do not store all the values in memory, \n",
        "# they generate the values on the fly.\n",
        "# It is just the same except you used () instead of []. BUT, you cannot perform for i in my_generator a second time since \n",
        "# generators can only be used once: they calculate 0, then forget about it and calculate 1, and end calculating 4, one by one."
      ],
      "execution_count": 0,
      "outputs": [
        {
          "output_type": "stream",
          "text": [
            "0\n",
            "1\n",
            "4\n"
          ],
          "name": "stdout"
        }
      ]
    },
    {
      "cell_type": "code",
      "metadata": {
        "id": "D-eY88WikmI6",
        "colab_type": "code",
        "outputId": "4afc4549-1a2d-42a3-d677-28bcccbedbf0",
        "colab": {
          "base_uri": "https://localhost:8080/",
          "height": 85
        }
      },
      "source": [
        "# Yield\n",
        "# yield is a keyword that is used like return, except the function will return a generator.\n",
        "def create_generator():\n",
        "  for i in range(3):\n",
        "    yield i*i\n",
        "\n",
        "my_generator = create_generator()\n",
        "print(my_generator)\n",
        "for i in my_generator:\n",
        "  print(i)"
      ],
      "execution_count": 0,
      "outputs": [
        {
          "output_type": "stream",
          "text": [
            "<generator object create_generator at 0x7f1738887888>\n",
            "0\n",
            "1\n",
            "4\n"
          ],
          "name": "stdout"
        }
      ]
    },
    {
      "cell_type": "code",
      "metadata": {
        "id": "bjJkoi7vlac6",
        "colab_type": "code",
        "outputId": "28bc5f36-0822-46d1-ef6c-bf7b0738c617",
        "colab": {
          "base_uri": "https://localhost:8080/",
          "height": 85
        }
      },
      "source": [
        "# Let's check if we can call a generator twice\n",
        "my_generator_1 = create_generator()\n",
        "print(my_generator_1)\n",
        "\n",
        "for i in my_generator_1:\n",
        "  print('i: {}'.format(i))\n",
        "\n",
        "for j in my_generator_1:\n",
        "  print('j: {}'.format(j))\n",
        "\n",
        "# notice that the second (j)loop didn't print anything."
      ],
      "execution_count": 0,
      "outputs": [
        {
          "output_type": "stream",
          "text": [
            "<generator object create_generator at 0x7f1738962e60>\n",
            "i: 0\n",
            "i: 1\n",
            "i: 4\n"
          ],
          "name": "stdout"
        }
      ]
    },
    {
      "cell_type": "markdown",
      "metadata": {
        "id": "HUtWbPlWhvA6",
        "colab_type": "text"
      },
      "source": [
        "###1.3. Keeping the last N Items"
      ]
    },
    {
      "cell_type": "markdown",
      "metadata": {
        "id": "kEnKDTkNh_pO",
        "colab_type": "text"
      },
      "source": [
        "---\n",
        "#### Q. You want to keep a limited history of the last few items seen during iteration or during some other kind of processing.\n",
        "\n",
        "---"
      ]
    },
    {
      "cell_type": "code",
      "metadata": {
        "id": "n-y0Bp3tg5j1",
        "colab_type": "code",
        "colab": {
          "base_uri": "https://localhost:8080/",
          "height": 34
        },
        "outputId": "3a40531d-347b-47d1-bade-4723fd3af5ba"
      },
      "source": [
        "# Using deque(maxlen=N) creates a fixed sized (N) queue. When new items are added and queue is full oldest item is automatically removed.\n",
        "from collections import deque\n",
        "q = deque(maxlen=3)\n",
        "q.append(1)\n",
        "q.append(2)\n",
        "q.append(3)\n",
        "q"
      ],
      "execution_count": 3,
      "outputs": [
        {
          "output_type": "execute_result",
          "data": {
            "text/plain": [
              "deque([1, 2, 3])"
            ]
          },
          "metadata": {
            "tags": []
          },
          "execution_count": 3
        }
      ]
    },
    {
      "cell_type": "code",
      "metadata": {
        "id": "dENxYSHn-ehk",
        "colab_type": "code",
        "colab": {
          "base_uri": "https://localhost:8080/",
          "height": 34
        },
        "outputId": "d1e9bbc4-c691-47d4-be49-cb13fcebcce8"
      },
      "source": [
        "q.append(4)\n",
        "q"
      ],
      "execution_count": 4,
      "outputs": [
        {
          "output_type": "execute_result",
          "data": {
            "text/plain": [
              "deque([2, 3, 4])"
            ]
          },
          "metadata": {
            "tags": []
          },
          "execution_count": 4
        }
      ]
    },
    {
      "cell_type": "markdown",
      "metadata": {
        "id": "DudSBGVa_hCc",
        "colab_type": "text"
      },
      "source": [
        "Although we can manually add or delete items from a list, the queue operations are faster.\n",
        "\n",
        "If we don't mention maximum size we get an unbouned queue which lets us append and pop items on either ends. It has O(1) complexity whereas inserting or removing items from the front of the list is O(N)."
      ]
    },
    {
      "cell_type": "code",
      "metadata": {
        "id": "yc1oafym-9Qz",
        "colab_type": "code",
        "colab": {
          "base_uri": "https://localhost:8080/",
          "height": 85
        },
        "outputId": "d3bbf4de-3e87-4965-fa51-cd82782d1988"
      },
      "source": [
        "q = deque()\n",
        "q.append(5)\n",
        "q.append(7)\n",
        "q.append(6)\n",
        "print(q)\n",
        "\n",
        "q.appendleft(10)\n",
        "print(q)\n",
        "\n",
        "q.pop()\n",
        "print(q)\n",
        "\n",
        "q.popleft()\n",
        "print(q)"
      ],
      "execution_count": 8,
      "outputs": [
        {
          "output_type": "stream",
          "text": [
            "deque([5, 7, 6])\n",
            "deque([10, 5, 7, 6])\n",
            "deque([10, 5, 7])\n",
            "deque([5, 7])\n"
          ],
          "name": "stdout"
        }
      ]
    },
    {
      "cell_type": "markdown",
      "metadata": {
        "id": "508EHzgpBYWx",
        "colab_type": "text"
      },
      "source": [
        "###1.4. Finding the largest or smallest N items"
      ]
    },
    {
      "cell_type": "markdown",
      "metadata": {
        "id": "fE1b3Je3BfjC",
        "colab_type": "text"
      },
      "source": [
        "---\n",
        "####Q. You want to make a list of the largest or smallest N items in a collection.\n",
        "\n",
        "---"
      ]
    },
    {
      "cell_type": "code",
      "metadata": {
        "id": "jIRUAlLCArUs",
        "colab_type": "code",
        "colab": {
          "base_uri": "https://localhost:8080/",
          "height": 51
        },
        "outputId": "c779c0d2-46e6-4186-872c-28dd644b9114"
      },
      "source": [
        "# heapq module has two functions nlargest() and nsmallest() for this kind of operation.\n",
        "import heapq\n",
        "\n",
        "item = [1,2,3,4,5,6,7,10,20]\n",
        "\n",
        "print(heapq.nlargest(3, item))\n",
        "print(heapq.nsmallest(3, item))"
      ],
      "execution_count": 9,
      "outputs": [
        {
          "output_type": "stream",
          "text": [
            "[20, 10, 7]\n",
            "[1, 2, 3]\n"
          ],
          "name": "stdout"
        }
      ]
    },
    {
      "cell_type": "code",
      "metadata": {
        "id": "HTTDKYSvCQc9",
        "colab_type": "code",
        "colab": {
          "base_uri": "https://localhost:8080/",
          "height": 51
        },
        "outputId": "ccbf29ec-3742-4f62-cf2c-3ba0e0381e20"
      },
      "source": [
        "# Both these functions also accept a key parameter that allows them to be used with more complex data structures.\n",
        "profile = [\n",
        "           {'name':'IBM', 'shares':100, 'price':91.1},\n",
        "           {'name':'AAPL', 'shares':50, 'price':543.55},\n",
        "           {'name':'HPQ', 'shares':25, 'price':41.1},\n",
        "]\n",
        "\n",
        "cheap = heapq.nsmallest(2, profile, key=lambda s: s['price'])\n",
        "expensive = heapq.nlargest(2, profile, key=lambda s: s['price'])\n",
        "\n",
        "print(cheap)\n",
        "print(expensive)"
      ],
      "execution_count": 10,
      "outputs": [
        {
          "output_type": "stream",
          "text": [
            "[{'name': 'HPQ', 'shares': 25, 'price': 41.1}, {'name': 'IBM', 'shares': 100, 'price': 91.1}]\n",
            "[{'name': 'AAPL', 'shares': 50, 'price': 543.55}, {'name': 'IBM', 'shares': 100, 'price': 91.1}]\n"
          ],
          "name": "stdout"
        }
      ]
    },
    {
      "cell_type": "code",
      "metadata": {
        "id": "_aZK09y9DszL",
        "colab_type": "code",
        "colab": {
          "base_uri": "https://localhost:8080/",
          "height": 102
        },
        "outputId": "04f5959f-84be-4088-bc1a-cf62a424092a"
      },
      "source": [
        "# internally it works by converting the data into a list where items are ordered as a heap.\n",
        "nums = [-20, 1, 6, 3, 7, 8, 9, 11, -3, 21]\n",
        "heap = list(nums)\n",
        "heapq.heapify(heap)\n",
        "\n",
        "print(heap)\n",
        "\n",
        "print(heapq.heappop(heap))\n",
        "print(heap)\n",
        "print(heapq.heappop(heap))\n",
        "print(heap)\n",
        "\n",
        "# The most important feature of a heap is that heap[0] is always smallest item. Hence subsequent items can be found using heapq.heappop() method, \n",
        "# which pops off the first item and replaces it with next smallest item. This requires O(log N) operations where N = heap size.\n",
        "\n",
        "# nlargest() and nsmallest() functions are most appropriate when you are trying to find small number of items. If you want to find single largest or\n",
        "# smallest value then it's faster to use max() and min().\n",
        "\n",
        "# If N is about the same size as the collection itself, It's better to sort the collection first and take a slice. \n",
        "# { sorted(items)[:N] or sorted(items)[:-N]"
      ],
      "execution_count": 18,
      "outputs": [
        {
          "output_type": "stream",
          "text": [
            "[-20, -3, 6, 1, 7, 8, 9, 11, 3, 21]\n",
            "-20\n",
            "[-3, 1, 6, 3, 7, 8, 9, 11, 21]\n",
            "-3\n",
            "[1, 3, 6, 11, 7, 8, 9, 21]\n"
          ],
          "name": "stdout"
        }
      ]
    },
    {
      "cell_type": "markdown",
      "metadata": {
        "id": "1DQtP0R_IN8b",
        "colab_type": "text"
      },
      "source": [
        "###1.5. Implementing a priority queue"
      ]
    },
    {
      "cell_type": "markdown",
      "metadata": {
        "id": "Hzf-ZS7YITAy",
        "colab_type": "text"
      },
      "source": [
        "---\n",
        "#### Q. You want to implement a queue that sorts items by a given priority and always returns the item with the highest priority on each pop operation.\n",
        "\n",
        "---"
      ]
    },
    {
      "cell_type": "code",
      "metadata": {
        "id": "gdALDPyKE_uZ",
        "colab_type": "code",
        "colab": {}
      },
      "source": [
        "import heapq\n",
        "class PriorityQueue:\n",
        "  def __init__(self):\n",
        "    self._queue = []\n",
        "    self._index = 0\n",
        "\n",
        "  def push(self, item, priority):\n",
        "    heapq.heappush(self._queue, (-priority, self._index, item))\n",
        "    self._index += 1\n",
        "  \n",
        "  def pop(self):\n",
        "    return heapq.heappop(self._queue)[-1]\n"
      ],
      "execution_count": 0,
      "outputs": []
    },
    {
      "cell_type": "code",
      "metadata": {
        "id": "sB_JczviJsnp",
        "colab_type": "code",
        "colab": {}
      },
      "source": [
        "# Let's use the class\n",
        "class Item:\n",
        "  def __init__(self, name):\n",
        "    self.name = name\n",
        "\n",
        "  def __repr__(self):\n",
        "    return 'Item({!r})'.format(self.name)\n",
        "\n",
        "q = PriorityQueue()\n",
        "q.push(Item('foo'), 1)\n",
        "q.push(Item('bar'), 5)\n",
        "q.push(Item('spam'), 4)\n",
        "q.push(Item('grok'), 1)"
      ],
      "execution_count": 0,
      "outputs": []
    },
    {
      "cell_type": "code",
      "metadata": {
        "id": "1foidzxFKeZz",
        "colab_type": "code",
        "colab": {
          "base_uri": "https://localhost:8080/",
          "height": 34
        },
        "outputId": "89f2c4d0-9945-4b6c-8a44-d1935533d94c"
      },
      "source": [
        "q.pop()"
      ],
      "execution_count": 32,
      "outputs": [
        {
          "output_type": "execute_result",
          "data": {
            "text/plain": [
              "Item('bar')"
            ]
          },
          "metadata": {
            "tags": []
          },
          "execution_count": 32
        }
      ]
    },
    {
      "cell_type": "code",
      "metadata": {
        "id": "JTv1D16EKmB1",
        "colab_type": "code",
        "colab": {
          "base_uri": "https://localhost:8080/",
          "height": 34
        },
        "outputId": "0eaa34ec-0f8f-4c75-bbc4-db9cbf4f6167"
      },
      "source": [
        "q.pop()"
      ],
      "execution_count": 33,
      "outputs": [
        {
          "output_type": "execute_result",
          "data": {
            "text/plain": [
              "Item('spam')"
            ]
          },
          "metadata": {
            "tags": []
          },
          "execution_count": 33
        }
      ]
    },
    {
      "cell_type": "code",
      "metadata": {
        "id": "8EeUolJMKnXm",
        "colab_type": "code",
        "colab": {
          "base_uri": "https://localhost:8080/",
          "height": 34
        },
        "outputId": "f79771e8-bd95-4d79-ae80-1f2fb338d8c3"
      },
      "source": [
        "q.pop()"
      ],
      "execution_count": 34,
      "outputs": [
        {
          "output_type": "execute_result",
          "data": {
            "text/plain": [
              "Item('foo')"
            ]
          },
          "metadata": {
            "tags": []
          },
          "execution_count": 34
        }
      ]
    },
    {
      "cell_type": "code",
      "metadata": {
        "id": "lGrPelc2Kn_W",
        "colab_type": "code",
        "colab": {
          "base_uri": "https://localhost:8080/",
          "height": 34
        },
        "outputId": "279acbef-16ff-463f-80fa-aa90709c6c17"
      },
      "source": [
        "q.pop()\n",
        "\n",
        "# Observe how the first pop() operation returned the item with the highest priority. Also how the two items with same priority were returned \n",
        "# in the same order in which they were inserted into queue.\n",
        "\n",
        "# heapq.heappush() and heapq.heappop() insert and delete items from a list_queue in a way such that the first item in the list has smallest priority."
      ],
      "execution_count": 35,
      "outputs": [
        {
          "output_type": "execute_result",
          "data": {
            "text/plain": [
              "Item('grok')"
            ]
          },
          "metadata": {
            "tags": []
          },
          "execution_count": 35
        }
      ]
    },
    {
      "cell_type": "code",
      "metadata": {
        "id": "QJBoRXzuKo4a",
        "colab_type": "code",
        "colab": {}
      },
      "source": [
        ""
      ],
      "execution_count": 0,
      "outputs": []
    }
  ]
}