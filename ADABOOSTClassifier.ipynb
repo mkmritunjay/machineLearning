{
  "nbformat": 4,
  "nbformat_minor": 0,
  "metadata": {
    "colab": {
      "name": "ADABOOSTClassifier.ipynb",
      "provenance": [],
      "collapsed_sections": [],
      "authorship_tag": "ABX9TyPICvotAAMhLC9ToO5FIIIs",
      "include_colab_link": true
    },
    "kernelspec": {
      "name": "python3",
      "display_name": "Python 3"
    }
  },
  "cells": [
    {
      "cell_type": "markdown",
      "metadata": {
        "id": "view-in-github",
        "colab_type": "text"
      },
      "source": [
        "<a href=\"https://colab.research.google.com/github/mkmritunjay/machineLearning/blob/master/ADABOOSTClassifier.ipynb\" target=\"_parent\"><img src=\"https://colab.research.google.com/assets/colab-badge.svg\" alt=\"Open In Colab\"/></a>"
      ]
    },
    {
      "cell_type": "markdown",
      "metadata": {
        "id": "YTxGwWAFrtJw",
        "colab_type": "text"
      },
      "source": [
        "# ADABOOST (Adaptive Boosting)"
      ]
    },
    {
      "cell_type": "code",
      "metadata": {
        "id": "rH-nGXOArm1J",
        "colab_type": "code",
        "colab": {
          "base_uri": "https://localhost:8080/",
          "height": 34
        },
        "outputId": "54d55e7b-f23b-456f-9f96-06e578ba644a"
      },
      "source": [
        "import pandas as pd\n",
        "import numpy as np\n",
        "import seaborn as sns\n",
        "import matplotlib.pyplot as plt\n",
        "\n",
        "import statsmodels.formula.api as sm\n",
        "import scipy.stats as stats\n",
        "\n",
        "%matplotlib inline\n",
        "plt.rcParams['figure.figsize'] = 10, 7.5\n",
        "plt.rcParams['axes.grid'] = True\n",
        "plt.gray()\n",
        "\n",
        "from matplotlib.backends.backend_pdf import PdfPages\n",
        "\n",
        "from sklearn.model_selection import train_test_split\n",
        "from sklearn import metrics\n",
        "from sklearn.linear_model import LogisticRegression\n",
        "from statsmodels.stats.outliers_influence import variance_inflation_factor\n",
        "from patsy import dmatrices\n",
        "\n",
        "import sklearn.tree as dt\n",
        "import sklearn.ensemble as en\n",
        "\n",
        "from sklearn import metrics\n",
        "from sklearn.tree import DecisionTreeClassifier, export_graphviz, export\n",
        "from sklearn.model_selection import GridSearchCV, cross_val_score\n",
        "from sklearn.ensemble import AdaBoostClassifier\n",
        "\n",
        "import pydotplus as pdot\n",
        "from IPython.display import Image\n",
        "\n",
        "url = 'https://raw.githubusercontent.com/mkmritunjay/machineLearning/master/HR_comma_sep.csv'"
      ],
      "execution_count": 18,
      "outputs": [
        {
          "output_type": "display_data",
          "data": {
            "text/plain": [
              "<Figure size 720x540 with 0 Axes>"
            ]
          },
          "metadata": {
            "tags": []
          }
        }
      ]
    },
    {
      "cell_type": "code",
      "metadata": {
        "id": "POmxvhLrr3go",
        "colab_type": "code",
        "colab": {}
      },
      "source": [
        "hr_df = pd.read_csv(url)"
      ],
      "execution_count": 0,
      "outputs": []
    },
    {
      "cell_type": "code",
      "metadata": {
        "id": "s0N3ZOa6r7Sl",
        "colab_type": "code",
        "colab": {}
      },
      "source": [
        "# now we need to create dummy variables for categorical variables(dtype=object)\n",
        "numerical_features = ['satisfaction_level', 'last_evaluation', 'number_project',\n",
        "     'average_montly_hours', 'time_spend_company']\n",
        "\n",
        "categorical_features = ['Work_accident','promotion_last_5years', 'department', 'salary']"
      ],
      "execution_count": 0,
      "outputs": []
    },
    {
      "cell_type": "code",
      "metadata": {
        "id": "rAf8RsOGsDru",
        "colab_type": "code",
        "colab": {
          "base_uri": "https://localhost:8080/",
          "height": 34
        },
        "outputId": "423a42a4-332a-406d-a425-731eb31783bf"
      },
      "source": [
        "categorical_features"
      ],
      "execution_count": 4,
      "outputs": [
        {
          "output_type": "execute_result",
          "data": {
            "text/plain": [
              "['Work_accident', 'promotion_last_5years', 'department', 'salary']"
            ]
          },
          "metadata": {
            "tags": []
          },
          "execution_count": 4
        }
      ]
    },
    {
      "cell_type": "code",
      "metadata": {
        "id": "MUdWo9_ksF7H",
        "colab_type": "code",
        "colab": {
          "base_uri": "https://localhost:8080/",
          "height": 102
        },
        "outputId": "a61d4a6b-ee4d-4911-ab61-f1bd1adc419c"
      },
      "source": [
        "numerical_features"
      ],
      "execution_count": 5,
      "outputs": [
        {
          "output_type": "execute_result",
          "data": {
            "text/plain": [
              "['satisfaction_level',\n",
              " 'last_evaluation',\n",
              " 'number_project',\n",
              " 'average_montly_hours',\n",
              " 'time_spend_company']"
            ]
          },
          "metadata": {
            "tags": []
          },
          "execution_count": 5
        }
      ]
    },
    {
      "cell_type": "code",
      "metadata": {
        "id": "Y2LqAxx-sIEM",
        "colab_type": "code",
        "colab": {}
      },
      "source": [
        "# A utility function to create dummy variable\n",
        "def create_dummies( df, colname ):\n",
        "    col_dummies = pd.get_dummies(df[colname], prefix=colname)\n",
        "    col_dummies.drop(col_dummies.columns[0], axis=1, inplace=True)\n",
        "    df = pd.concat([df, col_dummies], axis=1)\n",
        "    df.drop( colname, axis = 1, inplace = True )\n",
        "    return df"
      ],
      "execution_count": 0,
      "outputs": []
    },
    {
      "cell_type": "code",
      "metadata": {
        "id": "-5BYNrI6sLil",
        "colab_type": "code",
        "colab": {
          "base_uri": "https://localhost:8080/",
          "height": 224
        },
        "outputId": "1d84b855-bb24-438f-8179-6628e68a4210"
      },
      "source": [
        "for c_feature in categorical_features:\n",
        "    hr_df = create_dummies( hr_df, c_feature )\n",
        "\n",
        "hr_df.head()"
      ],
      "execution_count": 7,
      "outputs": [
        {
          "output_type": "execute_result",
          "data": {
            "text/html": [
              "<div>\n",
              "<style scoped>\n",
              "    .dataframe tbody tr th:only-of-type {\n",
              "        vertical-align: middle;\n",
              "    }\n",
              "\n",
              "    .dataframe tbody tr th {\n",
              "        vertical-align: top;\n",
              "    }\n",
              "\n",
              "    .dataframe thead th {\n",
              "        text-align: right;\n",
              "    }\n",
              "</style>\n",
              "<table border=\"1\" class=\"dataframe\">\n",
              "  <thead>\n",
              "    <tr style=\"text-align: right;\">\n",
              "      <th></th>\n",
              "      <th>satisfaction_level</th>\n",
              "      <th>last_evaluation</th>\n",
              "      <th>number_project</th>\n",
              "      <th>average_montly_hours</th>\n",
              "      <th>time_spend_company</th>\n",
              "      <th>left</th>\n",
              "      <th>Work_accident_1</th>\n",
              "      <th>promotion_last_5years_1</th>\n",
              "      <th>department_RandD</th>\n",
              "      <th>department_accounting</th>\n",
              "      <th>department_hr</th>\n",
              "      <th>department_management</th>\n",
              "      <th>department_marketing</th>\n",
              "      <th>department_product_mng</th>\n",
              "      <th>department_sales</th>\n",
              "      <th>department_support</th>\n",
              "      <th>department_technical</th>\n",
              "      <th>salary_low</th>\n",
              "      <th>salary_medium</th>\n",
              "    </tr>\n",
              "  </thead>\n",
              "  <tbody>\n",
              "    <tr>\n",
              "      <th>0</th>\n",
              "      <td>0.38</td>\n",
              "      <td>0.53</td>\n",
              "      <td>2</td>\n",
              "      <td>157</td>\n",
              "      <td>3</td>\n",
              "      <td>1</td>\n",
              "      <td>0</td>\n",
              "      <td>0</td>\n",
              "      <td>0</td>\n",
              "      <td>0</td>\n",
              "      <td>0</td>\n",
              "      <td>0</td>\n",
              "      <td>0</td>\n",
              "      <td>0</td>\n",
              "      <td>1</td>\n",
              "      <td>0</td>\n",
              "      <td>0</td>\n",
              "      <td>1</td>\n",
              "      <td>0</td>\n",
              "    </tr>\n",
              "    <tr>\n",
              "      <th>1</th>\n",
              "      <td>0.80</td>\n",
              "      <td>0.86</td>\n",
              "      <td>5</td>\n",
              "      <td>262</td>\n",
              "      <td>6</td>\n",
              "      <td>1</td>\n",
              "      <td>0</td>\n",
              "      <td>0</td>\n",
              "      <td>0</td>\n",
              "      <td>0</td>\n",
              "      <td>0</td>\n",
              "      <td>0</td>\n",
              "      <td>0</td>\n",
              "      <td>0</td>\n",
              "      <td>1</td>\n",
              "      <td>0</td>\n",
              "      <td>0</td>\n",
              "      <td>0</td>\n",
              "      <td>1</td>\n",
              "    </tr>\n",
              "    <tr>\n",
              "      <th>2</th>\n",
              "      <td>0.11</td>\n",
              "      <td>0.88</td>\n",
              "      <td>7</td>\n",
              "      <td>272</td>\n",
              "      <td>4</td>\n",
              "      <td>1</td>\n",
              "      <td>0</td>\n",
              "      <td>0</td>\n",
              "      <td>0</td>\n",
              "      <td>0</td>\n",
              "      <td>0</td>\n",
              "      <td>0</td>\n",
              "      <td>0</td>\n",
              "      <td>0</td>\n",
              "      <td>1</td>\n",
              "      <td>0</td>\n",
              "      <td>0</td>\n",
              "      <td>0</td>\n",
              "      <td>1</td>\n",
              "    </tr>\n",
              "    <tr>\n",
              "      <th>3</th>\n",
              "      <td>0.72</td>\n",
              "      <td>0.87</td>\n",
              "      <td>5</td>\n",
              "      <td>223</td>\n",
              "      <td>5</td>\n",
              "      <td>1</td>\n",
              "      <td>0</td>\n",
              "      <td>0</td>\n",
              "      <td>0</td>\n",
              "      <td>0</td>\n",
              "      <td>0</td>\n",
              "      <td>0</td>\n",
              "      <td>0</td>\n",
              "      <td>0</td>\n",
              "      <td>1</td>\n",
              "      <td>0</td>\n",
              "      <td>0</td>\n",
              "      <td>1</td>\n",
              "      <td>0</td>\n",
              "    </tr>\n",
              "    <tr>\n",
              "      <th>4</th>\n",
              "      <td>0.37</td>\n",
              "      <td>0.52</td>\n",
              "      <td>2</td>\n",
              "      <td>159</td>\n",
              "      <td>3</td>\n",
              "      <td>1</td>\n",
              "      <td>0</td>\n",
              "      <td>0</td>\n",
              "      <td>0</td>\n",
              "      <td>0</td>\n",
              "      <td>0</td>\n",
              "      <td>0</td>\n",
              "      <td>0</td>\n",
              "      <td>0</td>\n",
              "      <td>1</td>\n",
              "      <td>0</td>\n",
              "      <td>0</td>\n",
              "      <td>1</td>\n",
              "      <td>0</td>\n",
              "    </tr>\n",
              "  </tbody>\n",
              "</table>\n",
              "</div>"
            ],
            "text/plain": [
              "   satisfaction_level  last_evaluation  ...  salary_low  salary_medium\n",
              "0                0.38             0.53  ...           1              0\n",
              "1                0.80             0.86  ...           0              1\n",
              "2                0.11             0.88  ...           0              1\n",
              "3                0.72             0.87  ...           1              0\n",
              "4                0.37             0.52  ...           1              0\n",
              "\n",
              "[5 rows x 19 columns]"
            ]
          },
          "metadata": {
            "tags": []
          },
          "execution_count": 7
        }
      ]
    },
    {
      "cell_type": "code",
      "metadata": {
        "id": "-cROve4_sN0S",
        "colab_type": "code",
        "colab": {
          "base_uri": "https://localhost:8080/",
          "height": 136
        },
        "outputId": "5c092d79-3025-4ba4-b98b-3446c8a771d4"
      },
      "source": [
        "#Splitting the data\n",
        "\n",
        "feature_columns = hr_df.columns.difference( ['left'] )\n",
        "feature_columns"
      ],
      "execution_count": 8,
      "outputs": [
        {
          "output_type": "execute_result",
          "data": {
            "text/plain": [
              "Index(['Work_accident_1', 'average_montly_hours', 'department_RandD',\n",
              "       'department_accounting', 'department_hr', 'department_management',\n",
              "       'department_marketing', 'department_product_mng', 'department_sales',\n",
              "       'department_support', 'department_technical', 'last_evaluation',\n",
              "       'number_project', 'promotion_last_5years_1', 'salary_low',\n",
              "       'salary_medium', 'satisfaction_level', 'time_spend_company'],\n",
              "      dtype='object')"
            ]
          },
          "metadata": {
            "tags": []
          },
          "execution_count": 8
        }
      ]
    },
    {
      "cell_type": "markdown",
      "metadata": {
        "id": "uRE79RebsRS3",
        "colab_type": "text"
      },
      "source": [
        "### Train Test split"
      ]
    },
    {
      "cell_type": "code",
      "metadata": {
        "id": "iCG1EqaOsQX1",
        "colab_type": "code",
        "colab": {}
      },
      "source": [
        "train_X, test_X, train_y, test_y = train_test_split( hr_df[feature_columns],\n",
        "                                                  hr_df['left'],\n",
        "                                                  test_size = 0.3,\n",
        "                                                  random_state = 42 )"
      ],
      "execution_count": 0,
      "outputs": []
    },
    {
      "cell_type": "markdown",
      "metadata": {
        "id": "CrGKBdsrsbFB",
        "colab_type": "text"
      },
      "source": [
        "### Building the model"
      ]
    },
    {
      "cell_type": "code",
      "metadata": {
        "id": "TptysKdwsY74",
        "colab_type": "code",
        "colab": {}
      },
      "source": [
        "# provide estimators and learning rate\n",
        "pargrid_ada = {'n_estimators': [100, 200, 400, 600, 800],\n",
        "               'learning_rate': [10 ** x for x in range(-3, 3)]}"
      ],
      "execution_count": 0,
      "outputs": []
    },
    {
      "cell_type": "code",
      "metadata": {
        "id": "JG2i6bVrtUXi",
        "colab_type": "code",
        "colab": {}
      },
      "source": [
        "gscv_ada = GridSearchCV(estimator=AdaBoostClassifier(),\n",
        "                        param_grid=pargrid_ada,\n",
        "                        cv=5,\n",
        "                        verbose=True, n_jobs=-1)"
      ],
      "execution_count": 0,
      "outputs": []
    },
    {
      "cell_type": "code",
      "metadata": {
        "id": "juWWU6tgtoRv",
        "colab_type": "code",
        "colab": {
          "base_uri": "https://localhost:8080/",
          "height": 255
        },
        "outputId": "3eae030d-6e35-4e36-976a-4cb2acb6ab2e"
      },
      "source": [
        "gscv_ada.fit(train_X, train_y)"
      ],
      "execution_count": 12,
      "outputs": [
        {
          "output_type": "stream",
          "text": [
            "Fitting 5 folds for each of 30 candidates, totalling 150 fits\n"
          ],
          "name": "stdout"
        },
        {
          "output_type": "stream",
          "text": [
            "[Parallel(n_jobs=-1)]: Using backend LokyBackend with 2 concurrent workers.\n",
            "[Parallel(n_jobs=-1)]: Done  46 tasks      | elapsed:  1.7min\n",
            "[Parallel(n_jobs=-1)]: Done 150 out of 150 | elapsed:  4.4min finished\n"
          ],
          "name": "stderr"
        },
        {
          "output_type": "execute_result",
          "data": {
            "text/plain": [
              "GridSearchCV(cv=5, error_score=nan,\n",
              "             estimator=AdaBoostClassifier(algorithm='SAMME.R',\n",
              "                                          base_estimator=None,\n",
              "                                          learning_rate=1.0, n_estimators=50,\n",
              "                                          random_state=None),\n",
              "             iid='deprecated', n_jobs=-1,\n",
              "             param_grid={'learning_rate': [0.001, 0.01, 0.1, 1, 10, 100],\n",
              "                         'n_estimators': [100, 200, 400, 600, 800]},\n",
              "             pre_dispatch='2*n_jobs', refit=True, return_train_score=False,\n",
              "             scoring=None, verbose=True)"
            ]
          },
          "metadata": {
            "tags": []
          },
          "execution_count": 12
        }
      ]
    },
    {
      "cell_type": "code",
      "metadata": {
        "id": "uF6CXTjItwfx",
        "colab_type": "code",
        "colab": {
          "base_uri": "https://localhost:8080/",
          "height": 34
        },
        "outputId": "7e321cdb-06fe-4e60-d905-9c27338526d8"
      },
      "source": [
        "gscv_ada.best_params_"
      ],
      "execution_count": 13,
      "outputs": [
        {
          "output_type": "execute_result",
          "data": {
            "text/plain": [
              "{'learning_rate': 0.1, 'n_estimators': 800}"
            ]
          },
          "metadata": {
            "tags": []
          },
          "execution_count": 13
        }
      ]
    },
    {
      "cell_type": "code",
      "metadata": {
        "id": "pZyWwZsSvR5e",
        "colab_type": "code",
        "colab": {
          "base_uri": "https://localhost:8080/",
          "height": 34
        },
        "outputId": "dfa4e494-0d65-4c67-a214-ab7eb5c05630"
      },
      "source": [
        "gscv_ada.best_score_"
      ],
      "execution_count": 14,
      "outputs": [
        {
          "output_type": "execute_result",
          "data": {
            "text/plain": [
              "0.9615202250504774"
            ]
          },
          "metadata": {
            "tags": []
          },
          "execution_count": 14
        }
      ]
    },
    {
      "cell_type": "markdown",
      "metadata": {
        "id": "ZLtqbKu1vX-G",
        "colab_type": "text"
      },
      "source": [
        "### Building final model"
      ]
    },
    {
      "cell_type": "code",
      "metadata": {
        "id": "rLXZ_sBivVUi",
        "colab_type": "code",
        "colab": {
          "base_uri": "https://localhost:8080/",
          "height": 51
        },
        "outputId": "bdd3d468-a487-4ace-a727-d249e5772a7d"
      },
      "source": [
        "ad = AdaBoostClassifier(learning_rate=0.1, n_estimators=800)\n",
        "ad.fit(train_X, train_y)"
      ],
      "execution_count": 15,
      "outputs": [
        {
          "output_type": "execute_result",
          "data": {
            "text/plain": [
              "AdaBoostClassifier(algorithm='SAMME.R', base_estimator=None, learning_rate=0.1,\n",
              "                   n_estimators=800, random_state=None)"
            ]
          },
          "metadata": {
            "tags": []
          },
          "execution_count": 15
        }
      ]
    },
    {
      "cell_type": "code",
      "metadata": {
        "id": "dbfeDckxvmUR",
        "colab_type": "code",
        "colab": {}
      },
      "source": [
        "clf_ada = gscv_ada.best_estimator_"
      ],
      "execution_count": 0,
      "outputs": []
    },
    {
      "cell_type": "code",
      "metadata": {
        "id": "XggsG30bv77U",
        "colab_type": "code",
        "colab": {
          "base_uri": "https://localhost:8080/",
          "height": 85
        },
        "outputId": "11419d35-41fb-4d3a-f9df-f94a22480a01"
      },
      "source": [
        "print (pd.Series(cross_val_score(clf_ada, \n",
        "                             train_X, train_y, cv=10)).describe()[['min', 'mean', 'max']])"
      ],
      "execution_count": 19,
      "outputs": [
        {
          "output_type": "stream",
          "text": [
            "min     0.954286\n",
            "mean    0.961901\n",
            "max     0.971429\n",
            "dtype: float64\n"
          ],
          "name": "stdout"
        }
      ]
    },
    {
      "cell_type": "code",
      "metadata": {
        "id": "wZEuqrrVwmMa",
        "colab_type": "code",
        "colab": {}
      },
      "source": [
        ""
      ],
      "execution_count": 0,
      "outputs": []
    }
  ]
}