{
  "nbformat": 4,
  "nbformat_minor": 0,
  "metadata": {
    "colab": {
      "name": "DTClassifier.ipynb",
      "provenance": [],
      "authorship_tag": "ABX9TyOI+fRgw7ZhxflkQ34DZow6",
      "include_colab_link": true
    },
    "kernelspec": {
      "name": "python3",
      "display_name": "Python 3"
    }
  },
  "cells": [
    {
      "cell_type": "markdown",
      "metadata": {
        "id": "view-in-github",
        "colab_type": "text"
      },
      "source": [
        "<a href=\"https://colab.research.google.com/github/mkmritunjay/machineLearning/blob/master/DTClassifier.ipynb\" target=\"_parent\"><img src=\"https://colab.research.google.com/assets/colab-badge.svg\" alt=\"Open In Colab\"/></a>"
      ]
    },
    {
      "cell_type": "markdown",
      "metadata": {
        "id": "MxgGlkZCBeUh",
        "colab_type": "text"
      },
      "source": [
        "## Decision Tree\n",
        "\n",
        "We will be using same dataset that we used for logistic regression. \n",
        "\n",
        "**Goal or objective:**\n",
        "\n",
        "We will try to predict if a customer is bad when he applies for a loan. It's also called as probability of default (PD)."
      ]
    },
    {
      "cell_type": "code",
      "metadata": {
        "id": "1P-7FcTFBYrc",
        "colab_type": "code",
        "colab": {
          "base_uri": "https://localhost:8080/",
          "height": 34
        },
        "outputId": "770b02bc-a07a-4dfe-a342-ab7a2f61c89f"
      },
      "source": [
        "import pandas as pd\n",
        "import numpy as np\n",
        "import seaborn as sns\n",
        "import matplotlib.pyplot as plt\n",
        "\n",
        "import statsmodels.formula.api as sm\n",
        "import scipy.stats as stats\n",
        "\n",
        "%matplotlib inline\n",
        "plt.rcParams['figure.figsize'] = 10, 7.5\n",
        "plt.rcParams['axes.grid'] = True\n",
        "plt.gray()\n",
        "\n",
        "from matplotlib.backends.backend_pdf import PdfPages\n",
        "\n",
        "from sklearn.model_selection import train_test_split\n",
        "from sklearn import metrics\n",
        "from sklearn.linear_model import LogisticRegression\n",
        "from statsmodels.stats.outliers_influence import variance_inflation_factor\n",
        "from patsy import dmatrices\n",
        "\n",
        "import sklearn.tree as dt\n",
        "import sklearn.ensemble as en\n",
        "\n",
        "from sklearn import metrics\n",
        "from sklearn.tree import DecisionTreeClassifier, export_graphviz, export\n",
        "from sklearn.model_selection import GridSearchCV\n",
        "\n",
        "import pydotplus as pdot\n",
        "from IPython.display import Image\n",
        "\n",
        "url = 'https://raw.githubusercontent.com/mkmritunjay/machineLearning/master/bankloans.csv'"
      ],
      "execution_count": 56,
      "outputs": [
        {
          "output_type": "display_data",
          "data": {
            "text/plain": [
              "<Figure size 720x540 with 0 Axes>"
            ]
          },
          "metadata": {
            "tags": []
          }
        }
      ]
    },
    {
      "cell_type": "code",
      "metadata": {
        "id": "WtVYj6ueCC_a",
        "colab_type": "code",
        "colab": {
          "base_uri": "https://localhost:8080/",
          "height": 204
        },
        "outputId": "1adc8069-db21-4b6c-def9-bb507e09f134"
      },
      "source": [
        "bankloan_df = pd.read_csv(url)\n",
        "bankloan_df.head()"
      ],
      "execution_count": 57,
      "outputs": [
        {
          "output_type": "execute_result",
          "data": {
            "text/html": [
              "<div>\n",
              "<style scoped>\n",
              "    .dataframe tbody tr th:only-of-type {\n",
              "        vertical-align: middle;\n",
              "    }\n",
              "\n",
              "    .dataframe tbody tr th {\n",
              "        vertical-align: top;\n",
              "    }\n",
              "\n",
              "    .dataframe thead th {\n",
              "        text-align: right;\n",
              "    }\n",
              "</style>\n",
              "<table border=\"1\" class=\"dataframe\">\n",
              "  <thead>\n",
              "    <tr style=\"text-align: right;\">\n",
              "      <th></th>\n",
              "      <th>age</th>\n",
              "      <th>ed</th>\n",
              "      <th>employ</th>\n",
              "      <th>address</th>\n",
              "      <th>income</th>\n",
              "      <th>debtinc</th>\n",
              "      <th>creddebt</th>\n",
              "      <th>othdebt</th>\n",
              "      <th>default</th>\n",
              "    </tr>\n",
              "  </thead>\n",
              "  <tbody>\n",
              "    <tr>\n",
              "      <th>0</th>\n",
              "      <td>41</td>\n",
              "      <td>3</td>\n",
              "      <td>17</td>\n",
              "      <td>12</td>\n",
              "      <td>176</td>\n",
              "      <td>9.3</td>\n",
              "      <td>11.359392</td>\n",
              "      <td>5.008608</td>\n",
              "      <td>1.0</td>\n",
              "    </tr>\n",
              "    <tr>\n",
              "      <th>1</th>\n",
              "      <td>27</td>\n",
              "      <td>1</td>\n",
              "      <td>10</td>\n",
              "      <td>6</td>\n",
              "      <td>31</td>\n",
              "      <td>17.3</td>\n",
              "      <td>1.362202</td>\n",
              "      <td>4.000798</td>\n",
              "      <td>0.0</td>\n",
              "    </tr>\n",
              "    <tr>\n",
              "      <th>2</th>\n",
              "      <td>40</td>\n",
              "      <td>1</td>\n",
              "      <td>15</td>\n",
              "      <td>14</td>\n",
              "      <td>55</td>\n",
              "      <td>5.5</td>\n",
              "      <td>0.856075</td>\n",
              "      <td>2.168925</td>\n",
              "      <td>0.0</td>\n",
              "    </tr>\n",
              "    <tr>\n",
              "      <th>3</th>\n",
              "      <td>41</td>\n",
              "      <td>1</td>\n",
              "      <td>15</td>\n",
              "      <td>14</td>\n",
              "      <td>120</td>\n",
              "      <td>2.9</td>\n",
              "      <td>2.658720</td>\n",
              "      <td>0.821280</td>\n",
              "      <td>0.0</td>\n",
              "    </tr>\n",
              "    <tr>\n",
              "      <th>4</th>\n",
              "      <td>24</td>\n",
              "      <td>2</td>\n",
              "      <td>2</td>\n",
              "      <td>0</td>\n",
              "      <td>28</td>\n",
              "      <td>17.3</td>\n",
              "      <td>1.787436</td>\n",
              "      <td>3.056564</td>\n",
              "      <td>1.0</td>\n",
              "    </tr>\n",
              "  </tbody>\n",
              "</table>\n",
              "</div>"
            ],
            "text/plain": [
              "   age  ed  employ  address  income  debtinc   creddebt   othdebt  default\n",
              "0   41   3      17       12     176      9.3  11.359392  5.008608      1.0\n",
              "1   27   1      10        6      31     17.3   1.362202  4.000798      0.0\n",
              "2   40   1      15       14      55      5.5   0.856075  2.168925      0.0\n",
              "3   41   1      15       14     120      2.9   2.658720  0.821280      0.0\n",
              "4   24   2       2        0      28     17.3   1.787436  3.056564      1.0"
            ]
          },
          "metadata": {
            "tags": []
          },
          "execution_count": 57
        }
      ]
    },
    {
      "cell_type": "code",
      "metadata": {
        "id": "4AoEzMEeCGtD",
        "colab_type": "code",
        "colab": {}
      },
      "source": [
        "bankloans_existing = bankloan_df[bankloan_df.default.isnull()==0]\n",
        "bankloans_new = bankloan_df[bankloan_df.default.isnull()==1]"
      ],
      "execution_count": 0,
      "outputs": []
    },
    {
      "cell_type": "code",
      "metadata": {
        "id": "K91UfLjRDtqB",
        "colab_type": "code",
        "colab": {}
      },
      "source": [
        "X = bankloans_existing"
      ],
      "execution_count": 0,
      "outputs": []
    },
    {
      "cell_type": "code",
      "metadata": {
        "id": "VvFKcqsdD406",
        "colab_type": "code",
        "colab": {
          "base_uri": "https://localhost:8080/",
          "height": 68
        },
        "outputId": "e370087e-bf55-41f8-a516-a2e4918c51ff"
      },
      "source": [
        "X.columns"
      ],
      "execution_count": 60,
      "outputs": [
        {
          "output_type": "execute_result",
          "data": {
            "text/plain": [
              "Index(['age', 'ed', 'employ', 'address', 'income', 'debtinc', 'creddebt',\n",
              "       'othdebt', 'default'],\n",
              "      dtype='object')"
            ]
          },
          "metadata": {
            "tags": []
          },
          "execution_count": 60
        }
      ]
    },
    {
      "cell_type": "code",
      "metadata": {
        "id": "otE-LbxbD7w1",
        "colab_type": "code",
        "colab": {
          "base_uri": "https://localhost:8080/",
          "height": 68
        },
        "outputId": "f0ab3ce0-8878-4801-b9f5-172d2c72574b"
      },
      "source": [
        "features = X.columns.difference(['default'])\n",
        "features"
      ],
      "execution_count": 61,
      "outputs": [
        {
          "output_type": "execute_result",
          "data": {
            "text/plain": [
              "Index(['address', 'age', 'creddebt', 'debtinc', 'ed', 'employ', 'income',\n",
              "       'othdebt'],\n",
              "      dtype='object')"
            ]
          },
          "metadata": {
            "tags": []
          },
          "execution_count": 61
        }
      ]
    },
    {
      "cell_type": "markdown",
      "metadata": {
        "id": "ctc87agrEG2Z",
        "colab_type": "text"
      },
      "source": [
        "### Train Test Split"
      ]
    },
    {
      "cell_type": "code",
      "metadata": {
        "id": "QmjLHXNfECL9",
        "colab_type": "code",
        "colab": {}
      },
      "source": [
        "train_X, test_X, train_y, test_y = train_test_split( X[features],\n",
        "                                                  X['default'],\n",
        "                                                  test_size = 0.3,\n",
        "                                                  random_state = 142 )"
      ],
      "execution_count": 0,
      "outputs": []
    },
    {
      "cell_type": "code",
      "metadata": {
        "id": "Nlj5y7FLEKHo",
        "colab_type": "code",
        "colab": {
          "base_uri": "https://localhost:8080/",
          "height": 119
        },
        "outputId": "8c24b13e-3c8f-4770-ae94-7fd2d1682326"
      },
      "source": [
        "clf_tree = DecisionTreeClassifier(max_depth=3)\n",
        "clf_tree.fit(train_X, train_y)"
      ],
      "execution_count": 63,
      "outputs": [
        {
          "output_type": "execute_result",
          "data": {
            "text/plain": [
              "DecisionTreeClassifier(ccp_alpha=0.0, class_weight=None, criterion='gini',\n",
              "                       max_depth=3, max_features=None, max_leaf_nodes=None,\n",
              "                       min_impurity_decrease=0.0, min_impurity_split=None,\n",
              "                       min_samples_leaf=1, min_samples_split=2,\n",
              "                       min_weight_fraction_leaf=0.0, presort='deprecated',\n",
              "                       random_state=None, splitter='best')"
            ]
          },
          "metadata": {
            "tags": []
          },
          "execution_count": 63
        }
      ]
    },
    {
      "cell_type": "code",
      "metadata": {
        "id": "09es4oHzG7nf",
        "colab_type": "code",
        "colab": {}
      },
      "source": [
        "train_y.index = pd.DataFrame(clf_tree.predict_proba( train_X )).index"
      ],
      "execution_count": 0,
      "outputs": []
    },
    {
      "cell_type": "code",
      "metadata": {
        "id": "6qG7Vx9-ENJb",
        "colab_type": "code",
        "colab": {}
      },
      "source": [
        "tree_train_pred_prob = pd.concat([ pd.DataFrame(clf_tree.predict_proba( train_X )), train_y], axis=1, ignore_index=True)"
      ],
      "execution_count": 0,
      "outputs": []
    },
    {
      "cell_type": "code",
      "metadata": {
        "id": "aU_NeY7uE14A",
        "colab_type": "code",
        "colab": {}
      },
      "source": [
        "tree_train_pred_prob.columns = ['pred_prob_0', 'pred_prob_1', 'actual']"
      ],
      "execution_count": 0,
      "outputs": []
    },
    {
      "cell_type": "code",
      "metadata": {
        "id": "OeXGLWUhE4ew",
        "colab_type": "code",
        "colab": {
          "base_uri": "https://localhost:8080/",
          "height": 514
        },
        "outputId": "b89902b1-5dce-4686-8a22-2177b2f9f41f"
      },
      "source": [
        "tree_train_pred_prob.head(15)"
      ],
      "execution_count": 67,
      "outputs": [
        {
          "output_type": "execute_result",
          "data": {
            "text/html": [
              "<div>\n",
              "<style scoped>\n",
              "    .dataframe tbody tr th:only-of-type {\n",
              "        vertical-align: middle;\n",
              "    }\n",
              "\n",
              "    .dataframe tbody tr th {\n",
              "        vertical-align: top;\n",
              "    }\n",
              "\n",
              "    .dataframe thead th {\n",
              "        text-align: right;\n",
              "    }\n",
              "</style>\n",
              "<table border=\"1\" class=\"dataframe\">\n",
              "  <thead>\n",
              "    <tr style=\"text-align: right;\">\n",
              "      <th></th>\n",
              "      <th>pred_prob_0</th>\n",
              "      <th>pred_prob_1</th>\n",
              "      <th>actual</th>\n",
              "    </tr>\n",
              "  </thead>\n",
              "  <tbody>\n",
              "    <tr>\n",
              "      <th>0</th>\n",
              "      <td>0.896552</td>\n",
              "      <td>0.103448</td>\n",
              "      <td>1.0</td>\n",
              "    </tr>\n",
              "    <tr>\n",
              "      <th>1</th>\n",
              "      <td>0.928870</td>\n",
              "      <td>0.071130</td>\n",
              "      <td>0.0</td>\n",
              "    </tr>\n",
              "    <tr>\n",
              "      <th>2</th>\n",
              "      <td>0.928870</td>\n",
              "      <td>0.071130</td>\n",
              "      <td>0.0</td>\n",
              "    </tr>\n",
              "    <tr>\n",
              "      <th>3</th>\n",
              "      <td>0.928870</td>\n",
              "      <td>0.071130</td>\n",
              "      <td>0.0</td>\n",
              "    </tr>\n",
              "    <tr>\n",
              "      <th>4</th>\n",
              "      <td>0.678161</td>\n",
              "      <td>0.321839</td>\n",
              "      <td>0.0</td>\n",
              "    </tr>\n",
              "    <tr>\n",
              "      <th>5</th>\n",
              "      <td>0.323529</td>\n",
              "      <td>0.676471</td>\n",
              "      <td>1.0</td>\n",
              "    </tr>\n",
              "    <tr>\n",
              "      <th>6</th>\n",
              "      <td>0.928870</td>\n",
              "      <td>0.071130</td>\n",
              "      <td>0.0</td>\n",
              "    </tr>\n",
              "    <tr>\n",
              "      <th>7</th>\n",
              "      <td>0.928870</td>\n",
              "      <td>0.071130</td>\n",
              "      <td>0.0</td>\n",
              "    </tr>\n",
              "    <tr>\n",
              "      <th>8</th>\n",
              "      <td>0.928870</td>\n",
              "      <td>0.071130</td>\n",
              "      <td>0.0</td>\n",
              "    </tr>\n",
              "    <tr>\n",
              "      <th>9</th>\n",
              "      <td>0.928870</td>\n",
              "      <td>0.071130</td>\n",
              "      <td>0.0</td>\n",
              "    </tr>\n",
              "    <tr>\n",
              "      <th>10</th>\n",
              "      <td>0.678161</td>\n",
              "      <td>0.321839</td>\n",
              "      <td>0.0</td>\n",
              "    </tr>\n",
              "    <tr>\n",
              "      <th>11</th>\n",
              "      <td>0.678161</td>\n",
              "      <td>0.321839</td>\n",
              "      <td>0.0</td>\n",
              "    </tr>\n",
              "    <tr>\n",
              "      <th>12</th>\n",
              "      <td>0.090909</td>\n",
              "      <td>0.909091</td>\n",
              "      <td>1.0</td>\n",
              "    </tr>\n",
              "    <tr>\n",
              "      <th>13</th>\n",
              "      <td>0.928870</td>\n",
              "      <td>0.071130</td>\n",
              "      <td>0.0</td>\n",
              "    </tr>\n",
              "    <tr>\n",
              "      <th>14</th>\n",
              "      <td>0.928870</td>\n",
              "      <td>0.071130</td>\n",
              "      <td>0.0</td>\n",
              "    </tr>\n",
              "  </tbody>\n",
              "</table>\n",
              "</div>"
            ],
            "text/plain": [
              "    pred_prob_0  pred_prob_1  actual\n",
              "0      0.896552     0.103448     1.0\n",
              "1      0.928870     0.071130     0.0\n",
              "2      0.928870     0.071130     0.0\n",
              "3      0.928870     0.071130     0.0\n",
              "4      0.678161     0.321839     0.0\n",
              "5      0.323529     0.676471     1.0\n",
              "6      0.928870     0.071130     0.0\n",
              "7      0.928870     0.071130     0.0\n",
              "8      0.928870     0.071130     0.0\n",
              "9      0.928870     0.071130     0.0\n",
              "10     0.678161     0.321839     0.0\n",
              "11     0.678161     0.321839     0.0\n",
              "12     0.090909     0.909091     1.0\n",
              "13     0.928870     0.071130     0.0\n",
              "14     0.928870     0.071130     0.0"
            ]
          },
          "metadata": {
            "tags": []
          },
          "execution_count": 67
        }
      ]
    },
    {
      "cell_type": "code",
      "metadata": {
        "id": "rGVAqA5KE7Lc",
        "colab_type": "code",
        "colab": {
          "base_uri": "https://localhost:8080/",
          "height": 221
        },
        "outputId": "60f6453b-16dc-4597-e620-e790e296736d"
      },
      "source": [
        "tree_train_pred_prob[\"actual\"].astype('object')"
      ],
      "execution_count": 68,
      "outputs": [
        {
          "output_type": "execute_result",
          "data": {
            "text/plain": [
              "0      1\n",
              "1      0\n",
              "2      0\n",
              "3      0\n",
              "4      0\n",
              "      ..\n",
              "485    0\n",
              "486    0\n",
              "487    0\n",
              "488    0\n",
              "489    0\n",
              "Name: actual, Length: 490, dtype: object"
            ]
          },
          "metadata": {
            "tags": []
          },
          "execution_count": 68
        }
      ]
    },
    {
      "cell_type": "code",
      "metadata": {
        "id": "R1NoLbaDIEdh",
        "colab_type": "code",
        "colab": {
          "base_uri": "https://localhost:8080/",
          "height": 34
        },
        "outputId": "d515a48c-5483-4819-9fdd-7442b2457b5c"
      },
      "source": [
        "metrics.roc_auc_score(tree_train_pred_prob[\"actual\"], tree_train_pred_prob[\"pred_prob_1\"])"
      ],
      "execution_count": 69,
      "outputs": [
        {
          "output_type": "execute_result",
          "data": {
            "text/plain": [
              "0.8346165884194054"
            ]
          },
          "metadata": {
            "tags": []
          },
          "execution_count": 69
        }
      ]
    },
    {
      "cell_type": "code",
      "metadata": {
        "id": "sI0ULgPIISn5",
        "colab_type": "code",
        "colab": {}
      },
      "source": [
        "# By default predict() takes cut-off as 0.5\n",
        "# when we have equal distribution of 0's and 1's this approach makes sense. But in case of unequal distribution we need to convert\n",
        "# imbalanced data into balanced data. We can use SMOTE (oversampling or undersampling method) to convert imbalanced data into balanced data.\n",
        "tree_train_pred = pd.DataFrame( { 'actual':  train_y,\n",
        "                            'pred': clf_tree.predict( train_X )} )\n",
        "\n",
        "tree_test_pred = pd.DataFrame( { 'actual':  test_y,\n",
        "                            'pred': clf_tree.predict( test_X ) } )"
      ],
      "execution_count": 0,
      "outputs": []
    },
    {
      "cell_type": "code",
      "metadata": {
        "id": "vbRBnw-MKkPK",
        "colab_type": "code",
        "colab": {
          "base_uri": "https://localhost:8080/",
          "height": 34
        },
        "outputId": "c16cc9c0-1e0a-45b4-cf19-7f71f4f118a2"
      },
      "source": [
        "metrics.accuracy_score( tree_train_pred.actual, tree_train_pred.pred)"
      ],
      "execution_count": 71,
      "outputs": [
        {
          "output_type": "execute_result",
          "data": {
            "text/plain": [
              "0.8081632653061225"
            ]
          },
          "metadata": {
            "tags": []
          },
          "execution_count": 71
        }
      ]
    },
    {
      "cell_type": "code",
      "metadata": {
        "id": "Yo73F0yiKojZ",
        "colab_type": "code",
        "colab": {
          "base_uri": "https://localhost:8080/",
          "height": 34
        },
        "outputId": "4abd108e-d7be-4ef6-b341-acb08f442477"
      },
      "source": [
        "metrics.accuracy_score( tree_test_pred.actual, tree_test_pred.pred )"
      ],
      "execution_count": 72,
      "outputs": [
        {
          "output_type": "execute_result",
          "data": {
            "text/plain": [
              "0.7666666666666667"
            ]
          },
          "metadata": {
            "tags": []
          },
          "execution_count": 72
        }
      ]
    },
    {
      "cell_type": "markdown",
      "metadata": {
        "id": "Qm4D6LEBKsQ1",
        "colab_type": "text"
      },
      "source": [
        "## Confusion matrix"
      ]
    },
    {
      "cell_type": "code",
      "metadata": {
        "id": "mhhoV3fLKpAB",
        "colab_type": "code",
        "colab": {
          "base_uri": "https://localhost:8080/",
          "height": 487
        },
        "outputId": "54d2765b-2c8f-4512-c4c5-a8296dc7f3b6"
      },
      "source": [
        "tree_cm = metrics.confusion_matrix( tree_test_pred.pred,\n",
        "                                 tree_test_pred.actual,\n",
        "                                 [1,0] )\n",
        "sns.heatmap(tree_cm, annot=True, fmt='.2f',\n",
        "         xticklabels = [\"Left\", \"No Left\"] , yticklabels = [\"Left\", \"No Left\"] )\n",
        "\n",
        "plt.ylabel('True label')\n",
        "plt.xlabel('Predicted label')"
      ],
      "execution_count": 73,
      "outputs": [
        {
          "output_type": "execute_result",
          "data": {
            "text/plain": [
              "Text(0.5, 46.5, 'Predicted label')"
            ]
          },
          "metadata": {
            "tags": []
          },
          "execution_count": 73
        },
        {
          "output_type": "display_data",
          "data": {
            "image/png": "[encoded data removed]",
            "text/plain": [
              "<Figure size 720x540 with 2 Axes>"
            ]
          },
          "metadata": {
            "tags": []
          }
        }
      ]
    },
    {
      "cell_type": "code",
      "metadata": {
        "id": "KM31qQ99K-aj",
        "colab_type": "code",
        "colab": {
          "base_uri": "https://localhost:8080/",
          "height": 51
        },
        "outputId": "7142a298-c81a-43c1-f9c6-c3b7a817b2d6"
      },
      "source": [
        "tree_cm"
      ],
      "execution_count": 74,
      "outputs": [
        {
          "output_type": "execute_result",
          "data": {
            "text/plain": [
              "array([[ 12,  13],\n",
              "       [ 36, 149]])"
            ]
          },
          "metadata": {
            "tags": []
          },
          "execution_count": 74
        }
      ]
    },
    {
      "cell_type": "markdown",
      "metadata": {
        "id": "JLNxZ46BLv81",
        "colab_type": "text"
      },
      "source": [
        "## Fine tuning the parameter"
      ]
    },
    {
      "cell_type": "code",
      "metadata": {
        "id": "hlJJ6FLULkjp",
        "colab_type": "code",
        "colab": {}
      },
      "source": [
        "param_grid = {'max_depth': np.arange(3, 8), 'max_features': np.arange(2,8)}"
      ],
      "execution_count": 0,
      "outputs": []
    },
    {
      "cell_type": "code",
      "metadata": {
        "id": "7L2IUmKdL6QI",
        "colab_type": "code",
        "colab": {
          "base_uri": "https://localhost:8080/",
          "height": 323
        },
        "outputId": "9168ab6f-ec09-4efe-b9eb-1ae9229dbd57"
      },
      "source": [
        "tree = GridSearchCV(DecisionTreeClassifier(), param_grid, cv = 5)\n",
        "tree.fit( train_X, train_y )"
      ],
      "execution_count": 76,
      "outputs": [
        {
          "output_type": "execute_result",
          "data": {
            "text/plain": [
              "GridSearchCV(cv=5, error_score=nan,\n",
              "             estimator=DecisionTreeClassifier(ccp_alpha=0.0, class_weight=None,\n",
              "                                              criterion='gini', max_depth=None,\n",
              "                                              max_features=None,\n",
              "                                              max_leaf_nodes=None,\n",
              "                                              min_impurity_decrease=0.0,\n",
              "                                              min_impurity_split=None,\n",
              "                                              min_samples_leaf=1,\n",
              "                                              min_samples_split=2,\n",
              "                                              min_weight_fraction_leaf=0.0,\n",
              "                                              presort='deprecated',\n",
              "                                              random_state=None,\n",
              "                                              splitter='best'),\n",
              "             iid='deprecated', n_jobs=None,\n",
              "             param_grid={'max_depth': array([3, 4, 5, 6, 7]),\n",
              "                         'max_features': array([2, 3, 4, 5, 6, 7])},\n",
              "             pre_dispatch='2*n_jobs', refit=True, return_train_score=False,\n",
              "             scoring=None, verbose=0)"
            ]
          },
          "metadata": {
            "tags": []
          },
          "execution_count": 76
        }
      ]
    },
    {
      "cell_type": "code",
      "metadata": {
        "id": "DxvFebuNL72d",
        "colab_type": "code",
        "colab": {
          "base_uri": "https://localhost:8080/",
          "height": 34
        },
        "outputId": "8c0c659e-c0bd-4aea-8ddb-20a374645e49"
      },
      "source": [
        "tree.best_params_"
      ],
      "execution_count": 77,
      "outputs": [
        {
          "output_type": "execute_result",
          "data": {
            "text/plain": [
              "{'max_depth': 3, 'max_features': 4}"
            ]
          },
          "metadata": {
            "tags": []
          },
          "execution_count": 77
        }
      ]
    },
    {
      "cell_type": "code",
      "metadata": {
        "id": "EKRyq19WL-f5",
        "colab_type": "code",
        "colab": {
          "base_uri": "https://localhost:8080/",
          "height": 34
        },
        "outputId": "33e883a7-d534-4bfb-b7f6-0a7ee72ec306"
      },
      "source": [
        "tree.best_score_"
      ],
      "execution_count": 78,
      "outputs": [
        {
          "output_type": "execute_result",
          "data": {
            "text/plain": [
              "0.7755102040816327"
            ]
          },
          "metadata": {
            "tags": []
          },
          "execution_count": 78
        }
      ]
    },
    {
      "cell_type": "markdown",
      "metadata": {
        "id": "mH1wWEVVMJiO",
        "colab_type": "text"
      },
      "source": [
        "## Building final Model\n",
        "\n",
        "Using above best parameters (depth=3, features=5) we will build our final model."
      ]
    },
    {
      "cell_type": "code",
      "metadata": {
        "id": "2w5sg01UMCc9",
        "colab_type": "code",
        "colab": {
          "base_uri": "https://localhost:8080/",
          "height": 119
        },
        "outputId": "e6021f8f-ee69-445a-d2ae-523919709fe2"
      },
      "source": [
        "clf_tree_final = DecisionTreeClassifier( max_depth = 3, max_features=5)\n",
        "clf_tree_final.fit( train_X, train_y )"
      ],
      "execution_count": 79,
      "outputs": [
        {
          "output_type": "execute_result",
          "data": {
            "text/plain": [
              "DecisionTreeClassifier(ccp_alpha=0.0, class_weight=None, criterion='gini',\n",
              "                       max_depth=3, max_features=5, max_leaf_nodes=None,\n",
              "                       min_impurity_decrease=0.0, min_impurity_split=None,\n",
              "                       min_samples_leaf=1, min_samples_split=2,\n",
              "                       min_weight_fraction_leaf=0.0, presort='deprecated',\n",
              "                       random_state=None, splitter='best')"
            ]
          },
          "metadata": {
            "tags": []
          },
          "execution_count": 79
        }
      ]
    },
    {
      "cell_type": "code",
      "metadata": {
        "id": "7Jvpmw85MbPO",
        "colab_type": "code",
        "colab": {}
      },
      "source": [
        "tree_test_pred = pd.DataFrame({'actual':test_y, 'predicted':clf_tree_final.predict(test_X)})"
      ],
      "execution_count": 0,
      "outputs": []
    },
    {
      "cell_type": "code",
      "metadata": {
        "id": "yzLn-uvwN1nz",
        "colab_type": "code",
        "colab": {
          "base_uri": "https://localhost:8080/",
          "height": 34
        },
        "outputId": "bd79bfb2-66a3-43c2-de2e-cee39540d6c2"
      },
      "source": [
        "metrics.accuracy_score( tree_test_pred.actual, tree_test_pred.predicted )"
      ],
      "execution_count": 81,
      "outputs": [
        {
          "output_type": "execute_result",
          "data": {
            "text/plain": [
              "0.7571428571428571"
            ]
          },
          "metadata": {
            "tags": []
          },
          "execution_count": 81
        }
      ]
    },
    {
      "cell_type": "code",
      "metadata": {
        "id": "BTUoZBWIN5je",
        "colab_type": "code",
        "colab": {
          "base_uri": "https://localhost:8080/",
          "height": 487
        },
        "outputId": "06006ebc-764c-4030-d93b-1dd571f03b80"
      },
      "source": [
        "tree_cm = metrics.confusion_matrix( tree_test_pred.predicted,\n",
        "                                 tree_test_pred.actual,\n",
        "                                 [1,0] )\n",
        "sns.heatmap(tree_cm, annot=True,\n",
        "         fmt='.2f',\n",
        "         xticklabels = [\"Left\", \"No Left\"] , yticklabels = [\"Left\", \"No Left\"] )\n",
        "\n",
        "plt.ylabel('True label')\n",
        "plt.xlabel('Predicted label')"
      ],
      "execution_count": 82,
      "outputs": [
        {
          "output_type": "execute_result",
          "data": {
            "text/plain": [
              "Text(0.5, 46.5, 'Predicted label')"
            ]
          },
          "metadata": {
            "tags": []
          },
          "execution_count": 82
        },
        {
          "output_type": "display_data",
          "data": {
            "image/png": "[encoded data removed]",
            "text/plain": [
              "<Figure size 720x540 with 2 Axes>"
            ]
          },
          "metadata": {
            "tags": []
          }
        }
      ]
    },
    {
      "cell_type": "code",
      "metadata": {
        "id": "J5TceFEYOOmw",
        "colab_type": "code",
        "colab": {}
      },
      "source": [
        "export_graphviz(clf_tree_final, out_file='tree.odt',feature_names=train_X.columns)"
      ],
      "execution_count": 0,
      "outputs": []
    },
    {
      "cell_type": "code",
      "metadata": {
        "id": "3cKwsiBCPK9-",
        "colab_type": "code",
        "colab": {
          "base_uri": "https://localhost:8080/",
          "height": 34
        },
        "outputId": "7248e334-01d4-49af-9773-2148504c68d7"
      },
      "source": [
        "tree_graph = pdot.graphviz.graph_from_dot_file('tree.odt')\n",
        "tree_graph.write_jpg( 'tree.jpg' )"
      ],
      "execution_count": 84,
      "outputs": [
        {
          "output_type": "execute_result",
          "data": {
            "text/plain": [
              "True"
            ]
          },
          "metadata": {
            "tags": []
          },
          "execution_count": 84
        }
      ]
    },
    {
      "cell_type": "code",
      "metadata": {
        "id": "g3rUUJ7APim5",
        "colab_type": "code",
        "colab": {
          "base_uri": "https://localhost:8080/",
          "height": 534
        },
        "outputId": "218beeef-840f-45aa-af32-e084ade41807"
      },
      "source": [
        "Image(filename='tree.jpg')"
      ],
      "execution_count": 85,
      "outputs": [
        {
          "output_type": "execute_result",
          "data": {
            "image/jpeg": "[encoded data removed]",
            "text/plain": [
              "<IPython.core.display.Image object>"
            ]
          },
          "metadata": {
            "tags": []
          },
          "execution_count": 85
        }
      ]
    },
    {
      "cell_type": "code",
      "metadata": {
        "id": "b-xdiji9PtHi",
        "colab_type": "code",
        "colab": {}
      },
      "source": [
        ""
      ],
      "execution_count": 0,
      "outputs": []
    }
  ]
}