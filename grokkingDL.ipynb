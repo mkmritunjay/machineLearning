{
  "nbformat": 4,
  "nbformat_minor": 0,
  "metadata": {
    "colab": {
      "name": "grokkingDL.ipynb",
      "provenance": [],
      "authorship_tag": "ABX9TyOwc5eFD6ax4RC3MKxYtbvi",
      "include_colab_link": true
    },
    "kernelspec": {
      "name": "python3",
      "display_name": "Python 3"
    }
  },
  "cells": [
    {
      "cell_type": "markdown",
      "metadata": {
        "id": "view-in-github",
        "colab_type": "text"
      },
      "source": [
        "<a href=\"https://colab.research.google.com/github/mkmritunjay/machineLearning/blob/master/grokkingDL.ipynb\" target=\"_parent\"><img src=\"https://colab.research.google.com/assets/colab-badge.svg\" alt=\"Open In Colab\"/></a>"
      ]
    },
    {
      "cell_type": "markdown",
      "metadata": {
        "id": "J9r5cUuUg4kf",
        "colab_type": "text"
      },
      "source": [
        "# Chapter 3:\n",
        "\n",
        "### Introduction to neural prediction: Forward Propagation"
      ]
    },
    {
      "cell_type": "code",
      "metadata": {
        "id": "pml-QSb8hEYk",
        "colab_type": "code",
        "colab": {
          "base_uri": "https://localhost:8080/",
          "height": 34
        },
        "outputId": "f6a93dc0-59fd-402a-efe5-e27ce5e9c933"
      },
      "source": [
        "# simplest neural network\n",
        "\n",
        "weight =0.1\n",
        "\n",
        "def neural_network(input, weight):\n",
        "  prediction = input * weight\n",
        "  return prediction\n",
        "\n",
        "number_of_toes = [8.5, 9.5, 10, 9]\n",
        "input = number_of_toes[0]\n",
        "\n",
        "pred = neural_network(input, weight)\n",
        "print(pred)"
      ],
      "execution_count": 1,
      "outputs": [
        {
          "output_type": "stream",
          "text": [
            "0.8500000000000001\n"
          ],
          "name": "stdout"
        }
      ]
    },
    {
      "cell_type": "markdown",
      "metadata": {
        "id": "KFyxYZcsh03J",
        "colab_type": "text"
      },
      "source": [
        "#### What does this neural network do?\n",
        "It multiplies the input by a weight. It \"scales\" the input by a certain amount.\n",
        "\n",
        "The interface for a neural network is simple. It accepts an input variable as information and a weight variable as knowledge and outputs a prediction.\n",
        "\n",
        "It uses the knowledge in the weights to interpret the information in the input data."
      ]
    },
    {
      "cell_type": "markdown",
      "metadata": {
        "id": "8uYvUo4zjC37",
        "colab_type": "text"
      },
      "source": [
        "### Making a prediction with multiple inputs"
      ]
    },
    {
      "cell_type": "code",
      "metadata": {
        "id": "fh_OYNDfhf9p",
        "colab_type": "code",
        "colab": {
          "base_uri": "https://localhost:8080/"
        },
        "outputId": "af61a35d-ca02-4cc4-ff71-2f54b669e7a5"
      },
      "source": [
        "weights = [0.1, 0.2, 0]\n",
        "\n",
        "def w_sum(a, b):\n",
        "  assert(len(a) == len(b))\n",
        "  output = 0\n",
        "\n",
        "  for i in range(len(a)):\n",
        "    output += a[i] * b[i]\n",
        "  return output\n",
        "\n",
        "def neural_network(inputs, weights):\n",
        "  prediction = w_sum(inputs, weights)\n",
        "  return prediction\n",
        "\n",
        "toes = [8.5, 9.5, 9.9, 9.0]\n",
        "wlrec = [0.65, 0.8, 0.8, 0.9]\n",
        "nfans = [1.2, 1.3, 0.5, 1.0]\n",
        "\n",
        "inputs = [toes[0], wlrec[0], nfans[0]]\n",
        "\n",
        "pred = neural_network(inputs, weights)\n",
        "print(pred)"
      ],
      "execution_count": 2,
      "outputs": [
        {
          "output_type": "stream",
          "text": [
            "0.9800000000000001\n"
          ],
          "name": "stdout"
        }
      ]
    },
    {
      "cell_type": "markdown",
      "metadata": {
        "id": "6SOWtegaoQRX",
        "colab_type": "text"
      },
      "source": [
        "#### Multiple inputs: What does this neural network do?\n",
        "\n",
        "It multiplies three inputs by three weights and take their sum. This is a weighted sum (dot product).\n",
        "\n",
        "This new neural network can accept multiple inputs at a time per prediction. Here we take each input and multiply it with its own weight to find local prediction and in the end we sum all the local predictions to get final prediction.\n",
        "\n",
        "The intuition behind how and why a dot product works is one of the most important parts of truly understanding how neural networks make predictions."
      ]
    },
    {
      "cell_type": "markdown",
      "metadata": {
        "id": "28YPFNL7yaan",
        "colab_type": "text"
      },
      "source": [
        "#### A dot product gives you a notion of similarity between two vectors. Consider below examples:"
      ]
    },
    {
      "cell_type": "code",
      "metadata": {
        "id": "J8dsmgEkoIoa",
        "colab_type": "code",
        "colab": {
          "base_uri": "https://localhost:8080/",
          "height": 136
        },
        "outputId": "e09949fc-af2a-4cc6-980e-4c3273f00d7f"
      },
      "source": [
        "a = [0, 1, 0, 1]\n",
        "b = [1, 0, 1, 0]\n",
        "c = [0, 1, 1, 0]\n",
        "d = [.5, 0, .5, 0]\n",
        "e = [0, 1, -1, 0]\n",
        "\n",
        "print('a * b: {}'.format(w_sum(a,b)))\n",
        "print('b * c: {}'.format(w_sum(b,c)))\n",
        "print('b * d: {}'.format(w_sum(b,d)))\n",
        "print('c * c: {}'.format(w_sum(c,c)))\n",
        "print('d * d: {}'.format(w_sum(d,d)))\n",
        "print('c * e: {}'.format(w_sum(c,e)))\n",
        "print('e * e: {}'.format(w_sum(e,e)))\n"
      ],
      "execution_count": 3,
      "outputs": [
        {
          "output_type": "stream",
          "text": [
            "a * b: 0\n",
            "b * c: 1\n",
            "b * d: 1.0\n",
            "c * c: 2\n",
            "d * d: 0.5\n",
            "c * e: 0\n",
            "e * e: 2\n"
          ],
          "name": "stdout"
        }
      ]
    },
    {
      "cell_type": "markdown",
      "metadata": {
        "id": "oz6r3J-xyh86",
        "colab_type": "text"
      },
      "source": [
        "The highest weighted sum (sum(c,c)) is between vectors that are exactly identical. \n",
        "\n",
        "In contrast, because a and b have no overlapping weight, their dot product is zero. \n",
        "\n",
        "Most interesting weighted sum is between c and e, because e has a negative weight. This negative weight canceled out the positive similarity between them.\n",
        "\n",
        "But a dot product between e and itself would yield the number 2 (-ve * -ve turns +ve)."
      ]
    },
    {
      "cell_type": "markdown",
      "metadata": {
        "id": "uYKbMDk00DVw",
        "colab_type": "text"
      },
      "source": [
        "### Multiple inputs: Complete runnable code (numpy)"
      ]
    },
    {
      "cell_type": "code",
      "metadata": {
        "id": "WuB6F2M_w_vJ",
        "colab_type": "code",
        "colab": {
          "base_uri": "https://localhost:8080/",
          "height": 34
        },
        "outputId": "e3315bd0-a6c4-4bde-ff0b-113629595fb3"
      },
      "source": [
        "import numpy as np\n",
        "\n",
        "weights  = np.array([0.1, 0.2, 0])\n",
        "\n",
        "toes = np.array([8.5, 9.5, 9.9, 9.0])\n",
        "wlrec = np.array([0.65, 0.8, 0.8, 0.9])\n",
        "nfans = np.array([1.2, 1.3, 0.5, 1.0])\n",
        "\n",
        "inputs = np.array([toes[0], wlrec[0], nfans[0]])\n",
        "\n",
        "def neural_network(inputs, weights):\n",
        "  prediction = np.dot(inputs, weights)\n",
        "  return prediction\n",
        "\n",
        "pred = neural_network(inputs,weights)\n",
        "print(pred)"
      ],
      "execution_count": 4,
      "outputs": [
        {
          "output_type": "stream",
          "text": [
            "0.9800000000000001\n"
          ],
          "name": "stdout"
        }
      ]
    },
    {
      "cell_type": "markdown",
      "metadata": {
        "id": "H1RjOlfAKd7r",
        "colab_type": "text"
      },
      "source": [
        "### Making a prediction with multiple outputs"
      ]
    },
    {
      "cell_type": "code",
      "metadata": {
        "id": "exQBaiUO00Il",
        "colab_type": "code",
        "colab": {
          "base_uri": "https://localhost:8080/"
        },
        "outputId": "26a3896b-a93e-4240-b8cd-ccdc0987eb70"
      },
      "source": [
        "weights = [0.3, 0.2, 0.9]\n",
        "\n",
        "def ele_mul(input, weights):\n",
        "  output = [0,0,0]\n",
        "  assert(len(output) == len(weights))\n",
        "  for i in range(len(weights)):\n",
        "    output[i] = input * weights[i]\n",
        "  return output\n",
        "\n",
        "def neural_network(input, weights):\n",
        "  pred = ele_mul(input, weights)\n",
        "  return pred\n",
        "\n",
        "wlrec = [0.65, 0.8, 0.8, 0.9]\n",
        "input = wlrec[0]\n",
        "\n",
        "pred = neural_network(input, weights)\n",
        "print(pred)"
      ],
      "execution_count": 5,
      "outputs": [
        {
          "output_type": "stream",
          "text": [
            "[0.195, 0.13, 0.5850000000000001]\n"
          ],
          "name": "stdout"
        }
      ]
    },
    {
      "cell_type": "markdown",
      "metadata": {
        "id": "RCrJ815_Q8n5",
        "colab_type": "text"
      },
      "source": [
        "### Multiple inputs and outputs: How does it work?\n",
        "\n",
        "It performs three independent weighted sums of the input to make three predictions. (3 weights going into each output node)"
      ]
    },
    {
      "cell_type": "code",
      "metadata": {
        "id": "Vg4r31vFLRFU",
        "colab_type": "code",
        "colab": {
          "base_uri": "https://localhost:8080/",
          "height": 34
        },
        "outputId": "c9227d52-aeee-4372-b05a-e2528d1055f9"
      },
      "source": [
        "weights = np.array([[0.1, 0.1, -0.3],\n",
        "          [0.1, 0.2, 0.0],\n",
        "          [0.0, 1.3, 0.1]])\n",
        "\n",
        "def w_sum(a, b):\n",
        "  assert(len(a) == len(b))\n",
        "  output = 0\n",
        "\n",
        "  for i in range(len(a)):\n",
        "    output += a[i] * b[i]\n",
        "  return output\n",
        "\n",
        "def vect_mat_mul(input, weights):\n",
        "  assert(len(input) == len(weights))\n",
        "  output = [0, 0, 0]\n",
        "  for i in range(len(input)):\n",
        "    output[i] = w_sum(input, weights[i])\n",
        "  return output\n",
        "\n",
        "def neural_network(input, weights):\n",
        "  pred = vect_mat_mul(input, weights)\n",
        "  return pred\n",
        "\n",
        "toes = np.array([8.5, 9.5, 9.9, 9.0]) \n",
        "wlrec = np.array([0.65, 0.8, 0.8, 0.9]) \n",
        "nfans = np.array([1.2, 1.3, 0.5, 1.0])\n",
        "\n",
        "input = [toes[0], wlrec[0], nfans[0]]\n",
        "\n",
        "pred = neural_network(input, weights)\n",
        "print(pred)"
      ],
      "execution_count": 6,
      "outputs": [
        {
          "output_type": "stream",
          "text": [
            "[0.555, 0.9800000000000001, 0.9650000000000001]\n"
          ],
          "name": "stdout"
        }
      ]
    },
    {
      "cell_type": "markdown",
      "metadata": {
        "id": "21PxGaFsTM-l",
        "colab_type": "text"
      },
      "source": [
        "### Predicting on predictions\n",
        "\n",
        "We can also take the output of one network and feed it as input to another network. This results in two consecutive vector-matrix multiplications."
      ]
    },
    {
      "cell_type": "code",
      "metadata": {
        "id": "u2krtUXKSYXQ",
        "colab_type": "code",
        "colab": {
          "base_uri": "https://localhost:8080/",
          "height": 34
        },
        "outputId": "29dc2287-d830-43cb-e5cb-21715834fa44"
      },
      "source": [
        "ih_wgt = [[0.1,0.2,-0.1],\n",
        "                 [-0.1,0.1,0.9],\n",
        "                 [0.1,0.4,0.1]]\n",
        "\n",
        "hp_wgt = [[0.3,1.1,-0.3],\n",
        "                 [0.1,0.2,0.0],\n",
        "                 [0.0,1.3,0.1]]\n",
        "\n",
        "weights = [ih_wgt, hp_wgt]\n",
        "\n",
        "toes = np.array([8.5, 9.5, 9.9, 9.0]) \n",
        "wlrec = np.array([0.65, 0.8, 0.8, 0.9]) \n",
        "nfans = np.array([1.2, 1.3, 0.5, 1.0])\n",
        "\n",
        "input = [toes[0], wlrec[0], nfans[0]]\n",
        "\n",
        "def w_sum(a, b):\n",
        "  assert(len(a) == len(b))\n",
        "  output = 0\n",
        "\n",
        "  for i in range(len(a)):\n",
        "    output += a[i] * b[i]\n",
        "  return output\n",
        "\n",
        "def vect_mat_mul(input, weights):\n",
        "  assert(len(input) == len(weights))\n",
        "  output = [0, 0, 0]\n",
        "  for i in range(len(input)):\n",
        "    output[i] = w_sum(input, weights[i])\n",
        "  return output\n",
        "\n",
        "def neural_network(input, weights):\n",
        "  hid = vect_mat_mul(input, weights[0])\n",
        "  pred = vect_mat_mul(hid, weights[1])\n",
        "  return pred\n",
        "\n",
        "prediction = neural_network(input, weights)\n",
        "print(prediction)"
      ],
      "execution_count": 7,
      "outputs": [
        {
          "output_type": "stream",
          "text": [
            "[0.21350000000000002, 0.14500000000000002, 0.5065]\n"
          ],
          "name": "stdout"
        }
      ]
    },
    {
      "cell_type": "markdown",
      "metadata": {
        "id": "m01X-PfiUsAG",
        "colab_type": "text"
      },
      "source": [
        "### numpy version"
      ]
    },
    {
      "cell_type": "code",
      "metadata": {
        "id": "Agzo_3TcUX09",
        "colab_type": "code",
        "colab": {
          "base_uri": "https://localhost:8080/",
          "height": 34
        },
        "outputId": "b48e55cf-2ee3-428d-f339-835338714fab"
      },
      "source": [
        "ih_wgt = np.array([[0.1,0.2,-0.1],\n",
        "                 [-0.1,0.1,0.9],\n",
        "                 [0.1,0.4,0.1]])\n",
        "\n",
        "hp_wgt = np.array([[0.3,1.1,-0.3],\n",
        "                 [0.1,0.2,0.0],\n",
        "                 [0.0,1.3,0.1]])\n",
        "\n",
        "weights = np.array([ih_wgt, hp_wgt])\n",
        "\n",
        "toes = np.array([8.5, 9.5, 9.9, 9.0]) \n",
        "wlrec = np.array([0.65, 0.8, 0.8, 0.9]) \n",
        "nfans = np.array([1.2, 1.3, 0.5, 1.0])\n",
        "\n",
        "input = np.array([toes[0], wlrec[0], nfans[0]])\n",
        "\n",
        "\n",
        "def neural_network(input, weights):\n",
        "  hid = np.dot(weights[0], input) # pay special attention here for position of vector and matrix during dot product\n",
        "  pred = np.dot(weights[1], hid)\n",
        "  return pred\n",
        "\n",
        "prediction = neural_network(input, weights)\n",
        "print(prediction)"
      ],
      "execution_count": 15,
      "outputs": [
        {
          "output_type": "stream",
          "text": [
            "[0.2135 0.145  0.5065]\n"
          ],
          "name": "stdout"
        }
      ]
    },
    {
      "cell_type": "code",
      "metadata": {
        "id": "XQDqnQgZVLRq",
        "colab_type": "code",
        "colab": {}
      },
      "source": [
        ""
      ],
      "execution_count": null,
      "outputs": []
    }
  ]
}