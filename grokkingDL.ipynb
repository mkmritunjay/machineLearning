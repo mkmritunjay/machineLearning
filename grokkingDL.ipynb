{
  "nbformat": 4,
  "nbformat_minor": 0,
  "metadata": {
    "colab": {
      "name": "grokkingDL.ipynb",
      "provenance": [],
      "authorship_tag": "ABX9TyPka60fu00f0/MtVrV4iTlZ",
      "include_colab_link": true
    },
    "kernelspec": {
      "name": "python3",
      "display_name": "Python 3"
    }
  },
  "cells": [
    {
      "cell_type": "markdown",
      "metadata": {
        "id": "view-in-github",
        "colab_type": "text"
      },
      "source": [
        "<a href=\"https://colab.research.google.com/github/mkmritunjay/machineLearning/blob/master/grokkingDL.ipynb\" target=\"_parent\"><img src=\"https://colab.research.google.com/assets/colab-badge.svg\" alt=\"Open In Colab\"/></a>"
      ]
    },
    {
      "cell_type": "markdown",
      "metadata": {
        "id": "J9r5cUuUg4kf",
        "colab_type": "text"
      },
      "source": [
        "# Chapter 3:\n",
        "\n",
        "### Introduction to neural prediction: Forward Propagation"
      ]
    },
    {
      "cell_type": "code",
      "metadata": {
        "id": "pml-QSb8hEYk",
        "colab_type": "code",
        "colab": {
          "base_uri": "https://localhost:8080/",
          "height": 34
        },
        "outputId": "ca2728ae-9e7a-4dbd-e8c3-e6aaf2665003"
      },
      "source": [
        "# simplest neural network\n",
        "\n",
        "weight =0.1\n",
        "\n",
        "def neural_network(input, weight):\n",
        "  prediction = input * weight\n",
        "  return prediction\n",
        "\n",
        "number_of_toes = [8.5, 9.5, 10, 9]\n",
        "input = number_of_toes[0]\n",
        "\n",
        "pred = neural_network(input, weight)\n",
        "print(pred)"
      ],
      "execution_count": 3,
      "outputs": [
        {
          "output_type": "stream",
          "text": [
            "0.8500000000000001\n"
          ],
          "name": "stdout"
        }
      ]
    },
    {
      "cell_type": "markdown",
      "metadata": {
        "id": "KFyxYZcsh03J",
        "colab_type": "text"
      },
      "source": [
        "#### What does this neural network do?\n",
        "It multiplies the input by a weight. It \"scales\" the input by a certain amount.\n",
        "\n",
        "The interface for a neural network is simple. It accepts an input variable as information and a weight variable as knowledge and outputs a prediction.\n",
        "\n",
        "It uses the knowledge in the weights to interpret the information in the input data."
      ]
    },
    {
      "cell_type": "markdown",
      "metadata": {
        "id": "8uYvUo4zjC37",
        "colab_type": "text"
      },
      "source": [
        "### Making a prediction with multiple inputs"
      ]
    },
    {
      "cell_type": "code",
      "metadata": {
        "id": "fh_OYNDfhf9p",
        "colab_type": "code",
        "colab": {
          "base_uri": "https://localhost:8080/",
          "height": 34
        },
        "outputId": "35e49287-3d1d-459d-e51a-f6612d9b1849"
      },
      "source": [
        "weights = [0.1, 0.2, 0]\n",
        "\n",
        "def w_sum(a, b):\n",
        "  assert(len(a) == len(b))\n",
        "  output = 0\n",
        "\n",
        "  for i in range(len(a)):\n",
        "    output += a[i] * b[i]\n",
        "  return output\n",
        "\n",
        "def neural_network(inputs, weights):\n",
        "  prediction = w_sum(inputs, weights)\n",
        "  return prediction\n",
        "\n",
        "toes = [8.5, 9.5, 9.9, 9.0]\n",
        "wlrec = [0.65, 0.8, 0.8, 0.9]\n",
        "nfans = [1.2, 1.3, 0.5, 1.0]\n",
        "\n",
        "inputs = [toes[0], wlrec[0], nfans[0]]\n",
        "\n",
        "pred = neural_network(inputs, weights)\n",
        "print(pred)"
      ],
      "execution_count": 4,
      "outputs": [
        {
          "output_type": "stream",
          "text": [
            "0.9800000000000001\n"
          ],
          "name": "stdout"
        }
      ]
    },
    {
      "cell_type": "markdown",
      "metadata": {
        "id": "6SOWtegaoQRX",
        "colab_type": "text"
      },
      "source": [
        "#### Multiple inputs: What does this neural network do?\n",
        "\n",
        "It multiplies three inputs by three weights and sums them. This is a weighted sum.\n",
        "\n",
        "This new neural network can accept multiple inputs at a time per prediction. Here we take each input and multiply it with its own weight to find local prediction and in the end we sum all the local predictions to get final prediction."
      ]
    },
    {
      "cell_type": "code",
      "metadata": {
        "id": "J8dsmgEkoIoa",
        "colab_type": "code",
        "colab": {}
      },
      "source": [
        ""
      ],
      "execution_count": null,
      "outputs": []
    }
  ]
}