{
  "nbformat": 4,
  "nbformat_minor": 0,
  "metadata": {
    "colab": {
      "name": "Logistic_regression.ipynb",
      "provenance": [],
      "authorship_tag": "ABX9TyOFRglQoCnrjpDM3ShAOzRD",
      "include_colab_link": true
    },
    "kernelspec": {
      "name": "python3",
      "display_name": "Python 3"
    }
  },
  "cells": [
    {
      "cell_type": "markdown",
      "metadata": {
        "id": "view-in-github",
        "colab_type": "text"
      },
      "source": [
        "<a href=\"https://colab.research.google.com/github/mkmritunjay/machineLearning/blob/master/Logistic_regression.ipynb\" target=\"_parent\"><img src=\"https://colab.research.google.com/assets/colab-badge.svg\" alt=\"Open In Colab\"/></a>"
      ]
    },
    {
      "cell_type": "markdown",
      "metadata": {
        "id": "NlCTs4mQ7jAd",
        "colab_type": "text"
      },
      "source": [
        "#Credit Risk Analysis\n",
        "\n",
        "**Goal or objective:**\n",
        "\n",
        "We will try to predict if a customer is bad when he applies for a loan. It's also called as probability of default (PD).\n",
        "\n",
        "**Data Preprocessing:**\n",
        "\n",
        "- Missing value treatment\n",
        "- outlier treatment\n",
        "- univariate analysis\n",
        "\n",
        "###Data Exploratory Analysis:\n",
        "\n",
        "    - Bivariate Analysis - Numeric(t-test) and Categorical(Chi-square test)\n",
        "    - Bivariate Analysis - Visualization\n",
        "    - Variable Transformation - P-Value based selection\n",
        "    - Variable Transformation - Bucketing / Binning for numerical variables and Dummy for Categorical Variables\n",
        "    - Variable Reduction - IV / Somers'D\n",
        "    - Variable Reduction - Multicollinearity\n",
        "\n",
        "###Model Building and Model Diagnostics\n",
        "    - Train and Test split\n",
        "    - Significance of each Variable\n",
        "    - Gini and ROC / Concordance analysis - Rank Ordering\n",
        "    - Classification Table Analysis - Accuracy\n",
        "###Model Validation\n",
        "    - OOS validation - p-value and sign testing for the model co-efficients\n",
        "    - Diagnostics check to remain similar to Training Model build\n",
        "    - BootStrapping, if necessary\n",
        "###Model Interpretation for its properties\n",
        "    - Inferencing for finding the most important contributors\n",
        "    - Prediction of risk and proactive prevention by targeting segments of the population\n",
        "\n",
        "\n"
      ]
    },
    {
      "cell_type": "code",
      "metadata": {
        "id": "OLkDsy3T96N3",
        "colab_type": "code",
        "colab": {
          "base_uri": "https://localhost:8080/",
          "height": 34
        },
        "outputId": "ee69dc60-96a9-4295-e42d-ed100b222260"
      },
      "source": [
        "import pandas as pd\n",
        "import numpy as np\n",
        "import seaborn as sns\n",
        "import matplotlib.pyplot as plt\n",
        "\n",
        "import statsmodels.formula.api as sm\n",
        "import scipy.stats as stats\n",
        "\n",
        "%matplotlib inline\n",
        "plt.rcParams['figure.figsize'] = 10, 7.5\n",
        "plt.rcParams['axes.grid'] = True\n",
        "plt.gray()\n",
        "\n",
        "from matplotlib.backends.backend_pdf import PdfPages\n",
        "\n",
        "from sklearn.model_selection import train_test_split\n",
        "from sklearn import metrics\n",
        "from sklearn.linear_model import LogisticRegression\n",
        "from statsmodels.stats.outliers_influence import variance_inflation_factor\n",
        "from patsy import dmatrices\n",
        "\n",
        "url = 'https://raw.githubusercontent.com/mkmritunjay/machineLearning/master/bankloans.csv'"
      ],
      "execution_count": 10,
      "outputs": [
        {
          "output_type": "display_data",
          "data": {
            "text/plain": [
              "<Figure size 720x540 with 0 Axes>"
            ]
          },
          "metadata": {
            "tags": []
          }
        }
      ]
    },
    {
      "cell_type": "code",
      "metadata": {
        "id": "J4m70reo-fzk",
        "colab_type": "code",
        "colab": {
          "base_uri": "https://localhost:8080/",
          "height": 204
        },
        "outputId": "169ddc02-7cbf-4935-b06d-7cfc9d211c60"
      },
      "source": [
        "bankloan_df = pd.read_csv(url)\n",
        "bankloan_df.head()"
      ],
      "execution_count": 33,
      "outputs": [
        {
          "output_type": "execute_result",
          "data": {
            "text/html": [
              "<div>\n",
              "<style scoped>\n",
              "    .dataframe tbody tr th:only-of-type {\n",
              "        vertical-align: middle;\n",
              "    }\n",
              "\n",
              "    .dataframe tbody tr th {\n",
              "        vertical-align: top;\n",
              "    }\n",
              "\n",
              "    .dataframe thead th {\n",
              "        text-align: right;\n",
              "    }\n",
              "</style>\n",
              "<table border=\"1\" class=\"dataframe\">\n",
              "  <thead>\n",
              "    <tr style=\"text-align: right;\">\n",
              "      <th></th>\n",
              "      <th>age</th>\n",
              "      <th>ed</th>\n",
              "      <th>employ</th>\n",
              "      <th>address</th>\n",
              "      <th>income</th>\n",
              "      <th>debtinc</th>\n",
              "      <th>creddebt</th>\n",
              "      <th>othdebt</th>\n",
              "      <th>default</th>\n",
              "    </tr>\n",
              "  </thead>\n",
              "  <tbody>\n",
              "    <tr>\n",
              "      <th>0</th>\n",
              "      <td>41</td>\n",
              "      <td>3</td>\n",
              "      <td>17</td>\n",
              "      <td>12</td>\n",
              "      <td>176</td>\n",
              "      <td>9.3</td>\n",
              "      <td>11.359392</td>\n",
              "      <td>5.008608</td>\n",
              "      <td>1.0</td>\n",
              "    </tr>\n",
              "    <tr>\n",
              "      <th>1</th>\n",
              "      <td>27</td>\n",
              "      <td>1</td>\n",
              "      <td>10</td>\n",
              "      <td>6</td>\n",
              "      <td>31</td>\n",
              "      <td>17.3</td>\n",
              "      <td>1.362202</td>\n",
              "      <td>4.000798</td>\n",
              "      <td>0.0</td>\n",
              "    </tr>\n",
              "    <tr>\n",
              "      <th>2</th>\n",
              "      <td>40</td>\n",
              "      <td>1</td>\n",
              "      <td>15</td>\n",
              "      <td>14</td>\n",
              "      <td>55</td>\n",
              "      <td>5.5</td>\n",
              "      <td>0.856075</td>\n",
              "      <td>2.168925</td>\n",
              "      <td>0.0</td>\n",
              "    </tr>\n",
              "    <tr>\n",
              "      <th>3</th>\n",
              "      <td>41</td>\n",
              "      <td>1</td>\n",
              "      <td>15</td>\n",
              "      <td>14</td>\n",
              "      <td>120</td>\n",
              "      <td>2.9</td>\n",
              "      <td>2.658720</td>\n",
              "      <td>0.821280</td>\n",
              "      <td>0.0</td>\n",
              "    </tr>\n",
              "    <tr>\n",
              "      <th>4</th>\n",
              "      <td>24</td>\n",
              "      <td>2</td>\n",
              "      <td>2</td>\n",
              "      <td>0</td>\n",
              "      <td>28</td>\n",
              "      <td>17.3</td>\n",
              "      <td>1.787436</td>\n",
              "      <td>3.056564</td>\n",
              "      <td>1.0</td>\n",
              "    </tr>\n",
              "  </tbody>\n",
              "</table>\n",
              "</div>"
            ],
            "text/plain": [
              "   age  ed  employ  address  income  debtinc   creddebt   othdebt  default\n",
              "0   41   3      17       12     176      9.3  11.359392  5.008608      1.0\n",
              "1   27   1      10        6      31     17.3   1.362202  4.000798      0.0\n",
              "2   40   1      15       14      55      5.5   0.856075  2.168925      0.0\n",
              "3   41   1      15       14     120      2.9   2.658720  0.821280      0.0\n",
              "4   24   2       2        0      28     17.3   1.787436  3.056564      1.0"
            ]
          },
          "metadata": {
            "tags": []
          },
          "execution_count": 33
        }
      ]
    },
    {
      "cell_type": "code",
      "metadata": {
        "id": "niBAh0YU-xvt",
        "colab_type": "code",
        "colab": {
          "base_uri": "https://localhost:8080/",
          "height": 255
        },
        "outputId": "25aafc6a-4e4a-487b-a93c-e163866575f7"
      },
      "source": [
        "# get the high level overview of columns and their data types\n",
        "bankloan_df.info()"
      ],
      "execution_count": 34,
      "outputs": [
        {
          "output_type": "stream",
          "text": [
            "<class 'pandas.core.frame.DataFrame'>\n",
            "RangeIndex: 850 entries, 0 to 849\n",
            "Data columns (total 9 columns):\n",
            "age         850 non-null int64\n",
            "ed          850 non-null int64\n",
            "employ      850 non-null int64\n",
            "address     850 non-null int64\n",
            "income      850 non-null int64\n",
            "debtinc     850 non-null float64\n",
            "creddebt    850 non-null float64\n",
            "othdebt     850 non-null float64\n",
            "default     700 non-null float64\n",
            "dtypes: float64(4), int64(5)\n",
            "memory usage: 59.9 KB\n"
          ],
          "name": "stdout"
        }
      ]
    },
    {
      "cell_type": "code",
      "metadata": {
        "id": "Jk7phHQC-0wS",
        "colab_type": "code",
        "colab": {}
      },
      "source": [
        "# separate numerical and categorical variables(no categorical variable in this data set)\n",
        "df_numeric = bankloan_df._get_numeric_data()"
      ],
      "execution_count": 0,
      "outputs": []
    },
    {
      "cell_type": "code",
      "metadata": {
        "id": "Pp8MSDBg_6IL",
        "colab_type": "code",
        "colab": {}
      },
      "source": [
        "# create data audit report to get detailed information about data set.\n",
        "def var_summary(x):\n",
        "    return pd.Series([x.count(), x.isnull().sum(), x.sum(), x.mean(), x.median(),  x.std(), x.var(), x.min(), x.dropna().quantile(0.01), x.dropna().quantile(0.05),x.dropna().quantile(0.10),x.dropna().quantile(0.25),x.dropna().quantile(0.50),x.dropna().quantile(0.75), x.dropna().quantile(0.90),x.dropna().quantile(0.95), x.dropna().quantile(0.99),x.max()], \n",
        "                  index=['N', 'NMISS', 'SUM', 'MEAN','MEDIAN', 'STD', 'VAR', 'MIN', 'P1' , 'P5' ,'P10' ,'P25' ,'P50' ,'P75' ,'P90' ,'P95' ,'P99' ,'MAX'])\n",
        "\n",
        "num_summary=df_numeric.apply(lambda x: var_summary(x)).T"
      ],
      "execution_count": 0,
      "outputs": []
    },
    {
      "cell_type": "code",
      "metadata": {
        "id": "atEsUGk2ARLc",
        "colab_type": "code",
        "colab": {
          "base_uri": "https://localhost:8080/",
          "height": 348
        },
        "outputId": "cb8aaa2a-5ada-45ca-c99b-2a9a562eb51e"
      },
      "source": [
        "num_summary\n",
        "# as we can see below there is no missing value in the report, we dont have to treat this part."
      ],
      "execution_count": 37,
      "outputs": [
        {
          "output_type": "execute_result",
          "data": {
            "text/html": [
              "<div>\n",
              "<style scoped>\n",
              "    .dataframe tbody tr th:only-of-type {\n",
              "        vertical-align: middle;\n",
              "    }\n",
              "\n",
              "    .dataframe tbody tr th {\n",
              "        vertical-align: top;\n",
              "    }\n",
              "\n",
              "    .dataframe thead th {\n",
              "        text-align: right;\n",
              "    }\n",
              "</style>\n",
              "<table border=\"1\" class=\"dataframe\">\n",
              "  <thead>\n",
              "    <tr style=\"text-align: right;\">\n",
              "      <th></th>\n",
              "      <th>N</th>\n",
              "      <th>NMISS</th>\n",
              "      <th>SUM</th>\n",
              "      <th>MEAN</th>\n",
              "      <th>MEDIAN</th>\n",
              "      <th>STD</th>\n",
              "      <th>VAR</th>\n",
              "      <th>MIN</th>\n",
              "      <th>P1</th>\n",
              "      <th>P5</th>\n",
              "      <th>P10</th>\n",
              "      <th>P25</th>\n",
              "      <th>P50</th>\n",
              "      <th>P75</th>\n",
              "      <th>P90</th>\n",
              "      <th>P95</th>\n",
              "      <th>P99</th>\n",
              "      <th>MAX</th>\n",
              "    </tr>\n",
              "  </thead>\n",
              "  <tbody>\n",
              "    <tr>\n",
              "      <th>age</th>\n",
              "      <td>850.0</td>\n",
              "      <td>0.0</td>\n",
              "      <td>29775.000000</td>\n",
              "      <td>35.029412</td>\n",
              "      <td>34.000000</td>\n",
              "      <td>8.041432</td>\n",
              "      <td>64.664623</td>\n",
              "      <td>20.000000</td>\n",
              "      <td>21.000000</td>\n",
              "      <td>23.000000</td>\n",
              "      <td>25.000000</td>\n",
              "      <td>29.000000</td>\n",
              "      <td>34.000000</td>\n",
              "      <td>41.000000</td>\n",
              "      <td>47.000000</td>\n",
              "      <td>49.000000</td>\n",
              "      <td>53.000000</td>\n",
              "      <td>56.00000</td>\n",
              "    </tr>\n",
              "    <tr>\n",
              "      <th>ed</th>\n",
              "      <td>850.0</td>\n",
              "      <td>0.0</td>\n",
              "      <td>1454.000000</td>\n",
              "      <td>1.710588</td>\n",
              "      <td>1.000000</td>\n",
              "      <td>0.927784</td>\n",
              "      <td>0.860783</td>\n",
              "      <td>1.000000</td>\n",
              "      <td>1.000000</td>\n",
              "      <td>1.000000</td>\n",
              "      <td>1.000000</td>\n",
              "      <td>1.000000</td>\n",
              "      <td>1.000000</td>\n",
              "      <td>2.000000</td>\n",
              "      <td>3.000000</td>\n",
              "      <td>4.000000</td>\n",
              "      <td>4.000000</td>\n",
              "      <td>5.00000</td>\n",
              "    </tr>\n",
              "    <tr>\n",
              "      <th>employ</th>\n",
              "      <td>850.0</td>\n",
              "      <td>0.0</td>\n",
              "      <td>7281.000000</td>\n",
              "      <td>8.565882</td>\n",
              "      <td>7.000000</td>\n",
              "      <td>6.777884</td>\n",
              "      <td>45.939706</td>\n",
              "      <td>0.000000</td>\n",
              "      <td>0.000000</td>\n",
              "      <td>0.000000</td>\n",
              "      <td>1.000000</td>\n",
              "      <td>3.000000</td>\n",
              "      <td>7.000000</td>\n",
              "      <td>13.000000</td>\n",
              "      <td>18.000000</td>\n",
              "      <td>21.550000</td>\n",
              "      <td>29.000000</td>\n",
              "      <td>33.00000</td>\n",
              "    </tr>\n",
              "    <tr>\n",
              "      <th>address</th>\n",
              "      <td>850.0</td>\n",
              "      <td>0.0</td>\n",
              "      <td>7116.000000</td>\n",
              "      <td>8.371765</td>\n",
              "      <td>7.000000</td>\n",
              "      <td>6.895016</td>\n",
              "      <td>47.541251</td>\n",
              "      <td>0.000000</td>\n",
              "      <td>0.000000</td>\n",
              "      <td>0.000000</td>\n",
              "      <td>1.000000</td>\n",
              "      <td>3.000000</td>\n",
              "      <td>7.000000</td>\n",
              "      <td>12.000000</td>\n",
              "      <td>19.000000</td>\n",
              "      <td>22.550000</td>\n",
              "      <td>26.510000</td>\n",
              "      <td>34.00000</td>\n",
              "    </tr>\n",
              "    <tr>\n",
              "      <th>income</th>\n",
              "      <td>850.0</td>\n",
              "      <td>0.0</td>\n",
              "      <td>39674.000000</td>\n",
              "      <td>46.675294</td>\n",
              "      <td>35.000000</td>\n",
              "      <td>38.543054</td>\n",
              "      <td>1485.566998</td>\n",
              "      <td>13.000000</td>\n",
              "      <td>14.490000</td>\n",
              "      <td>17.000000</td>\n",
              "      <td>19.000000</td>\n",
              "      <td>24.000000</td>\n",
              "      <td>35.000000</td>\n",
              "      <td>55.750000</td>\n",
              "      <td>84.000000</td>\n",
              "      <td>115.550000</td>\n",
              "      <td>220.510000</td>\n",
              "      <td>446.00000</td>\n",
              "    </tr>\n",
              "    <tr>\n",
              "      <th>debtinc</th>\n",
              "      <td>850.0</td>\n",
              "      <td>0.0</td>\n",
              "      <td>8645.900000</td>\n",
              "      <td>10.171647</td>\n",
              "      <td>8.700000</td>\n",
              "      <td>6.719441</td>\n",
              "      <td>45.150891</td>\n",
              "      <td>0.100000</td>\n",
              "      <td>0.900000</td>\n",
              "      <td>1.900000</td>\n",
              "      <td>2.900000</td>\n",
              "      <td>5.100000</td>\n",
              "      <td>8.700000</td>\n",
              "      <td>13.800000</td>\n",
              "      <td>19.200000</td>\n",
              "      <td>23.510000</td>\n",
              "      <td>31.565000</td>\n",
              "      <td>41.30000</td>\n",
              "    </tr>\n",
              "    <tr>\n",
              "      <th>creddebt</th>\n",
              "      <td>850.0</td>\n",
              "      <td>0.0</td>\n",
              "      <td>1340.284021</td>\n",
              "      <td>1.576805</td>\n",
              "      <td>0.885091</td>\n",
              "      <td>2.125840</td>\n",
              "      <td>4.519196</td>\n",
              "      <td>0.011696</td>\n",
              "      <td>0.030349</td>\n",
              "      <td>0.108927</td>\n",
              "      <td>0.178306</td>\n",
              "      <td>0.382176</td>\n",
              "      <td>0.885091</td>\n",
              "      <td>1.898440</td>\n",
              "      <td>3.703304</td>\n",
              "      <td>5.348674</td>\n",
              "      <td>10.285997</td>\n",
              "      <td>20.56131</td>\n",
              "    </tr>\n",
              "    <tr>\n",
              "      <th>othdebt</th>\n",
              "      <td>850.0</td>\n",
              "      <td>0.0</td>\n",
              "      <td>2616.970979</td>\n",
              "      <td>3.078789</td>\n",
              "      <td>2.003243</td>\n",
              "      <td>3.398803</td>\n",
              "      <td>11.551864</td>\n",
              "      <td>0.045584</td>\n",
              "      <td>0.162394</td>\n",
              "      <td>0.359900</td>\n",
              "      <td>0.552050</td>\n",
              "      <td>1.045942</td>\n",
              "      <td>2.003243</td>\n",
              "      <td>3.903001</td>\n",
              "      <td>7.111941</td>\n",
              "      <td>9.481105</td>\n",
              "      <td>16.931503</td>\n",
              "      <td>35.19750</td>\n",
              "    </tr>\n",
              "    <tr>\n",
              "      <th>default</th>\n",
              "      <td>700.0</td>\n",
              "      <td>150.0</td>\n",
              "      <td>183.000000</td>\n",
              "      <td>0.261429</td>\n",
              "      <td>0.000000</td>\n",
              "      <td>0.439727</td>\n",
              "      <td>0.193360</td>\n",
              "      <td>0.000000</td>\n",
              "      <td>0.000000</td>\n",
              "      <td>0.000000</td>\n",
              "      <td>0.000000</td>\n",
              "      <td>0.000000</td>\n",
              "      <td>0.000000</td>\n",
              "      <td>1.000000</td>\n",
              "      <td>1.000000</td>\n",
              "      <td>1.000000</td>\n",
              "      <td>1.000000</td>\n",
              "      <td>1.00000</td>\n",
              "    </tr>\n",
              "  </tbody>\n",
              "</table>\n",
              "</div>"
            ],
            "text/plain": [
              "              N  NMISS           SUM  ...         P95         P99        MAX\n",
              "age       850.0    0.0  29775.000000  ...   49.000000   53.000000   56.00000\n",
              "ed        850.0    0.0   1454.000000  ...    4.000000    4.000000    5.00000\n",
              "employ    850.0    0.0   7281.000000  ...   21.550000   29.000000   33.00000\n",
              "address   850.0    0.0   7116.000000  ...   22.550000   26.510000   34.00000\n",
              "income    850.0    0.0  39674.000000  ...  115.550000  220.510000  446.00000\n",
              "debtinc   850.0    0.0   8645.900000  ...   23.510000   31.565000   41.30000\n",
              "creddebt  850.0    0.0   1340.284021  ...    5.348674   10.285997   20.56131\n",
              "othdebt   850.0    0.0   2616.970979  ...    9.481105   16.931503   35.19750\n",
              "default   700.0  150.0    183.000000  ...    1.000000    1.000000    1.00000\n",
              "\n",
              "[9 rows x 18 columns]"
            ]
          },
          "metadata": {
            "tags": []
          },
          "execution_count": 37
        }
      ]
    },
    {
      "cell_type": "code",
      "metadata": {
        "id": "RiQE5YREASjI",
        "colab_type": "code",
        "colab": {
          "base_uri": "https://localhost:8080/",
          "height": 204
        },
        "outputId": "a615dde9-6e7b-470e-e4f8-fdf937e6508e"
      },
      "source": [
        "df_numeric.tail(5)\n",
        "# if you observe here, some of the rows doesn't have values(NAN) for default column which is our Y-variable. \n",
        "# So we will consider these rows as new cutomer and the rows with data in 'default' column as existing customers.\n",
        "# In the next step we will create two different dataframes to store new and existing customers."
      ],
      "execution_count": 38,
      "outputs": [
        {
          "output_type": "execute_result",
          "data": {
            "text/html": [
              "<div>\n",
              "<style scoped>\n",
              "    .dataframe tbody tr th:only-of-type {\n",
              "        vertical-align: middle;\n",
              "    }\n",
              "\n",
              "    .dataframe tbody tr th {\n",
              "        vertical-align: top;\n",
              "    }\n",
              "\n",
              "    .dataframe thead th {\n",
              "        text-align: right;\n",
              "    }\n",
              "</style>\n",
              "<table border=\"1\" class=\"dataframe\">\n",
              "  <thead>\n",
              "    <tr style=\"text-align: right;\">\n",
              "      <th></th>\n",
              "      <th>age</th>\n",
              "      <th>ed</th>\n",
              "      <th>employ</th>\n",
              "      <th>address</th>\n",
              "      <th>income</th>\n",
              "      <th>debtinc</th>\n",
              "      <th>creddebt</th>\n",
              "      <th>othdebt</th>\n",
              "      <th>default</th>\n",
              "    </tr>\n",
              "  </thead>\n",
              "  <tbody>\n",
              "    <tr>\n",
              "      <th>845</th>\n",
              "      <td>34</td>\n",
              "      <td>1</td>\n",
              "      <td>12</td>\n",
              "      <td>15</td>\n",
              "      <td>32</td>\n",
              "      <td>2.7</td>\n",
              "      <td>0.239328</td>\n",
              "      <td>0.624672</td>\n",
              "      <td>NaN</td>\n",
              "    </tr>\n",
              "    <tr>\n",
              "      <th>846</th>\n",
              "      <td>32</td>\n",
              "      <td>2</td>\n",
              "      <td>12</td>\n",
              "      <td>11</td>\n",
              "      <td>116</td>\n",
              "      <td>5.7</td>\n",
              "      <td>4.026708</td>\n",
              "      <td>2.585292</td>\n",
              "      <td>NaN</td>\n",
              "    </tr>\n",
              "    <tr>\n",
              "      <th>847</th>\n",
              "      <td>48</td>\n",
              "      <td>1</td>\n",
              "      <td>13</td>\n",
              "      <td>11</td>\n",
              "      <td>38</td>\n",
              "      <td>10.8</td>\n",
              "      <td>0.722304</td>\n",
              "      <td>3.381696</td>\n",
              "      <td>NaN</td>\n",
              "    </tr>\n",
              "    <tr>\n",
              "      <th>848</th>\n",
              "      <td>35</td>\n",
              "      <td>2</td>\n",
              "      <td>1</td>\n",
              "      <td>11</td>\n",
              "      <td>24</td>\n",
              "      <td>7.8</td>\n",
              "      <td>0.417456</td>\n",
              "      <td>1.454544</td>\n",
              "      <td>NaN</td>\n",
              "    </tr>\n",
              "    <tr>\n",
              "      <th>849</th>\n",
              "      <td>37</td>\n",
              "      <td>1</td>\n",
              "      <td>20</td>\n",
              "      <td>13</td>\n",
              "      <td>41</td>\n",
              "      <td>12.9</td>\n",
              "      <td>0.899130</td>\n",
              "      <td>4.389870</td>\n",
              "      <td>NaN</td>\n",
              "    </tr>\n",
              "  </tbody>\n",
              "</table>\n",
              "</div>"
            ],
            "text/plain": [
              "     age  ed  employ  address  income  debtinc  creddebt   othdebt  default\n",
              "845   34   1      12       15      32      2.7  0.239328  0.624672      NaN\n",
              "846   32   2      12       11     116      5.7  4.026708  2.585292      NaN\n",
              "847   48   1      13       11      38     10.8  0.722304  3.381696      NaN\n",
              "848   35   2       1       11      24      7.8  0.417456  1.454544      NaN\n",
              "849   37   1      20       13      41     12.9  0.899130  4.389870      NaN"
            ]
          },
          "metadata": {
            "tags": []
          },
          "execution_count": 38
        }
      ]
    },
    {
      "cell_type": "code",
      "metadata": {
        "id": "T9fJ3WmEAyD0",
        "colab_type": "code",
        "colab": {}
      },
      "source": [
        "bankloans_existing = df_numeric[df_numeric.default.isnull()==0]\n",
        "bankloans_new = df_numeric[df_numeric.default.isnull()==1]"
      ],
      "execution_count": 0,
      "outputs": []
    },
    {
      "cell_type": "code",
      "metadata": {
        "id": "Xn2W7GD3BwSV",
        "colab_type": "code",
        "colab": {}
      },
      "source": [
        "#Handling Outliers\n",
        "def outlier_capping(x):\n",
        "    x = x.clip(upper = x.quantile(0.99))\n",
        "    x = x.clip(lower = x.quantile(0.01))\n",
        "    return x\n",
        "\n",
        "bankloans_existing=bankloans_existing.apply(lambda x: outlier_capping(x))"
      ],
      "execution_count": 0,
      "outputs": []
    },
    {
      "cell_type": "code",
      "metadata": {
        "id": "KpYTx_UdCAx8",
        "colab_type": "code",
        "colab": {
          "base_uri": "https://localhost:8080/",
          "height": 328
        },
        "outputId": "ebe09d11-4cd9-4a31-994f-20385d1724ea"
      },
      "source": [
        "# now we will check the correlation between variables\n",
        "bankloans_existing.corr()"
      ],
      "execution_count": 41,
      "outputs": [
        {
          "output_type": "execute_result",
          "data": {
            "text/html": [
              "<div>\n",
              "<style scoped>\n",
              "    .dataframe tbody tr th:only-of-type {\n",
              "        vertical-align: middle;\n",
              "    }\n",
              "\n",
              "    .dataframe tbody tr th {\n",
              "        vertical-align: top;\n",
              "    }\n",
              "\n",
              "    .dataframe thead th {\n",
              "        text-align: right;\n",
              "    }\n",
              "</style>\n",
              "<table border=\"1\" class=\"dataframe\">\n",
              "  <thead>\n",
              "    <tr style=\"text-align: right;\">\n",
              "      <th></th>\n",
              "      <th>age</th>\n",
              "      <th>ed</th>\n",
              "      <th>employ</th>\n",
              "      <th>address</th>\n",
              "      <th>income</th>\n",
              "      <th>debtinc</th>\n",
              "      <th>creddebt</th>\n",
              "      <th>othdebt</th>\n",
              "      <th>default</th>\n",
              "    </tr>\n",
              "  </thead>\n",
              "  <tbody>\n",
              "    <tr>\n",
              "      <th>age</th>\n",
              "      <td>1.000000</td>\n",
              "      <td>0.016576</td>\n",
              "      <td>0.537417</td>\n",
              "      <td>0.596973</td>\n",
              "      <td>0.521450</td>\n",
              "      <td>0.016926</td>\n",
              "      <td>0.308318</td>\n",
              "      <td>0.348911</td>\n",
              "      <td>-0.138654</td>\n",
              "    </tr>\n",
              "    <tr>\n",
              "      <th>ed</th>\n",
              "      <td>0.016576</td>\n",
              "      <td>1.000000</td>\n",
              "      <td>-0.158071</td>\n",
              "      <td>0.055560</td>\n",
              "      <td>0.225395</td>\n",
              "      <td>0.009992</td>\n",
              "      <td>0.103012</td>\n",
              "      <td>0.156523</td>\n",
              "      <td>0.118521</td>\n",
              "    </tr>\n",
              "    <tr>\n",
              "      <th>employ</th>\n",
              "      <td>0.537417</td>\n",
              "      <td>-0.158071</td>\n",
              "      <td>1.000000</td>\n",
              "      <td>0.324859</td>\n",
              "      <td>0.665369</td>\n",
              "      <td>-0.035332</td>\n",
              "      <td>0.405959</td>\n",
              "      <td>0.419337</td>\n",
              "      <td>-0.287197</td>\n",
              "    </tr>\n",
              "    <tr>\n",
              "      <th>address</th>\n",
              "      <td>0.596973</td>\n",
              "      <td>0.055560</td>\n",
              "      <td>0.324859</td>\n",
              "      <td>1.000000</td>\n",
              "      <td>0.345067</td>\n",
              "      <td>0.014967</td>\n",
              "      <td>0.215397</td>\n",
              "      <td>0.234896</td>\n",
              "      <td>-0.165389</td>\n",
              "    </tr>\n",
              "    <tr>\n",
              "      <th>income</th>\n",
              "      <td>0.521450</td>\n",
              "      <td>0.225395</td>\n",
              "      <td>0.665369</td>\n",
              "      <td>0.345067</td>\n",
              "      <td>1.000000</td>\n",
              "      <td>-0.022541</td>\n",
              "      <td>0.553114</td>\n",
              "      <td>0.626787</td>\n",
              "      <td>-0.099553</td>\n",
              "    </tr>\n",
              "    <tr>\n",
              "      <th>debtinc</th>\n",
              "      <td>0.016926</td>\n",
              "      <td>0.009992</td>\n",
              "      <td>-0.035332</td>\n",
              "      <td>0.014967</td>\n",
              "      <td>-0.022541</td>\n",
              "      <td>1.000000</td>\n",
              "      <td>0.534602</td>\n",
              "      <td>0.603630</td>\n",
              "      <td>0.388556</td>\n",
              "    </tr>\n",
              "    <tr>\n",
              "      <th>creddebt</th>\n",
              "      <td>0.308318</td>\n",
              "      <td>0.103012</td>\n",
              "      <td>0.405959</td>\n",
              "      <td>0.215397</td>\n",
              "      <td>0.553114</td>\n",
              "      <td>0.534602</td>\n",
              "      <td>1.000000</td>\n",
              "      <td>0.639984</td>\n",
              "      <td>0.238179</td>\n",
              "    </tr>\n",
              "    <tr>\n",
              "      <th>othdebt</th>\n",
              "      <td>0.348911</td>\n",
              "      <td>0.156523</td>\n",
              "      <td>0.419337</td>\n",
              "      <td>0.234896</td>\n",
              "      <td>0.626787</td>\n",
              "      <td>0.603630</td>\n",
              "      <td>0.639984</td>\n",
              "      <td>1.000000</td>\n",
              "      <td>0.138962</td>\n",
              "    </tr>\n",
              "    <tr>\n",
              "      <th>default</th>\n",
              "      <td>-0.138654</td>\n",
              "      <td>0.118521</td>\n",
              "      <td>-0.287197</td>\n",
              "      <td>-0.165389</td>\n",
              "      <td>-0.099553</td>\n",
              "      <td>0.388556</td>\n",
              "      <td>0.238179</td>\n",
              "      <td>0.138962</td>\n",
              "      <td>1.000000</td>\n",
              "    </tr>\n",
              "  </tbody>\n",
              "</table>\n",
              "</div>"
            ],
            "text/plain": [
              "               age        ed    employ  ...  creddebt   othdebt   default\n",
              "age       1.000000  0.016576  0.537417  ...  0.308318  0.348911 -0.138654\n",
              "ed        0.016576  1.000000 -0.158071  ...  0.103012  0.156523  0.118521\n",
              "employ    0.537417 -0.158071  1.000000  ...  0.405959  0.419337 -0.287197\n",
              "address   0.596973  0.055560  0.324859  ...  0.215397  0.234896 -0.165389\n",
              "income    0.521450  0.225395  0.665369  ...  0.553114  0.626787 -0.099553\n",
              "debtinc   0.016926  0.009992 -0.035332  ...  0.534602  0.603630  0.388556\n",
              "creddebt  0.308318  0.103012  0.405959  ...  1.000000  0.639984  0.238179\n",
              "othdebt   0.348911  0.156523  0.419337  ...  0.639984  1.000000  0.138962\n",
              "default  -0.138654  0.118521 -0.287197  ...  0.238179  0.138962  1.000000\n",
              "\n",
              "[9 rows x 9 columns]"
            ]
          },
          "metadata": {
            "tags": []
          },
          "execution_count": 41
        }
      ]
    },
    {
      "cell_type": "code",
      "metadata": {
        "id": "heU_4NcoCLa3",
        "colab_type": "code",
        "colab": {
          "base_uri": "https://localhost:8080/",
          "height": 477
        },
        "outputId": "fd10be4c-442d-4244-96e0-525014d7928f"
      },
      "source": [
        "# Visualize the correlation matrix using a heatmap\n",
        "sns.heatmap(bankloans_existing.corr())"
      ],
      "execution_count": 42,
      "outputs": [
        {
          "output_type": "execute_result",
          "data": {
            "text/plain": [
              "<matplotlib.axes._subplots.AxesSubplot at 0x7f59ca4b1400>"
            ]
          },
          "metadata": {
            "tags": []
          },
          "execution_count": 42
        },
        {
          "output_type": "display_data",
          "data": {
            "image/png": "[encoded data removed]",
            "text/plain": [
              "<Figure size 720x540 with 2 Axes>"
            ]
          },
          "metadata": {
            "tags": []
          }
        }
      ]
    },
    {
      "cell_type": "code",
      "metadata": {
        "id": "wt2RwbTaC2PO",
        "colab_type": "code",
        "colab": {
          "base_uri": "https://localhost:8080/",
          "height": 1000
        },
        "outputId": "0e4631c7-72a0-4e57-e154-90ee88b0b344"
      },
      "source": [
        "# Now we will use box plot to visualize each variable with respect to default column's value 0 and 1. \n",
        "# This will help us to understand if means are different for 0's and 1's. If yes then that variable is important.\n",
        "num_variable_names = [key for key in dict(bankloan_df.dtypes) if dict(bankloan_df.dtypes)[key] in ['float64', 'int64', 'float32', 'int32']]\n",
        "\n",
        "for variables in num_variable_names:\n",
        "  fig, axes = plt.subplots(figsize = (10, 4))\n",
        "  sns.boxplot(x='default', y=variables, data=bankloans_existing)\n",
        "  plt.title('Box plot of {}'.format(variables))"
      ],
      "execution_count": 48,
      "outputs": [
        {
          "output_type": "display_data",
          "data": {
            "image/png": "[encoded data removed]",
            "text/plain": [
              "<Figure size 720x288 with 1 Axes>"
            ]
          },
          "metadata": {
            "tags": []
          }
        },
        {
          "output_type": "display_data",
          "data": {
            "image/png": "[encoded data removed]",
            "text/plain": [
              "<Figure size 720x288 with 1 Axes>"
            ]
          },
          "metadata": {
            "tags": []
          }
        },
        {
          "output_type": "display_data",
          "data": {
            "image/png": "[encoded data removed]",
            "text/plain": [
              "<Figure size 720x288 with 1 Axes>"
            ]
          },
          "metadata": {
            "tags": []
          }
        },
        {
          "output_type": "display_data",
          "data": {
            "image/png": "[encoded data removed]",
            "text/plain": [
              "<Figure size 720x288 with 1 Axes>"
            ]
          },
          "metadata": {
            "tags": []
          }
        },
        {
          "output_type": "display_data",
          "data": {
            "image/png": "[encoded data removed]",
            "text/plain": [
              "<Figure size 720x288 with 1 Axes>"
            ]
          },
          "metadata": {
            "tags": []
          }
        },
        {
          "output_type": "display_data",
          "data": {
            "image/png": "[encoded data removed]",
            "text/plain": [
              "<Figure size 720x288 with 1 Axes>"
            ]
          },
          "metadata": {
            "tags": []
          }
        },
        {
          "output_type": "display_data",
          "data": {
            "image/png": "[encoded data removed]",
            "text/plain": [
              "<Figure size 720x288 with 1 Axes>"
            ]
          },
          "metadata": {
            "tags": []
          }
        },
        {
          "output_type": "display_data",
          "data": {
            "image/png": "[encoded data removed]",
            "text/plain": [
              "<Figure size 720x288 with 1 Axes>"
            ]
          },
          "metadata": {
            "tags": []
          }
        },
        {
          "output_type": "display_data",
          "data": {
            "image/png": "[encoded data removed]",
            "text/plain": [
              "<Figure size 720x288 with 1 Axes>"
            ]
          },
          "metadata": {
            "tags": []
          }
        }
      ]
    },
    {
      "cell_type": "code",
      "metadata": {
        "id": "SeE9Rj2rEdR3",
        "colab_type": "code",
        "colab": {}
      },
      "source": [
        ""
      ],
      "execution_count": 0,
      "outputs": []
    },
    {
      "cell_type": "code",
      "metadata": {
        "id": "i49Xlp_9E4d7",
        "colab_type": "code",
        "colab": {}
      },
      "source": [
        ""
      ],
      "execution_count": 0,
      "outputs": []
    }
  ]
}