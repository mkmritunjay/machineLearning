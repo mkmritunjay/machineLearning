{
  "nbformat": 4,
  "nbformat_minor": 0,
  "metadata": {
    "colab": {
      "name": "Logistic_regression.ipynb",
      "provenance": [],
      "authorship_tag": "ABX9TyNiGYeYlkeSPvK9vKd7E+4P",
      "include_colab_link": true
    },
    "kernelspec": {
      "name": "python3",
      "display_name": "Python 3"
    }
  },
  "cells": [
    {
      "cell_type": "markdown",
      "metadata": {
        "id": "view-in-github",
        "colab_type": "text"
      },
      "source": [
        "<a href=\"https://colab.research.google.com/github/mkmritunjay/machineLearning/blob/master/Logistic_regression.ipynb\" target=\"_parent\"><img src=\"https://colab.research.google.com/assets/colab-badge.svg\" alt=\"Open In Colab\"/></a>"
      ]
    },
    {
      "cell_type": "markdown",
      "metadata": {
        "id": "NlCTs4mQ7jAd",
        "colab_type": "text"
      },
      "source": [
        "#Credit Risk Analysis\n",
        "\n",
        "**Goal or objective:**\n",
        "\n",
        "We will try to predict if a customer is bad when he applies for a loan. It's also called as probability of default (PD).\n",
        "\n",
        "**Data Preprocessing:**\n",
        "\n",
        "- Missing value treatment\n",
        "- outlier treatment\n",
        "- univariate analysis\n",
        "\n",
        "###Data Exploratory Analysis:\n",
        "\n",
        "    - Bivariate Analysis - Numeric(t-test) and Categorical(Chi-square test)\n",
        "    - Bivariate Analysis - Visualization\n",
        "    - Variable Transformation - P-Value based selection\n",
        "    - Variable Transformation - Bucketing / Binning for numerical variables and Dummy for Categorical Variables\n",
        "    - Variable Reduction - IV / Somers'D\n",
        "    - Variable Reduction - Multicollinearity\n",
        "\n",
        "###Model Building and Model Diagnostics\n",
        "    - Train and Test split\n",
        "    - Significance of each Variable\n",
        "    - Gini and ROC / Concordance analysis - Rank Ordering\n",
        "    - Classification Table Analysis - Accuracy\n",
        "###Model Validation\n",
        "    - OOS validation - p-value and sign testing for the model co-efficients\n",
        "    - Diagnostics check to remain similar to Training Model build\n",
        "    - BootStrapping, if necessary\n",
        "###Model Interpretation for its properties\n",
        "    - Inferencing for finding the most important contributors\n",
        "    - Prediction of risk and proactive prevention by targeting segments of the population\n",
        "\n",
        "\n"
      ]
    },
    {
      "cell_type": "code",
      "metadata": {
        "id": "OLkDsy3T96N3",
        "colab_type": "code",
        "colab": {
          "base_uri": "https://localhost:8080/",
          "height": 34
        },
        "outputId": "ee69dc60-96a9-4295-e42d-ed100b222260"
      },
      "source": [
        "import pandas as pd\n",
        "import numpy as np\n",
        "import seaborn as sns\n",
        "import matplotlib.pyplot as plt\n",
        "\n",
        "import statsmodels.formula.api as sm\n",
        "import scipy.stats as stats\n",
        "\n",
        "%matplotlib inline\n",
        "plt.rcParams['figure.figsize'] = 10, 7.5\n",
        "plt.rcParams['axes.grid'] = True\n",
        "plt.gray()\n",
        "\n",
        "from matplotlib.backends.backend_pdf import PdfPages\n",
        "\n",
        "from sklearn.model_selection import train_test_split\n",
        "from sklearn import metrics\n",
        "from sklearn.linear_model import LogisticRegression\n",
        "from statsmodels.stats.outliers_influence import variance_inflation_factor\n",
        "from patsy import dmatrices\n",
        "\n",
        "url = 'https://raw.githubusercontent.com/mkmritunjay/machineLearning/master/bankloans.csv'"
      ],
      "execution_count": 10,
      "outputs": [
        {
          "output_type": "display_data",
          "data": {
            "text/plain": [
              "<Figure size 720x540 with 0 Axes>"
            ]
          },
          "metadata": {
            "tags": []
          }
        }
      ]
    },
    {
      "cell_type": "code",
      "metadata": {
        "id": "J4m70reo-fzk",
        "colab_type": "code",
        "colab": {
          "base_uri": "https://localhost:8080/",
          "height": 204
        },
        "outputId": "169ddc02-7cbf-4935-b06d-7cfc9d211c60"
      },
      "source": [
        "bankloan_df = pd.read_csv(url)\n",
        "bankloan_df.head()"
      ],
      "execution_count": 33,
      "outputs": [
        {
          "output_type": "execute_result",
          "data": {
            "text/html": [
              "<div>\n",
              "<style scoped>\n",
              "    .dataframe tbody tr th:only-of-type {\n",
              "        vertical-align: middle;\n",
              "    }\n",
              "\n",
              "    .dataframe tbody tr th {\n",
              "        vertical-align: top;\n",
              "    }\n",
              "\n",
              "    .dataframe thead th {\n",
              "        text-align: right;\n",
              "    }\n",
              "</style>\n",
              "<table border=\"1\" class=\"dataframe\">\n",
              "  <thead>\n",
              "    <tr style=\"text-align: right;\">\n",
              "      <th></th>\n",
              "      <th>age</th>\n",
              "      <th>ed</th>\n",
              "      <th>employ</th>\n",
              "      <th>address</th>\n",
              "      <th>income</th>\n",
              "      <th>debtinc</th>\n",
              "      <th>creddebt</th>\n",
              "      <th>othdebt</th>\n",
              "      <th>default</th>\n",
              "    </tr>\n",
              "  </thead>\n",
              "  <tbody>\n",
              "    <tr>\n",
              "      <th>0</th>\n",
              "      <td>41</td>\n",
              "      <td>3</td>\n",
              "      <td>17</td>\n",
              "      <td>12</td>\n",
              "      <td>176</td>\n",
              "      <td>9.3</td>\n",
              "      <td>11.359392</td>\n",
              "      <td>5.008608</td>\n",
              "      <td>1.0</td>\n",
              "    </tr>\n",
              "    <tr>\n",
              "      <th>1</th>\n",
              "      <td>27</td>\n",
              "      <td>1</td>\n",
              "      <td>10</td>\n",
              "      <td>6</td>\n",
              "      <td>31</td>\n",
              "      <td>17.3</td>\n",
              "      <td>1.362202</td>\n",
              "      <td>4.000798</td>\n",
              "      <td>0.0</td>\n",
              "    </tr>\n",
              "    <tr>\n",
              "      <th>2</th>\n",
              "      <td>40</td>\n",
              "      <td>1</td>\n",
              "      <td>15</td>\n",
              "      <td>14</td>\n",
              "      <td>55</td>\n",
              "      <td>5.5</td>\n",
              "      <td>0.856075</td>\n",
              "      <td>2.168925</td>\n",
              "      <td>0.0</td>\n",
              "    </tr>\n",
              "    <tr>\n",
              "      <th>3</th>\n",
              "      <td>41</td>\n",
              "      <td>1</td>\n",
              "      <td>15</td>\n",
              "      <td>14</td>\n",
              "      <td>120</td>\n",
              "      <td>2.9</td>\n",
              "      <td>2.658720</td>\n",
              "      <td>0.821280</td>\n",
              "      <td>0.0</td>\n",
              "    </tr>\n",
              "    <tr>\n",
              "      <th>4</th>\n",
              "      <td>24</td>\n",
              "      <td>2</td>\n",
              "      <td>2</td>\n",
              "      <td>0</td>\n",
              "      <td>28</td>\n",
              "      <td>17.3</td>\n",
              "      <td>1.787436</td>\n",
              "      <td>3.056564</td>\n",
              "      <td>1.0</td>\n",
              "    </tr>\n",
              "  </tbody>\n",
              "</table>\n",
              "</div>"
            ],
            "text/plain": [
              "   age  ed  employ  address  income  debtinc   creddebt   othdebt  default\n",
              "0   41   3      17       12     176      9.3  11.359392  5.008608      1.0\n",
              "1   27   1      10        6      31     17.3   1.362202  4.000798      0.0\n",
              "2   40   1      15       14      55      5.5   0.856075  2.168925      0.0\n",
              "3   41   1      15       14     120      2.9   2.658720  0.821280      0.0\n",
              "4   24   2       2        0      28     17.3   1.787436  3.056564      1.0"
            ]
          },
          "metadata": {
            "tags": []
          },
          "execution_count": 33
        }
      ]
    },
    {
      "cell_type": "code",
      "metadata": {
        "id": "niBAh0YU-xvt",
        "colab_type": "code",
        "colab": {
          "base_uri": "https://localhost:8080/",
          "height": 255
        },
        "outputId": "25aafc6a-4e4a-487b-a93c-e163866575f7"
      },
      "source": [
        "# get the high level overview of columns and their data types\n",
        "bankloan_df.info()"
      ],
      "execution_count": 34,
      "outputs": [
        {
          "output_type": "stream",
          "text": [
            "<class 'pandas.core.frame.DataFrame'>\n",
            "RangeIndex: 850 entries, 0 to 849\n",
            "Data columns (total 9 columns):\n",
            "age         850 non-null int64\n",
            "ed          850 non-null int64\n",
            "employ      850 non-null int64\n",
            "address     850 non-null int64\n",
            "income      850 non-null int64\n",
            "debtinc     850 non-null float64\n",
            "creddebt    850 non-null float64\n",
            "othdebt     850 non-null float64\n",
            "default     700 non-null float64\n",
            "dtypes: float64(4), int64(5)\n",
            "memory usage: 59.9 KB\n"
          ],
          "name": "stdout"
        }
      ]
    },
    {
      "cell_type": "code",
      "metadata": {
        "id": "Jk7phHQC-0wS",
        "colab_type": "code",
        "colab": {}
      },
      "source": [
        "# separate numerical and categorical variables(no categorical variable in this data set)\n",
        "df_numeric = bankloan_df._get_numeric_data()"
      ],
      "execution_count": 0,
      "outputs": []
    },
    {
      "cell_type": "code",
      "metadata": {
        "id": "Pp8MSDBg_6IL",
        "colab_type": "code",
        "colab": {}
      },
      "source": [
        "# create data audit report to get detailed information about data set.\n",
        "def var_summary(x):\n",
        "    return pd.Series([x.count(), x.isnull().sum(), x.sum(), x.mean(), x.median(),  x.std(), x.var(), x.min(), x.dropna().quantile(0.01), x.dropna().quantile(0.05),x.dropna().quantile(0.10),x.dropna().quantile(0.25),x.dropna().quantile(0.50),x.dropna().quantile(0.75), x.dropna().quantile(0.90),x.dropna().quantile(0.95), x.dropna().quantile(0.99),x.max()], \n",
        "                  index=['N', 'NMISS', 'SUM', 'MEAN','MEDIAN', 'STD', 'VAR', 'MIN', 'P1' , 'P5' ,'P10' ,'P25' ,'P50' ,'P75' ,'P90' ,'P95' ,'P99' ,'MAX'])\n",
        "\n",
        "num_summary=df_numeric.apply(lambda x: var_summary(x)).T"
      ],
      "execution_count": 0,
      "outputs": []
    },
    {
      "cell_type": "code",
      "metadata": {
        "id": "atEsUGk2ARLc",
        "colab_type": "code",
        "colab": {
          "base_uri": "https://localhost:8080/",
          "height": 348
        },
        "outputId": "cb8aaa2a-5ada-45ca-c99b-2a9a562eb51e"
      },
      "source": [
        "num_summary\n",
        "# as we can see below there is no missing value in the report, we dont have to treat this part."
      ],
      "execution_count": 37,
      "outputs": [
        {
          "output_type": "execute_result",
          "data": {
            "text/html": [
              "<div>\n",
              "<style scoped>\n",
              "    .dataframe tbody tr th:only-of-type {\n",
              "        vertical-align: middle;\n",
              "    }\n",
              "\n",
              "    .dataframe tbody tr th {\n",
              "        vertical-align: top;\n",
              "    }\n",
              "\n",
              "    .dataframe thead th {\n",
              "        text-align: right;\n",
              "    }\n",
              "</style>\n",
              "<table border=\"1\" class=\"dataframe\">\n",
              "  <thead>\n",
              "    <tr style=\"text-align: right;\">\n",
              "      <th></th>\n",
              "      <th>N</th>\n",
              "      <th>NMISS</th>\n",
              "      <th>SUM</th>\n",
              "      <th>MEAN</th>\n",
              "      <th>MEDIAN</th>\n",
              "      <th>STD</th>\n",
              "      <th>VAR</th>\n",
              "      <th>MIN</th>\n",
              "      <th>P1</th>\n",
              "      <th>P5</th>\n",
              "      <th>P10</th>\n",
              "      <th>P25</th>\n",
              "      <th>P50</th>\n",
              "      <th>P75</th>\n",
              "      <th>P90</th>\n",
              "      <th>P95</th>\n",
              "      <th>P99</th>\n",
              "      <th>MAX</th>\n",
              "    </tr>\n",
              "  </thead>\n",
              "  <tbody>\n",
              "    <tr>\n",
              "      <th>age</th>\n",
              "      <td>850.0</td>\n",
              "      <td>0.0</td>\n",
              "      <td>29775.000000</td>\n",
              "      <td>35.029412</td>\n",
              "      <td>34.000000</td>\n",
              "      <td>8.041432</td>\n",
              "      <td>64.664623</td>\n",
              "      <td>20.000000</td>\n",
              "      <td>21.000000</td>\n",
              "      <td>23.000000</td>\n",
              "      <td>25.000000</td>\n",
              "      <td>29.000000</td>\n",
              "      <td>34.000000</td>\n",
              "      <td>41.000000</td>\n",
              "      <td>47.000000</td>\n",
              "      <td>49.000000</td>\n",
              "      <td>53.000000</td>\n",
              "      <td>56.00000</td>\n",
              "    </tr>\n",
              "    <tr>\n",
              "      <th>ed</th>\n",
              "      <td>850.0</td>\n",
              "      <td>0.0</td>\n",
              "      <td>1454.000000</td>\n",
              "      <td>1.710588</td>\n",
              "      <td>1.000000</td>\n",
              "      <td>0.927784</td>\n",
              "      <td>0.860783</td>\n",
              "      <td>1.000000</td>\n",
              "      <td>1.000000</td>\n",
              "      <td>1.000000</td>\n",
              "      <td>1.000000</td>\n",
              "      <td>1.000000</td>\n",
              "      <td>1.000000</td>\n",
              "      <td>2.000000</td>\n",
              "      <td>3.000000</td>\n",
              "      <td>4.000000</td>\n",
              "      <td>4.000000</td>\n",
              "      <td>5.00000</td>\n",
              "    </tr>\n",
              "    <tr>\n",
              "      <th>employ</th>\n",
              "      <td>850.0</td>\n",
              "      <td>0.0</td>\n",
              "      <td>7281.000000</td>\n",
              "      <td>8.565882</td>\n",
              "      <td>7.000000</td>\n",
              "      <td>6.777884</td>\n",
              "      <td>45.939706</td>\n",
              "      <td>0.000000</td>\n",
              "      <td>0.000000</td>\n",
              "      <td>0.000000</td>\n",
              "      <td>1.000000</td>\n",
              "      <td>3.000000</td>\n",
              "      <td>7.000000</td>\n",
              "      <td>13.000000</td>\n",
              "      <td>18.000000</td>\n",
              "      <td>21.550000</td>\n",
              "      <td>29.000000</td>\n",
              "      <td>33.00000</td>\n",
              "    </tr>\n",
              "    <tr>\n",
              "      <th>address</th>\n",
              "      <td>850.0</td>\n",
              "      <td>0.0</td>\n",
              "      <td>7116.000000</td>\n",
              "      <td>8.371765</td>\n",
              "      <td>7.000000</td>\n",
              "      <td>6.895016</td>\n",
              "      <td>47.541251</td>\n",
              "      <td>0.000000</td>\n",
              "      <td>0.000000</td>\n",
              "      <td>0.000000</td>\n",
              "      <td>1.000000</td>\n",
              "      <td>3.000000</td>\n",
              "      <td>7.000000</td>\n",
              "      <td>12.000000</td>\n",
              "      <td>19.000000</td>\n",
              "      <td>22.550000</td>\n",
              "      <td>26.510000</td>\n",
              "      <td>34.00000</td>\n",
              "    </tr>\n",
              "    <tr>\n",
              "      <th>income</th>\n",
              "      <td>850.0</td>\n",
              "      <td>0.0</td>\n",
              "      <td>39674.000000</td>\n",
              "      <td>46.675294</td>\n",
              "      <td>35.000000</td>\n",
              "      <td>38.543054</td>\n",
              "      <td>1485.566998</td>\n",
              "      <td>13.000000</td>\n",
              "      <td>14.490000</td>\n",
              "      <td>17.000000</td>\n",
              "      <td>19.000000</td>\n",
              "      <td>24.000000</td>\n",
              "      <td>35.000000</td>\n",
              "      <td>55.750000</td>\n",
              "      <td>84.000000</td>\n",
              "      <td>115.550000</td>\n",
              "      <td>220.510000</td>\n",
              "      <td>446.00000</td>\n",
              "    </tr>\n",
              "    <tr>\n",
              "      <th>debtinc</th>\n",
              "      <td>850.0</td>\n",
              "      <td>0.0</td>\n",
              "      <td>8645.900000</td>\n",
              "      <td>10.171647</td>\n",
              "      <td>8.700000</td>\n",
              "      <td>6.719441</td>\n",
              "      <td>45.150891</td>\n",
              "      <td>0.100000</td>\n",
              "      <td>0.900000</td>\n",
              "      <td>1.900000</td>\n",
              "      <td>2.900000</td>\n",
              "      <td>5.100000</td>\n",
              "      <td>8.700000</td>\n",
              "      <td>13.800000</td>\n",
              "      <td>19.200000</td>\n",
              "      <td>23.510000</td>\n",
              "      <td>31.565000</td>\n",
              "      <td>41.30000</td>\n",
              "    </tr>\n",
              "    <tr>\n",
              "      <th>creddebt</th>\n",
              "      <td>850.0</td>\n",
              "      <td>0.0</td>\n",
              "      <td>1340.284021</td>\n",
              "      <td>1.576805</td>\n",
              "      <td>0.885091</td>\n",
              "      <td>2.125840</td>\n",
              "      <td>4.519196</td>\n",
              "      <td>0.011696</td>\n",
              "      <td>0.030349</td>\n",
              "      <td>0.108927</td>\n",
              "      <td>0.178306</td>\n",
              "      <td>0.382176</td>\n",
              "      <td>0.885091</td>\n",
              "      <td>1.898440</td>\n",
              "      <td>3.703304</td>\n",
              "      <td>5.348674</td>\n",
              "      <td>10.285997</td>\n",
              "      <td>20.56131</td>\n",
              "    </tr>\n",
              "    <tr>\n",
              "      <th>othdebt</th>\n",
              "      <td>850.0</td>\n",
              "      <td>0.0</td>\n",
              "      <td>2616.970979</td>\n",
              "      <td>3.078789</td>\n",
              "      <td>2.003243</td>\n",
              "      <td>3.398803</td>\n",
              "      <td>11.551864</td>\n",
              "      <td>0.045584</td>\n",
              "      <td>0.162394</td>\n",
              "      <td>0.359900</td>\n",
              "      <td>0.552050</td>\n",
              "      <td>1.045942</td>\n",
              "      <td>2.003243</td>\n",
              "      <td>3.903001</td>\n",
              "      <td>7.111941</td>\n",
              "      <td>9.481105</td>\n",
              "      <td>16.931503</td>\n",
              "      <td>35.19750</td>\n",
              "    </tr>\n",
              "    <tr>\n",
              "      <th>default</th>\n",
              "      <td>700.0</td>\n",
              "      <td>150.0</td>\n",
              "      <td>183.000000</td>\n",
              "      <td>0.261429</td>\n",
              "      <td>0.000000</td>\n",
              "      <td>0.439727</td>\n",
              "      <td>0.193360</td>\n",
              "      <td>0.000000</td>\n",
              "      <td>0.000000</td>\n",
              "      <td>0.000000</td>\n",
              "      <td>0.000000</td>\n",
              "      <td>0.000000</td>\n",
              "      <td>0.000000</td>\n",
              "      <td>1.000000</td>\n",
              "      <td>1.000000</td>\n",
              "      <td>1.000000</td>\n",
              "      <td>1.000000</td>\n",
              "      <td>1.00000</td>\n",
              "    </tr>\n",
              "  </tbody>\n",
              "</table>\n",
              "</div>"
            ],
            "text/plain": [
              "              N  NMISS           SUM  ...         P95         P99        MAX\n",
              "age       850.0    0.0  29775.000000  ...   49.000000   53.000000   56.00000\n",
              "ed        850.0    0.0   1454.000000  ...    4.000000    4.000000    5.00000\n",
              "employ    850.0    0.0   7281.000000  ...   21.550000   29.000000   33.00000\n",
              "address   850.0    0.0   7116.000000  ...   22.550000   26.510000   34.00000\n",
              "income    850.0    0.0  39674.000000  ...  115.550000  220.510000  446.00000\n",
              "debtinc   850.0    0.0   8645.900000  ...   23.510000   31.565000   41.30000\n",
              "creddebt  850.0    0.0   1340.284021  ...    5.348674   10.285997   20.56131\n",
              "othdebt   850.0    0.0   2616.970979  ...    9.481105   16.931503   35.19750\n",
              "default   700.0  150.0    183.000000  ...    1.000000    1.000000    1.00000\n",
              "\n",
              "[9 rows x 18 columns]"
            ]
          },
          "metadata": {
            "tags": []
          },
          "execution_count": 37
        }
      ]
    },
    {
      "cell_type": "code",
      "metadata": {
        "id": "RiQE5YREASjI",
        "colab_type": "code",
        "colab": {
          "base_uri": "https://localhost:8080/",
          "height": 204
        },
        "outputId": "a615dde9-6e7b-470e-e4f8-fdf937e6508e"
      },
      "source": [
        "df_numeric.tail(5)\n",
        "# if you observe here, some of the rows doesn't have values(NAN) for default column which is our Y-variable. \n",
        "# So we will consider these rows as new cutomer and the rows with data in 'default' column as existing customers.\n",
        "# In the next step we will create two different dataframes to store new and existing customers."
      ],
      "execution_count": 38,
      "outputs": [
        {
          "output_type": "execute_result",
          "data": {
            "text/html": [
              "<div>\n",
              "<style scoped>\n",
              "    .dataframe tbody tr th:only-of-type {\n",
              "        vertical-align: middle;\n",
              "    }\n",
              "\n",
              "    .dataframe tbody tr th {\n",
              "        vertical-align: top;\n",
              "    }\n",
              "\n",
              "    .dataframe thead th {\n",
              "        text-align: right;\n",
              "    }\n",
              "</style>\n",
              "<table border=\"1\" class=\"dataframe\">\n",
              "  <thead>\n",
              "    <tr style=\"text-align: right;\">\n",
              "      <th></th>\n",
              "      <th>age</th>\n",
              "      <th>ed</th>\n",
              "      <th>employ</th>\n",
              "      <th>address</th>\n",
              "      <th>income</th>\n",
              "      <th>debtinc</th>\n",
              "      <th>creddebt</th>\n",
              "      <th>othdebt</th>\n",
              "      <th>default</th>\n",
              "    </tr>\n",
              "  </thead>\n",
              "  <tbody>\n",
              "    <tr>\n",
              "      <th>845</th>\n",
              "      <td>34</td>\n",
              "      <td>1</td>\n",
              "      <td>12</td>\n",
              "      <td>15</td>\n",
              "      <td>32</td>\n",
              "      <td>2.7</td>\n",
              "      <td>0.239328</td>\n",
              "      <td>0.624672</td>\n",
              "      <td>NaN</td>\n",
              "    </tr>\n",
              "    <tr>\n",
              "      <th>846</th>\n",
              "      <td>32</td>\n",
              "      <td>2</td>\n",
              "      <td>12</td>\n",
              "      <td>11</td>\n",
              "      <td>116</td>\n",
              "      <td>5.7</td>\n",
              "      <td>4.026708</td>\n",
              "      <td>2.585292</td>\n",
              "      <td>NaN</td>\n",
              "    </tr>\n",
              "    <tr>\n",
              "      <th>847</th>\n",
              "      <td>48</td>\n",
              "      <td>1</td>\n",
              "      <td>13</td>\n",
              "      <td>11</td>\n",
              "      <td>38</td>\n",
              "      <td>10.8</td>\n",
              "      <td>0.722304</td>\n",
              "      <td>3.381696</td>\n",
              "      <td>NaN</td>\n",
              "    </tr>\n",
              "    <tr>\n",
              "      <th>848</th>\n",
              "      <td>35</td>\n",
              "      <td>2</td>\n",
              "      <td>1</td>\n",
              "      <td>11</td>\n",
              "      <td>24</td>\n",
              "      <td>7.8</td>\n",
              "      <td>0.417456</td>\n",
              "      <td>1.454544</td>\n",
              "      <td>NaN</td>\n",
              "    </tr>\n",
              "    <tr>\n",
              "      <th>849</th>\n",
              "      <td>37</td>\n",
              "      <td>1</td>\n",
              "      <td>20</td>\n",
              "      <td>13</td>\n",
              "      <td>41</td>\n",
              "      <td>12.9</td>\n",
              "      <td>0.899130</td>\n",
              "      <td>4.389870</td>\n",
              "      <td>NaN</td>\n",
              "    </tr>\n",
              "  </tbody>\n",
              "</table>\n",
              "</div>"
            ],
            "text/plain": [
              "     age  ed  employ  address  income  debtinc  creddebt   othdebt  default\n",
              "845   34   1      12       15      32      2.7  0.239328  0.624672      NaN\n",
              "846   32   2      12       11     116      5.7  4.026708  2.585292      NaN\n",
              "847   48   1      13       11      38     10.8  0.722304  3.381696      NaN\n",
              "848   35   2       1       11      24      7.8  0.417456  1.454544      NaN\n",
              "849   37   1      20       13      41     12.9  0.899130  4.389870      NaN"
            ]
          },
          "metadata": {
            "tags": []
          },
          "execution_count": 38
        }
      ]
    },
    {
      "cell_type": "code",
      "metadata": {
        "id": "T9fJ3WmEAyD0",
        "colab_type": "code",
        "colab": {}
      },
      "source": [
        "bankloans_existing = df_numeric[df_numeric.default.isnull()==0]\n",
        "bankloans_new = df_numeric[df_numeric.default.isnull()==1]"
      ],
      "execution_count": 0,
      "outputs": []
    },
    {
      "cell_type": "code",
      "metadata": {
        "id": "Xn2W7GD3BwSV",
        "colab_type": "code",
        "colab": {}
      },
      "source": [
        "#Handling Outliers\n",
        "def outlier_capping(x):\n",
        "    x = x.clip(upper = x.quantile(0.99))\n",
        "    x = x.clip(lower = x.quantile(0.01))\n",
        "    return x\n",
        "\n",
        "bankloans_existing=bankloans_existing.apply(lambda x: outlier_capping(x))"
      ],
      "execution_count": 0,
      "outputs": []
    },
    {
      "cell_type": "code",
      "metadata": {
        "id": "KpYTx_UdCAx8",
        "colab_type": "code",
        "colab": {
          "base_uri": "https://localhost:8080/",
          "height": 328
        },
        "outputId": "ebe09d11-4cd9-4a31-994f-20385d1724ea"
      },
      "source": [
        "# now we will check the correlation between variables\n",
        "bankloans_existing.corr()"
      ],
      "execution_count": 41,
      "outputs": [
        {
          "output_type": "execute_result",
          "data": {
            "text/html": [
              "<div>\n",
              "<style scoped>\n",
              "    .dataframe tbody tr th:only-of-type {\n",
              "        vertical-align: middle;\n",
              "    }\n",
              "\n",
              "    .dataframe tbody tr th {\n",
              "        vertical-align: top;\n",
              "    }\n",
              "\n",
              "    .dataframe thead th {\n",
              "        text-align: right;\n",
              "    }\n",
              "</style>\n",
              "<table border=\"1\" class=\"dataframe\">\n",
              "  <thead>\n",
              "    <tr style=\"text-align: right;\">\n",
              "      <th></th>\n",
              "      <th>age</th>\n",
              "      <th>ed</th>\n",
              "      <th>employ</th>\n",
              "      <th>address</th>\n",
              "      <th>income</th>\n",
              "      <th>debtinc</th>\n",
              "      <th>creddebt</th>\n",
              "      <th>othdebt</th>\n",
              "      <th>default</th>\n",
              "    </tr>\n",
              "  </thead>\n",
              "  <tbody>\n",
              "    <tr>\n",
              "      <th>age</th>\n",
              "      <td>1.000000</td>\n",
              "      <td>0.016576</td>\n",
              "      <td>0.537417</td>\n",
              "      <td>0.596973</td>\n",
              "      <td>0.521450</td>\n",
              "      <td>0.016926</td>\n",
              "      <td>0.308318</td>\n",
              "      <td>0.348911</td>\n",
              "      <td>-0.138654</td>\n",
              "    </tr>\n",
              "    <tr>\n",
              "      <th>ed</th>\n",
              "      <td>0.016576</td>\n",
              "      <td>1.000000</td>\n",
              "      <td>-0.158071</td>\n",
              "      <td>0.055560</td>\n",
              "      <td>0.225395</td>\n",
              "      <td>0.009992</td>\n",
              "      <td>0.103012</td>\n",
              "      <td>0.156523</td>\n",
              "      <td>0.118521</td>\n",
              "    </tr>\n",
              "    <tr>\n",
              "      <th>employ</th>\n",
              "      <td>0.537417</td>\n",
              "      <td>-0.158071</td>\n",
              "      <td>1.000000</td>\n",
              "      <td>0.324859</td>\n",
              "      <td>0.665369</td>\n",
              "      <td>-0.035332</td>\n",
              "      <td>0.405959</td>\n",
              "      <td>0.419337</td>\n",
              "      <td>-0.287197</td>\n",
              "    </tr>\n",
              "    <tr>\n",
              "      <th>address</th>\n",
              "      <td>0.596973</td>\n",
              "      <td>0.055560</td>\n",
              "      <td>0.324859</td>\n",
              "      <td>1.000000</td>\n",
              "      <td>0.345067</td>\n",
              "      <td>0.014967</td>\n",
              "      <td>0.215397</td>\n",
              "      <td>0.234896</td>\n",
              "      <td>-0.165389</td>\n",
              "    </tr>\n",
              "    <tr>\n",
              "      <th>income</th>\n",
              "      <td>0.521450</td>\n",
              "      <td>0.225395</td>\n",
              "      <td>0.665369</td>\n",
              "      <td>0.345067</td>\n",
              "      <td>1.000000</td>\n",
              "      <td>-0.022541</td>\n",
              "      <td>0.553114</td>\n",
              "      <td>0.626787</td>\n",
              "      <td>-0.099553</td>\n",
              "    </tr>\n",
              "    <tr>\n",
              "      <th>debtinc</th>\n",
              "      <td>0.016926</td>\n",
              "      <td>0.009992</td>\n",
              "      <td>-0.035332</td>\n",
              "      <td>0.014967</td>\n",
              "      <td>-0.022541</td>\n",
              "      <td>1.000000</td>\n",
              "      <td>0.534602</td>\n",
              "      <td>0.603630</td>\n",
              "      <td>0.388556</td>\n",
              "    </tr>\n",
              "    <tr>\n",
              "      <th>creddebt</th>\n",
              "      <td>0.308318</td>\n",
              "      <td>0.103012</td>\n",
              "      <td>0.405959</td>\n",
              "      <td>0.215397</td>\n",
              "      <td>0.553114</td>\n",
              "      <td>0.534602</td>\n",
              "      <td>1.000000</td>\n",
              "      <td>0.639984</td>\n",
              "      <td>0.238179</td>\n",
              "    </tr>\n",
              "    <tr>\n",
              "      <th>othdebt</th>\n",
              "      <td>0.348911</td>\n",
              "      <td>0.156523</td>\n",
              "      <td>0.419337</td>\n",
              "      <td>0.234896</td>\n",
              "      <td>0.626787</td>\n",
              "      <td>0.603630</td>\n",
              "      <td>0.639984</td>\n",
              "      <td>1.000000</td>\n",
              "      <td>0.138962</td>\n",
              "    </tr>\n",
              "    <tr>\n",
              "      <th>default</th>\n",
              "      <td>-0.138654</td>\n",
              "      <td>0.118521</td>\n",
              "      <td>-0.287197</td>\n",
              "      <td>-0.165389</td>\n",
              "      <td>-0.099553</td>\n",
              "      <td>0.388556</td>\n",
              "      <td>0.238179</td>\n",
              "      <td>0.138962</td>\n",
              "      <td>1.000000</td>\n",
              "    </tr>\n",
              "  </tbody>\n",
              "</table>\n",
              "</div>"
            ],
            "text/plain": [
              "               age        ed    employ  ...  creddebt   othdebt   default\n",
              "age       1.000000  0.016576  0.537417  ...  0.308318  0.348911 -0.138654\n",
              "ed        0.016576  1.000000 -0.158071  ...  0.103012  0.156523  0.118521\n",
              "employ    0.537417 -0.158071  1.000000  ...  0.405959  0.419337 -0.287197\n",
              "address   0.596973  0.055560  0.324859  ...  0.215397  0.234896 -0.165389\n",
              "income    0.521450  0.225395  0.665369  ...  0.553114  0.626787 -0.099553\n",
              "debtinc   0.016926  0.009992 -0.035332  ...  0.534602  0.603630  0.388556\n",
              "creddebt  0.308318  0.103012  0.405959  ...  1.000000  0.639984  0.238179\n",
              "othdebt   0.348911  0.156523  0.419337  ...  0.639984  1.000000  0.138962\n",
              "default  -0.138654  0.118521 -0.287197  ...  0.238179  0.138962  1.000000\n",
              "\n",
              "[9 rows x 9 columns]"
            ]
          },
          "metadata": {
            "tags": []
          },
          "execution_count": 41
        }
      ]
    },
    {
      "cell_type": "code",
      "metadata": {
        "id": "heU_4NcoCLa3",
        "colab_type": "code",
        "colab": {
          "base_uri": "https://localhost:8080/",
          "height": 477
        },
        "outputId": "fd10be4c-442d-4244-96e0-525014d7928f"
      },
      "source": [
        "# Visualize the correlation matrix using a heatmap\n",
        "sns.heatmap(bankloans_existing.corr())"
      ],
      "execution_count": 42,
      "outputs": [
        {
          "output_type": "execute_result",
          "data": {
            "text/plain": [
              "<matplotlib.axes._subplots.AxesSubplot at 0x7f59ca4b1400>"
            ]
          },
          "metadata": {
            "tags": []
          },
          "execution_count": 42
        },
        {
          "output_type": "display_data",
          "data": {
            "image/png": "[encoded data removed]",
            "text/plain": [
              "<Figure size 720x540 with 2 Axes>"
            ]
          },
          "metadata": {
            "tags": []
          }
        }
      ]
    },
    {
      "cell_type": "code",
      "metadata": {
        "id": "wt2RwbTaC2PO",
        "colab_type": "code",
        "colab": {
          "base_uri": "https://localhost:8080/",
          "height": 1000
        },
        "outputId": "0e4631c7-72a0-4e57-e154-90ee88b0b344"
      },
      "source": [
        "# Now we will use box plot to visualize each variable with respect to default column's value 0 and 1. \n",
        "# This will help us to understand if means are different for 0's and 1's. If yes then that variable is important.\n",
        "num_variable_names = [key for key in dict(bankloan_df.dtypes) if dict(bankloan_df.dtypes)[key] in ['float64', 'int64', 'float32', 'int32']]\n",
        "\n",
        "for variables in num_variable_names:\n",
        "  fig, axes = plt.subplots(figsize = (10, 4))\n",
        "  sns.boxplot(x='default', y=variables, data=bankloans_existing)\n",
        "  plt.title('Box plot of {}'.format(variables))"
      ],
      "execution_count": 48,
      "outputs": [
        {
          "output_type": "display_data",
          "data": {
            "image/png": "[encoded data removed]",
            "text/plain": [
              "<Figure size 720x288 with 1 Axes>"
            ]
          },
          "metadata": {
            "tags": []
          }
        },
        {
          "output_type": "display_data",
          "data": {
            "image/png": "[encoded data removed]",
            "text/plain": [
              "<Figure size 720x288 with 1 Axes>"
            ]
          },
          "metadata": {
            "tags": []
          }
        },
        {
          "output_type": "display_data",
          "data": {
            "image/png": "[encoded data removed]",
            "text/plain": [
              "<Figure size 720x288 with 1 Axes>"
            ]
          },
          "metadata": {
            "tags": []
          }
        },
        {
          "output_type": "display_data",
          "data": {
            "image/png": "[encoded data removed]",
            "text/plain": [
              "<Figure size 720x288 with 1 Axes>"
            ]
          },
          "metadata": {
            "tags": []
          }
        },
        {
          "output_type": "display_data",
          "data": {
            "image/png": "[encoded data removed]",
            "text/plain": [
              "<Figure size 720x288 with 1 Axes>"
            ]
          },
          "metadata": {
            "tags": []
          }
        },
        {
          "output_type": "display_data",
          "data": {
            "image/png": "[encoded data removed]",
            "text/plain": [
              "<Figure size 720x288 with 1 Axes>"
            ]
          },
          "metadata": {
            "tags": []
          }
        },
        {
          "output_type": "display_data",
          "data": {
            "image/png": "[encoded data removed]",
            "text/plain": [
              "<Figure size 720x288 with 1 Axes>"
            ]
          },
          "metadata": {
            "tags": []
          }
        },
        {
          "output_type": "display_data",
          "data": {
            "image/png": "[encoded data removed]",
            "text/plain": [
              "<Figure size 720x288 with 1 Axes>"
            ]
          },
          "metadata": {
            "tags": []
          }
        },
        {
          "output_type": "display_data",
          "data": {
            "image/png": "[encoded data removed]",
            "text/plain": [
              "<Figure size 720x288 with 1 Axes>"
            ]
          },
          "metadata": {
            "tags": []
          }
        }
      ]
    },
    {
      "cell_type": "markdown",
      "metadata": {
        "id": "ex8J9GLlFyFI",
        "colab_type": "text"
      },
      "source": [
        "## Data Exploratory analysis\n",
        "- Bi-variate analysis - numeric (t-test) and categorical(chi-square test)"
      ]
    },
    {
      "cell_type": "code",
      "metadata": {
        "id": "SeE9Rj2rEdR3",
        "colab_type": "code",
        "colab": {
          "base_uri": "https://localhost:8080/",
          "height": 187
        },
        "outputId": "d30fe03e-e861-47c0-bd14-d162a926341d"
      },
      "source": [
        "# numerical variable\n",
        "# here we are going to perform independent t-test between 0's and 1's of each variable.\n",
        "tstats_df = pd.DataFrame()\n",
        "for variables in num_variable_names:\n",
        "  tstats = stats.ttest_ind(bankloans_existing[bankloans_existing['default']==1][variables],bankloans_existing[bankloans_existing['default']==0][variables])\n",
        "  temp_df = pd.DataFrame([variables, tstats[0], tstats[1]]).T\n",
        "  temp_df.columns = ['Variable Name', 'T-Statistic', 'P-value']\n",
        "  tstats_df = pd.concat([tstats_df, temp_df], axis=0, ignore_index=True)\n",
        "\n",
        "print(tstats_df)\n",
        "# If we see the result below, At 95% confidence interval all the variables look significant"
      ],
      "execution_count": 51,
      "outputs": [
        {
          "output_type": "stream",
          "text": [
            "  Variable Name T-Statistic      P-value\n",
            "0           age    -3.69893  0.000233527\n",
            "1            ed     3.15351   0.00168236\n",
            "2        employ    -7.92136  9.27995e-15\n",
            "3       address    -4.43055  1.09104e-05\n",
            "4        income    -2.64329   0.00839468\n",
            "5       debtinc     11.1409  1.20241e-26\n",
            "6      creddebt     6.47909   1.7428e-10\n",
            "7       othdebt      3.7073  0.000226095\n",
            "8       default         inf            0\n"
          ],
          "name": "stdout"
        }
      ]
    },
    {
      "cell_type": "markdown",
      "metadata": {
        "id": "EXQfNDPZIImc",
        "colab_type": "text"
      },
      "source": [
        "- Variable Transformation: (i) Bucketing\n"
      ]
    },
    {
      "cell_type": "code",
      "metadata": {
        "id": "i49Xlp_9E4d7",
        "colab_type": "code",
        "colab": {
          "base_uri": "https://localhost:8080/",
          "height": 1000
        },
        "outputId": "de3472c9-fe62-403a-dde3-971658ceb34e"
      },
      "source": [
        "for variables in bankloans_existing.columns.difference(['default']):\n",
        "  # divide numerical variable to 10 bins\n",
        "  binned = pd.cut(bankloans_existing[variables], bins=10, labels=list(range(1,11)))\n",
        "  binned = binned.dropna()\n",
        "  # calculate odds ratio for each bin. \n",
        "  # taking sum() in nominator will add all 1's\n",
        "  # taking total count() and subtracting sum() of 1's will give total count of 0's.\n",
        "  # hence log(odds ratio) = p(y=1)/p(y=0)\n",
        "  oddsratio = bankloans_existing.groupby(binned)['default'].sum() / (bankloans_existing.groupby(binned)['default'].count()-bankloans_existing.groupby(binned)['default'].sum())\n",
        "  # find log of odds ratio\n",
        "  oddsratio = np.log(oddsratio)\n",
        "  fig, axes = plt.subplots(figsize=(10,4))\n",
        "  sns.barplot(x=oddsratio.index,y=oddsratio)\n",
        "  plt.ylabel('Log of Odds Ratio')\n",
        "  plt.title('Logit plot for identifying if the bucketing is required for variable: {}'.format(variables))"
      ],
      "execution_count": 54,
      "outputs": [
        {
          "output_type": "stream",
          "text": [
            "/usr/local/lib/python3.6/dist-packages/pandas/core/series.py:856: RuntimeWarning: divide by zero encountered in log\n",
            "  result = getattr(ufunc, method)(*inputs, **kwargs)\n"
          ],
          "name": "stderr"
        },
        {
          "output_type": "display_data",
          "data": {
            "image/png": "[encoded data removed]",
            "text/plain": [
              "<Figure size 720x288 with 1 Axes>"
            ]
          },
          "metadata": {
            "tags": []
          }
        },
        {
          "output_type": "display_data",
          "data": {
            "image/png": "[encoded data removed]",
            "text/plain": [
              "<Figure size 720x288 with 1 Axes>"
            ]
          },
          "metadata": {
            "tags": []
          }
        },
        {
          "output_type": "display_data",
          "data": {
            "image/png": "[encoded data removed]",
            "text/plain": [
              "<Figure size 720x288 with 1 Axes>"
            ]
          },
          "metadata": {
            "tags": []
          }
        },
        {
          "output_type": "display_data",
          "data": {
            "image/png": "[encoded data removed]",
            "text/plain": [
              "<Figure size 720x288 with 1 Axes>"
            ]
          },
          "metadata": {
            "tags": []
          }
        },
        {
          "output_type": "display_data",
          "data": {
            "image/png": "[encoded data removed]",
            "text/plain": [
              "<Figure size 720x288 with 1 Axes>"
            ]
          },
          "metadata": {
            "tags": []
          }
        },
        {
          "output_type": "display_data",
          "data": {
            "image/png": "[encoded data removed]",
            "text/plain": [
              "<Figure size 720x288 with 1 Axes>"
            ]
          },
          "metadata": {
            "tags": []
          }
        },
        {
          "output_type": "display_data",
          "data": {
            "image/png": "[encoded data removed]",
            "text/plain": [
              "<Figure size 720x288 with 1 Axes>"
            ]
          },
          "metadata": {
            "tags": []
          }
        },
        {
          "output_type": "display_data",
          "data": {
            "image/png": "[encoded data removed]",
            "text/plain": [
              "<Figure size 720x288 with 1 Axes>"
            ]
          },
          "metadata": {
            "tags": []
          }
        }
      ]
    },
    {
      "cell_type": "code",
      "metadata": {
        "id": "0DY9udOzLCAU",
        "colab_type": "code",
        "colab": {
          "base_uri": "https://localhost:8080/",
          "height": 204
        },
        "outputId": "af874e3c-f3a4-4850-c86f-5890f147fae8"
      },
      "source": [
        "# After analyzing the above bar plots we can say that below variables need bucketing\n",
        "# creditdebt, othdebt, debtinc, employ, income\n",
        "bankloans_existing[['creddebt', 'othdebt', 'debtinc', 'employ','income' ]].describe(percentiles=[0.1,0.2,0.3,0.4,0.5,0.6,0.7,0.8,0.9]).T"
      ],
      "execution_count": 55,
      "outputs": [
        {
          "output_type": "execute_result",
          "data": {
            "text/html": [
              "<div>\n",
              "<style scoped>\n",
              "    .dataframe tbody tr th:only-of-type {\n",
              "        vertical-align: middle;\n",
              "    }\n",
              "\n",
              "    .dataframe tbody tr th {\n",
              "        vertical-align: top;\n",
              "    }\n",
              "\n",
              "    .dataframe thead th {\n",
              "        text-align: right;\n",
              "    }\n",
              "</style>\n",
              "<table border=\"1\" class=\"dataframe\">\n",
              "  <thead>\n",
              "    <tr style=\"text-align: right;\">\n",
              "      <th></th>\n",
              "      <th>count</th>\n",
              "      <th>mean</th>\n",
              "      <th>std</th>\n",
              "      <th>min</th>\n",
              "      <th>10%</th>\n",
              "      <th>20%</th>\n",
              "      <th>30%</th>\n",
              "      <th>40%</th>\n",
              "      <th>50%</th>\n",
              "      <th>60%</th>\n",
              "      <th>70%</th>\n",
              "      <th>80%</th>\n",
              "      <th>90%</th>\n",
              "      <th>max</th>\n",
              "    </tr>\n",
              "  </thead>\n",
              "  <tbody>\n",
              "    <tr>\n",
              "      <th>creddebt</th>\n",
              "      <td>700.0</td>\n",
              "      <td>1.498843</td>\n",
              "      <td>1.788451</td>\n",
              "      <td>0.030209</td>\n",
              "      <td>0.170020</td>\n",
              "      <td>0.301390</td>\n",
              "      <td>0.440418</td>\n",
              "      <td>0.593059</td>\n",
              "      <td>0.854869</td>\n",
              "      <td>1.183471</td>\n",
              "      <td>1.615023</td>\n",
              "      <td>2.288026</td>\n",
              "      <td>3.621504</td>\n",
              "      <td>9.891428</td>\n",
              "    </tr>\n",
              "    <tr>\n",
              "      <th>othdebt</th>\n",
              "      <td>700.0</td>\n",
              "      <td>3.027290</td>\n",
              "      <td>3.115401</td>\n",
              "      <td>0.160936</td>\n",
              "      <td>0.562232</td>\n",
              "      <td>0.900747</td>\n",
              "      <td>1.165766</td>\n",
              "      <td>1.546101</td>\n",
              "      <td>1.987567</td>\n",
              "      <td>2.511054</td>\n",
              "      <td>3.258777</td>\n",
              "      <td>4.577926</td>\n",
              "      <td>7.036180</td>\n",
              "      <td>17.184744</td>\n",
              "    </tr>\n",
              "    <tr>\n",
              "      <th>debtinc</th>\n",
              "      <td>700.0</td>\n",
              "      <td>10.222153</td>\n",
              "      <td>6.682160</td>\n",
              "      <td>0.900000</td>\n",
              "      <td>2.900000</td>\n",
              "      <td>4.500000</td>\n",
              "      <td>5.800000</td>\n",
              "      <td>7.000000</td>\n",
              "      <td>8.600000</td>\n",
              "      <td>10.500000</td>\n",
              "      <td>12.900000</td>\n",
              "      <td>15.440000</td>\n",
              "      <td>19.610000</td>\n",
              "      <td>30.701000</td>\n",
              "    </tr>\n",
              "    <tr>\n",
              "      <th>employ</th>\n",
              "      <td>700.0</td>\n",
              "      <td>8.358671</td>\n",
              "      <td>6.566008</td>\n",
              "      <td>0.000000</td>\n",
              "      <td>1.000000</td>\n",
              "      <td>2.000000</td>\n",
              "      <td>4.000000</td>\n",
              "      <td>5.600000</td>\n",
              "      <td>7.000000</td>\n",
              "      <td>9.000000</td>\n",
              "      <td>11.000000</td>\n",
              "      <td>14.000000</td>\n",
              "      <td>18.000000</td>\n",
              "      <td>27.010000</td>\n",
              "    </tr>\n",
              "    <tr>\n",
              "      <th>income</th>\n",
              "      <td>700.0</td>\n",
              "      <td>44.848714</td>\n",
              "      <td>31.942133</td>\n",
              "      <td>15.000000</td>\n",
              "      <td>19.000000</td>\n",
              "      <td>22.000000</td>\n",
              "      <td>26.000000</td>\n",
              "      <td>29.000000</td>\n",
              "      <td>34.000000</td>\n",
              "      <td>40.400000</td>\n",
              "      <td>49.000000</td>\n",
              "      <td>61.000000</td>\n",
              "      <td>82.000000</td>\n",
              "      <td>190.300000</td>\n",
              "    </tr>\n",
              "  </tbody>\n",
              "</table>\n",
              "</div>"
            ],
            "text/plain": [
              "          count       mean        std  ...        80%        90%         max\n",
              "creddebt  700.0   1.498843   1.788451  ...   2.288026   3.621504    9.891428\n",
              "othdebt   700.0   3.027290   3.115401  ...   4.577926   7.036180   17.184744\n",
              "debtinc   700.0  10.222153   6.682160  ...  15.440000  19.610000   30.701000\n",
              "employ    700.0   8.358671   6.566008  ...  14.000000  18.000000   27.010000\n",
              "income    700.0  44.848714  31.942133  ...  61.000000  82.000000  190.300000\n",
              "\n",
              "[5 rows x 14 columns]"
            ]
          },
          "metadata": {
            "tags": []
          },
          "execution_count": 55
        }
      ]
    },
    {
      "cell_type": "code",
      "metadata": {
        "id": "0xTpIiVliDjt",
        "colab_type": "code",
        "colab": {}
      },
      "source": [
        "# will update it later\n",
        "#bucekting\n",
        "#bankloans_existing['creddebt_extreme'] = bankloans_existing['creddebt'].apply(lambda x: 0 if 162 < x < 221 else 1)\n",
        "#bankloans_existing['othdebt_extreme'] = bankloans_existing['othdebt'].apply(lambda x: 0 if 0.6 <= x < 0.84 else 1)\n",
        "#bankloans_existing['debtinc_extreme'] = bankloans_existing['debtinc'].apply(lambda x: 0 if 0.6 <= x < 0.84 else 1)\n",
        "#bankloans_existing['debtinc_extreme'].value_counts()"
      ],
      "execution_count": 0,
      "outputs": []
    },
    {
      "cell_type": "markdown",
      "metadata": {
        "id": "WnDITYTRikuI",
        "colab_type": "text"
      },
      "source": [
        " - Variable Reduction using Somers' D values"
      ]
    },
    {
      "cell_type": "code",
      "metadata": {
        "id": "vw0mVG0TijZ6",
        "colab_type": "code",
        "colab": {
          "base_uri": "https://localhost:8080/",
          "height": 425
        },
        "outputId": "1c243267-ab50-4d6c-ea2b-99133d3fc32b"
      },
      "source": [
        "# formula for Gini or somers' D is (2 * AUC - 1)\n",
        "# we will do univariate regression for each variable and calculate somers' D to check which variable is significant\n",
        "\n",
        "somersd_df = pd.DataFrame()\n",
        "for variables in bankloans_existing.columns.difference(['default']):\n",
        "  # creating the model\n",
        "  logitreg = sm.logit(formula = str('default ~ ')+str(variables), data = bankloans_existing)\n",
        "  # fit the model\n",
        "  result = logitreg.fit()\n",
        "  summary = result.summary()\n",
        "  y_score = pd.DataFrame(result.predict())\n",
        "  y_score.columns = ['Score']\n",
        "  somersd = 2*metrics.roc_auc_score(bankloans_existing['default'], y_score) - 1\n",
        "  temp_df = pd.DataFrame([variables, somersd]).T\n",
        "  temp_df.columns = ['Variable Name','Somers D']\n",
        "  somersd_df = pd.concat([somersd_df, temp_df], axis=0)"
      ],
      "execution_count": 57,
      "outputs": [
        {
          "output_type": "stream",
          "text": [
            "Optimization terminated successfully.\n",
            "         Current function value: 0.559856\n",
            "         Iterations 5\n",
            "Optimization terminated successfully.\n",
            "         Current function value: 0.564673\n",
            "         Iterations 5\n",
            "Optimization terminated successfully.\n",
            "         Current function value: 0.548956\n",
            "         Iterations 5\n",
            "Optimization terminated successfully.\n",
            "         Current function value: 0.501389\n",
            "         Iterations 6\n",
            "Optimization terminated successfully.\n",
            "         Current function value: 0.567774\n",
            "         Iterations 5\n",
            "Optimization terminated successfully.\n",
            "         Current function value: 0.527166\n",
            "         Iterations 6\n",
            "Optimization terminated successfully.\n",
            "         Current function value: 0.569055\n",
            "         Iterations 6\n",
            "Optimization terminated successfully.\n",
            "         Current function value: 0.565619\n",
            "         Iterations 5\n"
          ],
          "name": "stdout"
        }
      ]
    },
    {
      "cell_type": "code",
      "metadata": {
        "id": "NQbANTs0lVNb",
        "colab_type": "code",
        "colab": {
          "base_uri": "https://localhost:8080/",
          "height": 297
        },
        "outputId": "782c3992-6c63-4b0c-a023-156bf966f3de"
      },
      "source": [
        "somersd_df\n",
        "# we can see from below dataframe that debtinc and employ are the most important variables"
      ],
      "execution_count": 59,
      "outputs": [
        {
          "output_type": "execute_result",
          "data": {
            "text/html": [
              "<div>\n",
              "<style scoped>\n",
              "    .dataframe tbody tr th:only-of-type {\n",
              "        vertical-align: middle;\n",
              "    }\n",
              "\n",
              "    .dataframe tbody tr th {\n",
              "        vertical-align: top;\n",
              "    }\n",
              "\n",
              "    .dataframe thead th {\n",
              "        text-align: right;\n",
              "    }\n",
              "</style>\n",
              "<table border=\"1\" class=\"dataframe\">\n",
              "  <thead>\n",
              "    <tr style=\"text-align: right;\">\n",
              "      <th></th>\n",
              "      <th>Variable Name</th>\n",
              "      <th>Somers D</th>\n",
              "    </tr>\n",
              "  </thead>\n",
              "  <tbody>\n",
              "    <tr>\n",
              "      <th>0</th>\n",
              "      <td>address</td>\n",
              "      <td>0.222384</td>\n",
              "    </tr>\n",
              "    <tr>\n",
              "      <th>0</th>\n",
              "      <td>age</td>\n",
              "      <td>0.206329</td>\n",
              "    </tr>\n",
              "    <tr>\n",
              "      <th>0</th>\n",
              "      <td>creddebt</td>\n",
              "      <td>0.272378</td>\n",
              "    </tr>\n",
              "    <tr>\n",
              "      <th>0</th>\n",
              "      <td>debtinc</td>\n",
              "      <td>0.470506</td>\n",
              "    </tr>\n",
              "    <tr>\n",
              "      <th>0</th>\n",
              "      <td>ed</td>\n",
              "      <td>0.148302</td>\n",
              "    </tr>\n",
              "    <tr>\n",
              "      <th>0</th>\n",
              "      <td>employ</td>\n",
              "      <td>0.409138</td>\n",
              "    </tr>\n",
              "    <tr>\n",
              "      <th>0</th>\n",
              "      <td>income</td>\n",
              "      <td>0.200273</td>\n",
              "    </tr>\n",
              "    <tr>\n",
              "      <th>0</th>\n",
              "      <td>othdebt</td>\n",
              "      <td>0.173806</td>\n",
              "    </tr>\n",
              "  </tbody>\n",
              "</table>\n",
              "</div>"
            ],
            "text/plain": [
              "  Variable Name  Somers D\n",
              "0       address  0.222384\n",
              "0           age  0.206329\n",
              "0      creddebt  0.272378\n",
              "0       debtinc  0.470506\n",
              "0            ed  0.148302\n",
              "0        employ  0.409138\n",
              "0        income  0.200273\n",
              "0       othdebt  0.173806"
            ]
          },
          "metadata": {
            "tags": []
          },
          "execution_count": 59
        }
      ]
    },
    {
      "cell_type": "code",
      "metadata": {
        "id": "jO3u4X_AlYVL",
        "colab_type": "code",
        "colab": {
          "base_uri": "https://localhost:8080/",
          "height": 204
        },
        "outputId": "2d55c19e-268c-4331-f9b9-366b82ab77a0"
      },
      "source": [
        "# VIF (variance inflation factor) analysis to check multicollinearity among variables\n",
        "\n",
        "X = pd.concat([bankloans_existing[bankloans_existing.columns.difference(['default'])],bankloans_existing['default']], axis=1)\n",
        "features = \"+\".join(bankloans_existing.columns.difference(['default']))\n",
        "X.head()"
      ],
      "execution_count": 61,
      "outputs": [
        {
          "output_type": "execute_result",
          "data": {
            "text/html": [
              "<div>\n",
              "<style scoped>\n",
              "    .dataframe tbody tr th:only-of-type {\n",
              "        vertical-align: middle;\n",
              "    }\n",
              "\n",
              "    .dataframe tbody tr th {\n",
              "        vertical-align: top;\n",
              "    }\n",
              "\n",
              "    .dataframe thead th {\n",
              "        text-align: right;\n",
              "    }\n",
              "</style>\n",
              "<table border=\"1\" class=\"dataframe\">\n",
              "  <thead>\n",
              "    <tr style=\"text-align: right;\">\n",
              "      <th></th>\n",
              "      <th>address</th>\n",
              "      <th>age</th>\n",
              "      <th>creddebt</th>\n",
              "      <th>debtinc</th>\n",
              "      <th>ed</th>\n",
              "      <th>employ</th>\n",
              "      <th>income</th>\n",
              "      <th>othdebt</th>\n",
              "      <th>default</th>\n",
              "    </tr>\n",
              "  </thead>\n",
              "  <tbody>\n",
              "    <tr>\n",
              "      <th>0</th>\n",
              "      <td>12.0</td>\n",
              "      <td>41.0</td>\n",
              "      <td>9.891428</td>\n",
              "      <td>9.3</td>\n",
              "      <td>3</td>\n",
              "      <td>17.0</td>\n",
              "      <td>176.0</td>\n",
              "      <td>5.008608</td>\n",
              "      <td>1.0</td>\n",
              "    </tr>\n",
              "    <tr>\n",
              "      <th>1</th>\n",
              "      <td>6.0</td>\n",
              "      <td>27.0</td>\n",
              "      <td>1.362202</td>\n",
              "      <td>17.3</td>\n",
              "      <td>1</td>\n",
              "      <td>10.0</td>\n",
              "      <td>31.0</td>\n",
              "      <td>4.000798</td>\n",
              "      <td>0.0</td>\n",
              "    </tr>\n",
              "    <tr>\n",
              "      <th>2</th>\n",
              "      <td>14.0</td>\n",
              "      <td>40.0</td>\n",
              "      <td>0.856075</td>\n",
              "      <td>5.5</td>\n",
              "      <td>1</td>\n",
              "      <td>15.0</td>\n",
              "      <td>55.0</td>\n",
              "      <td>2.168925</td>\n",
              "      <td>0.0</td>\n",
              "    </tr>\n",
              "    <tr>\n",
              "      <th>3</th>\n",
              "      <td>14.0</td>\n",
              "      <td>41.0</td>\n",
              "      <td>2.658720</td>\n",
              "      <td>2.9</td>\n",
              "      <td>1</td>\n",
              "      <td>15.0</td>\n",
              "      <td>120.0</td>\n",
              "      <td>0.821280</td>\n",
              "      <td>0.0</td>\n",
              "    </tr>\n",
              "    <tr>\n",
              "      <th>4</th>\n",
              "      <td>0.0</td>\n",
              "      <td>24.0</td>\n",
              "      <td>1.787436</td>\n",
              "      <td>17.3</td>\n",
              "      <td>2</td>\n",
              "      <td>2.0</td>\n",
              "      <td>28.0</td>\n",
              "      <td>3.056564</td>\n",
              "      <td>1.0</td>\n",
              "    </tr>\n",
              "  </tbody>\n",
              "</table>\n",
              "</div>"
            ],
            "text/plain": [
              "   address   age  creddebt  debtinc  ed  employ  income   othdebt  default\n",
              "0     12.0  41.0  9.891428      9.3   3    17.0   176.0  5.008608      1.0\n",
              "1      6.0  27.0  1.362202     17.3   1    10.0    31.0  4.000798      0.0\n",
              "2     14.0  40.0  0.856075      5.5   1    15.0    55.0  2.168925      0.0\n",
              "3     14.0  41.0  2.658720      2.9   1    15.0   120.0  0.821280      0.0\n",
              "4      0.0  24.0  1.787436     17.3   2     2.0    28.0  3.056564      1.0"
            ]
          },
          "metadata": {
            "tags": []
          },
          "execution_count": 61
        }
      ]
    },
    {
      "cell_type": "code",
      "metadata": {
        "id": "l4zPFU7imimO",
        "colab_type": "code",
        "colab": {
          "base_uri": "https://localhost:8080/",
          "height": 34
        },
        "outputId": "6267a08b-b1c0-40c0-c8ec-2bd1c04d2ae9"
      },
      "source": [
        "features"
      ],
      "execution_count": 62,
      "outputs": [
        {
          "output_type": "execute_result",
          "data": {
            "text/plain": [
              "'address+age+creddebt+debtinc+ed+employ+income+othdebt'"
            ]
          },
          "metadata": {
            "tags": []
          },
          "execution_count": 62
        }
      ]
    },
    {
      "cell_type": "code",
      "metadata": {
        "id": "iV-G9uSUm4Ov",
        "colab_type": "code",
        "colab": {
          "base_uri": "https://localhost:8080/",
          "height": 170
        },
        "outputId": "1f8a5c4a-b6a3-4a9c-eae4-487373a4c0ea"
      },
      "source": [
        "a,b = dmatrices(formula_like='default ~ '+ 'address+age+creddebt+debtinc+ed+employ+othdebt', data = X, return_type='dataframe')\n",
        "\n",
        "vif = pd.DataFrame()\n",
        "vif[\"VIF Factor\"] = [variance_inflation_factor(b.values, i) for i in range(b.shape[1])]\n",
        "vif[\"features\"] = b.columns\n",
        "\n",
        "print(vif)\n",
        "# from the VIF factors we can see that creddebt, debtinc, employ, othdebt variables can be removed to avoid multicollinearity."
      ],
      "execution_count": 64,
      "outputs": [
        {
          "output_type": "stream",
          "text": [
            "   VIF Factor   features\n",
            "0   35.935809  Intercept\n",
            "1    1.561693    address\n",
            "2    1.995976        age\n",
            "3    2.076815   creddebt\n",
            "4    2.334000    debtinc\n",
            "5    1.189361         ed\n",
            "6    2.123688     employ\n",
            "7    2.720089    othdebt\n"
          ],
          "name": "stdout"
        }
      ]
    },
    {
      "cell_type": "markdown",
      "metadata": {
        "id": "hOAPFVajnYNi",
        "colab_type": "text"
      },
      "source": [
        "## Train and Test split for model building"
      ]
    },
    {
      "cell_type": "code",
      "metadata": {
        "id": "fmPzfK_2m9wd",
        "colab_type": "code",
        "colab": {
          "base_uri": "https://localhost:8080/",
          "height": 119
        },
        "outputId": "e016c321-d365-4af3-99ab-7a03c48b8b27"
      },
      "source": [
        "train_features = X.columns.difference(['default'])\n",
        "train_X, test_X = train_test_split(X, test_size=0.3, random_state=42)\n",
        "print(train_X.columns)\n",
        "print(test_X.columns)"
      ],
      "execution_count": 66,
      "outputs": [
        {
          "output_type": "stream",
          "text": [
            "Index(['address', 'age', 'creddebt', 'debtinc', 'ed', 'employ', 'income',\n",
            "       'othdebt', 'default'],\n",
            "      dtype='object')\n",
            "Index(['address', 'age', 'creddebt', 'debtinc', 'ed', 'employ', 'income',\n",
            "       'othdebt', 'default'],\n",
            "      dtype='object')\n"
          ],
          "name": "stdout"
        }
      ]
    },
    {
      "cell_type": "code",
      "metadata": {
        "id": "en97Y3c2n0od",
        "colab_type": "code",
        "colab": {
          "base_uri": "https://localhost:8080/",
          "height": 450
        },
        "outputId": "9726a834-ff84-4b87-a2c6-241e3e68af57"
      },
      "source": [
        "# building the model\n",
        "\n",
        "logreg = sm.logit(formula='default ~ '+ \"+\".join(train_features), data = train_X)\n",
        "result = logreg.fit()\n",
        "\n",
        "result.summary2()\n",
        "# we will look for variables with high p-values in summary and try to eliminate them and build the model again"
      ],
      "execution_count": 69,
      "outputs": [
        {
          "output_type": "stream",
          "text": [
            "Optimization terminated successfully.\n",
            "         Current function value: 0.425391\n",
            "         Iterations 7\n"
          ],
          "name": "stdout"
        },
        {
          "output_type": "execute_result",
          "data": {
            "text/html": [
              "<table class=\"simpletable\">\n",
              "<tr>\n",
              "        <td>Model:</td>              <td>Logit</td>      <td>Pseudo R-squared:</td>    <td>0.275</td>  \n",
              "</tr>\n",
              "<tr>\n",
              "  <td>Dependent Variable:</td>      <td>default</td>           <td>AIC:</td>         <td>434.8834</td> \n",
              "</tr>\n",
              "<tr>\n",
              "         <td>Date:</td>        <td>2020-01-11 08:07</td>       <td>BIC:</td>         <td>472.6330</td> \n",
              "</tr>\n",
              "<tr>\n",
              "   <td>No. Observations:</td>         <td>490</td>        <td>Log-Likelihood:</td>    <td>-208.44</td> \n",
              "</tr>\n",
              "<tr>\n",
              "       <td>Df Model:</td>              <td>8</td>            <td>LL-Null:</td>        <td>-287.47</td> \n",
              "</tr>\n",
              "<tr>\n",
              "     <td>Df Residuals:</td>           <td>481</td>         <td>LLR p-value:</td>    <td>4.0651e-30</td>\n",
              "</tr>\n",
              "<tr>\n",
              "      <td>Converged:</td>           <td>1.0000</td>           <td>Scale:</td>         <td>1.0000</td>  \n",
              "</tr>\n",
              "<tr>\n",
              "    <td>No. Iterations:</td>        <td>7.0000</td>              <td></td>               <td></td>     \n",
              "</tr>\n",
              "</table>\n",
              "<table class=\"simpletable\">\n",
              "<tr>\n",
              "      <td></td>       <th>Coef.</th>  <th>Std.Err.</th>    <th>z</th>     <th>P>|z|</th> <th>[0.025</th>  <th>0.975]</th> \n",
              "</tr>\n",
              "<tr>\n",
              "  <th>Intercept</th> <td>-1.3844</td>  <td>0.7360</td>  <td>-1.8808</td> <td>0.0600</td> <td>-2.8270</td> <td>0.0582</td> \n",
              "</tr>\n",
              "<tr>\n",
              "  <th>address</th>   <td>-0.0853</td>  <td>0.0258</td>  <td>-3.3063</td> <td>0.0009</td> <td>-0.1359</td> <td>-0.0348</td>\n",
              "</tr>\n",
              "<tr>\n",
              "  <th>age</th>       <td>0.0389</td>   <td>0.0202</td>  <td>1.9237</td>  <td>0.0544</td> <td>-0.0007</td> <td>0.0784</td> \n",
              "</tr>\n",
              "<tr>\n",
              "  <th>creddebt</th>  <td>0.6410</td>   <td>0.1385</td>  <td>4.6279</td>  <td>0.0000</td> <td>0.3695</td>  <td>0.9125</td> \n",
              "</tr>\n",
              "<tr>\n",
              "  <th>debtinc</th>   <td>0.0353</td>   <td>0.0390</td>  <td>0.9067</td>  <td>0.3646</td> <td>-0.0411</td> <td>0.1117</td> \n",
              "</tr>\n",
              "<tr>\n",
              "  <th>ed</th>        <td>0.0080</td>   <td>0.1423</td>  <td>0.0563</td>  <td>0.9551</td> <td>-0.2709</td> <td>0.2870</td> \n",
              "</tr>\n",
              "<tr>\n",
              "  <th>employ</th>    <td>-0.2650</td>  <td>0.0399</td>  <td>-6.6413</td> <td>0.0000</td> <td>-0.3432</td> <td>-0.1868</td>\n",
              "</tr>\n",
              "<tr>\n",
              "  <th>income</th>    <td>-0.0089</td>  <td>0.0123</td>  <td>-0.7215</td> <td>0.4706</td> <td>-0.0329</td> <td>0.0152</td> \n",
              "</tr>\n",
              "<tr>\n",
              "  <th>othdebt</th>   <td>0.1249</td>   <td>0.1019</td>  <td>1.2259</td>  <td>0.2202</td> <td>-0.0748</td> <td>0.3246</td> \n",
              "</tr>\n",
              "</table>"
            ],
            "text/plain": [
              "<class 'statsmodels.iolib.summary2.Summary'>\n",
              "\"\"\"\n",
              "                         Results: Logit\n",
              "=================================================================\n",
              "Model:              Logit            Pseudo R-squared: 0.275     \n",
              "Dependent Variable: default          AIC:              434.8834  \n",
              "Date:               2020-01-11 08:07 BIC:              472.6330  \n",
              "No. Observations:   490              Log-Likelihood:   -208.44   \n",
              "Df Model:           8                LL-Null:          -287.47   \n",
              "Df Residuals:       481              LLR p-value:      4.0651e-30\n",
              "Converged:          1.0000           Scale:            1.0000    \n",
              "No. Iterations:     7.0000                                       \n",
              "------------------------------------------------------------------\n",
              "               Coef.   Std.Err.     z     P>|z|    [0.025   0.975]\n",
              "------------------------------------------------------------------\n",
              "Intercept     -1.3844    0.7360  -1.8808  0.0600  -2.8270   0.0582\n",
              "address       -0.0853    0.0258  -3.3063  0.0009  -0.1359  -0.0348\n",
              "age            0.0389    0.0202   1.9237  0.0544  -0.0007   0.0784\n",
              "creddebt       0.6410    0.1385   4.6279  0.0000   0.3695   0.9125\n",
              "debtinc        0.0353    0.0390   0.9067  0.3646  -0.0411   0.1117\n",
              "ed             0.0080    0.1423   0.0563  0.9551  -0.2709   0.2870\n",
              "employ        -0.2650    0.0399  -6.6413  0.0000  -0.3432  -0.1868\n",
              "income        -0.0089    0.0123  -0.7215  0.4706  -0.0329   0.0152\n",
              "othdebt        0.1249    0.1019   1.2259  0.2202  -0.0748   0.3246\n",
              "=================================================================\n",
              "\n",
              "\"\"\""
            ]
          },
          "metadata": {
            "tags": []
          },
          "execution_count": 69
        }
      ]
    },
    {
      "cell_type": "code",
      "metadata": {
        "id": "HCnRrydRoVgg",
        "colab_type": "code",
        "colab": {
          "base_uri": "https://localhost:8080/",
          "height": 366
        },
        "outputId": "a817b50b-625f-4c54-d893-4eb8afe8424a"
      },
      "source": [
        "logreg = sm.logit(formula='default ~ address+debtinc+employ+othdebt' , data=train_X)\n",
        "result = logreg.fit()\n",
        "\n",
        "result.summary2()\n",
        "# looking at the summary we can create mathematical equation using intercept and coef. Equation is given below:\n",
        "# L = -0.0446*address + 0.0933*debtinc - 0.1667*employ + 0.1556*othdebt - 1.0362\n",
        "# P(Y=1) = exp(L)/1+exp(L) we can either use this formula or use predict() method\n"
      ],
      "execution_count": 71,
      "outputs": [
        {
          "output_type": "stream",
          "text": [
            "Optimization terminated successfully.\n",
            "         Current function value: 0.464656\n",
            "         Iterations 7\n"
          ],
          "name": "stdout"
        },
        {
          "output_type": "execute_result",
          "data": {
            "text/html": [
              "<table class=\"simpletable\">\n",
              "<tr>\n",
              "        <td>Model:</td>              <td>Logit</td>      <td>Pseudo R-squared:</td>    <td>0.208</td>  \n",
              "</tr>\n",
              "<tr>\n",
              "  <td>Dependent Variable:</td>      <td>default</td>           <td>AIC:</td>         <td>465.3627</td> \n",
              "</tr>\n",
              "<tr>\n",
              "         <td>Date:</td>        <td>2020-01-11 08:07</td>       <td>BIC:</td>         <td>486.3347</td> \n",
              "</tr>\n",
              "<tr>\n",
              "   <td>No. Observations:</td>         <td>490</td>        <td>Log-Likelihood:</td>    <td>-227.68</td> \n",
              "</tr>\n",
              "<tr>\n",
              "       <td>Df Model:</td>              <td>4</td>            <td>LL-Null:</td>        <td>-287.47</td> \n",
              "</tr>\n",
              "<tr>\n",
              "     <td>Df Residuals:</td>           <td>485</td>         <td>LLR p-value:</td>    <td>6.5579e-25</td>\n",
              "</tr>\n",
              "<tr>\n",
              "      <td>Converged:</td>           <td>1.0000</td>           <td>Scale:</td>         <td>1.0000</td>  \n",
              "</tr>\n",
              "<tr>\n",
              "    <td>No. Iterations:</td>        <td>7.0000</td>              <td></td>               <td></td>     \n",
              "</tr>\n",
              "</table>\n",
              "<table class=\"simpletable\">\n",
              "<tr>\n",
              "      <td></td>       <th>Coef.</th>  <th>Std.Err.</th>    <th>z</th>     <th>P>|z|</th> <th>[0.025</th>  <th>0.975]</th> \n",
              "</tr>\n",
              "<tr>\n",
              "  <th>Intercept</th> <td>-1.0362</td>  <td>0.2870</td>  <td>-3.6107</td> <td>0.0003</td> <td>-1.5987</td> <td>-0.4737</td>\n",
              "</tr>\n",
              "<tr>\n",
              "  <th>address</th>   <td>-0.0446</td>  <td>0.0199</td>  <td>-2.2350</td> <td>0.0254</td> <td>-0.0836</td> <td>-0.0055</td>\n",
              "</tr>\n",
              "<tr>\n",
              "  <th>debtinc</th>   <td>0.0933</td>   <td>0.0230</td>  <td>4.0595</td>  <td>0.0000</td> <td>0.0483</td>  <td>0.1383</td> \n",
              "</tr>\n",
              "<tr>\n",
              "  <th>employ</th>    <td>-0.1667</td>  <td>0.0279</td>  <td>-5.9725</td> <td>0.0000</td> <td>-0.2214</td> <td>-0.1120</td>\n",
              "</tr>\n",
              "<tr>\n",
              "  <th>othdebt</th>   <td>0.1556</td>   <td>0.0594</td>  <td>2.6175</td>  <td>0.0089</td> <td>0.0391</td>  <td>0.2721</td> \n",
              "</tr>\n",
              "</table>"
            ],
            "text/plain": [
              "<class 'statsmodels.iolib.summary2.Summary'>\n",
              "\"\"\"\n",
              "                         Results: Logit\n",
              "=================================================================\n",
              "Model:              Logit            Pseudo R-squared: 0.208     \n",
              "Dependent Variable: default          AIC:              465.3627  \n",
              "Date:               2020-01-11 08:07 BIC:              486.3347  \n",
              "No. Observations:   490              Log-Likelihood:   -227.68   \n",
              "Df Model:           4                LL-Null:          -287.47   \n",
              "Df Residuals:       485              LLR p-value:      6.5579e-25\n",
              "Converged:          1.0000           Scale:            1.0000    \n",
              "No. Iterations:     7.0000                                       \n",
              "------------------------------------------------------------------\n",
              "               Coef.   Std.Err.     z     P>|z|    [0.025   0.975]\n",
              "------------------------------------------------------------------\n",
              "Intercept     -1.0362    0.2870  -3.6107  0.0003  -1.5987  -0.4737\n",
              "address       -0.0446    0.0199  -2.2350  0.0254  -0.0836  -0.0055\n",
              "debtinc        0.0933    0.0230   4.0595  0.0000   0.0483   0.1383\n",
              "employ        -0.1667    0.0279  -5.9725  0.0000  -0.2214  -0.1120\n",
              "othdebt        0.1556    0.0594   2.6175  0.0089   0.0391   0.2721\n",
              "=================================================================\n",
              "\n",
              "\"\"\""
            ]
          },
          "metadata": {
            "tags": []
          },
          "execution_count": 71
        }
      ]
    },
    {
      "cell_type": "code",
      "metadata": {
        "id": "wsQ-kdS-pMpz",
        "colab_type": "code",
        "colab": {
          "base_uri": "https://localhost:8080/",
          "height": 51
        },
        "outputId": "bc9a80ca-24f3-4a09-dc44-b8d77dffb473"
      },
      "source": [
        "# compare gini or somers'D for train and test data\n",
        "train_gini = 2*metrics.roc_auc_score(train_X['default'], result.predict()) - 1\n",
        "print(\"The Gini Index for the model built on the Train Data is : \", train_gini)\n",
        "\n",
        "test_gini = 2*metrics.roc_auc_score(test_X['default'], result.predict(test_X)) - 1\n",
        "print(\"The Gini Index for the model built on the Test Data is : \", test_gini)\n",
        "# looking at gini index it appears that model was underfitted since train score is lower than test score. We should always take care of underfitting \n",
        "# and overfitting issues."
      ],
      "execution_count": 72,
      "outputs": [
        {
          "output_type": "stream",
          "text": [
            "The Gini Index for the model built on the Train Data is :  0.6004947174241153\n",
            "The Gini Index for the model built on the Test Data is :  0.701863354037267\n"
          ],
          "name": "stdout"
        }
      ]
    },
    {
      "cell_type": "markdown",
      "metadata": {
        "id": "BMazUeDUrUy5",
        "colab_type": "text"
      },
      "source": [
        "## Finding cut off\n",
        "\n",
        "Now we can compare actual value of 'default' column (Y-variable) and the probability calculated using predict() method and then come up with a cut-off value."
      ]
    },
    {
      "cell_type": "code",
      "metadata": {
        "id": "V2bl_mGVpvgq",
        "colab_type": "code",
        "colab": {
          "base_uri": "https://localhost:8080/",
          "height": 204
        },
        "outputId": "a28a5c40-e0ea-4952-f881-8da4c8cbf5f7"
      },
      "source": [
        "# Training data\n",
        "# finding probability and comparing with actual Y-variable\n",
        "train_predicted_prob = pd.DataFrame(result.predict(train_X))\n",
        "train_predicted_prob.columns = ['prob']\n",
        "train_actual = train_X['default']\n",
        "# making a DataFrame with actual and prob columns\n",
        "train_predict = pd.concat([train_actual, train_predicted_prob], axis=1)\n",
        "train_predict.columns = ['actual','prob']\n",
        "train_predict.head()"
      ],
      "execution_count": 74,
      "outputs": [
        {
          "output_type": "execute_result",
          "data": {
            "text/html": [
              "<div>\n",
              "<style scoped>\n",
              "    .dataframe tbody tr th:only-of-type {\n",
              "        vertical-align: middle;\n",
              "    }\n",
              "\n",
              "    .dataframe tbody tr th {\n",
              "        vertical-align: top;\n",
              "    }\n",
              "\n",
              "    .dataframe thead th {\n",
              "        text-align: right;\n",
              "    }\n",
              "</style>\n",
              "<table border=\"1\" class=\"dataframe\">\n",
              "  <thead>\n",
              "    <tr style=\"text-align: right;\">\n",
              "      <th></th>\n",
              "      <th>actual</th>\n",
              "      <th>prob</th>\n",
              "    </tr>\n",
              "  </thead>\n",
              "  <tbody>\n",
              "    <tr>\n",
              "      <th>357</th>\n",
              "      <td>1.0</td>\n",
              "      <td>0.668742</td>\n",
              "    </tr>\n",
              "    <tr>\n",
              "      <th>649</th>\n",
              "      <td>0.0</td>\n",
              "      <td>0.511699</td>\n",
              "    </tr>\n",
              "    <tr>\n",
              "      <th>291</th>\n",
              "      <td>0.0</td>\n",
              "      <td>0.101246</td>\n",
              "    </tr>\n",
              "    <tr>\n",
              "      <th>420</th>\n",
              "      <td>1.0</td>\n",
              "      <td>0.444934</td>\n",
              "    </tr>\n",
              "    <tr>\n",
              "      <th>177</th>\n",
              "      <td>0.0</td>\n",
              "      <td>0.209997</td>\n",
              "    </tr>\n",
              "  </tbody>\n",
              "</table>\n",
              "</div>"
            ],
            "text/plain": [
              "     actual      prob\n",
              "357     1.0  0.668742\n",
              "649     0.0  0.511699\n",
              "291     0.0  0.101246\n",
              "420     1.0  0.444934\n",
              "177     0.0  0.209997"
            ]
          },
          "metadata": {
            "tags": []
          },
          "execution_count": 74
        }
      ]
    },
    {
      "cell_type": "code",
      "metadata": {
        "id": "LVA9oSjDsI3u",
        "colab_type": "code",
        "colab": {
          "base_uri": "https://localhost:8080/",
          "height": 204
        },
        "outputId": "dacd7a95-b70f-4a05-9389-f03c06e561f6"
      },
      "source": [
        "# Testing data\n",
        "# finding probability and comparing with actual Y-variable\n",
        "test_predicted_prob = pd.DataFrame(result.predict(test_X))\n",
        "test_predicted_prob.columns = ['prob']\n",
        "test_actual = test_X['default']\n",
        "# making a DataFrame with actual and prob columns\n",
        "test_predict = pd.concat([test_actual, test_predicted_prob], axis=1)\n",
        "test_predict.columns = ['actual','prob']\n",
        "test_predict.head()"
      ],
      "execution_count": 75,
      "outputs": [
        {
          "output_type": "execute_result",
          "data": {
            "text/html": [
              "<div>\n",
              "<style scoped>\n",
              "    .dataframe tbody tr th:only-of-type {\n",
              "        vertical-align: middle;\n",
              "    }\n",
              "\n",
              "    .dataframe tbody tr th {\n",
              "        vertical-align: top;\n",
              "    }\n",
              "\n",
              "    .dataframe thead th {\n",
              "        text-align: right;\n",
              "    }\n",
              "</style>\n",
              "<table border=\"1\" class=\"dataframe\">\n",
              "  <thead>\n",
              "    <tr style=\"text-align: right;\">\n",
              "      <th></th>\n",
              "      <th>actual</th>\n",
              "      <th>prob</th>\n",
              "    </tr>\n",
              "  </thead>\n",
              "  <tbody>\n",
              "    <tr>\n",
              "      <th>158</th>\n",
              "      <td>1.0</td>\n",
              "      <td>0.266069</td>\n",
              "    </tr>\n",
              "    <tr>\n",
              "      <th>500</th>\n",
              "      <td>0.0</td>\n",
              "      <td>0.444936</td>\n",
              "    </tr>\n",
              "    <tr>\n",
              "      <th>396</th>\n",
              "      <td>0.0</td>\n",
              "      <td>0.171193</td>\n",
              "    </tr>\n",
              "    <tr>\n",
              "      <th>155</th>\n",
              "      <td>0.0</td>\n",
              "      <td>0.306464</td>\n",
              "    </tr>\n",
              "    <tr>\n",
              "      <th>321</th>\n",
              "      <td>1.0</td>\n",
              "      <td>0.509099</td>\n",
              "    </tr>\n",
              "  </tbody>\n",
              "</table>\n",
              "</div>"
            ],
            "text/plain": [
              "     actual      prob\n",
              "158     1.0  0.266069\n",
              "500     0.0  0.444936\n",
              "396     0.0  0.171193\n",
              "155     0.0  0.306464\n",
              "321     1.0  0.509099"
            ]
          },
          "metadata": {
            "tags": []
          },
          "execution_count": 75
        }
      ]
    },
    {
      "cell_type": "code",
      "metadata": {
        "id": "EcMRsOmYsTof",
        "colab_type": "code",
        "colab": {}
      },
      "source": [
        "# now we will find out sensitivity, specificity, FPR to decide the best cut-off value\n",
        "roc_like_df = pd.DataFrame()\n",
        "train_temp = train_predict.copy()\n",
        "\n",
        "for cut_off in np.linspace(0,1,50):\n",
        "    train_temp['cut_off'] = cut_off\n",
        "    train_temp['predicted'] = train_temp['prob'].apply(lambda x: 0.0 if x < cut_off else 1.0)\n",
        "    train_temp['tp'] = train_temp.apply(lambda x: 1.0 if x['actual']==1.0 and x['predicted']==1 else 0.0, axis=1)\n",
        "    train_temp['fp'] = train_temp.apply(lambda x: 1.0 if x['actual']==0.0 and x['predicted']==1 else 0.0, axis=1)\n",
        "    train_temp['tn'] = train_temp.apply(lambda x: 1.0 if x['actual']==0.0 and x['predicted']==0 else 0.0, axis=1)\n",
        "    train_temp['fn'] = train_temp.apply(lambda x: 1.0 if x['actual']==1.0 and x['predicted']==0 else 0.0, axis=1)\n",
        "    sensitivity = train_temp['tp'].sum() / (train_temp['tp'].sum() + train_temp['fn'].sum())\n",
        "    specificity = train_temp['tn'].sum() / (train_temp['tn'].sum() + train_temp['fp'].sum())\n",
        "    roc_like_table = pd.DataFrame([cut_off, sensitivity, specificity]).T\n",
        "    roc_like_table.columns = ['cutoff', 'sensitivity', 'specificity']\n",
        "    roc_like_df = pd.concat([roc_like_df, roc_like_table], axis=0)\n"
      ],
      "execution_count": 0,
      "outputs": []
    },
    {
      "cell_type": "code",
      "metadata": {
        "id": "lgp-Zg6ovjkA",
        "colab_type": "code",
        "colab": {
          "base_uri": "https://localhost:8080/",
          "height": 1000
        },
        "outputId": "f1925b43-fcec-46b1-c355-a6bcdfbf5184"
      },
      "source": [
        "roc_like_df"
      ],
      "execution_count": 81,
      "outputs": [
        {
          "output_type": "execute_result",
          "data": {
            "text/html": [
              "<div>\n",
              "<style scoped>\n",
              "    .dataframe tbody tr th:only-of-type {\n",
              "        vertical-align: middle;\n",
              "    }\n",
              "\n",
              "    .dataframe tbody tr th {\n",
              "        vertical-align: top;\n",
              "    }\n",
              "\n",
              "    .dataframe thead th {\n",
              "        text-align: right;\n",
              "    }\n",
              "</style>\n",
              "<table border=\"1\" class=\"dataframe\">\n",
              "  <thead>\n",
              "    <tr style=\"text-align: right;\">\n",
              "      <th></th>\n",
              "      <th>cutoff</th>\n",
              "      <th>sensitivity</th>\n",
              "      <th>specificity</th>\n",
              "    </tr>\n",
              "  </thead>\n",
              "  <tbody>\n",
              "    <tr>\n",
              "      <th>0</th>\n",
              "      <td>0.000000</td>\n",
              "      <td>1.000000</td>\n",
              "      <td>0.000000</td>\n",
              "    </tr>\n",
              "    <tr>\n",
              "      <th>0</th>\n",
              "      <td>0.020408</td>\n",
              "      <td>1.000000</td>\n",
              "      <td>0.084270</td>\n",
              "    </tr>\n",
              "    <tr>\n",
              "      <th>0</th>\n",
              "      <td>0.040816</td>\n",
              "      <td>0.992537</td>\n",
              "      <td>0.174157</td>\n",
              "    </tr>\n",
              "    <tr>\n",
              "      <th>0</th>\n",
              "      <td>0.061224</td>\n",
              "      <td>0.977612</td>\n",
              "      <td>0.221910</td>\n",
              "    </tr>\n",
              "    <tr>\n",
              "      <th>0</th>\n",
              "      <td>0.081633</td>\n",
              "      <td>0.970149</td>\n",
              "      <td>0.286517</td>\n",
              "    </tr>\n",
              "    <tr>\n",
              "      <th>0</th>\n",
              "      <td>0.102041</td>\n",
              "      <td>0.955224</td>\n",
              "      <td>0.356742</td>\n",
              "    </tr>\n",
              "    <tr>\n",
              "      <th>0</th>\n",
              "      <td>0.122449</td>\n",
              "      <td>0.925373</td>\n",
              "      <td>0.421348</td>\n",
              "    </tr>\n",
              "    <tr>\n",
              "      <th>0</th>\n",
              "      <td>0.142857</td>\n",
              "      <td>0.917910</td>\n",
              "      <td>0.471910</td>\n",
              "    </tr>\n",
              "    <tr>\n",
              "      <th>0</th>\n",
              "      <td>0.163265</td>\n",
              "      <td>0.902985</td>\n",
              "      <td>0.497191</td>\n",
              "    </tr>\n",
              "    <tr>\n",
              "      <th>0</th>\n",
              "      <td>0.183673</td>\n",
              "      <td>0.880597</td>\n",
              "      <td>0.544944</td>\n",
              "    </tr>\n",
              "    <tr>\n",
              "      <th>0</th>\n",
              "      <td>0.204082</td>\n",
              "      <td>0.850746</td>\n",
              "      <td>0.595506</td>\n",
              "    </tr>\n",
              "    <tr>\n",
              "      <th>0</th>\n",
              "      <td>0.224490</td>\n",
              "      <td>0.820896</td>\n",
              "      <td>0.626404</td>\n",
              "    </tr>\n",
              "    <tr>\n",
              "      <th>0</th>\n",
              "      <td>0.244898</td>\n",
              "      <td>0.791045</td>\n",
              "      <td>0.651685</td>\n",
              "    </tr>\n",
              "    <tr>\n",
              "      <th>0</th>\n",
              "      <td>0.265306</td>\n",
              "      <td>0.753731</td>\n",
              "      <td>0.679775</td>\n",
              "    </tr>\n",
              "    <tr>\n",
              "      <th>0</th>\n",
              "      <td>0.285714</td>\n",
              "      <td>0.753731</td>\n",
              "      <td>0.705056</td>\n",
              "    </tr>\n",
              "    <tr>\n",
              "      <th>0</th>\n",
              "      <td>0.306122</td>\n",
              "      <td>0.701493</td>\n",
              "      <td>0.716292</td>\n",
              "    </tr>\n",
              "    <tr>\n",
              "      <th>0</th>\n",
              "      <td>0.326531</td>\n",
              "      <td>0.686567</td>\n",
              "      <td>0.747191</td>\n",
              "    </tr>\n",
              "    <tr>\n",
              "      <th>0</th>\n",
              "      <td>0.346939</td>\n",
              "      <td>0.656716</td>\n",
              "      <td>0.775281</td>\n",
              "    </tr>\n",
              "    <tr>\n",
              "      <th>0</th>\n",
              "      <td>0.367347</td>\n",
              "      <td>0.611940</td>\n",
              "      <td>0.800562</td>\n",
              "    </tr>\n",
              "    <tr>\n",
              "      <th>0</th>\n",
              "      <td>0.387755</td>\n",
              "      <td>0.582090</td>\n",
              "      <td>0.828652</td>\n",
              "    </tr>\n",
              "    <tr>\n",
              "      <th>0</th>\n",
              "      <td>0.408163</td>\n",
              "      <td>0.552239</td>\n",
              "      <td>0.851124</td>\n",
              "    </tr>\n",
              "    <tr>\n",
              "      <th>0</th>\n",
              "      <td>0.428571</td>\n",
              "      <td>0.507463</td>\n",
              "      <td>0.879213</td>\n",
              "    </tr>\n",
              "    <tr>\n",
              "      <th>0</th>\n",
              "      <td>0.448980</td>\n",
              "      <td>0.462687</td>\n",
              "      <td>0.898876</td>\n",
              "    </tr>\n",
              "    <tr>\n",
              "      <th>0</th>\n",
              "      <td>0.469388</td>\n",
              "      <td>0.447761</td>\n",
              "      <td>0.912921</td>\n",
              "    </tr>\n",
              "    <tr>\n",
              "      <th>0</th>\n",
              "      <td>0.489796</td>\n",
              "      <td>0.417910</td>\n",
              "      <td>0.926966</td>\n",
              "    </tr>\n",
              "    <tr>\n",
              "      <th>0</th>\n",
              "      <td>0.510204</td>\n",
              "      <td>0.373134</td>\n",
              "      <td>0.926966</td>\n",
              "    </tr>\n",
              "    <tr>\n",
              "      <th>0</th>\n",
              "      <td>0.530612</td>\n",
              "      <td>0.320896</td>\n",
              "      <td>0.935393</td>\n",
              "    </tr>\n",
              "    <tr>\n",
              "      <th>0</th>\n",
              "      <td>0.551020</td>\n",
              "      <td>0.261194</td>\n",
              "      <td>0.943820</td>\n",
              "    </tr>\n",
              "    <tr>\n",
              "      <th>0</th>\n",
              "      <td>0.571429</td>\n",
              "      <td>0.246269</td>\n",
              "      <td>0.952247</td>\n",
              "    </tr>\n",
              "    <tr>\n",
              "      <th>0</th>\n",
              "      <td>0.591837</td>\n",
              "      <td>0.216418</td>\n",
              "      <td>0.957865</td>\n",
              "    </tr>\n",
              "    <tr>\n",
              "      <th>0</th>\n",
              "      <td>0.612245</td>\n",
              "      <td>0.194030</td>\n",
              "      <td>0.957865</td>\n",
              "    </tr>\n",
              "    <tr>\n",
              "      <th>0</th>\n",
              "      <td>0.632653</td>\n",
              "      <td>0.164179</td>\n",
              "      <td>0.957865</td>\n",
              "    </tr>\n",
              "    <tr>\n",
              "      <th>0</th>\n",
              "      <td>0.653061</td>\n",
              "      <td>0.149254</td>\n",
              "      <td>0.969101</td>\n",
              "    </tr>\n",
              "    <tr>\n",
              "      <th>0</th>\n",
              "      <td>0.673469</td>\n",
              "      <td>0.134328</td>\n",
              "      <td>0.971910</td>\n",
              "    </tr>\n",
              "    <tr>\n",
              "      <th>0</th>\n",
              "      <td>0.693878</td>\n",
              "      <td>0.126866</td>\n",
              "      <td>0.983146</td>\n",
              "    </tr>\n",
              "    <tr>\n",
              "      <th>0</th>\n",
              "      <td>0.714286</td>\n",
              "      <td>0.126866</td>\n",
              "      <td>0.985955</td>\n",
              "    </tr>\n",
              "    <tr>\n",
              "      <th>0</th>\n",
              "      <td>0.734694</td>\n",
              "      <td>0.126866</td>\n",
              "      <td>0.991573</td>\n",
              "    </tr>\n",
              "    <tr>\n",
              "      <th>0</th>\n",
              "      <td>0.755102</td>\n",
              "      <td>0.097015</td>\n",
              "      <td>0.994382</td>\n",
              "    </tr>\n",
              "    <tr>\n",
              "      <th>0</th>\n",
              "      <td>0.775510</td>\n",
              "      <td>0.089552</td>\n",
              "      <td>0.994382</td>\n",
              "    </tr>\n",
              "    <tr>\n",
              "      <th>0</th>\n",
              "      <td>0.795918</td>\n",
              "      <td>0.074627</td>\n",
              "      <td>0.994382</td>\n",
              "    </tr>\n",
              "    <tr>\n",
              "      <th>0</th>\n",
              "      <td>0.816327</td>\n",
              "      <td>0.044776</td>\n",
              "      <td>0.997191</td>\n",
              "    </tr>\n",
              "    <tr>\n",
              "      <th>0</th>\n",
              "      <td>0.836735</td>\n",
              "      <td>0.037313</td>\n",
              "      <td>0.997191</td>\n",
              "    </tr>\n",
              "    <tr>\n",
              "      <th>0</th>\n",
              "      <td>0.857143</td>\n",
              "      <td>0.037313</td>\n",
              "      <td>1.000000</td>\n",
              "    </tr>\n",
              "    <tr>\n",
              "      <th>0</th>\n",
              "      <td>0.877551</td>\n",
              "      <td>0.029851</td>\n",
              "      <td>1.000000</td>\n",
              "    </tr>\n",
              "    <tr>\n",
              "      <th>0</th>\n",
              "      <td>0.897959</td>\n",
              "      <td>0.022388</td>\n",
              "      <td>1.000000</td>\n",
              "    </tr>\n",
              "    <tr>\n",
              "      <th>0</th>\n",
              "      <td>0.918367</td>\n",
              "      <td>0.014925</td>\n",
              "      <td>1.000000</td>\n",
              "    </tr>\n",
              "    <tr>\n",
              "      <th>0</th>\n",
              "      <td>0.938776</td>\n",
              "      <td>0.014925</td>\n",
              "      <td>1.000000</td>\n",
              "    </tr>\n",
              "    <tr>\n",
              "      <th>0</th>\n",
              "      <td>0.959184</td>\n",
              "      <td>0.007463</td>\n",
              "      <td>1.000000</td>\n",
              "    </tr>\n",
              "    <tr>\n",
              "      <th>0</th>\n",
              "      <td>0.979592</td>\n",
              "      <td>0.000000</td>\n",
              "      <td>1.000000</td>\n",
              "    </tr>\n",
              "    <tr>\n",
              "      <th>0</th>\n",
              "      <td>1.000000</td>\n",
              "      <td>0.000000</td>\n",
              "      <td>1.000000</td>\n",
              "    </tr>\n",
              "  </tbody>\n",
              "</table>\n",
              "</div>"
            ],
            "text/plain": [
              "     cutoff  sensitivity  specificity\n",
              "0  0.000000     1.000000     0.000000\n",
              "0  0.020408     1.000000     0.084270\n",
              "0  0.040816     0.992537     0.174157\n",
              "0  0.061224     0.977612     0.221910\n",
              "0  0.081633     0.970149     0.286517\n",
              "0  0.102041     0.955224     0.356742\n",
              "0  0.122449     0.925373     0.421348\n",
              "0  0.142857     0.917910     0.471910\n",
              "0  0.163265     0.902985     0.497191\n",
              "0  0.183673     0.880597     0.544944\n",
              "0  0.204082     0.850746     0.595506\n",
              "0  0.224490     0.820896     0.626404\n",
              "0  0.244898     0.791045     0.651685\n",
              "0  0.265306     0.753731     0.679775\n",
              "0  0.285714     0.753731     0.705056\n",
              "0  0.306122     0.701493     0.716292\n",
              "0  0.326531     0.686567     0.747191\n",
              "0  0.346939     0.656716     0.775281\n",
              "0  0.367347     0.611940     0.800562\n",
              "0  0.387755     0.582090     0.828652\n",
              "0  0.408163     0.552239     0.851124\n",
              "0  0.428571     0.507463     0.879213\n",
              "0  0.448980     0.462687     0.898876\n",
              "0  0.469388     0.447761     0.912921\n",
              "0  0.489796     0.417910     0.926966\n",
              "0  0.510204     0.373134     0.926966\n",
              "0  0.530612     0.320896     0.935393\n",
              "0  0.551020     0.261194     0.943820\n",
              "0  0.571429     0.246269     0.952247\n",
              "0  0.591837     0.216418     0.957865\n",
              "0  0.612245     0.194030     0.957865\n",
              "0  0.632653     0.164179     0.957865\n",
              "0  0.653061     0.149254     0.969101\n",
              "0  0.673469     0.134328     0.971910\n",
              "0  0.693878     0.126866     0.983146\n",
              "0  0.714286     0.126866     0.985955\n",
              "0  0.734694     0.126866     0.991573\n",
              "0  0.755102     0.097015     0.994382\n",
              "0  0.775510     0.089552     0.994382\n",
              "0  0.795918     0.074627     0.994382\n",
              "0  0.816327     0.044776     0.997191\n",
              "0  0.836735     0.037313     0.997191\n",
              "0  0.857143     0.037313     1.000000\n",
              "0  0.877551     0.029851     1.000000\n",
              "0  0.897959     0.022388     1.000000\n",
              "0  0.918367     0.014925     1.000000\n",
              "0  0.938776     0.014925     1.000000\n",
              "0  0.959184     0.007463     1.000000\n",
              "0  0.979592     0.000000     1.000000\n",
              "0  1.000000     0.000000     1.000000"
            ]
          },
          "metadata": {
            "tags": []
          },
          "execution_count": 81
        }
      ]
    },
    {
      "cell_type": "markdown",
      "metadata": {
        "id": "_IOdyvZjvtzb",
        "colab_type": "text"
      },
      "source": [
        "## Finding ideal cut-off"
      ]
    },
    {
      "cell_type": "code",
      "metadata": {
        "id": "aAxEh86GvlKk",
        "colab_type": "code",
        "colab": {
          "base_uri": "https://localhost:8080/",
          "height": 298
        },
        "outputId": "e64ab1c7-fa1c-44af-ea3f-cabc4f590d7a"
      },
      "source": [
        "# plot a scatterplot for FPR (1-specificity), sensitivity, specificity\n",
        "# the point where specificity and sensitivity will cross will be our best cut-off, since best cut-off will have highest sensitivity and specificity \n",
        "plt.subplots(figsize=(10,4))\n",
        "plt.scatter(roc_like_df['cutoff'], roc_like_df['sensitivity'], marker='*', label='Sensitivity')\n",
        "plt.scatter(roc_like_df['cutoff'], roc_like_df['specificity'], marker='*', label='Specificity')\n",
        "plt.scatter(roc_like_df['cutoff'], 1-roc_like_df['specificity'], marker='*', label='FPR')\n",
        "plt.title('For each cutoff, pair of sensitivity and FPR is plotted for ROC')\n",
        "plt.legend()"
      ],
      "execution_count": 86,
      "outputs": [
        {
          "output_type": "execute_result",
          "data": {
            "text/plain": [
              "<matplotlib.legend.Legend at 0x7f59c55319b0>"
            ]
          },
          "metadata": {
            "tags": []
          },
          "execution_count": 86
        },
        {
          "output_type": "display_data",
          "data": {
            "image/png": "[encoded data removed]",
            "text/plain": [
              "<Figure size 720x288 with 1 Axes>"
            ]
          },
          "metadata": {
            "tags": []
          }
        }
      ]
    },
    {
      "cell_type": "code",
      "metadata": {
        "id": "c8X9Tt6pxHf9",
        "colab_type": "code",
        "colab": {
          "base_uri": "https://localhost:8080/",
          "height": 1000
        },
        "outputId": "a38db800-6bd9-4318-cf72-8c730a8abf8e"
      },
      "source": [
        "# we can also take sum of sensitivity and specificity and find the row which has highest value, that will be our best cut-off\n",
        "roc_like_df['total'] = roc_like_df['sensitivity'] + roc_like_df['specificity']\n",
        "roc_like_df"
      ],
      "execution_count": 87,
      "outputs": [
        {
          "output_type": "execute_result",
          "data": {
            "text/html": [
              "<div>\n",
              "<style scoped>\n",
              "    .dataframe tbody tr th:only-of-type {\n",
              "        vertical-align: middle;\n",
              "    }\n",
              "\n",
              "    .dataframe tbody tr th {\n",
              "        vertical-align: top;\n",
              "    }\n",
              "\n",
              "    .dataframe thead th {\n",
              "        text-align: right;\n",
              "    }\n",
              "</style>\n",
              "<table border=\"1\" class=\"dataframe\">\n",
              "  <thead>\n",
              "    <tr style=\"text-align: right;\">\n",
              "      <th></th>\n",
              "      <th>cutoff</th>\n",
              "      <th>sensitivity</th>\n",
              "      <th>specificity</th>\n",
              "      <th>total</th>\n",
              "    </tr>\n",
              "  </thead>\n",
              "  <tbody>\n",
              "    <tr>\n",
              "      <th>0</th>\n",
              "      <td>0.000000</td>\n",
              "      <td>1.000000</td>\n",
              "      <td>0.000000</td>\n",
              "      <td>1.000000</td>\n",
              "    </tr>\n",
              "    <tr>\n",
              "      <th>0</th>\n",
              "      <td>0.020408</td>\n",
              "      <td>1.000000</td>\n",
              "      <td>0.084270</td>\n",
              "      <td>1.084270</td>\n",
              "    </tr>\n",
              "    <tr>\n",
              "      <th>0</th>\n",
              "      <td>0.040816</td>\n",
              "      <td>0.992537</td>\n",
              "      <td>0.174157</td>\n",
              "      <td>1.166695</td>\n",
              "    </tr>\n",
              "    <tr>\n",
              "      <th>0</th>\n",
              "      <td>0.061224</td>\n",
              "      <td>0.977612</td>\n",
              "      <td>0.221910</td>\n",
              "      <td>1.199522</td>\n",
              "    </tr>\n",
              "    <tr>\n",
              "      <th>0</th>\n",
              "      <td>0.081633</td>\n",
              "      <td>0.970149</td>\n",
              "      <td>0.286517</td>\n",
              "      <td>1.256666</td>\n",
              "    </tr>\n",
              "    <tr>\n",
              "      <th>0</th>\n",
              "      <td>0.102041</td>\n",
              "      <td>0.955224</td>\n",
              "      <td>0.356742</td>\n",
              "      <td>1.311965</td>\n",
              "    </tr>\n",
              "    <tr>\n",
              "      <th>0</th>\n",
              "      <td>0.122449</td>\n",
              "      <td>0.925373</td>\n",
              "      <td>0.421348</td>\n",
              "      <td>1.346721</td>\n",
              "    </tr>\n",
              "    <tr>\n",
              "      <th>0</th>\n",
              "      <td>0.142857</td>\n",
              "      <td>0.917910</td>\n",
              "      <td>0.471910</td>\n",
              "      <td>1.389821</td>\n",
              "    </tr>\n",
              "    <tr>\n",
              "      <th>0</th>\n",
              "      <td>0.163265</td>\n",
              "      <td>0.902985</td>\n",
              "      <td>0.497191</td>\n",
              "      <td>1.400176</td>\n",
              "    </tr>\n",
              "    <tr>\n",
              "      <th>0</th>\n",
              "      <td>0.183673</td>\n",
              "      <td>0.880597</td>\n",
              "      <td>0.544944</td>\n",
              "      <td>1.425541</td>\n",
              "    </tr>\n",
              "    <tr>\n",
              "      <th>0</th>\n",
              "      <td>0.204082</td>\n",
              "      <td>0.850746</td>\n",
              "      <td>0.595506</td>\n",
              "      <td>1.446252</td>\n",
              "    </tr>\n",
              "    <tr>\n",
              "      <th>0</th>\n",
              "      <td>0.224490</td>\n",
              "      <td>0.820896</td>\n",
              "      <td>0.626404</td>\n",
              "      <td>1.447300</td>\n",
              "    </tr>\n",
              "    <tr>\n",
              "      <th>0</th>\n",
              "      <td>0.244898</td>\n",
              "      <td>0.791045</td>\n",
              "      <td>0.651685</td>\n",
              "      <td>1.442730</td>\n",
              "    </tr>\n",
              "    <tr>\n",
              "      <th>0</th>\n",
              "      <td>0.265306</td>\n",
              "      <td>0.753731</td>\n",
              "      <td>0.679775</td>\n",
              "      <td>1.433507</td>\n",
              "    </tr>\n",
              "    <tr>\n",
              "      <th>0</th>\n",
              "      <td>0.285714</td>\n",
              "      <td>0.753731</td>\n",
              "      <td>0.705056</td>\n",
              "      <td>1.458788</td>\n",
              "    </tr>\n",
              "    <tr>\n",
              "      <th>0</th>\n",
              "      <td>0.306122</td>\n",
              "      <td>0.701493</td>\n",
              "      <td>0.716292</td>\n",
              "      <td>1.417785</td>\n",
              "    </tr>\n",
              "    <tr>\n",
              "      <th>0</th>\n",
              "      <td>0.326531</td>\n",
              "      <td>0.686567</td>\n",
              "      <td>0.747191</td>\n",
              "      <td>1.433758</td>\n",
              "    </tr>\n",
              "    <tr>\n",
              "      <th>0</th>\n",
              "      <td>0.346939</td>\n",
              "      <td>0.656716</td>\n",
              "      <td>0.775281</td>\n",
              "      <td>1.431997</td>\n",
              "    </tr>\n",
              "    <tr>\n",
              "      <th>0</th>\n",
              "      <td>0.367347</td>\n",
              "      <td>0.611940</td>\n",
              "      <td>0.800562</td>\n",
              "      <td>1.412502</td>\n",
              "    </tr>\n",
              "    <tr>\n",
              "      <th>0</th>\n",
              "      <td>0.387755</td>\n",
              "      <td>0.582090</td>\n",
              "      <td>0.828652</td>\n",
              "      <td>1.410741</td>\n",
              "    </tr>\n",
              "    <tr>\n",
              "      <th>0</th>\n",
              "      <td>0.408163</td>\n",
              "      <td>0.552239</td>\n",
              "      <td>0.851124</td>\n",
              "      <td>1.403362</td>\n",
              "    </tr>\n",
              "    <tr>\n",
              "      <th>0</th>\n",
              "      <td>0.428571</td>\n",
              "      <td>0.507463</td>\n",
              "      <td>0.879213</td>\n",
              "      <td>1.386676</td>\n",
              "    </tr>\n",
              "    <tr>\n",
              "      <th>0</th>\n",
              "      <td>0.448980</td>\n",
              "      <td>0.462687</td>\n",
              "      <td>0.898876</td>\n",
              "      <td>1.361563</td>\n",
              "    </tr>\n",
              "    <tr>\n",
              "      <th>0</th>\n",
              "      <td>0.469388</td>\n",
              "      <td>0.447761</td>\n",
              "      <td>0.912921</td>\n",
              "      <td>1.360683</td>\n",
              "    </tr>\n",
              "    <tr>\n",
              "      <th>0</th>\n",
              "      <td>0.489796</td>\n",
              "      <td>0.417910</td>\n",
              "      <td>0.926966</td>\n",
              "      <td>1.344877</td>\n",
              "    </tr>\n",
              "    <tr>\n",
              "      <th>0</th>\n",
              "      <td>0.510204</td>\n",
              "      <td>0.373134</td>\n",
              "      <td>0.926966</td>\n",
              "      <td>1.300101</td>\n",
              "    </tr>\n",
              "    <tr>\n",
              "      <th>0</th>\n",
              "      <td>0.530612</td>\n",
              "      <td>0.320896</td>\n",
              "      <td>0.935393</td>\n",
              "      <td>1.256289</td>\n",
              "    </tr>\n",
              "    <tr>\n",
              "      <th>0</th>\n",
              "      <td>0.551020</td>\n",
              "      <td>0.261194</td>\n",
              "      <td>0.943820</td>\n",
              "      <td>1.205014</td>\n",
              "    </tr>\n",
              "    <tr>\n",
              "      <th>0</th>\n",
              "      <td>0.571429</td>\n",
              "      <td>0.246269</td>\n",
              "      <td>0.952247</td>\n",
              "      <td>1.198516</td>\n",
              "    </tr>\n",
              "    <tr>\n",
              "      <th>0</th>\n",
              "      <td>0.591837</td>\n",
              "      <td>0.216418</td>\n",
              "      <td>0.957865</td>\n",
              "      <td>1.174283</td>\n",
              "    </tr>\n",
              "    <tr>\n",
              "      <th>0</th>\n",
              "      <td>0.612245</td>\n",
              "      <td>0.194030</td>\n",
              "      <td>0.957865</td>\n",
              "      <td>1.151895</td>\n",
              "    </tr>\n",
              "    <tr>\n",
              "      <th>0</th>\n",
              "      <td>0.632653</td>\n",
              "      <td>0.164179</td>\n",
              "      <td>0.957865</td>\n",
              "      <td>1.122044</td>\n",
              "    </tr>\n",
              "    <tr>\n",
              "      <th>0</th>\n",
              "      <td>0.653061</td>\n",
              "      <td>0.149254</td>\n",
              "      <td>0.969101</td>\n",
              "      <td>1.118355</td>\n",
              "    </tr>\n",
              "    <tr>\n",
              "      <th>0</th>\n",
              "      <td>0.673469</td>\n",
              "      <td>0.134328</td>\n",
              "      <td>0.971910</td>\n",
              "      <td>1.106238</td>\n",
              "    </tr>\n",
              "    <tr>\n",
              "      <th>0</th>\n",
              "      <td>0.693878</td>\n",
              "      <td>0.126866</td>\n",
              "      <td>0.983146</td>\n",
              "      <td>1.110012</td>\n",
              "    </tr>\n",
              "    <tr>\n",
              "      <th>0</th>\n",
              "      <td>0.714286</td>\n",
              "      <td>0.126866</td>\n",
              "      <td>0.985955</td>\n",
              "      <td>1.112821</td>\n",
              "    </tr>\n",
              "    <tr>\n",
              "      <th>0</th>\n",
              "      <td>0.734694</td>\n",
              "      <td>0.126866</td>\n",
              "      <td>0.991573</td>\n",
              "      <td>1.118439</td>\n",
              "    </tr>\n",
              "    <tr>\n",
              "      <th>0</th>\n",
              "      <td>0.755102</td>\n",
              "      <td>0.097015</td>\n",
              "      <td>0.994382</td>\n",
              "      <td>1.091397</td>\n",
              "    </tr>\n",
              "    <tr>\n",
              "      <th>0</th>\n",
              "      <td>0.775510</td>\n",
              "      <td>0.089552</td>\n",
              "      <td>0.994382</td>\n",
              "      <td>1.083934</td>\n",
              "    </tr>\n",
              "    <tr>\n",
              "      <th>0</th>\n",
              "      <td>0.795918</td>\n",
              "      <td>0.074627</td>\n",
              "      <td>0.994382</td>\n",
              "      <td>1.069009</td>\n",
              "    </tr>\n",
              "    <tr>\n",
              "      <th>0</th>\n",
              "      <td>0.816327</td>\n",
              "      <td>0.044776</td>\n",
              "      <td>0.997191</td>\n",
              "      <td>1.041967</td>\n",
              "    </tr>\n",
              "    <tr>\n",
              "      <th>0</th>\n",
              "      <td>0.836735</td>\n",
              "      <td>0.037313</td>\n",
              "      <td>0.997191</td>\n",
              "      <td>1.034504</td>\n",
              "    </tr>\n",
              "    <tr>\n",
              "      <th>0</th>\n",
              "      <td>0.857143</td>\n",
              "      <td>0.037313</td>\n",
              "      <td>1.000000</td>\n",
              "      <td>1.037313</td>\n",
              "    </tr>\n",
              "    <tr>\n",
              "      <th>0</th>\n",
              "      <td>0.877551</td>\n",
              "      <td>0.029851</td>\n",
              "      <td>1.000000</td>\n",
              "      <td>1.029851</td>\n",
              "    </tr>\n",
              "    <tr>\n",
              "      <th>0</th>\n",
              "      <td>0.897959</td>\n",
              "      <td>0.022388</td>\n",
              "      <td>1.000000</td>\n",
              "      <td>1.022388</td>\n",
              "    </tr>\n",
              "    <tr>\n",
              "      <th>0</th>\n",
              "      <td>0.918367</td>\n",
              "      <td>0.014925</td>\n",
              "      <td>1.000000</td>\n",
              "      <td>1.014925</td>\n",
              "    </tr>\n",
              "    <tr>\n",
              "      <th>0</th>\n",
              "      <td>0.938776</td>\n",
              "      <td>0.014925</td>\n",
              "      <td>1.000000</td>\n",
              "      <td>1.014925</td>\n",
              "    </tr>\n",
              "    <tr>\n",
              "      <th>0</th>\n",
              "      <td>0.959184</td>\n",
              "      <td>0.007463</td>\n",
              "      <td>1.000000</td>\n",
              "      <td>1.007463</td>\n",
              "    </tr>\n",
              "    <tr>\n",
              "      <th>0</th>\n",
              "      <td>0.979592</td>\n",
              "      <td>0.000000</td>\n",
              "      <td>1.000000</td>\n",
              "      <td>1.000000</td>\n",
              "    </tr>\n",
              "    <tr>\n",
              "      <th>0</th>\n",
              "      <td>1.000000</td>\n",
              "      <td>0.000000</td>\n",
              "      <td>1.000000</td>\n",
              "      <td>1.000000</td>\n",
              "    </tr>\n",
              "  </tbody>\n",
              "</table>\n",
              "</div>"
            ],
            "text/plain": [
              "     cutoff  sensitivity  specificity     total\n",
              "0  0.000000     1.000000     0.000000  1.000000\n",
              "0  0.020408     1.000000     0.084270  1.084270\n",
              "0  0.040816     0.992537     0.174157  1.166695\n",
              "0  0.061224     0.977612     0.221910  1.199522\n",
              "0  0.081633     0.970149     0.286517  1.256666\n",
              "0  0.102041     0.955224     0.356742  1.311965\n",
              "0  0.122449     0.925373     0.421348  1.346721\n",
              "0  0.142857     0.917910     0.471910  1.389821\n",
              "0  0.163265     0.902985     0.497191  1.400176\n",
              "0  0.183673     0.880597     0.544944  1.425541\n",
              "0  0.204082     0.850746     0.595506  1.446252\n",
              "0  0.224490     0.820896     0.626404  1.447300\n",
              "0  0.244898     0.791045     0.651685  1.442730\n",
              "0  0.265306     0.753731     0.679775  1.433507\n",
              "0  0.285714     0.753731     0.705056  1.458788\n",
              "0  0.306122     0.701493     0.716292  1.417785\n",
              "0  0.326531     0.686567     0.747191  1.433758\n",
              "0  0.346939     0.656716     0.775281  1.431997\n",
              "0  0.367347     0.611940     0.800562  1.412502\n",
              "0  0.387755     0.582090     0.828652  1.410741\n",
              "0  0.408163     0.552239     0.851124  1.403362\n",
              "0  0.428571     0.507463     0.879213  1.386676\n",
              "0  0.448980     0.462687     0.898876  1.361563\n",
              "0  0.469388     0.447761     0.912921  1.360683\n",
              "0  0.489796     0.417910     0.926966  1.344877\n",
              "0  0.510204     0.373134     0.926966  1.300101\n",
              "0  0.530612     0.320896     0.935393  1.256289\n",
              "0  0.551020     0.261194     0.943820  1.205014\n",
              "0  0.571429     0.246269     0.952247  1.198516\n",
              "0  0.591837     0.216418     0.957865  1.174283\n",
              "0  0.612245     0.194030     0.957865  1.151895\n",
              "0  0.632653     0.164179     0.957865  1.122044\n",
              "0  0.653061     0.149254     0.969101  1.118355\n",
              "0  0.673469     0.134328     0.971910  1.106238\n",
              "0  0.693878     0.126866     0.983146  1.110012\n",
              "0  0.714286     0.126866     0.985955  1.112821\n",
              "0  0.734694     0.126866     0.991573  1.118439\n",
              "0  0.755102     0.097015     0.994382  1.091397\n",
              "0  0.775510     0.089552     0.994382  1.083934\n",
              "0  0.795918     0.074627     0.994382  1.069009\n",
              "0  0.816327     0.044776     0.997191  1.041967\n",
              "0  0.836735     0.037313     0.997191  1.034504\n",
              "0  0.857143     0.037313     1.000000  1.037313\n",
              "0  0.877551     0.029851     1.000000  1.029851\n",
              "0  0.897959     0.022388     1.000000  1.022388\n",
              "0  0.918367     0.014925     1.000000  1.014925\n",
              "0  0.938776     0.014925     1.000000  1.014925\n",
              "0  0.959184     0.007463     1.000000  1.007463\n",
              "0  0.979592     0.000000     1.000000  1.000000\n",
              "0  1.000000     0.000000     1.000000  1.000000"
            ]
          },
          "metadata": {
            "tags": []
          },
          "execution_count": 87
        }
      ]
    },
    {
      "cell_type": "code",
      "metadata": {
        "id": "Y0QBPPhsyRif",
        "colab_type": "code",
        "colab": {
          "base_uri": "https://localhost:8080/",
          "height": 80
        },
        "outputId": "72f9b2da-2e1d-4e00-b00f-0fced27dd920"
      },
      "source": [
        "# get the best cut-off\n",
        "roc_like_df[roc_like_df['total']==roc_like_df['total'].max()]"
      ],
      "execution_count": 89,
      "outputs": [
        {
          "output_type": "execute_result",
          "data": {
            "text/html": [
              "<div>\n",
              "<style scoped>\n",
              "    .dataframe tbody tr th:only-of-type {\n",
              "        vertical-align: middle;\n",
              "    }\n",
              "\n",
              "    .dataframe tbody tr th {\n",
              "        vertical-align: top;\n",
              "    }\n",
              "\n",
              "    .dataframe thead th {\n",
              "        text-align: right;\n",
              "    }\n",
              "</style>\n",
              "<table border=\"1\" class=\"dataframe\">\n",
              "  <thead>\n",
              "    <tr style=\"text-align: right;\">\n",
              "      <th></th>\n",
              "      <th>cutoff</th>\n",
              "      <th>sensitivity</th>\n",
              "      <th>specificity</th>\n",
              "      <th>total</th>\n",
              "    </tr>\n",
              "  </thead>\n",
              "  <tbody>\n",
              "    <tr>\n",
              "      <th>0</th>\n",
              "      <td>0.285714</td>\n",
              "      <td>0.753731</td>\n",
              "      <td>0.705056</td>\n",
              "      <td>1.458788</td>\n",
              "    </tr>\n",
              "  </tbody>\n",
              "</table>\n",
              "</div>"
            ],
            "text/plain": [
              "     cutoff  sensitivity  specificity     total\n",
              "0  0.285714     0.753731     0.705056  1.458788"
            ]
          },
          "metadata": {
            "tags": []
          },
          "execution_count": 89
        }
      ]
    },
    {
      "cell_type": "markdown",
      "metadata": {
        "id": "0QB8cYnjycMn",
        "colab_type": "text"
      },
      "source": [
        "## Create confusion matrix"
      ]
    },
    {
      "cell_type": "code",
      "metadata": {
        "id": "7alJjcSOyVtL",
        "colab_type": "code",
        "colab": {
          "base_uri": "https://localhost:8080/",
          "height": 955
        },
        "outputId": "4247b49c-17e8-4c7b-e033-66dac6bd0fb4"
      },
      "source": [
        "# use the cut-off value obtained in above step\n",
        "# find predicted 0's and 1's. if probability is greater than cutoff then predicted = 1 or else 0\n",
        "# test\n",
        "test_predict['predicted'] = test_predict['prob'].apply(lambda x: 1 if x > 0.29 else 0)\n",
        "# train\n",
        "train_predict['predicted'] = train_predict['prob'].apply(lambda x: 1 if x > 0.29 else 0)\n",
        "sns.heatmap(pd.crosstab(train_predict['actual'], train_predict['predicted']), annot=True, fmt='.0f')\n",
        "plt.title('Train Data Confusion Matrix')\n",
        "plt.show()\n",
        "sns.heatmap(pd.crosstab(test_predict['actual'], test_predict['predicted']), annot=True, fmt='.0f')\n",
        "plt.title('Test Data Confusion Matrix')\n",
        "plt.show()"
      ],
      "execution_count": 90,
      "outputs": [
        {
          "output_type": "display_data",
          "data": {
            "image/png": "[encoded data removed]",
            "text/plain": [
              "<Figure size 720x540 with 2 Axes>"
            ]
          },
          "metadata": {
            "tags": []
          }
        },
        {
          "output_type": "display_data",
          "data": {
            "image/png": "[encoded data removed]",
            "text/plain": [
              "<Figure size 720x540 with 2 Axes>"
            ]
          },
          "metadata": {
            "tags": []
          }
        }
      ]
    },
    {
      "cell_type": "code",
      "metadata": {
        "id": "kogtKKiZzMdO",
        "colab_type": "code",
        "colab": {
          "base_uri": "https://localhost:8080/",
          "height": 51
        },
        "outputId": "6cc02cbf-fa40-43a7-8d5e-fd19117fc0cd"
      },
      "source": [
        "# check overall accuracy score\n",
        "print(\"The overall accuracy score for the Train Data is : \", metrics.accuracy_score(train_predict.actual, train_predict.predicted))\n",
        "print(\"The overall accuracy score for the Test Data  is : \", metrics.accuracy_score(test_predict.actual, test_predict.predicted))"
      ],
      "execution_count": 91,
      "outputs": [
        {
          "output_type": "stream",
          "text": [
            "The overall accuracy score for the Train Data is :  0.7204081632653061\n",
            "The overall accuracy score for the Test Data  is :  0.8\n"
          ],
          "name": "stdout"
        }
      ]
    },
    {
      "cell_type": "markdown",
      "metadata": {
        "id": "MAk9VRS3zf0H",
        "colab_type": "text"
      },
      "source": [
        "## Decile analysis to check if model is good\n",
        "if probability is high it means customers are bad, if its low it means cutomers are good. if cutomer is bad more number of 1's should be captured.\n",
        "\n",
        "steps:\n",
        "\n",
        "create deciles using predicted probabilities and capture no of 0's and 1's. If probability is in decreasing order in deciles then no of 1's should also be in decreasing order."
      ]
    },
    {
      "cell_type": "code",
      "metadata": {
        "id": "dqsJyIOVzcaG",
        "colab_type": "code",
        "colab": {
          "base_uri": "https://localhost:8080/",
          "height": 204
        },
        "outputId": "782a2ab9-323e-413c-d79e-6ceb31308caa"
      },
      "source": [
        "train_predict['Deciles']=pd.qcut(train_predict['prob'],10, labels=False)\n",
        "#test['Deciles']=pd.qcut(test['prob'],10, labels=False)\n",
        "train_predict.head()"
      ],
      "execution_count": 93,
      "outputs": [
        {
          "output_type": "execute_result",
          "data": {
            "text/html": [
              "<div>\n",
              "<style scoped>\n",
              "    .dataframe tbody tr th:only-of-type {\n",
              "        vertical-align: middle;\n",
              "    }\n",
              "\n",
              "    .dataframe tbody tr th {\n",
              "        vertical-align: top;\n",
              "    }\n",
              "\n",
              "    .dataframe thead th {\n",
              "        text-align: right;\n",
              "    }\n",
              "</style>\n",
              "<table border=\"1\" class=\"dataframe\">\n",
              "  <thead>\n",
              "    <tr style=\"text-align: right;\">\n",
              "      <th></th>\n",
              "      <th>actual</th>\n",
              "      <th>prob</th>\n",
              "      <th>predicted</th>\n",
              "      <th>Deciles</th>\n",
              "    </tr>\n",
              "  </thead>\n",
              "  <tbody>\n",
              "    <tr>\n",
              "      <th>357</th>\n",
              "      <td>1.0</td>\n",
              "      <td>0.668742</td>\n",
              "      <td>1</td>\n",
              "      <td>9</td>\n",
              "    </tr>\n",
              "    <tr>\n",
              "      <th>649</th>\n",
              "      <td>0.0</td>\n",
              "      <td>0.511699</td>\n",
              "      <td>1</td>\n",
              "      <td>8</td>\n",
              "    </tr>\n",
              "    <tr>\n",
              "      <th>291</th>\n",
              "      <td>0.0</td>\n",
              "      <td>0.101246</td>\n",
              "      <td>0</td>\n",
              "      <td>2</td>\n",
              "    </tr>\n",
              "    <tr>\n",
              "      <th>420</th>\n",
              "      <td>1.0</td>\n",
              "      <td>0.444934</td>\n",
              "      <td>1</td>\n",
              "      <td>7</td>\n",
              "    </tr>\n",
              "    <tr>\n",
              "      <th>177</th>\n",
              "      <td>0.0</td>\n",
              "      <td>0.209997</td>\n",
              "      <td>0</td>\n",
              "      <td>4</td>\n",
              "    </tr>\n",
              "  </tbody>\n",
              "</table>\n",
              "</div>"
            ],
            "text/plain": [
              "     actual      prob  predicted  Deciles\n",
              "357     1.0  0.668742          1        9\n",
              "649     0.0  0.511699          1        8\n",
              "291     0.0  0.101246          0        2\n",
              "420     1.0  0.444934          1        7\n",
              "177     0.0  0.209997          0        4"
            ]
          },
          "metadata": {
            "tags": []
          },
          "execution_count": 93
        }
      ]
    },
    {
      "cell_type": "code",
      "metadata": {
        "id": "_mn20m5Azobk",
        "colab_type": "code",
        "colab": {
          "base_uri": "https://localhost:8080/",
          "height": 390
        },
        "outputId": "9d748f2a-c59c-4b96-945f-822410a6a781"
      },
      "source": [
        "# now group by deciles and take sum. arrange them in descending order.\n",
        "df = train_predict[['Deciles','actual']].groupby(train_predict.Deciles).sum().sort_index(ascending=False)\n",
        "df\n",
        "# check if both the columns are in descending order."
      ],
      "execution_count": 96,
      "outputs": [
        {
          "output_type": "execute_result",
          "data": {
            "text/html": [
              "<div>\n",
              "<style scoped>\n",
              "    .dataframe tbody tr th:only-of-type {\n",
              "        vertical-align: middle;\n",
              "    }\n",
              "\n",
              "    .dataframe tbody tr th {\n",
              "        vertical-align: top;\n",
              "    }\n",
              "\n",
              "    .dataframe thead th {\n",
              "        text-align: right;\n",
              "    }\n",
              "</style>\n",
              "<table border=\"1\" class=\"dataframe\">\n",
              "  <thead>\n",
              "    <tr style=\"text-align: right;\">\n",
              "      <th></th>\n",
              "      <th>Deciles</th>\n",
              "      <th>actual</th>\n",
              "    </tr>\n",
              "    <tr>\n",
              "      <th>Deciles</th>\n",
              "      <th></th>\n",
              "      <th></th>\n",
              "    </tr>\n",
              "  </thead>\n",
              "  <tbody>\n",
              "    <tr>\n",
              "      <th>9</th>\n",
              "      <td>441</td>\n",
              "      <td>32.0</td>\n",
              "    </tr>\n",
              "    <tr>\n",
              "      <th>8</th>\n",
              "      <td>392</td>\n",
              "      <td>30.0</td>\n",
              "    </tr>\n",
              "    <tr>\n",
              "      <th>7</th>\n",
              "      <td>343</td>\n",
              "      <td>19.0</td>\n",
              "    </tr>\n",
              "    <tr>\n",
              "      <th>6</th>\n",
              "      <td>294</td>\n",
              "      <td>13.0</td>\n",
              "    </tr>\n",
              "    <tr>\n",
              "      <th>5</th>\n",
              "      <td>245</td>\n",
              "      <td>17.0</td>\n",
              "    </tr>\n",
              "    <tr>\n",
              "      <th>4</th>\n",
              "      <td>196</td>\n",
              "      <td>9.0</td>\n",
              "    </tr>\n",
              "    <tr>\n",
              "      <th>3</th>\n",
              "      <td>147</td>\n",
              "      <td>5.0</td>\n",
              "    </tr>\n",
              "    <tr>\n",
              "      <th>2</th>\n",
              "      <td>98</td>\n",
              "      <td>5.0</td>\n",
              "    </tr>\n",
              "    <tr>\n",
              "      <th>1</th>\n",
              "      <td>49</td>\n",
              "      <td>4.0</td>\n",
              "    </tr>\n",
              "    <tr>\n",
              "      <th>0</th>\n",
              "      <td>0</td>\n",
              "      <td>0.0</td>\n",
              "    </tr>\n",
              "  </tbody>\n",
              "</table>\n",
              "</div>"
            ],
            "text/plain": [
              "         Deciles  actual\n",
              "Deciles                 \n",
              "9            441    32.0\n",
              "8            392    30.0\n",
              "7            343    19.0\n",
              "6            294    13.0\n",
              "5            245    17.0\n",
              "4            196     9.0\n",
              "3            147     5.0\n",
              "2             98     5.0\n",
              "1             49     4.0\n",
              "0              0     0.0"
            ]
          },
          "metadata": {
            "tags": []
          },
          "execution_count": 96
        }
      ]
    },
    {
      "cell_type": "code",
      "metadata": {
        "id": "MPQcYyQ81lt9",
        "colab_type": "code",
        "colab": {}
      },
      "source": [
        ""
      ],
      "execution_count": 0,
      "outputs": []
    }
  ]
}