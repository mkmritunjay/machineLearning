{
  "nbformat": 4,
  "nbformat_minor": 0,
  "metadata": {
    "colab": {
      "name": "DTRegressor.ipynb",
      "provenance": [],
      "collapsed_sections": [],
      "authorship_tag": "ABX9TyP7Sd88cO1+NEF6uLrcFGg/",
      "include_colab_link": true
    },
    "kernelspec": {
      "name": "python3",
      "display_name": "Python 3"
    }
  },
  "cells": [
    {
      "cell_type": "markdown",
      "metadata": {
        "id": "view-in-github",
        "colab_type": "text"
      },
      "source": [
        "<a href=\"https://colab.research.google.com/github/mkmritunjay/machineLearning/blob/master/DTRegressor.ipynb\" target=\"_parent\"><img src=\"https://colab.research.google.com/assets/colab-badge.svg\" alt=\"Open In Colab\"/></a>"
      ]
    },
    {
      "cell_type": "markdown",
      "metadata": {
        "id": "MxgGlkZCBeUh",
        "colab_type": "text"
      },
      "source": [
        "## Decision Tree\n",
        "\n",
        "We will be using same dataset that we used for logistic regression. \n",
        "\n",
        "**Goal or objective:**\n",
        "\n",
        "We will try to predict if a customer is bad when he applies for a loan. It's also called as probability of default (PD).\n",
        "\n",
        "### Some of the common questions related to decision tree are answered below:\n",
        "\n",
        "**Q. How the first split variable is decided?**\n",
        "\n",
        "Ans- it's based on best average value. Child nodes should have good difference in averages. \n",
        "\n",
        "**Q. How the splitting criteria is decided? (Assume why age>50, why not age>40)**\n",
        "\n",
        "Ans- For Regressor Tree ANOVA(F-test) is performed and best value is selected. \n",
        "\n",
        "For classifier tree ch-square test is performed and best value is selected. For classification tree there are other parameters also like gini (it's default), information value gain and entropy.\n",
        "\n",
        "#### Entropy = -p*logp-q*logq (low entropy means high purity)\n",
        "\n",
        "#### Information value gain = Entropy at level 1- Entropy at level 2\n",
        "\n",
        "**Q. Why only two split and why not multiple splits?** \n",
        "\n",
        "Ans- Child nodes act as independent entity. Next split will be done using any variable (or feature).\n",
        "\n",
        "No of splits depends on the algorithm used. Like for CART it's 2 and for CHAID it's multiple.\n",
        "\n",
        "**Q. Why splitting stops after some level? Why it doesn't grow further?**\n",
        "\n",
        "Ans- If we get a best split but f-value/gini is not coming significant, node will not be splitted further.\n",
        "\n",
        "There are multiple ways to control spliting of a node (tuning parameters):\n",
        "\n",
        "- f-value(can be checked for 90% or 95% confidence interval)\n",
        "- We can restrict no. of levels.\n",
        "- We can restrict split if no of observations = specific value (minimum observation needed to split further)\n",
        "\n",
        "Controlling the split is necessary to avoid overfitting.\n",
        "\n",
        "**Q. How can we find the best model? What are goodness of fit metrics?**\n",
        "\n",
        "For regressor tree it's same as linear regression like MAPE, SME, RMSE.\n",
        "For classifier tree it's same as logistic regression like confusion matrix, ROC etc.\n",
        "\n",
        "**Pros:**\n",
        "\n",
        "- Quick\n",
        "- Easy to interpret\n",
        "- Easy to implement\n",
        "- No maths\n",
        "- No assumptions\n",
        "- Minimal data preparation\n",
        "\n",
        "**Cons:**\n",
        "\n",
        "- Less accuracy, tuning parameters can help to get best solution.\n",
        "- Suffers from high variance.\n",
        "\n",
        "\n",
        "\n",
        "### Sometimes decision tree can be used as intermediatory techniques like\n",
        "- Variable reduction\n",
        "- Converting numerical variables to dummy variables based on relationship for regression."
      ]
    },
    {
      "cell_type": "code",
      "metadata": {
        "id": "1P-7FcTFBYrc",
        "colab_type": "code",
        "outputId": "f942f3fd-b2e2-4c11-a51d-77dadd1d5894",
        "colab": {
          "base_uri": "https://localhost:8080/",
          "height": 34
        }
      },
      "source": [
        "import pandas as pd\n",
        "import numpy as np\n",
        "import seaborn as sns\n",
        "import matplotlib.pyplot as plt\n",
        "\n",
        "import statsmodels.formula.api as sm\n",
        "import scipy.stats as stats\n",
        "\n",
        "%matplotlib inline\n",
        "plt.rcParams['figure.figsize'] = 10, 7.5\n",
        "plt.rcParams['axes.grid'] = True\n",
        "plt.gray()\n",
        "\n",
        "from matplotlib.backends.backend_pdf import PdfPages\n",
        "\n",
        "from sklearn.model_selection import train_test_split\n",
        "from sklearn import metrics\n",
        "\n",
        "from statsmodels.stats.outliers_influence import variance_inflation_factor\n",
        "from patsy import dmatrices\n",
        "from sklearn.metrics import mean_absolute_error, mean_squared_error\n",
        "\n",
        "import sklearn.tree as dt\n",
        "import sklearn.ensemble as en\n",
        "\n",
        "from sklearn import metrics\n",
        "from sklearn.tree import DecisionTreeRegressor, export_graphviz, export\n",
        "from sklearn.model_selection import GridSearchCV\n",
        "\n",
        "import pydotplus as pdot\n",
        "from IPython.display import Image\n",
        "\n",
        "url = 'https://raw.githubusercontent.com/mkmritunjay/machineLearning/master/Car_sales.csv'"
      ],
      "execution_count": 33,
      "outputs": [
        {
          "output_type": "display_data",
          "data": {
            "text/plain": [
              "<Figure size 720x540 with 0 Axes>"
            ]
          },
          "metadata": {
            "tags": []
          }
        }
      ]
    },
    {
      "cell_type": "code",
      "metadata": {
        "id": "WtVYj6ueCC_a",
        "colab_type": "code",
        "outputId": "8dc897c9-1509-4ad1-aa43-44ecadd4fe8f",
        "colab": {
          "base_uri": "https://localhost:8080/",
          "height": 224
        }
      },
      "source": [
        "car_sales = pd.read_csv(url)\n",
        "car_sales.head()"
      ],
      "execution_count": 9,
      "outputs": [
        {
          "output_type": "execute_result",
          "data": {
            "text/html": [
              "<div>\n",
              "<style scoped>\n",
              "    .dataframe tbody tr th:only-of-type {\n",
              "        vertical-align: middle;\n",
              "    }\n",
              "\n",
              "    .dataframe tbody tr th {\n",
              "        vertical-align: top;\n",
              "    }\n",
              "\n",
              "    .dataframe thead th {\n",
              "        text-align: right;\n",
              "    }\n",
              "</style>\n",
              "<table border=\"1\" class=\"dataframe\">\n",
              "  <thead>\n",
              "    <tr style=\"text-align: right;\">\n",
              "      <th></th>\n",
              "      <th>Manufacturer</th>\n",
              "      <th>Model</th>\n",
              "      <th>Sales_in_thousands</th>\n",
              "      <th>four_year_resale_value</th>\n",
              "      <th>Vehicle_type</th>\n",
              "      <th>Price_in_thousands</th>\n",
              "      <th>Engine_size</th>\n",
              "      <th>Horsepower</th>\n",
              "      <th>Wheelbase</th>\n",
              "      <th>Width</th>\n",
              "      <th>Length</th>\n",
              "      <th>Curb_weight</th>\n",
              "      <th>Fuel_capacity</th>\n",
              "      <th>Fuel_efficiency</th>\n",
              "      <th>Latest_Launch</th>\n",
              "      <th>Power_perf_factor</th>\n",
              "    </tr>\n",
              "  </thead>\n",
              "  <tbody>\n",
              "    <tr>\n",
              "      <th>0</th>\n",
              "      <td>Acura</td>\n",
              "      <td>Integra</td>\n",
              "      <td>16.919</td>\n",
              "      <td>16.360</td>\n",
              "      <td>Passenger</td>\n",
              "      <td>21.50</td>\n",
              "      <td>1.8</td>\n",
              "      <td>140.0</td>\n",
              "      <td>101.2</td>\n",
              "      <td>67.3</td>\n",
              "      <td>172.4</td>\n",
              "      <td>2.639</td>\n",
              "      <td>13.2</td>\n",
              "      <td>28.0</td>\n",
              "      <td>2/2/2012</td>\n",
              "      <td>58.280150</td>\n",
              "    </tr>\n",
              "    <tr>\n",
              "      <th>1</th>\n",
              "      <td>Acura</td>\n",
              "      <td>TL</td>\n",
              "      <td>39.384</td>\n",
              "      <td>19.875</td>\n",
              "      <td>Passenger</td>\n",
              "      <td>28.40</td>\n",
              "      <td>3.2</td>\n",
              "      <td>225.0</td>\n",
              "      <td>108.1</td>\n",
              "      <td>70.3</td>\n",
              "      <td>192.9</td>\n",
              "      <td>3.517</td>\n",
              "      <td>17.2</td>\n",
              "      <td>25.0</td>\n",
              "      <td>6/3/2011</td>\n",
              "      <td>91.370778</td>\n",
              "    </tr>\n",
              "    <tr>\n",
              "      <th>2</th>\n",
              "      <td>Acura</td>\n",
              "      <td>CL</td>\n",
              "      <td>14.114</td>\n",
              "      <td>18.225</td>\n",
              "      <td>Passenger</td>\n",
              "      <td>NaN</td>\n",
              "      <td>3.2</td>\n",
              "      <td>225.0</td>\n",
              "      <td>106.9</td>\n",
              "      <td>70.6</td>\n",
              "      <td>192.0</td>\n",
              "      <td>3.470</td>\n",
              "      <td>17.2</td>\n",
              "      <td>26.0</td>\n",
              "      <td>1/4/2012</td>\n",
              "      <td>NaN</td>\n",
              "    </tr>\n",
              "    <tr>\n",
              "      <th>3</th>\n",
              "      <td>Acura</td>\n",
              "      <td>RL</td>\n",
              "      <td>8.588</td>\n",
              "      <td>29.725</td>\n",
              "      <td>Passenger</td>\n",
              "      <td>42.00</td>\n",
              "      <td>3.5</td>\n",
              "      <td>210.0</td>\n",
              "      <td>114.6</td>\n",
              "      <td>71.4</td>\n",
              "      <td>196.6</td>\n",
              "      <td>3.850</td>\n",
              "      <td>18.0</td>\n",
              "      <td>22.0</td>\n",
              "      <td>3/10/2011</td>\n",
              "      <td>91.389779</td>\n",
              "    </tr>\n",
              "    <tr>\n",
              "      <th>4</th>\n",
              "      <td>Audi</td>\n",
              "      <td>A4</td>\n",
              "      <td>20.397</td>\n",
              "      <td>22.255</td>\n",
              "      <td>Passenger</td>\n",
              "      <td>23.99</td>\n",
              "      <td>1.8</td>\n",
              "      <td>150.0</td>\n",
              "      <td>102.6</td>\n",
              "      <td>68.2</td>\n",
              "      <td>178.0</td>\n",
              "      <td>2.998</td>\n",
              "      <td>16.4</td>\n",
              "      <td>27.0</td>\n",
              "      <td>10/8/2011</td>\n",
              "      <td>62.777639</td>\n",
              "    </tr>\n",
              "  </tbody>\n",
              "</table>\n",
              "</div>"
            ],
            "text/plain": [
              "  Manufacturer    Model  ...  Latest_Launch  Power_perf_factor\n",
              "0        Acura  Integra  ...       2/2/2012          58.280150\n",
              "1        Acura       TL  ...       6/3/2011          91.370778\n",
              "2        Acura       CL  ...       1/4/2012                NaN\n",
              "3        Acura       RL  ...      3/10/2011          91.389779\n",
              "4         Audi       A4  ...      10/8/2011          62.777639\n",
              "\n",
              "[5 rows x 16 columns]"
            ]
          },
          "metadata": {
            "tags": []
          },
          "execution_count": 9
        }
      ]
    },
    {
      "cell_type": "code",
      "metadata": {
        "id": "4AoEzMEeCGtD",
        "colab_type": "code",
        "colab": {
          "base_uri": "https://localhost:8080/",
          "height": 374
        },
        "outputId": "e388505c-c4c4-4c2a-c891-517f7c702cd8"
      },
      "source": [
        "car_sales.info()"
      ],
      "execution_count": 10,
      "outputs": [
        {
          "output_type": "stream",
          "text": [
            "<class 'pandas.core.frame.DataFrame'>\n",
            "RangeIndex: 157 entries, 0 to 156\n",
            "Data columns (total 16 columns):\n",
            "Manufacturer              157 non-null object\n",
            "Model                     157 non-null object\n",
            "Sales_in_thousands        157 non-null float64\n",
            "four_year_resale_value    121 non-null float64\n",
            "Vehicle_type              157 non-null object\n",
            "Price_in_thousands        155 non-null float64\n",
            "Engine_size               156 non-null float64\n",
            "Horsepower                156 non-null float64\n",
            "Wheelbase                 156 non-null float64\n",
            "Width                     156 non-null float64\n",
            "Length                    156 non-null float64\n",
            "Curb_weight               155 non-null float64\n",
            "Fuel_capacity             156 non-null float64\n",
            "Fuel_efficiency           154 non-null float64\n",
            "Latest_Launch             157 non-null object\n",
            "Power_perf_factor         155 non-null float64\n",
            "dtypes: float64(12), object(4)\n",
            "memory usage: 19.8+ KB\n"
          ],
          "name": "stdout"
        }
      ]
    },
    {
      "cell_type": "code",
      "metadata": {
        "id": "K91UfLjRDtqB",
        "colab_type": "code",
        "colab": {
          "base_uri": "https://localhost:8080/",
          "height": 317
        },
        "outputId": "55c053b2-b406-487b-bba6-de3e14c69279"
      },
      "source": [
        "car_sales.describe()"
      ],
      "execution_count": 11,
      "outputs": [
        {
          "output_type": "execute_result",
          "data": {
            "text/html": [
              "<div>\n",
              "<style scoped>\n",
              "    .dataframe tbody tr th:only-of-type {\n",
              "        vertical-align: middle;\n",
              "    }\n",
              "\n",
              "    .dataframe tbody tr th {\n",
              "        vertical-align: top;\n",
              "    }\n",
              "\n",
              "    .dataframe thead th {\n",
              "        text-align: right;\n",
              "    }\n",
              "</style>\n",
              "<table border=\"1\" class=\"dataframe\">\n",
              "  <thead>\n",
              "    <tr style=\"text-align: right;\">\n",
              "      <th></th>\n",
              "      <th>Sales_in_thousands</th>\n",
              "      <th>four_year_resale_value</th>\n",
              "      <th>Price_in_thousands</th>\n",
              "      <th>Engine_size</th>\n",
              "      <th>Horsepower</th>\n",
              "      <th>Wheelbase</th>\n",
              "      <th>Width</th>\n",
              "      <th>Length</th>\n",
              "      <th>Curb_weight</th>\n",
              "      <th>Fuel_capacity</th>\n",
              "      <th>Fuel_efficiency</th>\n",
              "      <th>Power_perf_factor</th>\n",
              "    </tr>\n",
              "  </thead>\n",
              "  <tbody>\n",
              "    <tr>\n",
              "      <th>count</th>\n",
              "      <td>157.000000</td>\n",
              "      <td>121.000000</td>\n",
              "      <td>155.000000</td>\n",
              "      <td>156.000000</td>\n",
              "      <td>156.000000</td>\n",
              "      <td>156.000000</td>\n",
              "      <td>156.000000</td>\n",
              "      <td>156.000000</td>\n",
              "      <td>155.000000</td>\n",
              "      <td>156.000000</td>\n",
              "      <td>154.000000</td>\n",
              "      <td>155.000000</td>\n",
              "    </tr>\n",
              "    <tr>\n",
              "      <th>mean</th>\n",
              "      <td>52.998076</td>\n",
              "      <td>18.072975</td>\n",
              "      <td>27.390755</td>\n",
              "      <td>3.060897</td>\n",
              "      <td>185.948718</td>\n",
              "      <td>107.487179</td>\n",
              "      <td>71.150000</td>\n",
              "      <td>187.343590</td>\n",
              "      <td>3.378026</td>\n",
              "      <td>17.951923</td>\n",
              "      <td>23.844156</td>\n",
              "      <td>77.043591</td>\n",
              "    </tr>\n",
              "    <tr>\n",
              "      <th>std</th>\n",
              "      <td>68.029422</td>\n",
              "      <td>11.453384</td>\n",
              "      <td>14.351653</td>\n",
              "      <td>1.044653</td>\n",
              "      <td>56.700321</td>\n",
              "      <td>7.641303</td>\n",
              "      <td>3.451872</td>\n",
              "      <td>13.431754</td>\n",
              "      <td>0.630502</td>\n",
              "      <td>3.887921</td>\n",
              "      <td>4.282706</td>\n",
              "      <td>25.142664</td>\n",
              "    </tr>\n",
              "    <tr>\n",
              "      <th>min</th>\n",
              "      <td>0.110000</td>\n",
              "      <td>5.160000</td>\n",
              "      <td>9.235000</td>\n",
              "      <td>1.000000</td>\n",
              "      <td>55.000000</td>\n",
              "      <td>92.600000</td>\n",
              "      <td>62.600000</td>\n",
              "      <td>149.400000</td>\n",
              "      <td>1.895000</td>\n",
              "      <td>10.300000</td>\n",
              "      <td>15.000000</td>\n",
              "      <td>23.276272</td>\n",
              "    </tr>\n",
              "    <tr>\n",
              "      <th>25%</th>\n",
              "      <td>14.114000</td>\n",
              "      <td>11.260000</td>\n",
              "      <td>18.017500</td>\n",
              "      <td>2.300000</td>\n",
              "      <td>149.500000</td>\n",
              "      <td>103.000000</td>\n",
              "      <td>68.400000</td>\n",
              "      <td>177.575000</td>\n",
              "      <td>2.971000</td>\n",
              "      <td>15.800000</td>\n",
              "      <td>21.000000</td>\n",
              "      <td>60.407707</td>\n",
              "    </tr>\n",
              "    <tr>\n",
              "      <th>50%</th>\n",
              "      <td>29.450000</td>\n",
              "      <td>14.180000</td>\n",
              "      <td>22.799000</td>\n",
              "      <td>3.000000</td>\n",
              "      <td>177.500000</td>\n",
              "      <td>107.000000</td>\n",
              "      <td>70.550000</td>\n",
              "      <td>187.900000</td>\n",
              "      <td>3.342000</td>\n",
              "      <td>17.200000</td>\n",
              "      <td>24.000000</td>\n",
              "      <td>72.030917</td>\n",
              "    </tr>\n",
              "    <tr>\n",
              "      <th>75%</th>\n",
              "      <td>67.956000</td>\n",
              "      <td>19.875000</td>\n",
              "      <td>31.947500</td>\n",
              "      <td>3.575000</td>\n",
              "      <td>215.000000</td>\n",
              "      <td>112.200000</td>\n",
              "      <td>73.425000</td>\n",
              "      <td>196.125000</td>\n",
              "      <td>3.799500</td>\n",
              "      <td>19.575000</td>\n",
              "      <td>26.000000</td>\n",
              "      <td>89.414878</td>\n",
              "    </tr>\n",
              "    <tr>\n",
              "      <th>max</th>\n",
              "      <td>540.561000</td>\n",
              "      <td>67.550000</td>\n",
              "      <td>85.500000</td>\n",
              "      <td>8.000000</td>\n",
              "      <td>450.000000</td>\n",
              "      <td>138.700000</td>\n",
              "      <td>79.900000</td>\n",
              "      <td>224.500000</td>\n",
              "      <td>5.572000</td>\n",
              "      <td>32.000000</td>\n",
              "      <td>45.000000</td>\n",
              "      <td>188.144323</td>\n",
              "    </tr>\n",
              "  </tbody>\n",
              "</table>\n",
              "</div>"
            ],
            "text/plain": [
              "       Sales_in_thousands  ...  Power_perf_factor\n",
              "count          157.000000  ...         155.000000\n",
              "mean            52.998076  ...          77.043591\n",
              "std             68.029422  ...          25.142664\n",
              "min              0.110000  ...          23.276272\n",
              "25%             14.114000  ...          60.407707\n",
              "50%             29.450000  ...          72.030917\n",
              "75%             67.956000  ...          89.414878\n",
              "max            540.561000  ...         188.144323\n",
              "\n",
              "[8 rows x 12 columns]"
            ]
          },
          "metadata": {
            "tags": []
          },
          "execution_count": 11
        }
      ]
    },
    {
      "cell_type": "code",
      "metadata": {
        "id": "VvFKcqsdD406",
        "colab_type": "code",
        "outputId": "a8d91db5-71c8-4222-8487-161ecb31ba52",
        "colab": {
          "base_uri": "https://localhost:8080/",
          "height": 306
        }
      },
      "source": [
        "car_sales.dtypes"
      ],
      "execution_count": 12,
      "outputs": [
        {
          "output_type": "execute_result",
          "data": {
            "text/plain": [
              "Manufacturer               object\n",
              "Model                      object\n",
              "Sales_in_thousands        float64\n",
              "four_year_resale_value    float64\n",
              "Vehicle_type               object\n",
              "Price_in_thousands        float64\n",
              "Engine_size               float64\n",
              "Horsepower                float64\n",
              "Wheelbase                 float64\n",
              "Width                     float64\n",
              "Length                    float64\n",
              "Curb_weight               float64\n",
              "Fuel_capacity             float64\n",
              "Fuel_efficiency           float64\n",
              "Latest_Launch              object\n",
              "Power_perf_factor         float64\n",
              "dtype: object"
            ]
          },
          "metadata": {
            "tags": []
          },
          "execution_count": 12
        }
      ]
    },
    {
      "cell_type": "markdown",
      "metadata": {
        "id": "nnyndjF8VEag",
        "colab_type": "text"
      },
      "source": [
        "### Separate numerical and categorical data"
      ]
    },
    {
      "cell_type": "code",
      "metadata": {
        "id": "otE-LbxbD7w1",
        "colab_type": "code",
        "outputId": "f7ff31ac-35b6-43dd-a323-415681068814",
        "colab": {
          "base_uri": "https://localhost:8080/",
          "height": 224
        }
      },
      "source": [
        "# numerical\n",
        "car_sales_num=car_sales._get_numeric_data()\n",
        "car_sales_num.head()"
      ],
      "execution_count": 13,
      "outputs": [
        {
          "output_type": "execute_result",
          "data": {
            "text/html": [
              "<div>\n",
              "<style scoped>\n",
              "    .dataframe tbody tr th:only-of-type {\n",
              "        vertical-align: middle;\n",
              "    }\n",
              "\n",
              "    .dataframe tbody tr th {\n",
              "        vertical-align: top;\n",
              "    }\n",
              "\n",
              "    .dataframe thead th {\n",
              "        text-align: right;\n",
              "    }\n",
              "</style>\n",
              "<table border=\"1\" class=\"dataframe\">\n",
              "  <thead>\n",
              "    <tr style=\"text-align: right;\">\n",
              "      <th></th>\n",
              "      <th>Sales_in_thousands</th>\n",
              "      <th>four_year_resale_value</th>\n",
              "      <th>Price_in_thousands</th>\n",
              "      <th>Engine_size</th>\n",
              "      <th>Horsepower</th>\n",
              "      <th>Wheelbase</th>\n",
              "      <th>Width</th>\n",
              "      <th>Length</th>\n",
              "      <th>Curb_weight</th>\n",
              "      <th>Fuel_capacity</th>\n",
              "      <th>Fuel_efficiency</th>\n",
              "      <th>Power_perf_factor</th>\n",
              "    </tr>\n",
              "  </thead>\n",
              "  <tbody>\n",
              "    <tr>\n",
              "      <th>0</th>\n",
              "      <td>16.919</td>\n",
              "      <td>16.360</td>\n",
              "      <td>21.50</td>\n",
              "      <td>1.8</td>\n",
              "      <td>140.0</td>\n",
              "      <td>101.2</td>\n",
              "      <td>67.3</td>\n",
              "      <td>172.4</td>\n",
              "      <td>2.639</td>\n",
              "      <td>13.2</td>\n",
              "      <td>28.0</td>\n",
              "      <td>58.280150</td>\n",
              "    </tr>\n",
              "    <tr>\n",
              "      <th>1</th>\n",
              "      <td>39.384</td>\n",
              "      <td>19.875</td>\n",
              "      <td>28.40</td>\n",
              "      <td>3.2</td>\n",
              "      <td>225.0</td>\n",
              "      <td>108.1</td>\n",
              "      <td>70.3</td>\n",
              "      <td>192.9</td>\n",
              "      <td>3.517</td>\n",
              "      <td>17.2</td>\n",
              "      <td>25.0</td>\n",
              "      <td>91.370778</td>\n",
              "    </tr>\n",
              "    <tr>\n",
              "      <th>2</th>\n",
              "      <td>14.114</td>\n",
              "      <td>18.225</td>\n",
              "      <td>NaN</td>\n",
              "      <td>3.2</td>\n",
              "      <td>225.0</td>\n",
              "      <td>106.9</td>\n",
              "      <td>70.6</td>\n",
              "      <td>192.0</td>\n",
              "      <td>3.470</td>\n",
              "      <td>17.2</td>\n",
              "      <td>26.0</td>\n",
              "      <td>NaN</td>\n",
              "    </tr>\n",
              "    <tr>\n",
              "      <th>3</th>\n",
              "      <td>8.588</td>\n",
              "      <td>29.725</td>\n",
              "      <td>42.00</td>\n",
              "      <td>3.5</td>\n",
              "      <td>210.0</td>\n",
              "      <td>114.6</td>\n",
              "      <td>71.4</td>\n",
              "      <td>196.6</td>\n",
              "      <td>3.850</td>\n",
              "      <td>18.0</td>\n",
              "      <td>22.0</td>\n",
              "      <td>91.389779</td>\n",
              "    </tr>\n",
              "    <tr>\n",
              "      <th>4</th>\n",
              "      <td>20.397</td>\n",
              "      <td>22.255</td>\n",
              "      <td>23.99</td>\n",
              "      <td>1.8</td>\n",
              "      <td>150.0</td>\n",
              "      <td>102.6</td>\n",
              "      <td>68.2</td>\n",
              "      <td>178.0</td>\n",
              "      <td>2.998</td>\n",
              "      <td>16.4</td>\n",
              "      <td>27.0</td>\n",
              "      <td>62.777639</td>\n",
              "    </tr>\n",
              "  </tbody>\n",
              "</table>\n",
              "</div>"
            ],
            "text/plain": [
              "   Sales_in_thousands  ...  Power_perf_factor\n",
              "0              16.919  ...          58.280150\n",
              "1              39.384  ...          91.370778\n",
              "2              14.114  ...                NaN\n",
              "3               8.588  ...          91.389779\n",
              "4              20.397  ...          62.777639\n",
              "\n",
              "[5 rows x 12 columns]"
            ]
          },
          "metadata": {
            "tags": []
          },
          "execution_count": 13
        }
      ]
    },
    {
      "cell_type": "code",
      "metadata": {
        "id": "O55BvvHeVPih",
        "colab_type": "code",
        "colab": {}
      },
      "source": [
        "# categorical\n",
        "car_sales_cat=car_sales.select_dtypes(include=['object'])"
      ],
      "execution_count": 0,
      "outputs": []
    },
    {
      "cell_type": "markdown",
      "metadata": {
        "id": "oInTpbPtVgz2",
        "colab_type": "text"
      },
      "source": [
        "\n",
        "### Creating Data audit Report"
      ]
    },
    {
      "cell_type": "code",
      "metadata": {
        "id": "1sQF1QNoVP4j",
        "colab_type": "code",
        "colab": {}
      },
      "source": [
        "# Use a general function that returns multiple values\n",
        "def var_summary(x):\n",
        "    return pd.Series([x.count(), x.isnull().sum(), x.sum(), x.mean(), x.median(),  x.std(), x.var(), x.min(), x.dropna().quantile(0.01), x.dropna().quantile(0.05),x.dropna().quantile(0.10),x.dropna().quantile(0.25),x.dropna().quantile(0.50),x.dropna().quantile(0.75), x.dropna().quantile(0.90),x.dropna().quantile(0.95), x.dropna().quantile(0.99),x.max()], \n",
        "                  index=['N', 'NMISS', 'SUM', 'MEAN','MEDIAN', 'STD', 'VAR', 'MIN', 'P1' , 'P5' ,'P10' ,'P25' ,'P50' ,'P75' ,'P90' ,'P95' ,'P99' ,'MAX'])\n",
        "\n",
        "num_summary=car_sales_num.apply(lambda x: var_summary(x)).T"
      ],
      "execution_count": 0,
      "outputs": []
    },
    {
      "cell_type": "code",
      "metadata": {
        "id": "kSbx17CpVP-3",
        "colab_type": "code",
        "colab": {
          "base_uri": "https://localhost:8080/",
          "height": 441
        },
        "outputId": "3a4bcdc8-749e-4401-afbb-6d2d1d460ab2"
      },
      "source": [
        "num_summary"
      ],
      "execution_count": 16,
      "outputs": [
        {
          "output_type": "execute_result",
          "data": {
            "text/html": [
              "<div>\n",
              "<style scoped>\n",
              "    .dataframe tbody tr th:only-of-type {\n",
              "        vertical-align: middle;\n",
              "    }\n",
              "\n",
              "    .dataframe tbody tr th {\n",
              "        vertical-align: top;\n",
              "    }\n",
              "\n",
              "    .dataframe thead th {\n",
              "        text-align: right;\n",
              "    }\n",
              "</style>\n",
              "<table border=\"1\" class=\"dataframe\">\n",
              "  <thead>\n",
              "    <tr style=\"text-align: right;\">\n",
              "      <th></th>\n",
              "      <th>N</th>\n",
              "      <th>NMISS</th>\n",
              "      <th>SUM</th>\n",
              "      <th>MEAN</th>\n",
              "      <th>MEDIAN</th>\n",
              "      <th>STD</th>\n",
              "      <th>VAR</th>\n",
              "      <th>MIN</th>\n",
              "      <th>P1</th>\n",
              "      <th>P5</th>\n",
              "      <th>P10</th>\n",
              "      <th>P25</th>\n",
              "      <th>P50</th>\n",
              "      <th>P75</th>\n",
              "      <th>P90</th>\n",
              "      <th>P95</th>\n",
              "      <th>P99</th>\n",
              "      <th>MAX</th>\n",
              "    </tr>\n",
              "  </thead>\n",
              "  <tbody>\n",
              "    <tr>\n",
              "      <th>Sales_in_thousands</th>\n",
              "      <td>157.0</td>\n",
              "      <td>0.0</td>\n",
              "      <td>8320.698000</td>\n",
              "      <td>52.998076</td>\n",
              "      <td>29.450000</td>\n",
              "      <td>68.029422</td>\n",
              "      <td>4628.002257</td>\n",
              "      <td>0.110000</td>\n",
              "      <td>0.93728</td>\n",
              "      <td>1.870800</td>\n",
              "      <td>5.453600</td>\n",
              "      <td>14.114000</td>\n",
              "      <td>29.450000</td>\n",
              "      <td>67.956000</td>\n",
              "      <td>127.641600</td>\n",
              "      <td>185.336200</td>\n",
              "      <td>260.645320</td>\n",
              "      <td>540.561000</td>\n",
              "    </tr>\n",
              "    <tr>\n",
              "      <th>four_year_resale_value</th>\n",
              "      <td>121.0</td>\n",
              "      <td>36.0</td>\n",
              "      <td>2186.830000</td>\n",
              "      <td>18.072975</td>\n",
              "      <td>14.180000</td>\n",
              "      <td>11.453384</td>\n",
              "      <td>131.180007</td>\n",
              "      <td>5.160000</td>\n",
              "      <td>6.17300</td>\n",
              "      <td>7.850000</td>\n",
              "      <td>9.125000</td>\n",
              "      <td>11.260000</td>\n",
              "      <td>14.180000</td>\n",
              "      <td>19.875000</td>\n",
              "      <td>32.075000</td>\n",
              "      <td>41.250000</td>\n",
              "      <td>60.220000</td>\n",
              "      <td>67.550000</td>\n",
              "    </tr>\n",
              "    <tr>\n",
              "      <th>Price_in_thousands</th>\n",
              "      <td>155.0</td>\n",
              "      <td>2.0</td>\n",
              "      <td>4245.567000</td>\n",
              "      <td>27.390755</td>\n",
              "      <td>22.799000</td>\n",
              "      <td>14.351653</td>\n",
              "      <td>205.969949</td>\n",
              "      <td>9.235000</td>\n",
              "      <td>10.23144</td>\n",
              "      <td>12.469000</td>\n",
              "      <td>13.970800</td>\n",
              "      <td>18.017500</td>\n",
              "      <td>22.799000</td>\n",
              "      <td>31.947500</td>\n",
              "      <td>44.017000</td>\n",
              "      <td>55.835000</td>\n",
              "      <td>78.479800</td>\n",
              "      <td>85.500000</td>\n",
              "    </tr>\n",
              "    <tr>\n",
              "      <th>Engine_size</th>\n",
              "      <td>156.0</td>\n",
              "      <td>1.0</td>\n",
              "      <td>477.500000</td>\n",
              "      <td>3.060897</td>\n",
              "      <td>3.000000</td>\n",
              "      <td>1.044653</td>\n",
              "      <td>1.091300</td>\n",
              "      <td>1.000000</td>\n",
              "      <td>1.55500</td>\n",
              "      <td>1.800000</td>\n",
              "      <td>1.950000</td>\n",
              "      <td>2.300000</td>\n",
              "      <td>3.000000</td>\n",
              "      <td>3.575000</td>\n",
              "      <td>4.600000</td>\n",
              "      <td>4.775000</td>\n",
              "      <td>5.700000</td>\n",
              "      <td>8.000000</td>\n",
              "    </tr>\n",
              "    <tr>\n",
              "      <th>Horsepower</th>\n",
              "      <td>156.0</td>\n",
              "      <td>1.0</td>\n",
              "      <td>29008.000000</td>\n",
              "      <td>185.948718</td>\n",
              "      <td>177.500000</td>\n",
              "      <td>56.700321</td>\n",
              "      <td>3214.926385</td>\n",
              "      <td>55.000000</td>\n",
              "      <td>96.40000</td>\n",
              "      <td>114.500000</td>\n",
              "      <td>120.000000</td>\n",
              "      <td>149.500000</td>\n",
              "      <td>177.500000</td>\n",
              "      <td>215.000000</td>\n",
              "      <td>254.000000</td>\n",
              "      <td>300.000000</td>\n",
              "      <td>325.750000</td>\n",
              "      <td>450.000000</td>\n",
              "    </tr>\n",
              "    <tr>\n",
              "      <th>Wheelbase</th>\n",
              "      <td>156.0</td>\n",
              "      <td>1.0</td>\n",
              "      <td>16768.000000</td>\n",
              "      <td>107.487179</td>\n",
              "      <td>107.000000</td>\n",
              "      <td>7.641303</td>\n",
              "      <td>58.389512</td>\n",
              "      <td>92.600000</td>\n",
              "      <td>92.87500</td>\n",
              "      <td>95.875000</td>\n",
              "      <td>98.650000</td>\n",
              "      <td>103.000000</td>\n",
              "      <td>107.000000</td>\n",
              "      <td>112.200000</td>\n",
              "      <td>115.500000</td>\n",
              "      <td>119.250000</td>\n",
              "      <td>134.375000</td>\n",
              "      <td>138.700000</td>\n",
              "    </tr>\n",
              "    <tr>\n",
              "      <th>Width</th>\n",
              "      <td>156.0</td>\n",
              "      <td>1.0</td>\n",
              "      <td>11099.400000</td>\n",
              "      <td>71.150000</td>\n",
              "      <td>70.550000</td>\n",
              "      <td>3.451872</td>\n",
              "      <td>11.915419</td>\n",
              "      <td>62.600000</td>\n",
              "      <td>66.08500</td>\n",
              "      <td>66.500000</td>\n",
              "      <td>66.900000</td>\n",
              "      <td>68.400000</td>\n",
              "      <td>70.550000</td>\n",
              "      <td>73.425000</td>\n",
              "      <td>76.200000</td>\n",
              "      <td>78.200000</td>\n",
              "      <td>79.190000</td>\n",
              "      <td>79.900000</td>\n",
              "    </tr>\n",
              "    <tr>\n",
              "      <th>Length</th>\n",
              "      <td>156.0</td>\n",
              "      <td>1.0</td>\n",
              "      <td>29225.600000</td>\n",
              "      <td>187.343590</td>\n",
              "      <td>187.900000</td>\n",
              "      <td>13.431754</td>\n",
              "      <td>180.412023</td>\n",
              "      <td>149.400000</td>\n",
              "      <td>154.91500</td>\n",
              "      <td>163.675000</td>\n",
              "      <td>173.000000</td>\n",
              "      <td>177.575000</td>\n",
              "      <td>187.900000</td>\n",
              "      <td>196.125000</td>\n",
              "      <td>203.400000</td>\n",
              "      <td>208.500000</td>\n",
              "      <td>219.305000</td>\n",
              "      <td>224.500000</td>\n",
              "    </tr>\n",
              "    <tr>\n",
              "      <th>Curb_weight</th>\n",
              "      <td>155.0</td>\n",
              "      <td>2.0</td>\n",
              "      <td>523.594000</td>\n",
              "      <td>3.378026</td>\n",
              "      <td>3.342000</td>\n",
              "      <td>0.630502</td>\n",
              "      <td>0.397532</td>\n",
              "      <td>1.895000</td>\n",
              "      <td>2.24540</td>\n",
              "      <td>2.423500</td>\n",
              "      <td>2.606200</td>\n",
              "      <td>2.971000</td>\n",
              "      <td>3.342000</td>\n",
              "      <td>3.799500</td>\n",
              "      <td>4.118600</td>\n",
              "      <td>4.389100</td>\n",
              "      <td>5.396680</td>\n",
              "      <td>5.572000</td>\n",
              "    </tr>\n",
              "    <tr>\n",
              "      <th>Fuel_capacity</th>\n",
              "      <td>156.0</td>\n",
              "      <td>1.0</td>\n",
              "      <td>2800.500000</td>\n",
              "      <td>17.951923</td>\n",
              "      <td>17.200000</td>\n",
              "      <td>3.887921</td>\n",
              "      <td>15.115932</td>\n",
              "      <td>10.300000</td>\n",
              "      <td>11.90000</td>\n",
              "      <td>12.500000</td>\n",
              "      <td>13.200000</td>\n",
              "      <td>15.800000</td>\n",
              "      <td>17.200000</td>\n",
              "      <td>19.575000</td>\n",
              "      <td>23.200000</td>\n",
              "      <td>25.400000</td>\n",
              "      <td>30.900000</td>\n",
              "      <td>32.000000</td>\n",
              "    </tr>\n",
              "    <tr>\n",
              "      <th>Fuel_efficiency</th>\n",
              "      <td>154.0</td>\n",
              "      <td>3.0</td>\n",
              "      <td>3672.000000</td>\n",
              "      <td>23.844156</td>\n",
              "      <td>24.000000</td>\n",
              "      <td>4.282706</td>\n",
              "      <td>18.341567</td>\n",
              "      <td>15.000000</td>\n",
              "      <td>15.00000</td>\n",
              "      <td>16.650000</td>\n",
              "      <td>18.300000</td>\n",
              "      <td>21.000000</td>\n",
              "      <td>24.000000</td>\n",
              "      <td>26.000000</td>\n",
              "      <td>28.700000</td>\n",
              "      <td>31.000000</td>\n",
              "      <td>33.000000</td>\n",
              "      <td>45.000000</td>\n",
              "    </tr>\n",
              "    <tr>\n",
              "      <th>Power_perf_factor</th>\n",
              "      <td>155.0</td>\n",
              "      <td>2.0</td>\n",
              "      <td>11941.756636</td>\n",
              "      <td>77.043591</td>\n",
              "      <td>72.030917</td>\n",
              "      <td>25.142664</td>\n",
              "      <td>632.153558</td>\n",
              "      <td>23.276272</td>\n",
              "      <td>38.46192</td>\n",
              "      <td>46.203997</td>\n",
              "      <td>48.447741</td>\n",
              "      <td>60.407707</td>\n",
              "      <td>72.030917</td>\n",
              "      <td>89.414878</td>\n",
              "      <td>108.499252</td>\n",
              "      <td>125.091513</td>\n",
              "      <td>141.119461</td>\n",
              "      <td>188.144323</td>\n",
              "    </tr>\n",
              "  </tbody>\n",
              "</table>\n",
              "</div>"
            ],
            "text/plain": [
              "                            N  NMISS  ...         P99         MAX\n",
              "Sales_in_thousands      157.0    0.0  ...  260.645320  540.561000\n",
              "four_year_resale_value  121.0   36.0  ...   60.220000   67.550000\n",
              "Price_in_thousands      155.0    2.0  ...   78.479800   85.500000\n",
              "Engine_size             156.0    1.0  ...    5.700000    8.000000\n",
              "Horsepower              156.0    1.0  ...  325.750000  450.000000\n",
              "Wheelbase               156.0    1.0  ...  134.375000  138.700000\n",
              "Width                   156.0    1.0  ...   79.190000   79.900000\n",
              "Length                  156.0    1.0  ...  219.305000  224.500000\n",
              "Curb_weight             155.0    2.0  ...    5.396680    5.572000\n",
              "Fuel_capacity           156.0    1.0  ...   30.900000   32.000000\n",
              "Fuel_efficiency         154.0    3.0  ...   33.000000   45.000000\n",
              "Power_perf_factor       155.0    2.0  ...  141.119461  188.144323\n",
              "\n",
              "[12 rows x 18 columns]"
            ]
          },
          "metadata": {
            "tags": []
          },
          "execution_count": 16
        }
      ]
    },
    {
      "cell_type": "code",
      "metadata": {
        "id": "mgdr3GDxVQt7",
        "colab_type": "code",
        "colab": {}
      },
      "source": [
        "def cat_summary(x):\n",
        "    return pd.Series([x.count(), x.isnull().sum(), x.value_counts()], \n",
        "                  index=['N', 'NMISS', 'ColumnsNames'])\n",
        "\n",
        "cat_summary=car_sales_cat.apply(lambda x: cat_summary(x))"
      ],
      "execution_count": 0,
      "outputs": []
    },
    {
      "cell_type": "code",
      "metadata": {
        "id": "gsKancWrVQsN",
        "colab_type": "code",
        "colab": {
          "base_uri": "https://localhost:8080/",
          "height": 142
        },
        "outputId": "6e91eec3-abc2-4a6c-a71e-6d5e767944b2"
      },
      "source": [
        "cat_summary"
      ],
      "execution_count": 18,
      "outputs": [
        {
          "output_type": "execute_result",
          "data": {
            "text/html": [
              "<div>\n",
              "<style scoped>\n",
              "    .dataframe tbody tr th:only-of-type {\n",
              "        vertical-align: middle;\n",
              "    }\n",
              "\n",
              "    .dataframe tbody tr th {\n",
              "        vertical-align: top;\n",
              "    }\n",
              "\n",
              "    .dataframe thead th {\n",
              "        text-align: right;\n",
              "    }\n",
              "</style>\n",
              "<table border=\"1\" class=\"dataframe\">\n",
              "  <thead>\n",
              "    <tr style=\"text-align: right;\">\n",
              "      <th></th>\n",
              "      <th>Manufacturer</th>\n",
              "      <th>Model</th>\n",
              "      <th>Vehicle_type</th>\n",
              "      <th>Latest_Launch</th>\n",
              "    </tr>\n",
              "  </thead>\n",
              "  <tbody>\n",
              "    <tr>\n",
              "      <th>N</th>\n",
              "      <td>157</td>\n",
              "      <td>157</td>\n",
              "      <td>157</td>\n",
              "      <td>157</td>\n",
              "    </tr>\n",
              "    <tr>\n",
              "      <th>NMISS</th>\n",
              "      <td>0</td>\n",
              "      <td>0</td>\n",
              "      <td>0</td>\n",
              "      <td>0</td>\n",
              "    </tr>\n",
              "    <tr>\n",
              "      <th>ColumnsNames</th>\n",
              "      <td>Dodge         11\n",
              "Ford          11\n",
              "Mercedes-B  ...</td>\n",
              "      <td>Neon             2\n",
              "Grand Marquis    1\n",
              "Taurus  ...</td>\n",
              "      <td>Passenger    116\n",
              "Car           41\n",
              "Name: Vehicl...</td>\n",
              "      <td>1/24/2011    2\n",
              "4/26/2011    2\n",
              "8/16/2012    2\n",
              "4...</td>\n",
              "    </tr>\n",
              "  </tbody>\n",
              "</table>\n",
              "</div>"
            ],
            "text/plain": [
              "                                                   Manufacturer  ...                                      Latest_Launch\n",
              "N                                                           157  ...                                                157\n",
              "NMISS                                                         0  ...                                                  0\n",
              "ColumnsNames  Dodge         11\n",
              "Ford          11\n",
              "Mercedes-B  ...  ...  1/24/2011    2\n",
              "4/26/2011    2\n",
              "8/16/2012    2\n",
              "4...\n",
              "\n",
              "[3 rows x 4 columns]"
            ]
          },
          "metadata": {
            "tags": []
          },
          "execution_count": 18
        }
      ]
    },
    {
      "cell_type": "markdown",
      "metadata": {
        "id": "iRwYC_w1V_g2",
        "colab_type": "text"
      },
      "source": [
        "### Handling Outliers"
      ]
    },
    {
      "cell_type": "code",
      "metadata": {
        "id": "nCWMRD1OVQgt",
        "colab_type": "code",
        "colab": {}
      },
      "source": [
        "#Handling Outliers - Method\n",
        "def outlier_capping(x):\n",
        "    x = x.clip(upper=x.quantile(0.99))\n",
        "    x = x.clip(lower=x.quantile(0.01))\n",
        "    return x\n",
        "\n",
        "car_sales_num=car_sales_num.apply(lambda x: outlier_capping(x))"
      ],
      "execution_count": 0,
      "outputs": []
    },
    {
      "cell_type": "code",
      "metadata": {
        "id": "YjobnsFIVQfO",
        "colab_type": "code",
        "colab": {}
      },
      "source": [
        "num_summary = car_sales_num.apply(lambda x: var_summary(x)).T"
      ],
      "execution_count": 0,
      "outputs": []
    },
    {
      "cell_type": "code",
      "metadata": {
        "id": "B3abo6VRVQdt",
        "colab_type": "code",
        "colab": {
          "base_uri": "https://localhost:8080/",
          "height": 441
        },
        "outputId": "a0f8a23e-60c0-4317-a0a1-5db3f7252866"
      },
      "source": [
        "num_summary"
      ],
      "execution_count": 21,
      "outputs": [
        {
          "output_type": "execute_result",
          "data": {
            "text/html": [
              "<div>\n",
              "<style scoped>\n",
              "    .dataframe tbody tr th:only-of-type {\n",
              "        vertical-align: middle;\n",
              "    }\n",
              "\n",
              "    .dataframe tbody tr th {\n",
              "        vertical-align: top;\n",
              "    }\n",
              "\n",
              "    .dataframe thead th {\n",
              "        text-align: right;\n",
              "    }\n",
              "</style>\n",
              "<table border=\"1\" class=\"dataframe\">\n",
              "  <thead>\n",
              "    <tr style=\"text-align: right;\">\n",
              "      <th></th>\n",
              "      <th>N</th>\n",
              "      <th>NMISS</th>\n",
              "      <th>SUM</th>\n",
              "      <th>MEAN</th>\n",
              "      <th>MEDIAN</th>\n",
              "      <th>STD</th>\n",
              "      <th>VAR</th>\n",
              "      <th>MIN</th>\n",
              "      <th>P1</th>\n",
              "      <th>P5</th>\n",
              "      <th>P10</th>\n",
              "      <th>P25</th>\n",
              "      <th>P50</th>\n",
              "      <th>P75</th>\n",
              "      <th>P90</th>\n",
              "      <th>P95</th>\n",
              "      <th>P99</th>\n",
              "      <th>MAX</th>\n",
              "    </tr>\n",
              "  </thead>\n",
              "  <tbody>\n",
              "    <tr>\n",
              "      <th>Sales_in_thousands</th>\n",
              "      <td>157.0</td>\n",
              "      <td>0.0</td>\n",
              "      <td>8025.529200</td>\n",
              "      <td>51.118020</td>\n",
              "      <td>29.450000</td>\n",
              "      <td>57.722699</td>\n",
              "      <td>3331.909938</td>\n",
              "      <td>0.93728</td>\n",
              "      <td>0.946643</td>\n",
              "      <td>1.870800</td>\n",
              "      <td>5.453600</td>\n",
              "      <td>14.114000</td>\n",
              "      <td>29.450000</td>\n",
              "      <td>67.956000</td>\n",
              "      <td>127.641600</td>\n",
              "      <td>185.336200</td>\n",
              "      <td>253.560581</td>\n",
              "      <td>260.645320</td>\n",
              "    </tr>\n",
              "    <tr>\n",
              "      <th>four_year_resale_value</th>\n",
              "      <td>121.0</td>\n",
              "      <td>36.0</td>\n",
              "      <td>2180.421000</td>\n",
              "      <td>18.020008</td>\n",
              "      <td>14.180000</td>\n",
              "      <td>11.181335</td>\n",
              "      <td>125.022260</td>\n",
              "      <td>6.17300</td>\n",
              "      <td>6.423400</td>\n",
              "      <td>7.850000</td>\n",
              "      <td>9.125000</td>\n",
              "      <td>11.260000</td>\n",
              "      <td>14.180000</td>\n",
              "      <td>19.875000</td>\n",
              "      <td>32.075000</td>\n",
              "      <td>41.250000</td>\n",
              "      <td>59.896000</td>\n",
              "      <td>60.220000</td>\n",
              "    </tr>\n",
              "    <tr>\n",
              "      <th>Price_in_thousands</th>\n",
              "      <td>155.0</td>\n",
              "      <td>2.0</td>\n",
              "      <td>4235.955480</td>\n",
              "      <td>27.328745</td>\n",
              "      <td>22.799000</td>\n",
              "      <td>14.063970</td>\n",
              "      <td>197.795238</td>\n",
              "      <td>10.23144</td>\n",
              "      <td>10.476362</td>\n",
              "      <td>12.469000</td>\n",
              "      <td>13.970800</td>\n",
              "      <td>18.017500</td>\n",
              "      <td>22.799000</td>\n",
              "      <td>31.947500</td>\n",
              "      <td>44.017000</td>\n",
              "      <td>55.835000</td>\n",
              "      <td>76.584508</td>\n",
              "      <td>78.479800</td>\n",
              "    </tr>\n",
              "    <tr>\n",
              "      <th>Engine_size</th>\n",
              "      <td>156.0</td>\n",
              "      <td>1.0</td>\n",
              "      <td>475.810000</td>\n",
              "      <td>3.050064</td>\n",
              "      <td>3.000000</td>\n",
              "      <td>0.982279</td>\n",
              "      <td>0.964871</td>\n",
              "      <td>1.55500</td>\n",
              "      <td>1.579750</td>\n",
              "      <td>1.800000</td>\n",
              "      <td>1.950000</td>\n",
              "      <td>2.300000</td>\n",
              "      <td>3.000000</td>\n",
              "      <td>3.575000</td>\n",
              "      <td>4.600000</td>\n",
              "      <td>4.775000</td>\n",
              "      <td>5.700000</td>\n",
              "      <td>5.700000</td>\n",
              "    </tr>\n",
              "    <tr>\n",
              "      <th>Horsepower</th>\n",
              "      <td>156.0</td>\n",
              "      <td>1.0</td>\n",
              "      <td>28910.300000</td>\n",
              "      <td>185.322436</td>\n",
              "      <td>177.500000</td>\n",
              "      <td>52.816470</td>\n",
              "      <td>2789.579526</td>\n",
              "      <td>96.40000</td>\n",
              "      <td>98.380000</td>\n",
              "      <td>114.500000</td>\n",
              "      <td>120.000000</td>\n",
              "      <td>149.500000</td>\n",
              "      <td>177.500000</td>\n",
              "      <td>215.000000</td>\n",
              "      <td>254.000000</td>\n",
              "      <td>300.000000</td>\n",
              "      <td>317.087500</td>\n",
              "      <td>325.750000</td>\n",
              "    </tr>\n",
              "    <tr>\n",
              "      <th>Wheelbase</th>\n",
              "      <td>156.0</td>\n",
              "      <td>1.0</td>\n",
              "      <td>16760.100000</td>\n",
              "      <td>107.436538</td>\n",
              "      <td>107.000000</td>\n",
              "      <td>7.424295</td>\n",
              "      <td>55.120156</td>\n",
              "      <td>92.87500</td>\n",
              "      <td>92.998750</td>\n",
              "      <td>95.875000</td>\n",
              "      <td>98.650000</td>\n",
              "      <td>103.000000</td>\n",
              "      <td>107.000000</td>\n",
              "      <td>112.200000</td>\n",
              "      <td>115.500000</td>\n",
              "      <td>119.250000</td>\n",
              "      <td>132.518750</td>\n",
              "      <td>134.375000</td>\n",
              "    </tr>\n",
              "    <tr>\n",
              "      <th>Width</th>\n",
              "      <td>156.0</td>\n",
              "      <td>1.0</td>\n",
              "      <td>11102.450000</td>\n",
              "      <td>71.169551</td>\n",
              "      <td>70.550000</td>\n",
              "      <td>3.390339</td>\n",
              "      <td>11.494400</td>\n",
              "      <td>66.08500</td>\n",
              "      <td>66.258250</td>\n",
              "      <td>66.500000</td>\n",
              "      <td>66.900000</td>\n",
              "      <td>68.400000</td>\n",
              "      <td>70.550000</td>\n",
              "      <td>73.425000</td>\n",
              "      <td>76.200000</td>\n",
              "      <td>78.200000</td>\n",
              "      <td>79.140500</td>\n",
              "      <td>79.190000</td>\n",
              "    </tr>\n",
              "    <tr>\n",
              "      <th>Length</th>\n",
              "      <td>156.0</td>\n",
              "      <td>1.0</td>\n",
              "      <td>29223.940000</td>\n",
              "      <td>187.332949</td>\n",
              "      <td>187.900000</td>\n",
              "      <td>13.120350</td>\n",
              "      <td>172.143594</td>\n",
              "      <td>154.91500</td>\n",
              "      <td>156.226750</td>\n",
              "      <td>163.675000</td>\n",
              "      <td>173.000000</td>\n",
              "      <td>177.575000</td>\n",
              "      <td>187.900000</td>\n",
              "      <td>196.125000</td>\n",
              "      <td>203.400000</td>\n",
              "      <td>208.500000</td>\n",
              "      <td>217.102250</td>\n",
              "      <td>219.305000</td>\n",
              "    </tr>\n",
              "    <tr>\n",
              "      <th>Curb_weight</th>\n",
              "      <td>155.0</td>\n",
              "      <td>2.0</td>\n",
              "      <td>523.770160</td>\n",
              "      <td>3.379162</td>\n",
              "      <td>3.342000</td>\n",
              "      <td>0.621764</td>\n",
              "      <td>0.386591</td>\n",
              "      <td>2.24540</td>\n",
              "      <td>2.247884</td>\n",
              "      <td>2.423500</td>\n",
              "      <td>2.606200</td>\n",
              "      <td>2.971000</td>\n",
              "      <td>3.342000</td>\n",
              "      <td>3.799500</td>\n",
              "      <td>4.118600</td>\n",
              "      <td>4.389100</td>\n",
              "      <td>5.394693</td>\n",
              "      <td>5.396680</td>\n",
              "    </tr>\n",
              "    <tr>\n",
              "      <th>Fuel_capacity</th>\n",
              "      <td>156.0</td>\n",
              "      <td>1.0</td>\n",
              "      <td>2799.900000</td>\n",
              "      <td>17.948077</td>\n",
              "      <td>17.200000</td>\n",
              "      <td>3.819854</td>\n",
              "      <td>14.591287</td>\n",
              "      <td>11.90000</td>\n",
              "      <td>11.900000</td>\n",
              "      <td>12.500000</td>\n",
              "      <td>13.200000</td>\n",
              "      <td>15.800000</td>\n",
              "      <td>17.200000</td>\n",
              "      <td>19.575000</td>\n",
              "      <td>23.200000</td>\n",
              "      <td>25.400000</td>\n",
              "      <td>30.405000</td>\n",
              "      <td>30.900000</td>\n",
              "    </tr>\n",
              "    <tr>\n",
              "      <th>Fuel_efficiency</th>\n",
              "      <td>154.0</td>\n",
              "      <td>3.0</td>\n",
              "      <td>3660.000000</td>\n",
              "      <td>23.766234</td>\n",
              "      <td>24.000000</td>\n",
              "      <td>3.994755</td>\n",
              "      <td>15.958068</td>\n",
              "      <td>15.00000</td>\n",
              "      <td>15.000000</td>\n",
              "      <td>16.650000</td>\n",
              "      <td>18.300000</td>\n",
              "      <td>21.000000</td>\n",
              "      <td>24.000000</td>\n",
              "      <td>26.000000</td>\n",
              "      <td>28.700000</td>\n",
              "      <td>31.000000</td>\n",
              "      <td>33.000000</td>\n",
              "      <td>33.000000</td>\n",
              "    </tr>\n",
              "    <tr>\n",
              "      <th>Power_perf_factor</th>\n",
              "      <td>155.0</td>\n",
              "      <td>2.0</td>\n",
              "      <td>11911.685368</td>\n",
              "      <td>76.849583</td>\n",
              "      <td>72.030917</td>\n",
              "      <td>23.844968</td>\n",
              "      <td>568.582480</td>\n",
              "      <td>38.46192</td>\n",
              "      <td>39.285152</td>\n",
              "      <td>46.203997</td>\n",
              "      <td>48.447741</td>\n",
              "      <td>60.407707</td>\n",
              "      <td>72.030917</td>\n",
              "      <td>89.414878</td>\n",
              "      <td>108.499252</td>\n",
              "      <td>125.091513</td>\n",
              "      <td>141.109484</td>\n",
              "      <td>141.119461</td>\n",
              "    </tr>\n",
              "  </tbody>\n",
              "</table>\n",
              "</div>"
            ],
            "text/plain": [
              "                            N  NMISS  ...         P99         MAX\n",
              "Sales_in_thousands      157.0    0.0  ...  253.560581  260.645320\n",
              "four_year_resale_value  121.0   36.0  ...   59.896000   60.220000\n",
              "Price_in_thousands      155.0    2.0  ...   76.584508   78.479800\n",
              "Engine_size             156.0    1.0  ...    5.700000    5.700000\n",
              "Horsepower              156.0    1.0  ...  317.087500  325.750000\n",
              "Wheelbase               156.0    1.0  ...  132.518750  134.375000\n",
              "Width                   156.0    1.0  ...   79.140500   79.190000\n",
              "Length                  156.0    1.0  ...  217.102250  219.305000\n",
              "Curb_weight             155.0    2.0  ...    5.394693    5.396680\n",
              "Fuel_capacity           156.0    1.0  ...   30.405000   30.900000\n",
              "Fuel_efficiency         154.0    3.0  ...   33.000000   33.000000\n",
              "Power_perf_factor       155.0    2.0  ...  141.109484  141.119461\n",
              "\n",
              "[12 rows x 18 columns]"
            ]
          },
          "metadata": {
            "tags": []
          },
          "execution_count": 21
        }
      ]
    },
    {
      "cell_type": "markdown",
      "metadata": {
        "id": "k8-B7aplWIXe",
        "colab_type": "text"
      },
      "source": [
        "### Handling missing values"
      ]
    },
    {
      "cell_type": "code",
      "metadata": {
        "id": "9_dzFNEUVQcS",
        "colab_type": "code",
        "colab": {}
      },
      "source": [
        "#Handling missings - Method\n",
        "def Missing_imputation(x):\n",
        "    x = x.fillna(x.median())\n",
        "    return x\n",
        "\n",
        "car_sales_num=car_sales_num.apply(lambda x: Missing_imputation(x))"
      ],
      "execution_count": 0,
      "outputs": []
    },
    {
      "cell_type": "code",
      "metadata": {
        "id": "e_Z6sXMUVQay",
        "colab_type": "code",
        "colab": {
          "base_uri": "https://localhost:8080/",
          "height": 441
        },
        "outputId": "e3309df5-9023-496a-e11e-e44d75d848af"
      },
      "source": [
        "num_summary = car_sales_num.apply(lambda x: var_summary(x)).T\n",
        "num_summary"
      ],
      "execution_count": 23,
      "outputs": [
        {
          "output_type": "execute_result",
          "data": {
            "text/html": [
              "<div>\n",
              "<style scoped>\n",
              "    .dataframe tbody tr th:only-of-type {\n",
              "        vertical-align: middle;\n",
              "    }\n",
              "\n",
              "    .dataframe tbody tr th {\n",
              "        vertical-align: top;\n",
              "    }\n",
              "\n",
              "    .dataframe thead th {\n",
              "        text-align: right;\n",
              "    }\n",
              "</style>\n",
              "<table border=\"1\" class=\"dataframe\">\n",
              "  <thead>\n",
              "    <tr style=\"text-align: right;\">\n",
              "      <th></th>\n",
              "      <th>N</th>\n",
              "      <th>NMISS</th>\n",
              "      <th>SUM</th>\n",
              "      <th>MEAN</th>\n",
              "      <th>MEDIAN</th>\n",
              "      <th>STD</th>\n",
              "      <th>VAR</th>\n",
              "      <th>MIN</th>\n",
              "      <th>P1</th>\n",
              "      <th>P5</th>\n",
              "      <th>P10</th>\n",
              "      <th>P25</th>\n",
              "      <th>P50</th>\n",
              "      <th>P75</th>\n",
              "      <th>P90</th>\n",
              "      <th>P95</th>\n",
              "      <th>P99</th>\n",
              "      <th>MAX</th>\n",
              "    </tr>\n",
              "  </thead>\n",
              "  <tbody>\n",
              "    <tr>\n",
              "      <th>Sales_in_thousands</th>\n",
              "      <td>157.0</td>\n",
              "      <td>0.0</td>\n",
              "      <td>8025.529200</td>\n",
              "      <td>51.118020</td>\n",
              "      <td>29.450000</td>\n",
              "      <td>57.722699</td>\n",
              "      <td>3331.909938</td>\n",
              "      <td>0.93728</td>\n",
              "      <td>0.946643</td>\n",
              "      <td>1.870800</td>\n",
              "      <td>5.453600</td>\n",
              "      <td>14.114000</td>\n",
              "      <td>29.450000</td>\n",
              "      <td>67.956000</td>\n",
              "      <td>127.64160</td>\n",
              "      <td>185.336200</td>\n",
              "      <td>253.560581</td>\n",
              "      <td>260.645320</td>\n",
              "    </tr>\n",
              "    <tr>\n",
              "      <th>four_year_resale_value</th>\n",
              "      <td>157.0</td>\n",
              "      <td>0.0</td>\n",
              "      <td>2690.901000</td>\n",
              "      <td>17.139497</td>\n",
              "      <td>14.180000</td>\n",
              "      <td>9.939494</td>\n",
              "      <td>98.793544</td>\n",
              "      <td>6.17300</td>\n",
              "      <td>6.874120</td>\n",
              "      <td>8.425000</td>\n",
              "      <td>9.710000</td>\n",
              "      <td>12.545000</td>\n",
              "      <td>14.180000</td>\n",
              "      <td>18.140000</td>\n",
              "      <td>27.02500</td>\n",
              "      <td>39.275000</td>\n",
              "      <td>59.312800</td>\n",
              "      <td>60.220000</td>\n",
              "    </tr>\n",
              "    <tr>\n",
              "      <th>Price_in_thousands</th>\n",
              "      <td>157.0</td>\n",
              "      <td>0.0</td>\n",
              "      <td>4281.553480</td>\n",
              "      <td>27.271041</td>\n",
              "      <td>22.799000</td>\n",
              "      <td>13.982815</td>\n",
              "      <td>195.519110</td>\n",
              "      <td>10.23144</td>\n",
              "      <td>10.485434</td>\n",
              "      <td>12.491000</td>\n",
              "      <td>13.976200</td>\n",
              "      <td>18.145000</td>\n",
              "      <td>22.799000</td>\n",
              "      <td>31.930000</td>\n",
              "      <td>43.78800</td>\n",
              "      <td>55.225000</td>\n",
              "      <td>76.514312</td>\n",
              "      <td>78.479800</td>\n",
              "    </tr>\n",
              "    <tr>\n",
              "      <th>Engine_size</th>\n",
              "      <td>157.0</td>\n",
              "      <td>0.0</td>\n",
              "      <td>478.810000</td>\n",
              "      <td>3.049745</td>\n",
              "      <td>3.000000</td>\n",
              "      <td>0.979133</td>\n",
              "      <td>0.958702</td>\n",
              "      <td>1.55500</td>\n",
              "      <td>1.580200</td>\n",
              "      <td>1.800000</td>\n",
              "      <td>1.960000</td>\n",
              "      <td>2.300000</td>\n",
              "      <td>3.000000</td>\n",
              "      <td>3.500000</td>\n",
              "      <td>4.60000</td>\n",
              "      <td>4.760000</td>\n",
              "      <td>5.700000</td>\n",
              "      <td>5.700000</td>\n",
              "    </tr>\n",
              "    <tr>\n",
              "      <th>Horsepower</th>\n",
              "      <td>157.0</td>\n",
              "      <td>0.0</td>\n",
              "      <td>29087.800000</td>\n",
              "      <td>185.272611</td>\n",
              "      <td>177.500000</td>\n",
              "      <td>52.650616</td>\n",
              "      <td>2772.087354</td>\n",
              "      <td>96.40000</td>\n",
              "      <td>98.416000</td>\n",
              "      <td>114.600000</td>\n",
              "      <td>120.000000</td>\n",
              "      <td>150.000000</td>\n",
              "      <td>177.500000</td>\n",
              "      <td>215.000000</td>\n",
              "      <td>253.80000</td>\n",
              "      <td>300.000000</td>\n",
              "      <td>316.930000</td>\n",
              "      <td>325.750000</td>\n",
              "    </tr>\n",
              "    <tr>\n",
              "      <th>Wheelbase</th>\n",
              "      <td>157.0</td>\n",
              "      <td>0.0</td>\n",
              "      <td>16867.100000</td>\n",
              "      <td>107.433758</td>\n",
              "      <td>107.000000</td>\n",
              "      <td>7.400543</td>\n",
              "      <td>54.768036</td>\n",
              "      <td>92.87500</td>\n",
              "      <td>93.001000</td>\n",
              "      <td>95.920000</td>\n",
              "      <td>98.700000</td>\n",
              "      <td>103.000000</td>\n",
              "      <td>107.000000</td>\n",
              "      <td>112.200000</td>\n",
              "      <td>115.46000</td>\n",
              "      <td>119.200000</td>\n",
              "      <td>132.485000</td>\n",
              "      <td>134.375000</td>\n",
              "    </tr>\n",
              "    <tr>\n",
              "      <th>Width</th>\n",
              "      <td>157.0</td>\n",
              "      <td>0.0</td>\n",
              "      <td>11173.000000</td>\n",
              "      <td>71.165605</td>\n",
              "      <td>70.550000</td>\n",
              "      <td>3.379817</td>\n",
              "      <td>11.423163</td>\n",
              "      <td>66.08500</td>\n",
              "      <td>66.261400</td>\n",
              "      <td>66.500000</td>\n",
              "      <td>66.900000</td>\n",
              "      <td>68.400000</td>\n",
              "      <td>70.550000</td>\n",
              "      <td>73.400000</td>\n",
              "      <td>76.18000</td>\n",
              "      <td>78.200000</td>\n",
              "      <td>79.139600</td>\n",
              "      <td>79.190000</td>\n",
              "    </tr>\n",
              "    <tr>\n",
              "      <th>Length</th>\n",
              "      <td>157.0</td>\n",
              "      <td>0.0</td>\n",
              "      <td>29411.840000</td>\n",
              "      <td>187.336561</td>\n",
              "      <td>187.900000</td>\n",
              "      <td>13.078309</td>\n",
              "      <td>171.042158</td>\n",
              "      <td>154.91500</td>\n",
              "      <td>156.250600</td>\n",
              "      <td>163.700000</td>\n",
              "      <td>173.120000</td>\n",
              "      <td>177.600000</td>\n",
              "      <td>187.900000</td>\n",
              "      <td>196.100000</td>\n",
              "      <td>203.34000</td>\n",
              "      <td>208.500000</td>\n",
              "      <td>217.062200</td>\n",
              "      <td>219.305000</td>\n",
              "    </tr>\n",
              "    <tr>\n",
              "      <th>Curb_weight</th>\n",
              "      <td>157.0</td>\n",
              "      <td>0.0</td>\n",
              "      <td>530.454160</td>\n",
              "      <td>3.378689</td>\n",
              "      <td>3.342000</td>\n",
              "      <td>0.617780</td>\n",
              "      <td>0.381652</td>\n",
              "      <td>2.24540</td>\n",
              "      <td>2.247976</td>\n",
              "      <td>2.424000</td>\n",
              "      <td>2.612800</td>\n",
              "      <td>2.975000</td>\n",
              "      <td>3.342000</td>\n",
              "      <td>3.778000</td>\n",
              "      <td>4.11740</td>\n",
              "      <td>4.388400</td>\n",
              "      <td>5.394619</td>\n",
              "      <td>5.396680</td>\n",
              "    </tr>\n",
              "    <tr>\n",
              "      <th>Fuel_capacity</th>\n",
              "      <td>157.0</td>\n",
              "      <td>0.0</td>\n",
              "      <td>2817.100000</td>\n",
              "      <td>17.943312</td>\n",
              "      <td>17.200000</td>\n",
              "      <td>3.808060</td>\n",
              "      <td>14.501317</td>\n",
              "      <td>11.90000</td>\n",
              "      <td>11.900000</td>\n",
              "      <td>12.500000</td>\n",
              "      <td>13.200000</td>\n",
              "      <td>15.800000</td>\n",
              "      <td>17.200000</td>\n",
              "      <td>19.500000</td>\n",
              "      <td>23.20000</td>\n",
              "      <td>25.400000</td>\n",
              "      <td>30.396000</td>\n",
              "      <td>30.900000</td>\n",
              "    </tr>\n",
              "    <tr>\n",
              "      <th>Fuel_efficiency</th>\n",
              "      <td>157.0</td>\n",
              "      <td>0.0</td>\n",
              "      <td>3732.000000</td>\n",
              "      <td>23.770701</td>\n",
              "      <td>24.000000</td>\n",
              "      <td>3.956288</td>\n",
              "      <td>15.652213</td>\n",
              "      <td>15.00000</td>\n",
              "      <td>15.000000</td>\n",
              "      <td>16.800000</td>\n",
              "      <td>18.600000</td>\n",
              "      <td>21.000000</td>\n",
              "      <td>24.000000</td>\n",
              "      <td>26.000000</td>\n",
              "      <td>28.40000</td>\n",
              "      <td>31.000000</td>\n",
              "      <td>33.000000</td>\n",
              "      <td>33.000000</td>\n",
              "    </tr>\n",
              "    <tr>\n",
              "      <th>Power_perf_factor</th>\n",
              "      <td>157.0</td>\n",
              "      <td>0.0</td>\n",
              "      <td>12055.747202</td>\n",
              "      <td>76.788199</td>\n",
              "      <td>72.030917</td>\n",
              "      <td>23.697824</td>\n",
              "      <td>561.586856</td>\n",
              "      <td>38.46192</td>\n",
              "      <td>39.315643</td>\n",
              "      <td>46.257114</td>\n",
              "      <td>48.522793</td>\n",
              "      <td>60.727447</td>\n",
              "      <td>72.030917</td>\n",
              "      <td>89.401935</td>\n",
              "      <td>107.99432</td>\n",
              "      <td>125.065461</td>\n",
              "      <td>141.109114</td>\n",
              "      <td>141.119461</td>\n",
              "    </tr>\n",
              "  </tbody>\n",
              "</table>\n",
              "</div>"
            ],
            "text/plain": [
              "                            N  NMISS  ...         P99         MAX\n",
              "Sales_in_thousands      157.0    0.0  ...  253.560581  260.645320\n",
              "four_year_resale_value  157.0    0.0  ...   59.312800   60.220000\n",
              "Price_in_thousands      157.0    0.0  ...   76.514312   78.479800\n",
              "Engine_size             157.0    0.0  ...    5.700000    5.700000\n",
              "Horsepower              157.0    0.0  ...  316.930000  325.750000\n",
              "Wheelbase               157.0    0.0  ...  132.485000  134.375000\n",
              "Width                   157.0    0.0  ...   79.139600   79.190000\n",
              "Length                  157.0    0.0  ...  217.062200  219.305000\n",
              "Curb_weight             157.0    0.0  ...    5.394619    5.396680\n",
              "Fuel_capacity           157.0    0.0  ...   30.396000   30.900000\n",
              "Fuel_efficiency         157.0    0.0  ...   33.000000   33.000000\n",
              "Power_perf_factor       157.0    0.0  ...  141.109114  141.119461\n",
              "\n",
              "[12 rows x 18 columns]"
            ]
          },
          "metadata": {
            "tags": []
          },
          "execution_count": 23
        }
      ]
    },
    {
      "cell_type": "markdown",
      "metadata": {
        "id": "7EMbkLWmWU_c",
        "colab_type": "text"
      },
      "source": [
        "### Handling Categorical Variables\n",
        "\n",
        "scikit-learn expects all features to be numeric. So how do we include a categorical feature in our model?\n",
        "\n",
        "- **Ordered categories:** transform them to sensible numeric values (example: small=1, medium=2, large=3)\n",
        "- **Unordered categories:** use dummy encoding (0/1)\n",
        "\n",
        "What are the categorical features in our dataset?\n",
        "\n",
        "- **Ordered categories:** weather (already encoded with sensible numeric values)\n",
        "- **Unordered categories:** season (needs dummy encoding), holiday (already dummy encoded), workingday (already dummy encoded)\n",
        "\n",
        "For season, we can't simply leave the encoding as 1 = spring, 2 = summer, 3 = fall, and 4 = winter, because that would imply an **ordered relationship**. Instead, we create **multiple dummy variables:**"
      ]
    },
    {
      "cell_type": "code",
      "metadata": {
        "id": "5G72MYlIVQU5",
        "colab_type": "code",
        "colab": {}
      },
      "source": [
        "# A utility function to create dummy variable\n",
        "def create_dummies( df, colname ):\n",
        "    col_dummies = pd.get_dummies(df[colname], prefix=colname)\n",
        "    col_dummies.drop(col_dummies.columns[0], axis=1, inplace=True)\n",
        "    df = pd.concat([df, col_dummies], axis=1)\n",
        "    df.drop( colname, axis = 1, inplace = True )\n",
        "    return df"
      ],
      "execution_count": 0,
      "outputs": []
    },
    {
      "cell_type": "code",
      "metadata": {
        "id": "CFit3YkKVQTZ",
        "colab_type": "code",
        "colab": {
          "base_uri": "https://localhost:8080/",
          "height": 119
        },
        "outputId": "a8a4cbd6-0b23-4c23-cb42-429aa1598dbb"
      },
      "source": [
        "#for c_feature in categorical_features\n",
        "car_sales_cat=car_sales[['Manufacturer', 'Vehicle_type']]\n",
        "\n",
        "for c_feature in ['Manufacturer', 'Vehicle_type']:\n",
        "    car_sales_cat[c_feature] = car_sales_cat[c_feature].astype('category')\n",
        "    car_sales_cat = create_dummies(car_sales_cat , c_feature )"
      ],
      "execution_count": 25,
      "outputs": [
        {
          "output_type": "stream",
          "text": [
            "/usr/local/lib/python3.6/dist-packages/ipykernel_launcher.py:4: SettingWithCopyWarning: \n",
            "A value is trying to be set on a copy of a slice from a DataFrame.\n",
            "Try using .loc[row_indexer,col_indexer] = value instead\n",
            "\n",
            "See the caveats in the documentation: http://pandas.pydata.org/pandas-docs/stable/user_guide/indexing.html#returning-a-view-versus-a-copy\n",
            "  after removing the cwd from sys.path.\n"
          ],
          "name": "stderr"
        }
      ]
    },
    {
      "cell_type": "code",
      "metadata": {
        "id": "LQ6_m0AAVQR3",
        "colab_type": "code",
        "colab": {
          "base_uri": "https://localhost:8080/",
          "height": 241
        },
        "outputId": "85047f4a-f8fa-4003-cbdf-95ddca87c270"
      },
      "source": [
        "car_sales_cat.head()"
      ],
      "execution_count": 26,
      "outputs": [
        {
          "output_type": "execute_result",
          "data": {
            "text/html": [
              "<div>\n",
              "<style scoped>\n",
              "    .dataframe tbody tr th:only-of-type {\n",
              "        vertical-align: middle;\n",
              "    }\n",
              "\n",
              "    .dataframe tbody tr th {\n",
              "        vertical-align: top;\n",
              "    }\n",
              "\n",
              "    .dataframe thead th {\n",
              "        text-align: right;\n",
              "    }\n",
              "</style>\n",
              "<table border=\"1\" class=\"dataframe\">\n",
              "  <thead>\n",
              "    <tr style=\"text-align: right;\">\n",
              "      <th></th>\n",
              "      <th>Manufacturer_Audi</th>\n",
              "      <th>Manufacturer_BMW</th>\n",
              "      <th>Manufacturer_Buick</th>\n",
              "      <th>Manufacturer_Cadillac</th>\n",
              "      <th>Manufacturer_Chevrolet</th>\n",
              "      <th>Manufacturer_Chrysler</th>\n",
              "      <th>Manufacturer_Dodge</th>\n",
              "      <th>Manufacturer_Ford</th>\n",
              "      <th>Manufacturer_Honda</th>\n",
              "      <th>Manufacturer_Hyundai</th>\n",
              "      <th>Manufacturer_Infiniti</th>\n",
              "      <th>Manufacturer_Jaguar</th>\n",
              "      <th>Manufacturer_Jeep</th>\n",
              "      <th>Manufacturer_Lexus</th>\n",
              "      <th>Manufacturer_Lincoln</th>\n",
              "      <th>Manufacturer_Mercedes-B</th>\n",
              "      <th>Manufacturer_Mercury</th>\n",
              "      <th>Manufacturer_Mitsubishi</th>\n",
              "      <th>Manufacturer_Nissan</th>\n",
              "      <th>Manufacturer_Oldsmobile</th>\n",
              "      <th>Manufacturer_Plymouth</th>\n",
              "      <th>Manufacturer_Pontiac</th>\n",
              "      <th>Manufacturer_Porsche</th>\n",
              "      <th>Manufacturer_Saab</th>\n",
              "      <th>Manufacturer_Saturn</th>\n",
              "      <th>Manufacturer_Subaru</th>\n",
              "      <th>Manufacturer_Toyota</th>\n",
              "      <th>Manufacturer_Volkswagen</th>\n",
              "      <th>Manufacturer_Volvo</th>\n",
              "      <th>Vehicle_type_Passenger</th>\n",
              "    </tr>\n",
              "  </thead>\n",
              "  <tbody>\n",
              "    <tr>\n",
              "      <th>0</th>\n",
              "      <td>0</td>\n",
              "      <td>0</td>\n",
              "      <td>0</td>\n",
              "      <td>0</td>\n",
              "      <td>0</td>\n",
              "      <td>0</td>\n",
              "      <td>0</td>\n",
              "      <td>0</td>\n",
              "      <td>0</td>\n",
              "      <td>0</td>\n",
              "      <td>0</td>\n",
              "      <td>0</td>\n",
              "      <td>0</td>\n",
              "      <td>0</td>\n",
              "      <td>0</td>\n",
              "      <td>0</td>\n",
              "      <td>0</td>\n",
              "      <td>0</td>\n",
              "      <td>0</td>\n",
              "      <td>0</td>\n",
              "      <td>0</td>\n",
              "      <td>0</td>\n",
              "      <td>0</td>\n",
              "      <td>0</td>\n",
              "      <td>0</td>\n",
              "      <td>0</td>\n",
              "      <td>0</td>\n",
              "      <td>0</td>\n",
              "      <td>0</td>\n",
              "      <td>1</td>\n",
              "    </tr>\n",
              "    <tr>\n",
              "      <th>1</th>\n",
              "      <td>0</td>\n",
              "      <td>0</td>\n",
              "      <td>0</td>\n",
              "      <td>0</td>\n",
              "      <td>0</td>\n",
              "      <td>0</td>\n",
              "      <td>0</td>\n",
              "      <td>0</td>\n",
              "      <td>0</td>\n",
              "      <td>0</td>\n",
              "      <td>0</td>\n",
              "      <td>0</td>\n",
              "      <td>0</td>\n",
              "      <td>0</td>\n",
              "      <td>0</td>\n",
              "      <td>0</td>\n",
              "      <td>0</td>\n",
              "      <td>0</td>\n",
              "      <td>0</td>\n",
              "      <td>0</td>\n",
              "      <td>0</td>\n",
              "      <td>0</td>\n",
              "      <td>0</td>\n",
              "      <td>0</td>\n",
              "      <td>0</td>\n",
              "      <td>0</td>\n",
              "      <td>0</td>\n",
              "      <td>0</td>\n",
              "      <td>0</td>\n",
              "      <td>1</td>\n",
              "    </tr>\n",
              "    <tr>\n",
              "      <th>2</th>\n",
              "      <td>0</td>\n",
              "      <td>0</td>\n",
              "      <td>0</td>\n",
              "      <td>0</td>\n",
              "      <td>0</td>\n",
              "      <td>0</td>\n",
              "      <td>0</td>\n",
              "      <td>0</td>\n",
              "      <td>0</td>\n",
              "      <td>0</td>\n",
              "      <td>0</td>\n",
              "      <td>0</td>\n",
              "      <td>0</td>\n",
              "      <td>0</td>\n",
              "      <td>0</td>\n",
              "      <td>0</td>\n",
              "      <td>0</td>\n",
              "      <td>0</td>\n",
              "      <td>0</td>\n",
              "      <td>0</td>\n",
              "      <td>0</td>\n",
              "      <td>0</td>\n",
              "      <td>0</td>\n",
              "      <td>0</td>\n",
              "      <td>0</td>\n",
              "      <td>0</td>\n",
              "      <td>0</td>\n",
              "      <td>0</td>\n",
              "      <td>0</td>\n",
              "      <td>1</td>\n",
              "    </tr>\n",
              "    <tr>\n",
              "      <th>3</th>\n",
              "      <td>0</td>\n",
              "      <td>0</td>\n",
              "      <td>0</td>\n",
              "      <td>0</td>\n",
              "      <td>0</td>\n",
              "      <td>0</td>\n",
              "      <td>0</td>\n",
              "      <td>0</td>\n",
              "      <td>0</td>\n",
              "      <td>0</td>\n",
              "      <td>0</td>\n",
              "      <td>0</td>\n",
              "      <td>0</td>\n",
              "      <td>0</td>\n",
              "      <td>0</td>\n",
              "      <td>0</td>\n",
              "      <td>0</td>\n",
              "      <td>0</td>\n",
              "      <td>0</td>\n",
              "      <td>0</td>\n",
              "      <td>0</td>\n",
              "      <td>0</td>\n",
              "      <td>0</td>\n",
              "      <td>0</td>\n",
              "      <td>0</td>\n",
              "      <td>0</td>\n",
              "      <td>0</td>\n",
              "      <td>0</td>\n",
              "      <td>0</td>\n",
              "      <td>1</td>\n",
              "    </tr>\n",
              "    <tr>\n",
              "      <th>4</th>\n",
              "      <td>1</td>\n",
              "      <td>0</td>\n",
              "      <td>0</td>\n",
              "      <td>0</td>\n",
              "      <td>0</td>\n",
              "      <td>0</td>\n",
              "      <td>0</td>\n",
              "      <td>0</td>\n",
              "      <td>0</td>\n",
              "      <td>0</td>\n",
              "      <td>0</td>\n",
              "      <td>0</td>\n",
              "      <td>0</td>\n",
              "      <td>0</td>\n",
              "      <td>0</td>\n",
              "      <td>0</td>\n",
              "      <td>0</td>\n",
              "      <td>0</td>\n",
              "      <td>0</td>\n",
              "      <td>0</td>\n",
              "      <td>0</td>\n",
              "      <td>0</td>\n",
              "      <td>0</td>\n",
              "      <td>0</td>\n",
              "      <td>0</td>\n",
              "      <td>0</td>\n",
              "      <td>0</td>\n",
              "      <td>0</td>\n",
              "      <td>0</td>\n",
              "      <td>1</td>\n",
              "    </tr>\n",
              "  </tbody>\n",
              "</table>\n",
              "</div>"
            ],
            "text/plain": [
              "   Manufacturer_Audi  ...  Vehicle_type_Passenger\n",
              "0                  0  ...                       1\n",
              "1                  0  ...                       1\n",
              "2                  0  ...                       1\n",
              "3                  0  ...                       1\n",
              "4                  1  ...                       1\n",
              "\n",
              "[5 rows x 30 columns]"
            ]
          },
          "metadata": {
            "tags": []
          },
          "execution_count": 26
        }
      ]
    },
    {
      "cell_type": "code",
      "metadata": {
        "id": "MgQCtSGYVQIC",
        "colab_type": "code",
        "colab": {}
      },
      "source": [
        "# concat both numerical and categorical variables\n",
        "X = pd.concat([car_sales_num, car_sales_cat], axis=1)"
      ],
      "execution_count": 0,
      "outputs": []
    },
    {
      "cell_type": "code",
      "metadata": {
        "id": "0bv-z4syVQGm",
        "colab_type": "code",
        "colab": {}
      },
      "source": [
        "features = X.columns.difference(['Sales_in_thousands'])\n",
        "features_num = car_sales_num.columns.difference(['Sales_in_thousands'])"
      ],
      "execution_count": 0,
      "outputs": []
    },
    {
      "cell_type": "code",
      "metadata": {
        "id": "v4BsdkKvVQE9",
        "colab_type": "code",
        "colab": {
          "base_uri": "https://localhost:8080/",
          "height": 272
        },
        "outputId": "13ebc7c6-a554-4e99-d43a-c39161738679"
      },
      "source": [
        "features"
      ],
      "execution_count": 79,
      "outputs": [
        {
          "output_type": "execute_result",
          "data": {
            "text/plain": [
              "Index(['Curb_weight', 'Engine_size', 'Fuel_capacity', 'Fuel_efficiency',\n",
              "       'Horsepower', 'Length', 'Manufacturer_Audi', 'Manufacturer_BMW',\n",
              "       'Manufacturer_Buick', 'Manufacturer_Cadillac', 'Manufacturer_Chevrolet',\n",
              "       'Manufacturer_Chrysler', 'Manufacturer_Dodge', 'Manufacturer_Ford',\n",
              "       'Manufacturer_Honda', 'Manufacturer_Hyundai', 'Manufacturer_Infiniti',\n",
              "       'Manufacturer_Jaguar', 'Manufacturer_Jeep', 'Manufacturer_Lexus',\n",
              "       'Manufacturer_Lincoln', 'Manufacturer_Mercedes-B',\n",
              "       'Manufacturer_Mercury', 'Manufacturer_Mitsubishi',\n",
              "       'Manufacturer_Nissan', 'Manufacturer_Oldsmobile',\n",
              "       'Manufacturer_Plymouth', 'Manufacturer_Pontiac', 'Manufacturer_Porsche',\n",
              "       'Manufacturer_Saab', 'Manufacturer_Saturn', 'Manufacturer_Subaru',\n",
              "       'Manufacturer_Toyota', 'Manufacturer_Volkswagen', 'Manufacturer_Volvo',\n",
              "       'Power_perf_factor', 'Price_in_thousands', 'Vehicle_type_Passenger',\n",
              "       'Wheelbase', 'Width', 'four_year_resale_value'],\n",
              "      dtype='object')"
            ]
          },
          "metadata": {
            "tags": []
          },
          "execution_count": 79
        }
      ]
    },
    {
      "cell_type": "markdown",
      "metadata": {
        "id": "ctc87agrEG2Z",
        "colab_type": "text"
      },
      "source": [
        "### Train Test Split"
      ]
    },
    {
      "cell_type": "code",
      "metadata": {
        "id": "QmjLHXNfECL9",
        "colab_type": "code",
        "colab": {}
      },
      "source": [
        "train_X, test_X, train_y, test_y = train_test_split( X[features],\n",
        "                                                  X['Sales_in_thousands'],\n",
        "                                                  test_size = 0.3,\n",
        "                                                  random_state = 142 )"
      ],
      "execution_count": 0,
      "outputs": []
    },
    {
      "cell_type": "code",
      "metadata": {
        "id": "Nlj5y7FLEKHo",
        "colab_type": "code",
        "colab": {}
      },
      "source": [
        "clf_tree = DecisionTreeRegressor(max_depth=3).fit(train_X, train_y)"
      ],
      "execution_count": 0,
      "outputs": []
    },
    {
      "cell_type": "code",
      "metadata": {
        "id": "09es4oHzG7nf",
        "colab_type": "code",
        "colab": {}
      },
      "source": [
        "pred = clf_tree.predict(train_X)"
      ],
      "execution_count": 0,
      "outputs": []
    },
    {
      "cell_type": "code",
      "metadata": {
        "id": "JfZ6cmJ3ekvJ",
        "colab_type": "code",
        "colab": {
          "base_uri": "https://localhost:8080/",
          "height": 493
        },
        "outputId": "3d67bed9-4ad9-4d65-b7c4-35033a21afcf"
      },
      "source": [
        "pred"
      ],
      "execution_count": 135,
      "outputs": [
        {
          "output_type": "execute_result",
          "data": {
            "text/plain": [
              "array([ 22.8110856 ,  58.6476875 ,  22.8110856 ,  22.8110856 ,\n",
              "       167.93      ,  22.8110856 ,  58.6476875 ,  58.6476875 ,\n",
              "       119.3535    , 242.37010667,  22.8110856 ,  22.8110856 ,\n",
              "        58.6476875 ,  58.6476875 ,  58.6476875 ,  58.6476875 ,\n",
              "        22.8110856 ,  22.8110856 ,  22.8110856 ,  22.8110856 ,\n",
              "        58.6476875 ,  22.8110856 ,  22.8110856 ,  22.8110856 ,\n",
              "       119.3535    ,  58.6476875 ,  58.6476875 , 167.93      ,\n",
              "        22.8110856 ,  58.6476875 ,  58.6476875 ,  58.6476875 ,\n",
              "        22.8110856 ,  22.8110856 ,  58.6476875 ,  58.6476875 ,\n",
              "        22.8110856 ,  58.6476875 ,  58.6476875 ,  22.8110856 ,\n",
              "        58.6476875 ,  22.8110856 ,  58.6476875 ,  22.8110856 ,\n",
              "        22.8110856 ,  22.8110856 ,  22.8110856 ,  22.8110856 ,\n",
              "        22.8110856 ,  22.8110856 ,  22.8110856 , 167.93      ,\n",
              "        58.6476875 ,  58.6476875 ,  22.8110856 ,  22.8110856 ,\n",
              "        22.8110856 , 101.323     ,  22.8110856 ,  58.6476875 ,\n",
              "        22.8110856 ,  58.6476875 ,  58.6476875 ,  58.6476875 ,\n",
              "        58.6476875 ,  58.6476875 ,  58.6476875 ,  63.403     ,\n",
              "        22.8110856 ,  58.6476875 ,  58.6476875 ,  22.8110856 ,\n",
              "        58.6476875 ,  22.8110856 ,  22.8110856 ,  22.8110856 ,\n",
              "        58.6476875 ,  22.8110856 ,  58.6476875 ,  58.6476875 ,\n",
              "        22.8110856 ,  22.8110856 ,  22.8110856 ,  58.6476875 ,\n",
              "        58.6476875 ,  22.8110856 ,  58.6476875 ,  22.8110856 ,\n",
              "        58.6476875 ,  22.8110856 ,  22.8110856 ,  22.8110856 ,\n",
              "       242.37010667,  58.6476875 ,  22.8110856 ,  58.6476875 ,\n",
              "       175.67      ,  58.6476875 ,  58.6476875 ,  58.6476875 ,\n",
              "        58.6476875 ,  22.8110856 ,  58.6476875 , 242.37010667,\n",
              "        58.6476875 ,  58.6476875 ,  22.8110856 ,  22.8110856 ,\n",
              "        58.6476875 ])"
            ]
          },
          "metadata": {
            "tags": []
          },
          "execution_count": 135
        }
      ]
    },
    {
      "cell_type": "code",
      "metadata": {
        "id": "6qG7Vx9-ENJb",
        "colab_type": "code",
        "colab": {
          "base_uri": "https://localhost:8080/",
          "height": 85
        },
        "outputId": "ebd7cc70-1a8b-4a60-c1f1-43ae1f9e1767"
      },
      "source": [
        "print('MAE:', metrics.mean_absolute_error(train_y, pred))\n",
        "print('MSE:', metrics.mean_squared_error(train_y, pred))\n",
        "print('RMSE:', np.sqrt(metrics.mean_squared_error(train_y, pred)))\n",
        "print('R-Squre:', metrics.r2_score(train_y, pred))"
      ],
      "execution_count": 137,
      "outputs": [
        {
          "output_type": "stream",
          "text": [
            "MAE: 26.044244327828746\n",
            "MSE: 1377.185745808741\n",
            "RMSE: 37.11045332259822\n",
            "R-Squre: 0.5950746057205625\n"
          ],
          "name": "stdout"
        }
      ]
    },
    {
      "cell_type": "code",
      "metadata": {
        "id": "GWKEx6Dnanwt",
        "colab_type": "code",
        "colab": {}
      },
      "source": [
        "pred_test = clf_tree.predict(test_X)"
      ],
      "execution_count": 0,
      "outputs": []
    },
    {
      "cell_type": "code",
      "metadata": {
        "id": "aU_NeY7uE14A",
        "colab_type": "code",
        "colab": {
          "base_uri": "https://localhost:8080/",
          "height": 85
        },
        "outputId": "8a2b3859-a342-4172-8435-86690c4636ef"
      },
      "source": [
        "print('MAE:', metrics.mean_absolute_error(test_y, pred_test))\n",
        "print('MSE:', metrics.mean_squared_error(test_y, pred_test))\n",
        "print('RMSE:', np.sqrt(metrics.mean_squared_error(test_y, pred_test)))\n",
        "print('R-Squre:', metrics.r2_score(test_y, pred_test))"
      ],
      "execution_count": 139,
      "outputs": [
        {
          "output_type": "stream",
          "text": [
            "MAE: 35.82071249305556\n",
            "MSE: 3737.329127752642\n",
            "RMSE: 61.133698790050666\n",
            "R-Squre: -0.21265708230128166\n"
          ],
          "name": "stdout"
        }
      ]
    },
    {
      "cell_type": "markdown",
      "metadata": {
        "id": "XZj490C5gCsl",
        "colab_type": "text"
      },
      "source": [
        "### Fine tuning the parameter"
      ]
    },
    {
      "cell_type": "code",
      "metadata": {
        "id": "OeXGLWUhE4ew",
        "colab_type": "code",
        "colab": {}
      },
      "source": [
        "param_grid = {'max_depth': np.arange(3, 20), 'max_features': np.arange(2,12)}"
      ],
      "execution_count": 0,
      "outputs": []
    },
    {
      "cell_type": "code",
      "metadata": {
        "id": "rGVAqA5KE7Lc",
        "colab_type": "code",
        "outputId": "bd945127-5b4b-4a75-8d7e-ca6e357a1855",
        "colab": {
          "base_uri": "https://localhost:8080/",
          "height": 306
        }
      },
      "source": [
        "tree = GridSearchCV(DecisionTreeRegressor(criterion='mse'), param_grid, cv = 5)\n",
        "tree.fit( train_X, train_y )"
      ],
      "execution_count": 163,
      "outputs": [
        {
          "output_type": "execute_result",
          "data": {
            "text/plain": [
              "GridSearchCV(cv=5, error_score=nan,\n",
              "             estimator=DecisionTreeRegressor(ccp_alpha=0.0, criterion='mse',\n",
              "                                             max_depth=None, max_features=None,\n",
              "                                             max_leaf_nodes=None,\n",
              "                                             min_impurity_decrease=0.0,\n",
              "                                             min_impurity_split=None,\n",
              "                                             min_samples_leaf=1,\n",
              "                                             min_samples_split=2,\n",
              "                                             min_weight_fraction_leaf=0.0,\n",
              "                                             presort='deprecated',\n",
              "                                             random_state=None,\n",
              "                                             splitter='best'),\n",
              "             iid='deprecated', n_jobs=None,\n",
              "             param_grid={'max_depth': array([ 3,  4,  5,  6,  7,  8,  9, 10, 11, 12, 13, 14, 15, 16, 17, 18, 19]),\n",
              "                         'max_features': array([ 2,  3,  4,  5,  6,  7,  8,  9, 10, 11])},\n",
              "             pre_dispatch='2*n_jobs', refit=True, return_train_score=False,\n",
              "             scoring=None, verbose=0)"
            ]
          },
          "metadata": {
            "tags": []
          },
          "execution_count": 163
        }
      ]
    },
    {
      "cell_type": "code",
      "metadata": {
        "id": "R1NoLbaDIEdh",
        "colab_type": "code",
        "outputId": "086abddc-6137-4e1d-b534-c61f5c6dd42c",
        "colab": {
          "base_uri": "https://localhost:8080/",
          "height": 34
        }
      },
      "source": [
        "tree.best_score_"
      ],
      "execution_count": 164,
      "outputs": [
        {
          "output_type": "execute_result",
          "data": {
            "text/plain": [
              "-0.07951032644590932"
            ]
          },
          "metadata": {
            "tags": []
          },
          "execution_count": 164
        }
      ]
    },
    {
      "cell_type": "code",
      "metadata": {
        "id": "sI0ULgPIISn5",
        "colab_type": "code",
        "colab": {
          "base_uri": "https://localhost:8080/",
          "height": 34
        },
        "outputId": "cd4969ae-a2f7-421e-d68c-88517f793719"
      },
      "source": [
        "tree.best_params_"
      ],
      "execution_count": 165,
      "outputs": [
        {
          "output_type": "execute_result",
          "data": {
            "text/plain": [
              "{'max_depth': 3, 'max_features': 9}"
            ]
          },
          "metadata": {
            "tags": []
          },
          "execution_count": 165
        }
      ]
    },
    {
      "cell_type": "code",
      "metadata": {
        "id": "oSKSM0jirtnC",
        "colab_type": "code",
        "colab": {
          "base_uri": "https://localhost:8080/",
          "height": 514
        },
        "outputId": "977e33b0-4d99-4ceb-8ea5-ffe21ecad4b5"
      },
      "source": [
        "clf_tree_final = DecisionTreeRegressor( max_depth = 3, max_features=9, criterion='mse')\n",
        "clf_tree_final.fit( train_X, train_y )\n",
        "export_graphviz(clf_tree_final, out_file='tree1.odt',feature_names=train_X.columns)\n",
        "tree_graph = pdot.graphviz.graph_from_dot_file('tree1.odt')\n",
        "tree_graph.write_jpg( 'tree1.jpg' )\n",
        "Image(filename='tree1.jpg')"
      ],
      "execution_count": 167,
      "outputs": [
        {
          "output_type": "execute_result",
          "data": {
            "image/jpeg": "[encoded data removed]",
            "text/plain": [
              "<IPython.core.display.Image object>"
            ]
          },
          "metadata": {
            "tags": []
          },
          "execution_count": 167
        }
      ]
    },
    {
      "cell_type": "code",
      "metadata": {
        "id": "vbRBnw-MKkPK",
        "colab_type": "code",
        "colab": {}
      },
      "source": [
        "# Let's create one more model only with numerical variables\n",
        "train_X, test_X, train_y, test_y = train_test_split(car_sales_num[features_num],\n",
        "                                                  car_sales_num['Sales_in_thousands'],\n",
        "                                                  test_size = 0.3,\n",
        "                                                  random_state = 142 )"
      ],
      "execution_count": 0,
      "outputs": []
    },
    {
      "cell_type": "code",
      "metadata": {
        "id": "Yo73F0yiKojZ",
        "colab_type": "code",
        "outputId": "35c0eb9e-d6b6-4742-bf0d-f44a74303673",
        "colab": {
          "base_uri": "https://localhost:8080/",
          "height": 306
        }
      },
      "source": [
        "param_grid = {'max_depth': np.arange(3, 20), 'max_features': np.arange(2,12)}\n",
        "tree_num = GridSearchCV(DecisionTreeRegressor(criterion='mae'), param_grid, cv = 5)\n",
        "tree_num.fit( train_X, train_y )"
      ],
      "execution_count": 169,
      "outputs": [
        {
          "output_type": "execute_result",
          "data": {
            "text/plain": [
              "GridSearchCV(cv=5, error_score=nan,\n",
              "             estimator=DecisionTreeRegressor(ccp_alpha=0.0, criterion='mae',\n",
              "                                             max_depth=None, max_features=None,\n",
              "                                             max_leaf_nodes=None,\n",
              "                                             min_impurity_decrease=0.0,\n",
              "                                             min_impurity_split=None,\n",
              "                                             min_samples_leaf=1,\n",
              "                                             min_samples_split=2,\n",
              "                                             min_weight_fraction_leaf=0.0,\n",
              "                                             presort='deprecated',\n",
              "                                             random_state=None,\n",
              "                                             splitter='best'),\n",
              "             iid='deprecated', n_jobs=None,\n",
              "             param_grid={'max_depth': array([ 3,  4,  5,  6,  7,  8,  9, 10, 11, 12, 13, 14, 15, 16, 17, 18, 19]),\n",
              "                         'max_features': array([ 2,  3,  4,  5,  6,  7,  8,  9, 10, 11])},\n",
              "             pre_dispatch='2*n_jobs', refit=True, return_train_score=False,\n",
              "             scoring=None, verbose=0)"
            ]
          },
          "metadata": {
            "tags": []
          },
          "execution_count": 169
        }
      ]
    },
    {
      "cell_type": "code",
      "metadata": {
        "id": "mhhoV3fLKpAB",
        "colab_type": "code",
        "outputId": "cce80080-9e21-47dd-f1f5-84bd0ca2eae9",
        "colab": {
          "base_uri": "https://localhost:8080/",
          "height": 34
        }
      },
      "source": [
        "tree_num.best_params_"
      ],
      "execution_count": 170,
      "outputs": [
        {
          "output_type": "execute_result",
          "data": {
            "text/plain": [
              "{'max_depth': 3, 'max_features': 9}"
            ]
          },
          "metadata": {
            "tags": []
          },
          "execution_count": 170
        }
      ]
    },
    {
      "cell_type": "code",
      "metadata": {
        "id": "KM31qQ99K-aj",
        "colab_type": "code",
        "outputId": "86277a29-69da-43d2-9ff3-ebeddbfa2039",
        "colab": {
          "base_uri": "https://localhost:8080/",
          "height": 34
        }
      },
      "source": [
        "tree_num.best_score_"
      ],
      "execution_count": 171,
      "outputs": [
        {
          "output_type": "execute_result",
          "data": {
            "text/plain": [
              "-0.044236713950395634"
            ]
          },
          "metadata": {
            "tags": []
          },
          "execution_count": 171
        }
      ]
    },
    {
      "cell_type": "markdown",
      "metadata": {
        "id": "mH1wWEVVMJiO",
        "colab_type": "text"
      },
      "source": [
        "## Building final Model\n",
        "\n",
        "Using above best parameters (depth=3, features=9) we will build our final model."
      ]
    },
    {
      "cell_type": "code",
      "metadata": {
        "id": "2w5sg01UMCc9",
        "colab_type": "code",
        "outputId": "d6991901-4dd5-406a-9de0-47d5673f8a21",
        "colab": {
          "base_uri": "https://localhost:8080/",
          "height": 119
        }
      },
      "source": [
        "clf_tree_final = DecisionTreeRegressor( max_depth = 3, max_features=9, criterion='mae')\n",
        "clf_tree_final.fit( train_X, train_y )"
      ],
      "execution_count": 172,
      "outputs": [
        {
          "output_type": "execute_result",
          "data": {
            "text/plain": [
              "DecisionTreeRegressor(ccp_alpha=0.0, criterion='mae', max_depth=3,\n",
              "                      max_features=9, max_leaf_nodes=None,\n",
              "                      min_impurity_decrease=0.0, min_impurity_split=None,\n",
              "                      min_samples_leaf=1, min_samples_split=2,\n",
              "                      min_weight_fraction_leaf=0.0, presort='deprecated',\n",
              "                      random_state=None, splitter='best')"
            ]
          },
          "metadata": {
            "tags": []
          },
          "execution_count": 172
        }
      ]
    },
    {
      "cell_type": "code",
      "metadata": {
        "id": "7Jvpmw85MbPO",
        "colab_type": "code",
        "colab": {}
      },
      "source": [
        "tree_test_pred = pd.DataFrame({'actual':test_y, 'predicted':clf_tree_final.predict(test_X)})"
      ],
      "execution_count": 0,
      "outputs": []
    },
    {
      "cell_type": "code",
      "metadata": {
        "id": "J5TceFEYOOmw",
        "colab_type": "code",
        "colab": {}
      },
      "source": [
        "export_graphviz(clf_tree_final, out_file='tree.odt',feature_names=train_X.columns)"
      ],
      "execution_count": 0,
      "outputs": []
    },
    {
      "cell_type": "code",
      "metadata": {
        "id": "3cKwsiBCPK9-",
        "colab_type": "code",
        "outputId": "69d0d21c-27e1-431c-b5fe-f7f86d5711ed",
        "colab": {
          "base_uri": "https://localhost:8080/",
          "height": 34
        }
      },
      "source": [
        "tree_graph = pdot.graphviz.graph_from_dot_file('tree.odt')\n",
        "tree_graph.write_jpg( 'tree.jpg' )"
      ],
      "execution_count": 175,
      "outputs": [
        {
          "output_type": "execute_result",
          "data": {
            "text/plain": [
              "True"
            ]
          },
          "metadata": {
            "tags": []
          },
          "execution_count": 175
        }
      ]
    },
    {
      "cell_type": "code",
      "metadata": {
        "id": "g3rUUJ7APim5",
        "colab_type": "code",
        "outputId": "f9c00546-4e52-45a6-c270-bcb72a479db3",
        "colab": {
          "base_uri": "https://localhost:8080/",
          "height": 514
        }
      },
      "source": [
        "Image(filename='tree.jpg')"
      ],
      "execution_count": 176,
      "outputs": [
        {
          "output_type": "execute_result",
          "data": {
            "image/jpeg": "[encoded data removed]",
            "text/plain": [
              "<IPython.core.display.Image object>"
            ]
          },
          "metadata": {
            "tags": []
          },
          "execution_count": 176
        }
      ]
    },
    {
      "cell_type": "code",
      "metadata": {
        "id": "5Fs5LJgZtfeC",
        "colab_type": "code",
        "colab": {}
      },
      "source": [
        ""
      ],
      "execution_count": 0,
      "outputs": []
    }
  ]
}