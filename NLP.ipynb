{
  "nbformat": 4,
  "nbformat_minor": 0,
  "metadata": {
    "colab": {
      "name": "NLP.ipynb",
      "provenance": [],
      "authorship_tag": "ABX9TyNhJg4iwnvvWzbU7vHSFug2",
      "include_colab_link": true
    },
    "kernelspec": {
      "name": "python3",
      "display_name": "Python 3"
    }
  },
  "cells": [
    {
      "cell_type": "markdown",
      "metadata": {
        "id": "view-in-github",
        "colab_type": "text"
      },
      "source": [
        "<a href=\"https://colab.research.google.com/github/mkmritunjay/machineLearning/blob/master/NLP.ipynb\" target=\"_parent\"><img src=\"https://colab.research.google.com/assets/colab-badge.svg\" alt=\"Open In Colab\"/></a>"
      ]
    },
    {
      "cell_type": "markdown",
      "metadata": {
        "id": "EqYsGgOgp0lj",
        "colab_type": "text"
      },
      "source": [
        "# Text Mining using Natural Language Processing (NLP)\n",
        "---\n",
        "## Introduction\n",
        "---\n",
        "### What is NLP?\n",
        "\n",
        "- Using computers to process (analyze, understand, generate) natural human languages\n",
        "- Most knowledge created by humans is unstructured text, and we need to find a way to make sense of it\n",
        "- Build probabilistic model using data about a language"
      ]
    },
    {
      "cell_type": "markdown",
      "metadata": {
        "id": "T7KPa9MwqJep",
        "colab_type": "text"
      },
      "source": [
        "---\n",
        "### Important Packages Related to Textmining\n",
        "- **textmining1.0:** contains a variety of useful functions for text mining in Python.\n",
        "- **NLTK:** This package can be extremely useful because you have easy access to over 50 corpora and lexical resources\n",
        "- **Tweepy:** to mine Twitter data\n",
        "- **scrappy:**  extract the data you need from websites\n",
        "- **urllib2:** a package for opening URLs\n",
        "- **requests:** library for grabbing data from the internet\n",
        "- **Beautifulsoup:** library for parsing HTML data\n",
        "- **re:**  grep(), grepl(), regexpr(), gregexpr(), sub(), gsub(), and strsplit() are helpful functions\n",
        "- **wordcloud:** to visualize the wordcloud\n",
        "- **Textblob:** to used for text processing (nlp- lowel events)\n",
        "- **sklearn:** to used for preprocessing, modeling"
      ]
    },
    {
      "cell_type": "markdown",
      "metadata": {
        "id": "rNe93OYLqSYT",
        "colab_type": "text"
      },
      "source": [
        "---\n",
        "### What are some of the higher level task areas?\n",
        "\n",
        "- **Information retrieval**: Find relevant results and similar results\n",
        "    - [Google](https://www.google.com/)\n",
        "- **Information extraction**: Structured information from unstructured documents\n",
        "    - [Events from Gmail](https://support.google.com/calendar/answer/6084018?hl=en)\n",
        "- **Machine translation**: One language to another\n",
        "    - [Google Translate](https://translate.google.com/)\n",
        "- **Text simplification**: Preserve the meaning of text, but simplify the grammar and vocabulary\n",
        "    - [Rewordify](https://rewordify.com/)\n",
        "    - [Simple English Wikipedia](https://simple.wikipedia.org/wiki/Main_Page)\n",
        "- **Predictive text input**: Faster or easier typing\n",
        "    - [My application](https://justmarkham.shinyapps.io/textprediction/)\n",
        "    - [A much better application](https://farsite.shinyapps.io/swiftkey-cap/)\n",
        "- **Sentiment analysis**: Attitude of speaker\n",
        "    - [Hater News](http://haternews.herokuapp.com/)\n",
        "- **Automatic summarization**: Extractive or abstractive summarization\n",
        "    - [autotldr](https://www.reddit.com/r/technology/comments/35brc8/21_million_people_still_use_aol_dialup/cr2zzj0)\n",
        "- **Natural Language Generation**: Generate text from data\n",
        "    - [How a computer describes a sports match](http://www.bbc.com/news/technology-34204052)\n",
        "    - [Publishers withdraw more than 120 gibberish papers](http://www.nature.com/news/publishers-withdraw-more-than-120-gibberish-papers-1.14763)\n",
        "- **Speech recognition and generation**: Speech-to-text, text-to-speech\n",
        "    - [Google's Web Speech API demo](https://www.google.com/intl/en/chrome/demos/speech.html)\n",
        "    - [Vocalware Text-to-Speech demo](https://www.vocalware.com/index/demo)\n",
        "- **Question answering**: Determine the intent of the question, match query with knowledge base, evaluate hypotheses\n",
        "    - [How did supercomputer Watson beat Jeopardy champion Ken Jennings?](http://blog.ted.com/how-did-supercomputer-watson-beat-jeopardy-champion-ken-jennings-experts-discuss/)\n",
        "    - [IBM's Watson Trivia Challenge](http://www.nytimes.com/interactive/2010/06/16/magazine/watson-trivia-game.html)\n",
        "    - [The AI Behind Watson](http://www.aaai.org/Magazine/Watson/watson.php)"
      ]
    },
    {
      "cell_type": "markdown",
      "metadata": {
        "id": "xMZvLXiDqZU1",
        "colab_type": "text"
      },
      "source": [
        "---\n",
        "### Data Processing - What are some of the lower level components?\n",
        "\n",
        "- **Tokenization**: breaking text into tokens (words, sentences, n-grams)\n",
        "- **Stopword removal**: a/an/the\n",
        "- **Stemming and lemmatization**: root word\n",
        "- **TF-IDF**: word importance\n",
        "- **Part-of-speech tagging**: noun/verb/adjective\n",
        "- **Named entity recognition**: person/organization/location\n",
        "- **Spelling correction**: \"New Yrok City\"\n",
        "- **Word sense disambiguation**: \"buy a mouse\"\n",
        "- **Segmentation**: \"New York City subway\"\n",
        "- **Language detection**: \"translate this page\"\n",
        "- **Machine learning**"
      ]
    },
    {
      "cell_type": "markdown",
      "metadata": {
        "id": "SOX5q2k6qgqP",
        "colab_type": "text"
      },
      "source": [
        "---\n",
        "### Why NLP is hard?\n",
        "\n",
        "- **Ambiguity**:\n",
        "    - Hospitals are Sued by 7 Foot Doctors\n",
        "    - Juvenile Court to Try Shooting Defendant\n",
        "    - Local High School Dropouts Cut in Half\n",
        "- **Non-standard English**: text messages\n",
        "- **Idioms**: \"throw in the towel\"\n",
        "- **Newly coined words**: \"retweet\"\n",
        "- **Tricky entity names**: \"Where is A Bug's Life playing?\"\n",
        "- **World knowledge**: \"Mary and Sue are sisters\", \"Mary and Sue are mothers\"\n",
        "\n",
        "NLP requires an understanding of the **language** and the **world**."
      ]
    },
    {
      "cell_type": "code",
      "metadata": {
        "id": "KduZVrPhqTCw",
        "colab_type": "code",
        "colab": {}
      },
      "source": [
        ""
      ],
      "execution_count": 0,
      "outputs": []
    }
  ]
}