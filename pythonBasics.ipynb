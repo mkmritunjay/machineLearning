{
  "nbformat": 4,
  "nbformat_minor": 0,
  "metadata": {
    "colab": {
      "name": "pythonBasics.ipynb",
      "provenance": [],
      "include_colab_link": true
    },
    "kernelspec": {
      "name": "python3",
      "display_name": "Python 3"
    }
  },
  "cells": [
    {
      "cell_type": "markdown",
      "metadata": {
        "id": "view-in-github",
        "colab_type": "text"
      },
      "source": [
        "<a href=\"https://colab.research.google.com/github/mkmritunjay/machineLearning/blob/master/pythonBasics.ipynb\" target=\"_parent\"><img src=\"https://colab.research.google.com/assets/colab-badge.svg\" alt=\"Open In Colab\"/></a>"
      ]
    },
    {
      "cell_type": "markdown",
      "metadata": {
        "id": "RoT8bcdUmB9A",
        "colab_type": "text"
      },
      "source": [
        "# Python3 Tutorial\n",
        "\n",
        "## Introduction\n",
        "Python is a high-level, interpreted, interactive and object-oriented scripting language. It was developed in 1991 by Guido van Rossum at the National Research Institute for Mathematics and Computer Science in the Netherlands.\n",
        "\n",
        "Python is highly readable and relies on indentation, using whitespace, to define scope; such as the scope of loops, functions and classes. Other programming languages often use curly-brackets for this purpose. There are two python versions available: python 2 and python 3. For this tutorial we shall be using python 3 which is backward incompatible.\n",
        "\n",
        "This tutorial doesn’t include the basic python setup and usage. Please refer official python 3 [site](https://docs.python.org/3/tutorial/) for setup details."
      ]
    },
    {
      "cell_type": "markdown",
      "metadata": {
        "id": "SiAIu_V0pRRQ",
        "colab_type": "text"
      },
      "source": [
        "### Python indentation example:\n",
        "\n"
      ]
    },
    {
      "cell_type": "code",
      "metadata": {
        "id": "R7WD4FbqqkN5",
        "colab_type": "code",
        "colab": {
          "base_uri": "https://localhost:8080/",
          "height": 34
        },
        "outputId": "f1a4f030-286d-4027-8029-551cfd9f1030"
      },
      "source": [
        "# Indentation in python is used to define a block of code like below if else loop\n",
        "if 3 > 2:\n",
        "  print(\"Indentation tested successfully!\")"
      ],
      "execution_count": null,
      "outputs": [
        {
          "output_type": "stream",
          "text": [
            "Indentation tested successfully!\n"
          ],
          "name": "stdout"
        }
      ]
    },
    {
      "cell_type": "markdown",
      "metadata": {
        "id": "3lF5lFM-r-gg",
        "colab_type": "text"
      },
      "source": [
        "However if you miss the identation python will give you error."
      ]
    },
    {
      "cell_type": "markdown",
      "metadata": {
        "id": "fD5M9dcZs2Ki",
        "colab_type": "text"
      },
      "source": [
        "## python variables"
      ]
    },
    {
      "cell_type": "markdown",
      "metadata": {
        "id": "eHRJ8rw5tbAr",
        "colab_type": "text"
      },
      "source": [
        "Basically creating a variable means reserving space in memory, so variables are reserved memory spaces to store values.\n",
        "\n",
        "### Assigning value to variable:\n",
        "Unlike other programming languages, In python we don’t have to specify data types while creating a variable. Data type gets assigned to a variable based on the value provided.\n",
        "\n",
        "For Example:"
      ]
    },
    {
      "cell_type": "code",
      "metadata": {
        "id": "IENtgooatlV_",
        "colab_type": "code",
        "colab": {}
      },
      "source": [
        "num_v = 1 # deifining an integer variable\n",
        "string_v = 'hello' # defining a string variable\n",
        "float_v = 1.0 # defining a float variable"
      ],
      "execution_count": null,
      "outputs": []
    },
    {
      "cell_type": "code",
      "metadata": {
        "id": "2EVoTMButvEr",
        "colab_type": "code",
        "colab": {
          "base_uri": "https://localhost:8080/",
          "height": 68
        },
        "outputId": "ea6f5630-d3fe-42b8-a0c7-b921e6affead"
      },
      "source": [
        "print(type(num_v))\n",
        "print(type(string_v))\n",
        "print(type(float_v))"
      ],
      "execution_count": null,
      "outputs": [
        {
          "output_type": "stream",
          "text": [
            "<class 'int'>\n",
            "<class 'str'>\n",
            "<class 'float'>\n"
          ],
          "name": "stdout"
        }
      ]
    },
    {
      "cell_type": "markdown",
      "metadata": {
        "id": "HNYDiqB-t_3H",
        "colab_type": "text"
      },
      "source": [
        "### Multiple Assignment:\n",
        "Python allows us to assign a single value to several variables simultaneously.\n",
        "\n",
        "For example:"
      ]
    },
    {
      "cell_type": "code",
      "metadata": {
        "id": "33X6KzElulG5",
        "colab_type": "code",
        "colab": {
          "base_uri": "https://localhost:8080/",
          "height": 170
        },
        "outputId": "ef003fb7-6e4e-496b-e6e1-3525d8a340f9"
      },
      "source": [
        "first, second, third = 100, 200, 300 # assigning same value to multiple variables\n",
        "print('variables with same value:')\n",
        "print(first)\n",
        "print(second)\n",
        "print(third)\n",
        "\n",
        "# You can also assign multiple values to multiple variables.\n",
        "\n",
        "fourth, fifth, sixth = 100, '200_string', 300.0 # assigning multiple value to multiple variables\n",
        "print('\\nvariables with different value:')\n",
        "print(fourth)\n",
        "print(fifth)\n",
        "print(sixth)"
      ],
      "execution_count": null,
      "outputs": [
        {
          "output_type": "stream",
          "text": [
            "variables with same value:\n",
            "100\n",
            "200\n",
            "300\n",
            "\n",
            "variables with different value:\n",
            "100\n",
            "200_string\n",
            "300.0\n"
          ],
          "name": "stdout"
        }
      ]
    },
    {
      "cell_type": "markdown",
      "metadata": {
        "id": "V9lYFTpxuvBn",
        "colab_type": "text"
      },
      "source": [
        "### python data types\n",
        "\n",
        "Mainly there are two kind of data types available in python.\n",
        "\n",
        "* Numbers and,\n",
        "* Strings\n",
        "\n",
        "\n",
        "#### 1. Numbers\n",
        "\n",
        "Numbers could be of three types- (integer, float and complex).\n",
        "\n",
        "As similar to most other languages, on numbers operators like +, -, * and / can be applied."
      ]
    },
    {
      "cell_type": "code",
      "metadata": {
        "id": "WgWMJJ8kx4F3",
        "colab_type": "code",
        "colab": {
          "base_uri": "https://localhost:8080/",
          "height": 238
        },
        "outputId": "7a6aff1e-16d4-4a0e-da6a-3d61a375a009"
      },
      "source": [
        "print('basic operators: ')\n",
        "print(1+1)\n",
        "print(2-1)\n",
        "print(2*2)\n",
        "print(4/2) # division always returns float value\n",
        "\n",
        "# parenthesis can be used for grouping.\n",
        "print('grouping:')\n",
        "print((10-4)/3)\n",
        "\n",
        "# to discard the floating part, you can use floor division '//'\n",
        "print('floor division:') \n",
        "print(4//2)\n",
        "\n",
        "# use % operator to fetch remainder of the division\n",
        "print('remainder:')\n",
        "print(7/3)\n",
        "\n",
        "# '**' operator is used to calculate power\n",
        "print('calculate power:')\n",
        "print(5 ** 2)"
      ],
      "execution_count": null,
      "outputs": [
        {
          "output_type": "stream",
          "text": [
            "basic operators: \n",
            "2\n",
            "1\n",
            "4\n",
            "2.0\n",
            "grouping:\n",
            "2.0\n",
            "floor division:\n",
            "2\n",
            "remainder:\n",
            "2.3333333333333335\n",
            "calculate power:\n",
            "25\n"
          ],
          "name": "stdout"
        }
      ]
    },
    {
      "cell_type": "markdown",
      "metadata": {
        "id": "m5TP_Sl5zEVa",
        "colab_type": "text"
      },
      "source": [
        "#### 2. Strings\n",
        "Strings can be created by enclosing characters in quotes."
      ]
    },
    {
      "cell_type": "code",
      "metadata": {
        "id": "eqcBjWVt7Q4Q",
        "colab_type": "code",
        "colab": {
          "base_uri": "https://localhost:8080/",
          "height": 85
        },
        "outputId": "24adeeb3-ad8e-4bfe-91e0-4bfa077ff346"
      },
      "source": [
        "first_str = 'single quoted string'\n",
        "second_str = \"double quoted string\"\n",
        "third_str = '''triple quoted string'''\n",
        "\n",
        "print(first_str)\n",
        "print(second_str)\n",
        "print(third_str)\n",
        "\n",
        "# combining strings and numbers using format() method\n",
        "\n",
        "int_variable = 100\n",
        "str_variable = \"10*10 is: {}\"\n",
        "print(str_variable.format(int_variable))"
      ],
      "execution_count": null,
      "outputs": [
        {
          "output_type": "stream",
          "text": [
            "single quoted string\n",
            "double quoted string\n",
            "triple quoted string\n",
            "10*10 is: 100\n"
          ],
          "name": "stdout"
        }
      ]
    },
    {
      "cell_type": "markdown",
      "metadata": {
        "id": "SPoTW_Yl8g4w",
        "colab_type": "text"
      },
      "source": [
        "## Control flow tools\n",
        "\n",
        "### If statements:\n",
        "\n",
        "An if statement can be written by using if , elif and else keywords.\n",
        "\n",
        "For Example:"
      ]
    },
    {
      "cell_type": "code",
      "metadata": {
        "id": "u9Bg0J3g-Np_",
        "colab_type": "code",
        "colab": {
          "base_uri": "https://localhost:8080/",
          "height": 34
        },
        "outputId": "0661d63d-b1c1-42ce-93aa-3170e3a19a67"
      },
      "source": [
        "a = 10\n",
        "b = 20\n",
        "\n",
        "# pay attention to indentation used\n",
        "if a>b:\n",
        "  print('a is greater.')\n",
        "elif a<b:\n",
        "  print('b is greater')  \n",
        "else:\n",
        "  print('a and b are equal.')"
      ],
      "execution_count": null,
      "outputs": [
        {
          "output_type": "stream",
          "text": [
            "b is greater\n"
          ],
          "name": "stdout"
        }
      ]
    },
    {
      "cell_type": "markdown",
      "metadata": {
        "id": "LTN1bKgb-1iM",
        "colab_type": "text"
      },
      "source": [
        "#### for statements:\n",
        "\n",
        "To iterate over a sequence we use for loop. This sequence could be either a list, a tuple, a dictionary, a set, or a string.\n",
        "\n",
        "For Example:"
      ]
    },
    {
      "cell_type": "code",
      "metadata": {
        "id": "F7069bA3DJ58",
        "colab_type": "code",
        "colab": {
          "base_uri": "https://localhost:8080/",
          "height": 255
        },
        "outputId": "5528ab28-19fa-4516-d976-ba7d70ba0601"
      },
      "source": [
        "list_itr = ['a','b','c','d']\n",
        "print('iterating over a list:')\n",
        "for i in list_itr:    # iterating over a list\n",
        "  print(i)\n",
        "  \n",
        "print('iterating over a slice of list')\n",
        "for i in list_itr[0:2]:    # iterating over a slice of list\n",
        "  print(i)\n",
        "  \n",
        "print('iterating using range function:')\n",
        "for i in range(0,5):\n",
        "  print(i)"
      ],
      "execution_count": null,
      "outputs": [
        {
          "output_type": "stream",
          "text": [
            "iterating over a list:\n",
            "a\n",
            "b\n",
            "c\n",
            "d\n",
            "iterating over a slice of list\n",
            "a\n",
            "b\n",
            "iterating using range function:\n",
            "0\n",
            "1\n",
            "2\n",
            "3\n",
            "4\n"
          ],
          "name": "stdout"
        }
      ]
    },
    {
      "cell_type": "markdown",
      "metadata": {
        "id": "2NDOdL3TD0h6",
        "colab_type": "text"
      },
      "source": [
        "## Python object oriented programming\n",
        "\n",
        "\n",
        "### Creating a class and object"
      ]
    },
    {
      "cell_type": "code",
      "metadata": {
        "id": "kdJRONvbn9Hv",
        "colab_type": "code",
        "colab": {
          "base_uri": "https://localhost:8080/",
          "height": 187
        },
        "outputId": "62c25888-c96c-4661-860a-1704656a2632"
      },
      "source": [
        "class Student:\n",
        "  \n",
        "  raise_perc = 1.05\n",
        "  \n",
        "  def __init__(self, firstName, lastName, fee):\n",
        "    self.firstName = firstName\n",
        "    self.lastName = lastName\n",
        "    self.fee = fee\n",
        "    self.email = firstName + '.' + lastName + '@mj.com'\n",
        "    \n",
        "  def full_name(self):\n",
        "    return '{} {}'.format(self.firstName, self.lastName)\n",
        "  \n",
        "  def raise_fee(self):\n",
        "    self.pay = int(self.fee * self.raise_perc)\n",
        "    \n",
        "student1 = Student('mritunjay', 'kumar', 100)\n",
        "student2 = Student('machine', 'learning', 200)\n",
        "\n",
        "print(\"email: \" + student1.email)\n",
        "print(\"email: \" + student2.email)\n",
        "\n",
        "# print full name using objects\n",
        "print(\"full name: \" + student1.full_name())\n",
        "print(\"full name: \" + student2.full_name())\n",
        "\n",
        "# print full name using class name and by passing objects as parameters\n",
        "print(\"full name with class: \" + Student.full_name(student1))\n",
        "print(\"full name with class: \" + Student.full_name(student2))\n",
        "\n",
        "# print fee raised using objects\n",
        "print(\"Fee before raise: {}\".format(student1.fee))\n",
        "student1.raise_fee()\n",
        "print(\"Fee after raise: {}\".format(student1.fee))\n",
        "\n",
        "print(\"Fee before raise: {}\".format(student2.fee))\n",
        "student2.raise_fee()\n",
        "print(\"Fee after raise: {}\".format(student2.fee))"
      ],
      "execution_count": null,
      "outputs": [
        {
          "output_type": "stream",
          "text": [
            "email: mritunjay.kumar@mj.com\n",
            "email: machine.learning@mj.com\n",
            "full name: mritunjay kumar\n",
            "full name: machine learning\n",
            "full name with class: mritunjay kumar\n",
            "full name with class: machine learning\n",
            "Fee before raise: 100\n",
            "Fee after raise: 100\n",
            "Fee before raise: 200\n",
            "Fee after raise: 200\n"
          ],
          "name": "stdout"
        }
      ]
    },
    {
      "cell_type": "code",
      "metadata": {
        "id": "yxePvqMbo9Zq",
        "colab_type": "code",
        "colab": {}
      },
      "source": [
        ""
      ],
      "execution_count": null,
      "outputs": []
    }
  ]
}