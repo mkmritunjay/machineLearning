{
  "nbformat": 4,
  "nbformat_minor": 0,
  "metadata": {
    "colab": {
      "name": "ARIMA.ipynb",
      "provenance": [],
      "authorship_tag": "ABX9TyNYL5Mgdez9UetD9jZsgXcw",
      "include_colab_link": true
    },
    "kernelspec": {
      "name": "python3",
      "display_name": "Python 3"
    }
  },
  "cells": [
    {
      "cell_type": "markdown",
      "metadata": {
        "id": "view-in-github",
        "colab_type": "text"
      },
      "source": [
        "<a href=\"https://colab.research.google.com/github/mkmritunjay/machineLearning/blob/master/ARIMA.ipynb\" target=\"_parent\"><img src=\"https://colab.research.google.com/assets/colab-badge.svg\" alt=\"Open In Colab\"/></a>"
      ]
    },
    {
      "cell_type": "markdown",
      "metadata": {
        "id": "igDLjQDkosXL",
        "colab_type": "text"
      },
      "source": [
        "## Forecasting Problems:\n",
        "\n",
        "### Time Series Analysis\n",
        "\n",
        "What is Time Series? and Time Series Components (Trend, Seasonality, cyclicity, irregular)\n",
        "1. Time Series Creation - properties - Time index, lag, lead, difference of series - Concept of Forecasting?\n",
        "2. Detrending, deseasonal the series\n",
        "3. Time Series Decomposition\n",
        "4. Concept of Stationarity - ADF Test\n",
        "5. Auto correlation Function (ACF), Partial Auto correlation function (PACF)\n",
        "6. Averages (Moving average, weighted moving average, centered moving average etc)\n",
        "7. Smothening the Series\n",
        "8. Time Series Modeling (ARIMA - Box Jenkins process)\n",
        "9. Types of models (AR, MA, ARMA, ARIMA, ARIMAX, SARIMA, SARIMAX)\n",
        "10. Advanced models (ARCH, GARCH, VAR, Wavelets etc)\n",
        "11. Model accuracy metrics & validation (MAE, MSE, RMSE, MAPE etc)"
      ]
    },
    {
      "cell_type": "markdown",
      "metadata": {
        "id": "EXcjx2AcpHHF",
        "colab_type": "text"
      },
      "source": [
        "### What is Time Series?\n",
        "\n",
        "- A time series is a set of observations generated, sequentially in time, on a single variable\n",
        "- Time periods are of equal length (days, weeks, months, quarters, annual)\n",
        "- Time series analysis accounts for the fact that data points taken over time may have an internal structure (such as auto correlation, trend or seasonal variation) that should be accounted for\n",
        "- Time series data is indexed by time and No missing values\n",
        "\n",
        "> Time series data is ubiquitous, both within and outside of the data science field: weekly initial unemployment claims, tick level stock prices, weekly company sales, daily number of steps taken recorded by a wearable, just to name a few. Some of the most important and commonly used data science techniques to analyze time series data are those in developed in the field of statistics. For this reason, time series statistical models should be included in any data scientist's toolkit.\n",
        "\n",
        "### What is Time Series ANalysis?\n",
        "Time series analysis and modeling have many business and social applications. It is extensively used to forecast company sales, product demand, stock market trends, agricultural production etc.\n",
        "The fundamental idea for time series analysis is to decompose the original time series (sales, stock market trends, etc.) into several independent components. Typically, business time series are divided into the following four components:\n",
        "\n",
        "- Trend – overall direction of the series i.e. upwards, downwards etc.\n",
        "- Seasonality – monthly or quarterly patterns\n",
        "- Cycle – long-term business cycles, they usually come after 5 or 7 years\n",
        "- Irregular remainder – random noise left after extraction of all the components\n",
        "\n",
        "Interference of these components produces the final series.\n",
        "Why bother decomposing the original / actual time series into components? It is much easier to forecast the individual regular patterns produced through decomposition of time series than the actual series.\n",
        "\n",
        "### Time Series Analysis - Time Series Components\n",
        "\n",
        "- Time Series data allows us to either to do analysis or forecasting.\n",
        "- Time series analysis comprises methods for analyzing time series data in order to extract meaningful statistics and other characteristics of the data.\n",
        "- Time series forecasting is the use of a model to predict future values based on previously observed values.\n",
        "\n",
        "##### Components: Time Series can be decomposed into 4 components\n",
        "- Trend: Trend is the gradual, long-run (or secular) evolution of the variables that we are seeking to forecast.\n",
        "- Seasonal Effects: Many series display a regular pattern of variability depending on the time of year. This pattern is known as the seasonal effect.\n",
        "- Cyclic Component: Fluctuations around the trend, excluding the irregular component, revealing a succession of phases of expansion and contraction.\n",
        "- Irregular Component (White Noise): The unexplained remaining variability."
      ]
    },
    {
      "cell_type": "markdown",
      "metadata": {
        "id": "dLyTP4EEpNku",
        "colab_type": "text"
      },
      "source": [
        "## Creating Time Series\n",
        "\n",
        "### Loading and Handling Time Series in Pandas\n",
        "Pandas has dedicated libraries for handling TS objects, particularly the datatime64[ns] class which stores time information and allows us to perform some operations really fast. Lets start by firing up the required libraries:"
      ]
    },
    {
      "cell_type": "code",
      "metadata": {
        "id": "Li8-AgNLoiuM",
        "colab_type": "code",
        "colab": {}
      },
      "source": [
        ""
      ],
      "execution_count": 0,
      "outputs": []
    }
  ]
}