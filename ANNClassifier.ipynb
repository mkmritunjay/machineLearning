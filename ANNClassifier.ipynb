{
  "nbformat": 4,
  "nbformat_minor": 0,
  "metadata": {
    "colab": {
      "name": "ANNClassifier.ipynb",
      "provenance": [],
      "collapsed_sections": [],
      "authorship_tag": "ABX9TyPHr4yY61qpHPhEHQg74AJM",
      "include_colab_link": true
    },
    "kernelspec": {
      "name": "python3",
      "display_name": "Python 3"
    }
  },
  "cells": [
    {
      "cell_type": "markdown",
      "metadata": {
        "id": "view-in-github",
        "colab_type": "text"
      },
      "source": [
        "<a href=\"https://colab.research.google.com/github/mkmritunjay/machineLearning/blob/master/ANNClassifier.ipynb\" target=\"_parent\"><img src=\"https://colab.research.google.com/assets/colab-badge.svg\" alt=\"Open In Colab\"/></a>"
      ]
    },
    {
      "cell_type": "markdown",
      "metadata": {
        "id": "aK-wmTVKoSaU",
        "colab_type": "text"
      },
      "source": [
        "# Neural Networks\n",
        " \n",
        "Neural Networks are a machine learning framework that attempts to mimic the learning pattern of natural biological neural networks. Biological neural networks have interconnected neurons with dendrites that receive inputs, then based on these inputs they produce an output signal through an axon to another neuron. We will try to mimic this process through the use of Artificial Neural Networks (ANN), which we will just refer to as neural networks from now on. The process of creating a neural network begins with the most basic form, a single perceptron.\n",
        "\n",
        "---\n",
        "The Perceptron\n",
        " \n",
        "Let's start our discussion by talking about the Perceptron! A perceptron has one or more inputs, a bias, an activation function, and a single output. The perceptron receives inputs, multiplies them by some weight, and then passes them into an activation function to produce an output. There are many possible activation functions to choose from, such as the logistic function, a trigonometric function, a step function etc. We also make sure to add a bias to the perceptron, this avoids issues where all inputs could be equal to zero (meaning no multiplicative weight would have an effect).\n",
        "\n",
        "\n",
        "---\n",
        "Once we have the output we can compare it to a known label and adjust the weights accordingly (the weights usually start off with random initialization values). We keep repeating this process until we have reached a maximum number of allowed iterations, or an acceptable error rate.\n",
        "\n",
        "To create a neural network, we simply begin to add layers of perceptrons together, creating a multi-layer perceptron model of a neural network. You'll have an input layer which directly takes in your feature inputs and an output layer which will create the resulting outputs. Any layers in between are known as hidden layers because they don't directly \"see\" the feature inputs or outputs.\n"
      ]
    },
    {
      "cell_type": "markdown",
      "metadata": {
        "id": "GBUse5bco5Lg",
        "colab_type": "text"
      },
      "source": [
        "---\n",
        "Data\n",
        " \n",
        "We'll use SciKit Learn's built in Breast Cancer Data Set which has several features of tumors with a labeled class indicating whether the tumor was Malignant or Benign. We will try to create a neural network model that can take in these features and attempt to predict malignant or benign labels for tumors it has not seen before. Let's go ahead and start by getting the data!"
      ]
    },
    {
      "cell_type": "code",
      "metadata": {
        "id": "09St20alp84B",
        "colab_type": "code",
        "colab": {}
      },
      "source": [
        "from sklearn.model_selection import train_test_split\n",
        "from sklearn.datasets import load_breast_cancer\n",
        "from sklearn.preprocessing import StandardScaler\n",
        "from sklearn.neural_network import MLPClassifier\n",
        "from sklearn.metrics import classification_report,confusion_matrix"
      ],
      "execution_count": 0,
      "outputs": []
    },
    {
      "cell_type": "code",
      "metadata": {
        "id": "DSTE3mymoLee",
        "colab_type": "code",
        "colab": {}
      },
      "source": [
        "# This object is like a dictionary, it contains a description of the data and the features and targets:\n",
        "cancer = load_breast_cancer()"
      ],
      "execution_count": 0,
      "outputs": []
    },
    {
      "cell_type": "code",
      "metadata": {
        "id": "WV4R8i5HpJHW",
        "colab_type": "code",
        "colab": {
          "base_uri": "https://localhost:8080/",
          "height": 34
        },
        "outputId": "c79ad2ce-dcea-4930-879e-e263f873952e"
      },
      "source": [
        "cancer.keys()"
      ],
      "execution_count": 7,
      "outputs": [
        {
          "output_type": "execute_result",
          "data": {
            "text/plain": [
              "dict_keys(['data', 'target', 'target_names', 'DESCR', 'feature_names', 'filename'])"
            ]
          },
          "metadata": {
            "tags": []
          },
          "execution_count": 7
        }
      ]
    },
    {
      "cell_type": "code",
      "metadata": {
        "id": "4HLZNT4LpOmG",
        "colab_type": "code",
        "colab": {
          "base_uri": "https://localhost:8080/",
          "height": 34
        },
        "outputId": "c1201624-e22d-48ec-b71a-7a0a154d1a15"
      },
      "source": [
        "cancer['data'].shape"
      ],
      "execution_count": 8,
      "outputs": [
        {
          "output_type": "execute_result",
          "data": {
            "text/plain": [
              "(569, 30)"
            ]
          },
          "metadata": {
            "tags": []
          },
          "execution_count": 8
        }
      ]
    },
    {
      "cell_type": "code",
      "metadata": {
        "id": "Qz7S6C09pTvi",
        "colab_type": "code",
        "colab": {}
      },
      "source": [
        "X = cancer['data']\n",
        "Y = cancer['target']"
      ],
      "execution_count": 0,
      "outputs": []
    },
    {
      "cell_type": "markdown",
      "metadata": {
        "id": "okOZLQZRpfTQ",
        "colab_type": "text"
      },
      "source": [
        "### Train Test Split"
      ]
    },
    {
      "cell_type": "code",
      "metadata": {
        "id": "95ooBUZApecY",
        "colab_type": "code",
        "colab": {}
      },
      "source": [
        "X_train, X_test, y_train, y_test = train_test_split(X, Y)"
      ],
      "execution_count": 0,
      "outputs": []
    },
    {
      "cell_type": "markdown",
      "metadata": {
        "id": "X12PkI_cqXFa",
        "colab_type": "text"
      },
      "source": [
        "### Data Preprocessing\n",
        " \n",
        "The neural network may have difficulty converging before the maximum number of iterations allowed if the data is not normalized. Multi-layer Perceptron is sensitive to feature scaling, so it is highly recommended to scale your data. Note that you must apply the same scaling to the test set for meaningful results. There are a lot of different methods for normalization of data, we will use the built-in StandardScaler for standardization."
      ]
    },
    {
      "cell_type": "code",
      "metadata": {
        "id": "8w-_8eREqP_u",
        "colab_type": "code",
        "colab": {
          "base_uri": "https://localhost:8080/",
          "height": 34
        },
        "outputId": "d6bba499-551f-4499-99ae-bd9bdff37b1a"
      },
      "source": [
        "scaler = StandardScaler()\n",
        "# Fit only to the training data\n",
        "scaler.fit(X_train)"
      ],
      "execution_count": 13,
      "outputs": [
        {
          "output_type": "execute_result",
          "data": {
            "text/plain": [
              "StandardScaler(copy=True, with_mean=True, with_std=True)"
            ]
          },
          "metadata": {
            "tags": []
          },
          "execution_count": 13
        }
      ]
    },
    {
      "cell_type": "code",
      "metadata": {
        "id": "P2O1wnfOqj5_",
        "colab_type": "code",
        "colab": {}
      },
      "source": [
        "# Now apply the transformations to the data:\n",
        "X_train = scaler.transform(X_train)\n",
        "X_test = scaler.transform(X_test)"
      ],
      "execution_count": 0,
      "outputs": []
    },
    {
      "cell_type": "markdown",
      "metadata": {
        "id": "Yjov3FagrSaX",
        "colab_type": "text"
      },
      "source": [
        "### Model Building"
      ]
    },
    {
      "cell_type": "markdown",
      "metadata": {
        "id": "vilxU6VOqxMe",
        "colab_type": "text"
      },
      "source": [
        "Now it's time to train our model. SciKit Learn makes this incredibly easy, by using estimator objects. In this case we will import our estimator (the Multi-Layer Perceptron Classifier model) from the neural_network library of SciKit-Learn!\n",
        "\n",
        "**from sklearn.neural_network import MLPClassifier**\n",
        "\n",
        "Next we create an instance of the model, there are a lot of parameters you can choose to define and customize here, we will only define the hidden_layer_sizes. For this parameter you pass in a tuple consisting of the number of neurons you want at each layer, where the nth entry in the tuple represents the number of neurons in the nth layer of the MLP model. There are many ways to choose these numbers, but for simplicity we will choose 3 layers with the same number of neurons as there are features in our data set."
      ]
    },
    {
      "cell_type": "code",
      "metadata": {
        "id": "7bVq_vPjqm8T",
        "colab_type": "code",
        "colab": {}
      },
      "source": [
        "mlp = MLPClassifier(hidden_layer_sizes=(30,30,30))"
      ],
      "execution_count": 0,
      "outputs": []
    },
    {
      "cell_type": "markdown",
      "metadata": {
        "id": "xMNkr-G-rJqY",
        "colab_type": "text"
      },
      "source": [
        "Now that the model has been made we can fit the training data to our model, remember that this data has already been processed and scaled."
      ]
    },
    {
      "cell_type": "code",
      "metadata": {
        "id": "HKYTiAlerG5o",
        "colab_type": "code",
        "colab": {
          "base_uri": "https://localhost:8080/",
          "height": 153
        },
        "outputId": "d0b80ba3-7db6-4322-bb6c-2a88d0ad04fd"
      },
      "source": [
        "mlp.fit(X_train,y_train)"
      ],
      "execution_count": 17,
      "outputs": [
        {
          "output_type": "execute_result",
          "data": {
            "text/plain": [
              "MLPClassifier(activation='relu', alpha=0.0001, batch_size='auto', beta_1=0.9,\n",
              "              beta_2=0.999, early_stopping=False, epsilon=1e-08,\n",
              "              hidden_layer_sizes=(30, 30, 30), learning_rate='constant',\n",
              "              learning_rate_init=0.001, max_fun=15000, max_iter=200,\n",
              "              momentum=0.9, n_iter_no_change=10, nesterovs_momentum=True,\n",
              "              power_t=0.5, random_state=None, shuffle=True, solver='adam',\n",
              "              tol=0.0001, validation_fraction=0.1, verbose=False,\n",
              "              warm_start=False)"
            ]
          },
          "metadata": {
            "tags": []
          },
          "execution_count": 17
        }
      ]
    },
    {
      "cell_type": "markdown",
      "metadata": {
        "id": "VOA0XgrIrZ5w",
        "colab_type": "text"
      },
      "source": [
        "### Prediction and evaluation\n",
        "\n",
        "Now that we have a model it's time to use it to get predictions. \n",
        "\n",
        "We can do this simply with the predict() method off of our fitted model."
      ]
    },
    {
      "cell_type": "code",
      "metadata": {
        "id": "LgzYdWc3rVvL",
        "colab_type": "code",
        "colab": {}
      },
      "source": [
        "predictions = mlp.predict(X_test)"
      ],
      "execution_count": 0,
      "outputs": []
    },
    {
      "cell_type": "code",
      "metadata": {
        "id": "WeZGuFuArsEw",
        "colab_type": "code",
        "colab": {
          "base_uri": "https://localhost:8080/",
          "height": 170
        },
        "outputId": "dafac788-497d-4987-f28d-84f41f8218a9"
      },
      "source": [
        "print(classification_report(y_test,predictions))"
      ],
      "execution_count": 19,
      "outputs": [
        {
          "output_type": "stream",
          "text": [
            "              precision    recall  f1-score   support\n",
            "\n",
            "           0       0.98      0.96      0.97        53\n",
            "           1       0.98      0.99      0.98        90\n",
            "\n",
            "    accuracy                           0.98       143\n",
            "   macro avg       0.98      0.98      0.98       143\n",
            "weighted avg       0.98      0.98      0.98       143\n",
            "\n"
          ],
          "name": "stdout"
        }
      ]
    },
    {
      "cell_type": "markdown",
      "metadata": {
        "id": "KbYW-DpBsAse",
        "colab_type": "text"
      },
      "source": [
        "With a 98% accuracy rate (as well as 98% precision and recall) this is pretty good considering how few lines of code we had to write. The downside however to using a Multi-Layer Preceptron model is how difficult it is to interpret the model itself. The weights and biases won't be easily interpretable in relation to which features are important to the model itself.\n",
        "\n",
        "However, if you do want to extract the MLP weights and biases after training your model, you use its public attributes coefs_ and intercepts_.\n",
        "\n",
        "coefs_ is a list of weight matrices, where weight matrix at index i represents the weights between layer i and layer i+1.\n",
        "\n",
        "intercepts_ is a list of bias vectors, where the vector at index i represents the bias values added to layer i+1."
      ]
    },
    {
      "cell_type": "code",
      "metadata": {
        "id": "gfU3fkS_rulJ",
        "colab_type": "code",
        "colab": {
          "base_uri": "https://localhost:8080/",
          "height": 34
        },
        "outputId": "703e0502-55ff-4da4-fccf-34bf6fc908a0"
      },
      "source": [
        "len(mlp.coefs_)"
      ],
      "execution_count": 20,
      "outputs": [
        {
          "output_type": "execute_result",
          "data": {
            "text/plain": [
              "4"
            ]
          },
          "metadata": {
            "tags": []
          },
          "execution_count": 20
        }
      ]
    },
    {
      "cell_type": "code",
      "metadata": {
        "id": "wzLvZMTpsaDe",
        "colab_type": "code",
        "colab": {
          "base_uri": "https://localhost:8080/",
          "height": 34
        },
        "outputId": "5a65ccd8-bc84-47b2-84eb-8caecb539ee6"
      },
      "source": [
        "len(mlp.coefs_[0])"
      ],
      "execution_count": 21,
      "outputs": [
        {
          "output_type": "execute_result",
          "data": {
            "text/plain": [
              "30"
            ]
          },
          "metadata": {
            "tags": []
          },
          "execution_count": 21
        }
      ]
    },
    {
      "cell_type": "code",
      "metadata": {
        "id": "l7ndMYtqscJ4",
        "colab_type": "code",
        "colab": {
          "base_uri": "https://localhost:8080/",
          "height": 34
        },
        "outputId": "381d6717-c5d3-48dc-fdf4-dceca13f93bc"
      },
      "source": [
        "len(mlp.intercepts_[0])"
      ],
      "execution_count": 22,
      "outputs": [
        {
          "output_type": "execute_result",
          "data": {
            "text/plain": [
              "30"
            ]
          },
          "metadata": {
            "tags": []
          },
          "execution_count": 22
        }
      ]
    },
    {
      "cell_type": "markdown",
      "metadata": {
        "id": "HbtPUh2itsHQ",
        "colab_type": "text"
      },
      "source": [
        "# HR case study\n",
        "\n",
        "Let's look into one more data set and build an artificial neural network.\n",
        "We will use same data set that we used for bagging and boosting."
      ]
    },
    {
      "cell_type": "code",
      "metadata": {
        "id": "vS7YEg9jsf4u",
        "colab_type": "code",
        "colab": {}
      },
      "source": [
        "import pandas as pd\n",
        "import numpy as np\n",
        "import matplotlib.pyplot as plt\n",
        "import seaborn as sns\n",
        "from sklearn.model_selection import train_test_split\n",
        "from sklearn import metrics\n",
        "from sklearn.preprocessing import StandardScaler\n",
        "import sklearn.neural_network as nn\n",
        "from sklearn.neural_network import MLPClassifier\n",
        "from sklearn.metrics import classification_report, confusion_matrix\n",
        "url = 'https://raw.githubusercontent.com/mkmritunjay/machineLearning/master/HR_comma_sep.csv'"
      ],
      "execution_count": 0,
      "outputs": []
    },
    {
      "cell_type": "code",
      "metadata": {
        "id": "5-gzA1pEuhiu",
        "colab_type": "code",
        "colab": {}
      },
      "source": [
        "hr_df = pd.read_csv(url)"
      ],
      "execution_count": 0,
      "outputs": []
    },
    {
      "cell_type": "code",
      "metadata": {
        "id": "wmtsEnh7u9lA",
        "colab_type": "code",
        "colab": {
          "base_uri": "https://localhost:8080/",
          "height": 272
        },
        "outputId": "c17204b9-3482-40de-e35e-288e35a2a38d"
      },
      "source": [
        "hr_df.info()"
      ],
      "execution_count": 26,
      "outputs": [
        {
          "output_type": "stream",
          "text": [
            "<class 'pandas.core.frame.DataFrame'>\n",
            "RangeIndex: 14999 entries, 0 to 14998\n",
            "Data columns (total 10 columns):\n",
            "satisfaction_level       14999 non-null float64\n",
            "last_evaluation          14999 non-null float64\n",
            "number_project           14999 non-null int64\n",
            "average_montly_hours     14999 non-null int64\n",
            "time_spend_company       14999 non-null int64\n",
            "Work_accident            14999 non-null int64\n",
            "left                     14999 non-null int64\n",
            "promotion_last_5years    14999 non-null int64\n",
            "department               14999 non-null object\n",
            "salary                   14999 non-null object\n",
            "dtypes: float64(2), int64(6), object(2)\n",
            "memory usage: 1.1+ MB\n"
          ],
          "name": "stdout"
        }
      ]
    },
    {
      "cell_type": "code",
      "metadata": {
        "id": "CscwvSkPvARY",
        "colab_type": "code",
        "colab": {}
      },
      "source": [
        "# Encoding Categorical Features\n",
        "numerical_features = ['satisfaction_level', 'last_evaluation', 'number_project',\n",
        "     'average_montly_hours', 'time_spend_company']\n",
        "\n",
        "categorical_features = ['Work_accident','promotion_last_5years', 'department', 'salary']"
      ],
      "execution_count": 0,
      "outputs": []
    },
    {
      "cell_type": "code",
      "metadata": {
        "id": "0kledtFZvECd",
        "colab_type": "code",
        "colab": {}
      },
      "source": [
        "# A utility function to create dummy variable\n",
        "def create_dummies( df, colname ):\n",
        "    col_dummies = pd.get_dummies(df[colname], prefix=colname)\n",
        "    col_dummies.drop(col_dummies.columns[0], axis=1, inplace=True)\n",
        "    df = pd.concat([df, col_dummies], axis=1)\n",
        "    df.drop( colname, axis = 1, inplace = True )\n",
        "    return df"
      ],
      "execution_count": 0,
      "outputs": []
    },
    {
      "cell_type": "code",
      "metadata": {
        "id": "mhl1HuCQvGwi",
        "colab_type": "code",
        "colab": {}
      },
      "source": [
        "for c_feature in categorical_features:\n",
        "    hr_df = create_dummies( hr_df, c_feature )"
      ],
      "execution_count": 0,
      "outputs": []
    },
    {
      "cell_type": "markdown",
      "metadata": {
        "id": "K5K-V_mSveMA",
        "colab_type": "text"
      },
      "source": [
        "### Train Test Split"
      ]
    },
    {
      "cell_type": "code",
      "metadata": {
        "id": "d-J-da4nvL-7",
        "colab_type": "code",
        "colab": {}
      },
      "source": [
        "feature_columns = hr_df.columns.difference( ['left'] )"
      ],
      "execution_count": 0,
      "outputs": []
    },
    {
      "cell_type": "code",
      "metadata": {
        "id": "LPnPAzc3viMd",
        "colab_type": "code",
        "colab": {}
      },
      "source": [
        "train_X, test_X, train_y, test_y = train_test_split( hr_df[feature_columns],\n",
        "                                                  hr_df['left'],\n",
        "                                                  test_size = 0.2,\n",
        "                                                  random_state = 42 )"
      ],
      "execution_count": 0,
      "outputs": []
    },
    {
      "cell_type": "code",
      "metadata": {
        "id": "nt9d862-vljE",
        "colab_type": "code",
        "colab": {
          "base_uri": "https://localhost:8080/",
          "height": 34
        },
        "outputId": "b3b2b971-d6cb-46bb-e3d4-6e459beea492"
      },
      "source": [
        "scaler = StandardScaler()\n",
        "# Fit only to the training data\n",
        "scaler.fit(train_X)"
      ],
      "execution_count": 32,
      "outputs": [
        {
          "output_type": "execute_result",
          "data": {
            "text/plain": [
              "StandardScaler(copy=True, with_mean=True, with_std=True)"
            ]
          },
          "metadata": {
            "tags": []
          },
          "execution_count": 32
        }
      ]
    },
    {
      "cell_type": "code",
      "metadata": {
        "id": "QCiXJPPLvpQh",
        "colab_type": "code",
        "colab": {}
      },
      "source": [
        "# Now apply the transformations to the data:\n",
        "X_train = scaler.transform(train_X)\n",
        "X_test = scaler.transform(test_X)"
      ],
      "execution_count": 0,
      "outputs": []
    },
    {
      "cell_type": "code",
      "metadata": {
        "id": "A9kYQCAvvtHf",
        "colab_type": "code",
        "colab": {
          "base_uri": "https://localhost:8080/",
          "height": 1000
        },
        "outputId": "0de94dae-7334-42bc-f4a0-7da8d6aa90e7"
      },
      "source": [
        "mlp = MLPClassifier(hidden_layer_sizes=(3,2), verbose=True)\n",
        "mlp.fit(X_train,train_y)"
      ],
      "execution_count": 34,
      "outputs": [
        {
          "output_type": "stream",
          "text": [
            "Iteration 1, loss = 0.58779275\n",
            "Iteration 2, loss = 0.56179120\n",
            "Iteration 3, loss = 0.53318591\n",
            "Iteration 4, loss = 0.49977348\n",
            "Iteration 5, loss = 0.46978772\n",
            "Iteration 6, loss = 0.44972666\n",
            "Iteration 7, loss = 0.43456158\n",
            "Iteration 8, loss = 0.42171515\n",
            "Iteration 9, loss = 0.40867200\n",
            "Iteration 10, loss = 0.39461142\n",
            "Iteration 11, loss = 0.38379212\n",
            "Iteration 12, loss = 0.37441935\n",
            "Iteration 13, loss = 0.36613954\n",
            "Iteration 14, loss = 0.35891378\n",
            "Iteration 15, loss = 0.35247080\n",
            "Iteration 16, loss = 0.34644269\n",
            "Iteration 17, loss = 0.34101914\n",
            "Iteration 18, loss = 0.33592822\n",
            "Iteration 19, loss = 0.33080714\n",
            "Iteration 20, loss = 0.32562051\n",
            "Iteration 21, loss = 0.32014340\n",
            "Iteration 22, loss = 0.31421007\n",
            "Iteration 23, loss = 0.30813982\n",
            "Iteration 24, loss = 0.30259685\n",
            "Iteration 25, loss = 0.29777809\n",
            "Iteration 26, loss = 0.29351497\n",
            "Iteration 27, loss = 0.28932915\n",
            "Iteration 28, loss = 0.28545985\n",
            "Iteration 29, loss = 0.28181557\n",
            "Iteration 30, loss = 0.27860862\n",
            "Iteration 31, loss = 0.27563963\n",
            "Iteration 32, loss = 0.27286035\n",
            "Iteration 33, loss = 0.27049116\n",
            "Iteration 34, loss = 0.26843462\n",
            "Iteration 35, loss = 0.26637483\n",
            "Iteration 36, loss = 0.26463720\n",
            "Iteration 37, loss = 0.26327050\n",
            "Iteration 38, loss = 0.26184914\n",
            "Iteration 39, loss = 0.26055928\n",
            "Iteration 40, loss = 0.25959605\n",
            "Iteration 41, loss = 0.25849444\n",
            "Iteration 42, loss = 0.25769303\n",
            "Iteration 43, loss = 0.25698979\n",
            "Iteration 44, loss = 0.25634292\n",
            "Iteration 45, loss = 0.25566184\n",
            "Iteration 46, loss = 0.25473464\n",
            "Iteration 47, loss = 0.25406779\n",
            "Iteration 48, loss = 0.25308286\n",
            "Iteration 49, loss = 0.25193871\n",
            "Iteration 50, loss = 0.25109934\n",
            "Iteration 51, loss = 0.25015875\n",
            "Iteration 52, loss = 0.24936488\n",
            "Iteration 53, loss = 0.24858861\n",
            "Iteration 54, loss = 0.24782917\n",
            "Iteration 55, loss = 0.24695420\n",
            "Iteration 56, loss = 0.24628976\n",
            "Iteration 57, loss = 0.24525462\n",
            "Iteration 58, loss = 0.24474652\n",
            "Iteration 59, loss = 0.24406427\n",
            "Iteration 60, loss = 0.24352466\n",
            "Iteration 61, loss = 0.24269357\n",
            "Iteration 62, loss = 0.24207998\n",
            "Iteration 63, loss = 0.24161575\n",
            "Iteration 64, loss = 0.24130104\n",
            "Iteration 65, loss = 0.24097030\n",
            "Iteration 66, loss = 0.24051650\n",
            "Iteration 67, loss = 0.24034348\n",
            "Iteration 68, loss = 0.23999449\n",
            "Iteration 69, loss = 0.23981967\n",
            "Iteration 70, loss = 0.23970663\n",
            "Iteration 71, loss = 0.23958716\n",
            "Iteration 72, loss = 0.23950422\n",
            "Iteration 73, loss = 0.23928611\n",
            "Iteration 74, loss = 0.23913199\n",
            "Iteration 75, loss = 0.23902511\n",
            "Iteration 76, loss = 0.23899185\n",
            "Iteration 77, loss = 0.23887474\n",
            "Iteration 78, loss = 0.23876785\n",
            "Iteration 79, loss = 0.23875069\n",
            "Iteration 80, loss = 0.23860823\n",
            "Iteration 81, loss = 0.23845946\n",
            "Iteration 82, loss = 0.23840588\n",
            "Iteration 83, loss = 0.23822841\n",
            "Iteration 84, loss = 0.23818032\n",
            "Iteration 85, loss = 0.23804952\n",
            "Iteration 86, loss = 0.23809302\n",
            "Iteration 87, loss = 0.23792467\n",
            "Iteration 88, loss = 0.23789542\n",
            "Iteration 89, loss = 0.23782680\n",
            "Iteration 90, loss = 0.23772036\n",
            "Iteration 91, loss = 0.23769042\n",
            "Iteration 92, loss = 0.23761659\n",
            "Iteration 93, loss = 0.23749316\n",
            "Iteration 94, loss = 0.23752079\n",
            "Iteration 95, loss = 0.23752704\n",
            "Iteration 96, loss = 0.23732997\n",
            "Iteration 97, loss = 0.23727512\n",
            "Iteration 98, loss = 0.23728104\n",
            "Iteration 99, loss = 0.23730810\n",
            "Iteration 100, loss = 0.23721983\n",
            "Iteration 101, loss = 0.23718451\n",
            "Iteration 102, loss = 0.23710093\n",
            "Iteration 103, loss = 0.23719038\n",
            "Iteration 104, loss = 0.23701057\n",
            "Iteration 105, loss = 0.23690506\n",
            "Iteration 106, loss = 0.23702716\n",
            "Iteration 107, loss = 0.23687142\n",
            "Iteration 108, loss = 0.23684654\n",
            "Iteration 109, loss = 0.23680002\n",
            "Iteration 110, loss = 0.23679778\n",
            "Iteration 111, loss = 0.23675951\n",
            "Iteration 112, loss = 0.23661304\n",
            "Iteration 113, loss = 0.23663530\n",
            "Iteration 114, loss = 0.23669937\n",
            "Iteration 115, loss = 0.23675704\n",
            "Iteration 116, loss = 0.23667243\n",
            "Iteration 117, loss = 0.23649225\n",
            "Iteration 118, loss = 0.23650052\n",
            "Iteration 119, loss = 0.23649251\n",
            "Iteration 120, loss = 0.23645147\n",
            "Iteration 121, loss = 0.23651949\n",
            "Iteration 122, loss = 0.23638655\n",
            "Iteration 123, loss = 0.23637632\n",
            "Iteration 124, loss = 0.23640964\n",
            "Iteration 125, loss = 0.23628513\n",
            "Iteration 126, loss = 0.23629937\n",
            "Iteration 127, loss = 0.23617130\n",
            "Iteration 128, loss = 0.23613512\n",
            "Iteration 129, loss = 0.23599081\n",
            "Iteration 130, loss = 0.23604856\n",
            "Iteration 131, loss = 0.23589557\n",
            "Iteration 132, loss = 0.23583912\n",
            "Iteration 133, loss = 0.23589877\n",
            "Iteration 134, loss = 0.23573462\n",
            "Iteration 135, loss = 0.23571749\n",
            "Iteration 136, loss = 0.23563211\n",
            "Iteration 137, loss = 0.23560630\n",
            "Iteration 138, loss = 0.23548907\n",
            "Iteration 139, loss = 0.23541189\n",
            "Iteration 140, loss = 0.23535004\n",
            "Iteration 141, loss = 0.23524312\n",
            "Iteration 142, loss = 0.23526513\n",
            "Iteration 143, loss = 0.23524249\n",
            "Iteration 144, loss = 0.23527301\n",
            "Iteration 145, loss = 0.23517670\n",
            "Iteration 146, loss = 0.23500529\n",
            "Iteration 147, loss = 0.23507064\n",
            "Iteration 148, loss = 0.23501786\n",
            "Iteration 149, loss = 0.23495104\n",
            "Iteration 150, loss = 0.23485594\n",
            "Iteration 151, loss = 0.23485604\n",
            "Iteration 152, loss = 0.23479370\n",
            "Iteration 153, loss = 0.23487480\n",
            "Iteration 154, loss = 0.23470110\n",
            "Iteration 155, loss = 0.23485160\n",
            "Iteration 156, loss = 0.23476186\n",
            "Iteration 157, loss = 0.23477641\n",
            "Training loss did not improve more than tol=0.000100 for 10 consecutive epochs. Stopping.\n"
          ],
          "name": "stdout"
        },
        {
          "output_type": "execute_result",
          "data": {
            "text/plain": [
              "MLPClassifier(activation='relu', alpha=0.0001, batch_size='auto', beta_1=0.9,\n",
              "              beta_2=0.999, early_stopping=False, epsilon=1e-08,\n",
              "              hidden_layer_sizes=(3, 2), learning_rate='constant',\n",
              "              learning_rate_init=0.001, max_fun=15000, max_iter=200,\n",
              "              momentum=0.9, n_iter_no_change=10, nesterovs_momentum=True,\n",
              "              power_t=0.5, random_state=None, shuffle=True, solver='adam',\n",
              "              tol=0.0001, validation_fraction=0.1, verbose=True,\n",
              "              warm_start=False)"
            ]
          },
          "metadata": {
            "tags": []
          },
          "execution_count": 34
        }
      ]
    },
    {
      "cell_type": "code",
      "metadata": {
        "id": "nfzKDwNfvzmI",
        "colab_type": "code",
        "colab": {
          "base_uri": "https://localhost:8080/",
          "height": 408
        },
        "outputId": "34ef580f-b051-4a12-c183-801dd96668cd"
      },
      "source": [
        "mlp.coefs_"
      ],
      "execution_count": 35,
      "outputs": [
        {
          "output_type": "execute_result",
          "data": {
            "text/plain": [
              "[array([[ 1.33158312e-01,  9.26196253e-02,  1.63619623e-02],\n",
              "        [-6.22340973e-01,  4.54692915e-03, -5.35144293e-01],\n",
              "        [ 1.67656172e-01, -1.60172174e+00,  1.90288345e-01],\n",
              "        [-1.67243246e+00, -1.26241530e+00,  9.60035413e-01],\n",
              "        [-9.12001405e-02, -1.42712087e-02, -4.70135911e-02],\n",
              "        [ 1.90357105e-02,  3.54062209e-03,  8.65901157e-02],\n",
              "        [-1.55059043e-02,  8.51892255e-03,  2.36026734e-02],\n",
              "        [ 2.27978610e-02,  2.45832618e-02,  1.34233869e-02],\n",
              "        [-4.81665724e-02, -2.52987087e-02, -2.23653442e-02],\n",
              "        [-1.00754864e-01, -1.43216461e-02, -7.99228778e-02],\n",
              "        [-1.00719762e-01, -1.89480792e-03,  1.61875076e-02],\n",
              "        [-6.02776751e-01,  1.59439632e-01, -6.22061790e-01],\n",
              "        [-4.84880771e-01, -1.23753227e-01, -1.18814251e+00],\n",
              "        [ 1.50372732e-01,  4.04228033e-02,  1.27232103e-01],\n",
              "        [-2.78002139e-01, -1.88985505e-01, -4.79197360e-02],\n",
              "        [-2.03838430e-01, -1.26200459e-01, -2.88048930e-02],\n",
              "        [-2.46901258e-01,  5.14404154e-01, -5.63884015e-01],\n",
              "        [ 2.89029248e-01, -1.97506406e+00, -1.79138951e-02]]),\n",
              " array([[ 1.08239081,  0.4158462 ],\n",
              "        [-0.63301482,  1.40069462],\n",
              "        [-1.18179256, -1.64352718]]),\n",
              " array([[-1.96902918],\n",
              "        [-1.50197065]])]"
            ]
          },
          "metadata": {
            "tags": []
          },
          "execution_count": 35
        }
      ]
    },
    {
      "cell_type": "code",
      "metadata": {
        "id": "JwkbK1bTv7_S",
        "colab_type": "code",
        "colab": {
          "base_uri": "https://localhost:8080/",
          "height": 68
        },
        "outputId": "c8135155-cec9-435c-eb33-c807473896d5"
      },
      "source": [
        "mlp.intercepts_"
      ],
      "execution_count": 36,
      "outputs": [
        {
          "output_type": "execute_result",
          "data": {
            "text/plain": [
              "[array([ 1.07929607,  0.78397525, -0.75217458]),\n",
              " array([-0.00357943, -0.02403663]),\n",
              " array([1.30503351])]"
            ]
          },
          "metadata": {
            "tags": []
          },
          "execution_count": 36
        }
      ]
    },
    {
      "cell_type": "code",
      "metadata": {
        "id": "JpCx2upfv9xR",
        "colab_type": "code",
        "colab": {}
      },
      "source": [
        "predictions = mlp.predict(X_test)"
      ],
      "execution_count": 0,
      "outputs": []
    },
    {
      "cell_type": "code",
      "metadata": {
        "id": "MsKc3IWzwEML",
        "colab_type": "code",
        "colab": {
          "base_uri": "https://localhost:8080/",
          "height": 51
        },
        "outputId": "9af68df8-45e0-43eb-82b6-5efabacb6ad6"
      },
      "source": [
        "print(confusion_matrix(test_y, predictions))"
      ],
      "execution_count": 38,
      "outputs": [
        {
          "output_type": "stream",
          "text": [
            "[[2156  138]\n",
            " [  98  608]]\n"
          ],
          "name": "stdout"
        }
      ]
    },
    {
      "cell_type": "code",
      "metadata": {
        "id": "aSCC83PAwKmJ",
        "colab_type": "code",
        "colab": {
          "base_uri": "https://localhost:8080/",
          "height": 170
        },
        "outputId": "6cf6f1bf-8125-4a97-c677-ce7e8549f5e9"
      },
      "source": [
        "print(classification_report(test_y, predictions))"
      ],
      "execution_count": 39,
      "outputs": [
        {
          "output_type": "stream",
          "text": [
            "              precision    recall  f1-score   support\n",
            "\n",
            "           0       0.96      0.94      0.95      2294\n",
            "           1       0.82      0.86      0.84       706\n",
            "\n",
            "    accuracy                           0.92      3000\n",
            "   macro avg       0.89      0.90      0.89      3000\n",
            "weighted avg       0.92      0.92      0.92      3000\n",
            "\n"
          ],
          "name": "stdout"
        }
      ]
    },
    {
      "cell_type": "code",
      "metadata": {
        "id": "6Z4_qbRzwPgI",
        "colab_type": "code",
        "colab": {
          "base_uri": "https://localhost:8080/",
          "height": 68
        },
        "outputId": "fce4fd17-bda7-4cb8-e7c6-91eb9142650d"
      },
      "source": [
        "print(len(mlp.coefs_))\n",
        "print(len(mlp.coefs_[0]))\n",
        "print(len(mlp.intercepts_[0]))"
      ],
      "execution_count": 42,
      "outputs": [
        {
          "output_type": "stream",
          "text": [
            "3\n",
            "18\n",
            "3\n"
          ],
          "name": "stdout"
        }
      ]
    },
    {
      "cell_type": "code",
      "metadata": {
        "id": "P26yVSxJwY0k",
        "colab_type": "code",
        "colab": {}
      },
      "source": [
        ""
      ],
      "execution_count": 0,
      "outputs": []
    }
  ]
}