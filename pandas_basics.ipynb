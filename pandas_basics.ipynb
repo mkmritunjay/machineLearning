{
  "nbformat": 4,
  "nbformat_minor": 0,
  "metadata": {
    "colab": {
      "name": "pandas_basics.ipynb",
      "provenance": [],
      "include_colab_link": true
    },
    "kernelspec": {
      "name": "python3",
      "display_name": "Python 3"
    }
  },
  "cells": [
    {
      "cell_type": "markdown",
      "metadata": {
        "id": "view-in-github",
        "colab_type": "text"
      },
      "source": [
        "<a href=\"https://colab.research.google.com/github/mkmritunjay/machineLearning/blob/master/pandas_basics.ipynb\" target=\"_parent\"><img src=\"https://colab.research.google.com/assets/colab-badge.svg\" alt=\"Open In Colab\"/></a>"
      ]
    },
    {
      "cell_type": "markdown",
      "metadata": {
        "id": "oAcMXDzfnfKV",
        "colab_type": "text"
      },
      "source": [
        "# Pandas Basics\n",
        "\n",
        "Pandas is a software library in python for data manipulation and analysis. The name is derived from the term \"panel data\".\n",
        "\n",
        "The two primary data structures of pandas are Series (1-dimensional) and DataFrame (2-dimensional)."
      ]
    },
    {
      "cell_type": "markdown",
      "metadata": {
        "id": "-LFFiT9tqaSl",
        "colab_type": "text"
      },
      "source": [
        "### Series:\n",
        "\n",
        "***pandas.Series(data=None, index=None, dtype=None, name=None, copy=False, fastpath=False)***\n",
        "\n",
        "\n",
        "\n",
        "Its a one dimentional ndarray with axis labels (including time series).\n",
        "\n",
        "Lets create a series and do some basic operations."
      ]
    },
    {
      "cell_type": "code",
      "metadata": {
        "id": "t_ydZh4SrVot",
        "colab_type": "code",
        "colab": {
          "base_uri": "https://localhost:8080/",
          "height": 289
        },
        "outputId": "adcb0060-d2a2-4b37-8131-099c788ba055"
      },
      "source": [
        "import pandas as pd\n",
        "\n",
        "list_1 = [1,2,3,4,5]\n",
        "tuple_1 = (1,2,3,4,5)\n",
        "\n",
        "series_1 = pd.Series(data=list_1)\n",
        "series_2 = pd.Series(data=tuple_1)\n",
        "\n",
        "print(\"List Series:\")\n",
        "print(series_1)\n",
        "print(\"\\nTuple Series:\\n\")\n",
        "print(series_2)"
      ],
      "execution_count": 32,
      "outputs": [
        {
          "output_type": "stream",
          "text": [
            "List Series:\n",
            "0    1\n",
            "1    2\n",
            "2    3\n",
            "3    4\n",
            "4    5\n",
            "dtype: int64\n",
            "\n",
            "Tuple Series:\n",
            "\n",
            "0    1\n",
            "1    2\n",
            "2    3\n",
            "3    4\n",
            "4    5\n",
            "dtype: int64\n"
          ],
          "name": "stdout"
        }
      ]
    },
    {
      "cell_type": "markdown",
      "metadata": {
        "id": "60yUUqqwreKM",
        "colab_type": "text"
      },
      "source": [
        "### Dataframe:\n",
        "\n",
        "***pandas.DataFrame(data=None, index=None, columns=None, dtype=None, copy=False)***\n",
        "\n",
        "Its a two-dimensional mutable, heterogeneous tabular data structure with labeled axes (rows and columns).\n",
        "\n",
        "Lets create a dataframe and do some basic operations."
      ]
    },
    {
      "cell_type": "code",
      "metadata": {
        "id": "oFhg4W2Yu3iW",
        "colab_type": "code",
        "colab": {
          "base_uri": "https://localhost:8080/",
          "height": 173
        },
        "outputId": "fb82fb42-06f5-432a-d968-3563d7de53a4"
      },
      "source": [
        "df_dict_1 = [{'a': 1, 'b': 2, 'c': 3, 'd': 4},\n",
        "             {'a': 10, 'b': 20, 'c': 30, 'd': 40},\n",
        "              {'a': 100, 'b': 200, 'c': 300, 'd': 400},\n",
        "                {'a': 1000, 'b': 2000, 'c': 3000, 'd': 4000 }]\n",
        "\n",
        "df_1 = pd.DataFrame(df_dict_1)\n",
        "\n",
        "df_1"
      ],
      "execution_count": 33,
      "outputs": [
        {
          "output_type": "execute_result",
          "data": {
            "text/html": [
              "<div>\n",
              "<style scoped>\n",
              "    .dataframe tbody tr th:only-of-type {\n",
              "        vertical-align: middle;\n",
              "    }\n",
              "\n",
              "    .dataframe tbody tr th {\n",
              "        vertical-align: top;\n",
              "    }\n",
              "\n",
              "    .dataframe thead th {\n",
              "        text-align: right;\n",
              "    }\n",
              "</style>\n",
              "<table border=\"1\" class=\"dataframe\">\n",
              "  <thead>\n",
              "    <tr style=\"text-align: right;\">\n",
              "      <th></th>\n",
              "      <th>a</th>\n",
              "      <th>b</th>\n",
              "      <th>c</th>\n",
              "      <th>d</th>\n",
              "    </tr>\n",
              "  </thead>\n",
              "  <tbody>\n",
              "    <tr>\n",
              "      <th>0</th>\n",
              "      <td>1</td>\n",
              "      <td>2</td>\n",
              "      <td>3</td>\n",
              "      <td>4</td>\n",
              "    </tr>\n",
              "    <tr>\n",
              "      <th>1</th>\n",
              "      <td>10</td>\n",
              "      <td>20</td>\n",
              "      <td>30</td>\n",
              "      <td>40</td>\n",
              "    </tr>\n",
              "    <tr>\n",
              "      <th>2</th>\n",
              "      <td>100</td>\n",
              "      <td>200</td>\n",
              "      <td>300</td>\n",
              "      <td>400</td>\n",
              "    </tr>\n",
              "    <tr>\n",
              "      <th>3</th>\n",
              "      <td>1000</td>\n",
              "      <td>2000</td>\n",
              "      <td>3000</td>\n",
              "      <td>4000</td>\n",
              "    </tr>\n",
              "  </tbody>\n",
              "</table>\n",
              "</div>"
            ],
            "text/plain": [
              "      a     b     c     d\n",
              "0     1     2     3     4\n",
              "1    10    20    30    40\n",
              "2   100   200   300   400\n",
              "3  1000  2000  3000  4000"
            ]
          },
          "metadata": {
            "tags": []
          },
          "execution_count": 33
        }
      ]
    },
    {
      "cell_type": "markdown",
      "metadata": {
        "id": "Ir6PRHNOvUhf",
        "colab_type": "text"
      },
      "source": [
        "#### Selecting rows and columns of a dataframe:\n",
        "\n",
        "loc and iloc are widely used to fetch rows and columns from a dataframe.\n",
        "\n",
        "iloc is purely integer-location based indexing for selection by position. While selection through iloc start and (stop-1) are fetched. Below are some of the allowed inputs for iloc:\n",
        "\n",
        "1. An integer, (series.iloc[5])\n",
        "\n",
        "2. A list or array of integers, (series.iloc[[0,1]])\n",
        "\n",
        "3. A slice object with ints, (series.iloc[1:5])\n",
        "\n",
        "4. A boolean array, (series.iloc[True,False,True])"
      ]
    },
    {
      "cell_type": "code",
      "metadata": {
        "id": "TnRnHVg_0aT2",
        "colab_type": "code",
        "colab": {
          "base_uri": "https://localhost:8080/",
          "height": 119
        },
        "outputId": "bf73dd0e-6856-445d-a6eb-78c4be0e5f28"
      },
      "source": [
        "# selection using an integer\n",
        "print(\"using integers\")\n",
        "print(df_1.iloc[0]) # this fetches all columns of row 1"
      ],
      "execution_count": 34,
      "outputs": [
        {
          "output_type": "stream",
          "text": [
            "using integers\n",
            "a    1\n",
            "b    2\n",
            "c    3\n",
            "d    4\n",
            "Name: 0, dtype: int64\n"
          ],
          "name": "stdout"
        }
      ]
    },
    {
      "cell_type": "code",
      "metadata": {
        "id": "6LstHsSs4dE-",
        "colab_type": "code",
        "colab": {
          "base_uri": "https://localhost:8080/",
          "height": 85
        },
        "outputId": "be091359-f5d1-4149-e08b-68ada0ca3d2d"
      },
      "source": [
        "#to fetch specific columns use comma\",\" (left side of comma specify rows index and right side columns index)\n",
        "print(\"\\nspecific columns using integers\\n\")\n",
        "print(df_1.iloc[0,1])"
      ],
      "execution_count": 35,
      "outputs": [
        {
          "output_type": "stream",
          "text": [
            "\n",
            "specific columns using integers\n",
            "\n",
            "2\n"
          ],
          "name": "stdout"
        }
      ]
    },
    {
      "cell_type": "code",
      "metadata": {
        "id": "8FIlBAdX4gMM",
        "colab_type": "code",
        "colab": {
          "base_uri": "https://localhost:8080/",
          "height": 119
        },
        "outputId": "d6d34e0f-f096-47ec-d36e-0d7113ce1274"
      },
      "source": [
        "# selection using an array of integers\n",
        "print(\"\\nspecific columns using arrays of integers\\n\")\n",
        "print(df_1.iloc[[0,1],[2,3]])"
      ],
      "execution_count": 36,
      "outputs": [
        {
          "output_type": "stream",
          "text": [
            "\n",
            "specific columns using arrays of integers\n",
            "\n",
            "    c   d\n",
            "0   3   4\n",
            "1  30  40\n"
          ],
          "name": "stdout"
        }
      ]
    },
    {
      "cell_type": "code",
      "metadata": {
        "id": "ZViz2DFQ4lRX",
        "colab_type": "code",
        "colab": {
          "base_uri": "https://localhost:8080/",
          "height": 119
        },
        "outputId": "a3256575-d835-4d2a-80e2-69daaf302cff"
      },
      "source": [
        "# slice object with ints\n",
        "print(\"\\nslice\\n\")\n",
        "print(df_1.iloc[0:2,1:3])"
      ],
      "execution_count": 37,
      "outputs": [
        {
          "output_type": "stream",
          "text": [
            "\n",
            "slice\n",
            "\n",
            "    b   c\n",
            "0   2   3\n",
            "1  20  30\n"
          ],
          "name": "stdout"
        }
      ]
    },
    {
      "cell_type": "code",
      "metadata": {
        "id": "yHtANgZn4rut",
        "colab_type": "code",
        "colab": {
          "base_uri": "https://localhost:8080/",
          "height": 442
        },
        "outputId": "acbb0ada-2fed-4f48-ad55-b82466a5b6d8"
      },
      "source": [
        "# some more examples\n",
        "print(df_1.iloc[0:2,[0,3]])\n",
        "print(\"\\n\\n\")\n",
        "print(df_1.iloc[[0,2],0:3])\n",
        "print(\"\\n\\n\")\n",
        "print(df_1['a'])\n",
        "print(\"\\n\\n\")\n",
        "print(df_1[['a','b']])"
      ],
      "execution_count": 38,
      "outputs": [
        {
          "output_type": "stream",
          "text": [
            "    a   d\n",
            "0   1   4\n",
            "1  10  40\n",
            "\n",
            "\n",
            "\n",
            "     a    b    c\n",
            "0    1    2    3\n",
            "2  100  200  300\n",
            "\n",
            "\n",
            "\n",
            "0       1\n",
            "1      10\n",
            "2     100\n",
            "3    1000\n",
            "Name: a, dtype: int64\n",
            "\n",
            "\n",
            "\n",
            "      a     b\n",
            "0     1     2\n",
            "1    10    20\n",
            "2   100   200\n",
            "3  1000  2000\n"
          ],
          "name": "stdout"
        }
      ]
    },
    {
      "cell_type": "markdown",
      "metadata": {
        "id": "nKyCZmfGzs3I",
        "colab_type": "text"
      },
      "source": [
        "loc is purely label-location based indexer for selection by label. While selection through loc both the start and the stop are fetched. Below are some of the allowed inputs for loc:\n",
        "\n",
        "1. A single label, e.g. (series.loc[5]) or (series.loc['label']), (note that 5 is interpreted as a label of the index, and never as an integer position along the index).\n",
        "\n",
        "2. A list or array of labels, (series.loc['a', 'b', 'c']).\n",
        "\n",
        "3. A slice object with labels, (series.loc['a':'f']).\n",
        "\n",
        "4. A boolean array of the same length as the axis being sliced, (series.loc[True, False, True].)"
      ]
    },
    {
      "cell_type": "code",
      "metadata": {
        "id": "4gkhaEqs0Dgp",
        "colab_type": "code",
        "colab": {
          "base_uri": "https://localhost:8080/",
          "height": 102
        },
        "outputId": "af4b08be-349f-4610-d784-0047e3ed42cf"
      },
      "source": [
        "# selection using a single label\n",
        "print(df_1.loc[:,'a']) # this fetches all rows of column 'a'"
      ],
      "execution_count": 39,
      "outputs": [
        {
          "output_type": "stream",
          "text": [
            "0       1\n",
            "1      10\n",
            "2     100\n",
            "3    1000\n",
            "Name: a, dtype: int64\n"
          ],
          "name": "stdout"
        }
      ]
    },
    {
      "cell_type": "code",
      "metadata": {
        "id": "PWCY30LU6NON",
        "colab_type": "code",
        "colab": {
          "base_uri": "https://localhost:8080/",
          "height": 102
        },
        "outputId": "08caf55b-4594-4e71-f88f-c76d593e13c2"
      },
      "source": [
        "# selection using array of labels\n",
        "print(df_1.loc[:,['a','b']]) # this fetches all rows of column 'a' and 'b'"
      ],
      "execution_count": 40,
      "outputs": [
        {
          "output_type": "stream",
          "text": [
            "      a     b\n",
            "0     1     2\n",
            "1    10    20\n",
            "2   100   200\n",
            "3  1000  2000\n"
          ],
          "name": "stdout"
        }
      ]
    },
    {
      "cell_type": "code",
      "metadata": {
        "id": "oES6y0AL6w4x",
        "colab_type": "code",
        "colab": {
          "base_uri": "https://localhost:8080/",
          "height": 68
        },
        "outputId": "664e6585-cb6e-45fa-ff53-1a4d49b9aee3"
      },
      "source": [
        "# selecting a slice\n",
        "print(df_1.loc[2:3,'a':'c']) # this fetches row 2 to 3 and columns 'a' to 'c'"
      ],
      "execution_count": 41,
      "outputs": [
        {
          "output_type": "stream",
          "text": [
            "      a     b     c\n",
            "2   100   200   300\n",
            "3  1000  2000  3000\n"
          ],
          "name": "stdout"
        }
      ]
    },
    {
      "cell_type": "markdown",
      "metadata": {
        "id": "y02tqlLp4Ztq",
        "colab_type": "text"
      },
      "source": [
        "### Adding new column (Single)"
      ]
    },
    {
      "cell_type": "code",
      "metadata": {
        "id": "OzUwL3f27Gbh",
        "colab_type": "code",
        "colab": {
          "base_uri": "https://localhost:8080/",
          "height": 173
        },
        "outputId": "e395d126-c5c0-4684-c202-540b5e233e81"
      },
      "source": [
        "df_1['diff'] = df_1['a'] - df_1['b']\n",
        "df_1"
      ],
      "execution_count": 42,
      "outputs": [
        {
          "output_type": "execute_result",
          "data": {
            "text/html": [
              "<div>\n",
              "<style scoped>\n",
              "    .dataframe tbody tr th:only-of-type {\n",
              "        vertical-align: middle;\n",
              "    }\n",
              "\n",
              "    .dataframe tbody tr th {\n",
              "        vertical-align: top;\n",
              "    }\n",
              "\n",
              "    .dataframe thead th {\n",
              "        text-align: right;\n",
              "    }\n",
              "</style>\n",
              "<table border=\"1\" class=\"dataframe\">\n",
              "  <thead>\n",
              "    <tr style=\"text-align: right;\">\n",
              "      <th></th>\n",
              "      <th>a</th>\n",
              "      <th>b</th>\n",
              "      <th>c</th>\n",
              "      <th>d</th>\n",
              "      <th>diff</th>\n",
              "    </tr>\n",
              "  </thead>\n",
              "  <tbody>\n",
              "    <tr>\n",
              "      <th>0</th>\n",
              "      <td>1</td>\n",
              "      <td>2</td>\n",
              "      <td>3</td>\n",
              "      <td>4</td>\n",
              "      <td>-1</td>\n",
              "    </tr>\n",
              "    <tr>\n",
              "      <th>1</th>\n",
              "      <td>10</td>\n",
              "      <td>20</td>\n",
              "      <td>30</td>\n",
              "      <td>40</td>\n",
              "      <td>-10</td>\n",
              "    </tr>\n",
              "    <tr>\n",
              "      <th>2</th>\n",
              "      <td>100</td>\n",
              "      <td>200</td>\n",
              "      <td>300</td>\n",
              "      <td>400</td>\n",
              "      <td>-100</td>\n",
              "    </tr>\n",
              "    <tr>\n",
              "      <th>3</th>\n",
              "      <td>1000</td>\n",
              "      <td>2000</td>\n",
              "      <td>3000</td>\n",
              "      <td>4000</td>\n",
              "      <td>-1000</td>\n",
              "    </tr>\n",
              "  </tbody>\n",
              "</table>\n",
              "</div>"
            ],
            "text/plain": [
              "      a     b     c     d  diff\n",
              "0     1     2     3     4    -1\n",
              "1    10    20    30    40   -10\n",
              "2   100   200   300   400  -100\n",
              "3  1000  2000  3000  4000 -1000"
            ]
          },
          "metadata": {
            "tags": []
          },
          "execution_count": 42
        }
      ]
    },
    {
      "cell_type": "code",
      "metadata": {
        "id": "S9jjj2dK6dhk",
        "colab_type": "code",
        "colab": {
          "base_uri": "https://localhost:8080/",
          "height": 173
        },
        "outputId": "02b1d8d8-5b60-49bc-c1fd-65496bfed271"
      },
      "source": [
        "df_1['new_diff'] = df_1.a - df_1.c\n",
        "df_1"
      ],
      "execution_count": 43,
      "outputs": [
        {
          "output_type": "execute_result",
          "data": {
            "text/html": [
              "<div>\n",
              "<style scoped>\n",
              "    .dataframe tbody tr th:only-of-type {\n",
              "        vertical-align: middle;\n",
              "    }\n",
              "\n",
              "    .dataframe tbody tr th {\n",
              "        vertical-align: top;\n",
              "    }\n",
              "\n",
              "    .dataframe thead th {\n",
              "        text-align: right;\n",
              "    }\n",
              "</style>\n",
              "<table border=\"1\" class=\"dataframe\">\n",
              "  <thead>\n",
              "    <tr style=\"text-align: right;\">\n",
              "      <th></th>\n",
              "      <th>a</th>\n",
              "      <th>b</th>\n",
              "      <th>c</th>\n",
              "      <th>d</th>\n",
              "      <th>diff</th>\n",
              "      <th>new_diff</th>\n",
              "    </tr>\n",
              "  </thead>\n",
              "  <tbody>\n",
              "    <tr>\n",
              "      <th>0</th>\n",
              "      <td>1</td>\n",
              "      <td>2</td>\n",
              "      <td>3</td>\n",
              "      <td>4</td>\n",
              "      <td>-1</td>\n",
              "      <td>-2</td>\n",
              "    </tr>\n",
              "    <tr>\n",
              "      <th>1</th>\n",
              "      <td>10</td>\n",
              "      <td>20</td>\n",
              "      <td>30</td>\n",
              "      <td>40</td>\n",
              "      <td>-10</td>\n",
              "      <td>-20</td>\n",
              "    </tr>\n",
              "    <tr>\n",
              "      <th>2</th>\n",
              "      <td>100</td>\n",
              "      <td>200</td>\n",
              "      <td>300</td>\n",
              "      <td>400</td>\n",
              "      <td>-100</td>\n",
              "      <td>-200</td>\n",
              "    </tr>\n",
              "    <tr>\n",
              "      <th>3</th>\n",
              "      <td>1000</td>\n",
              "      <td>2000</td>\n",
              "      <td>3000</td>\n",
              "      <td>4000</td>\n",
              "      <td>-1000</td>\n",
              "      <td>-2000</td>\n",
              "    </tr>\n",
              "  </tbody>\n",
              "</table>\n",
              "</div>"
            ],
            "text/plain": [
              "      a     b     c     d  diff  new_diff\n",
              "0     1     2     3     4    -1        -2\n",
              "1    10    20    30    40   -10       -20\n",
              "2   100   200   300   400  -100      -200\n",
              "3  1000  2000  3000  4000 -1000     -2000"
            ]
          },
          "metadata": {
            "tags": []
          },
          "execution_count": 43
        }
      ]
    },
    {
      "cell_type": "markdown",
      "metadata": {
        "id": "cNFXfesa6sPD",
        "colab_type": "text"
      },
      "source": [
        "### Adding new column (Multiple)"
      ]
    },
    {
      "cell_type": "code",
      "metadata": {
        "id": "aF1oeCS16l0B",
        "colab_type": "code",
        "colab": {
          "base_uri": "https://localhost:8080/",
          "height": 173
        },
        "outputId": "8917a30f-96be-4bc9-8ae9-3194f051fb50"
      },
      "source": [
        "df_1 = df_1.assign(add_mul1=df_1['a'] + df_1['b'], add_mul2=df_1['a'] + df_1['c'])\n",
        "df_1"
      ],
      "execution_count": 44,
      "outputs": [
        {
          "output_type": "execute_result",
          "data": {
            "text/html": [
              "<div>\n",
              "<style scoped>\n",
              "    .dataframe tbody tr th:only-of-type {\n",
              "        vertical-align: middle;\n",
              "    }\n",
              "\n",
              "    .dataframe tbody tr th {\n",
              "        vertical-align: top;\n",
              "    }\n",
              "\n",
              "    .dataframe thead th {\n",
              "        text-align: right;\n",
              "    }\n",
              "</style>\n",
              "<table border=\"1\" class=\"dataframe\">\n",
              "  <thead>\n",
              "    <tr style=\"text-align: right;\">\n",
              "      <th></th>\n",
              "      <th>a</th>\n",
              "      <th>b</th>\n",
              "      <th>c</th>\n",
              "      <th>d</th>\n",
              "      <th>diff</th>\n",
              "      <th>new_diff</th>\n",
              "      <th>add_mul1</th>\n",
              "      <th>add_mul2</th>\n",
              "    </tr>\n",
              "  </thead>\n",
              "  <tbody>\n",
              "    <tr>\n",
              "      <th>0</th>\n",
              "      <td>1</td>\n",
              "      <td>2</td>\n",
              "      <td>3</td>\n",
              "      <td>4</td>\n",
              "      <td>-1</td>\n",
              "      <td>-2</td>\n",
              "      <td>3</td>\n",
              "      <td>4</td>\n",
              "    </tr>\n",
              "    <tr>\n",
              "      <th>1</th>\n",
              "      <td>10</td>\n",
              "      <td>20</td>\n",
              "      <td>30</td>\n",
              "      <td>40</td>\n",
              "      <td>-10</td>\n",
              "      <td>-20</td>\n",
              "      <td>30</td>\n",
              "      <td>40</td>\n",
              "    </tr>\n",
              "    <tr>\n",
              "      <th>2</th>\n",
              "      <td>100</td>\n",
              "      <td>200</td>\n",
              "      <td>300</td>\n",
              "      <td>400</td>\n",
              "      <td>-100</td>\n",
              "      <td>-200</td>\n",
              "      <td>300</td>\n",
              "      <td>400</td>\n",
              "    </tr>\n",
              "    <tr>\n",
              "      <th>3</th>\n",
              "      <td>1000</td>\n",
              "      <td>2000</td>\n",
              "      <td>3000</td>\n",
              "      <td>4000</td>\n",
              "      <td>-1000</td>\n",
              "      <td>-2000</td>\n",
              "      <td>3000</td>\n",
              "      <td>4000</td>\n",
              "    </tr>\n",
              "  </tbody>\n",
              "</table>\n",
              "</div>"
            ],
            "text/plain": [
              "      a     b     c     d  diff  new_diff  add_mul1  add_mul2\n",
              "0     1     2     3     4    -1        -2         3         4\n",
              "1    10    20    30    40   -10       -20        30        40\n",
              "2   100   200   300   400  -100      -200       300       400\n",
              "3  1000  2000  3000  4000 -1000     -2000      3000      4000"
            ]
          },
          "metadata": {
            "tags": []
          },
          "execution_count": 44
        }
      ]
    },
    {
      "cell_type": "markdown",
      "metadata": {
        "id": "yBDPqgFj7evq",
        "colab_type": "text"
      },
      "source": [
        "### Renaming columns"
      ]
    },
    {
      "cell_type": "code",
      "metadata": {
        "id": "4J5dZSsw7T-n",
        "colab_type": "code",
        "colab": {
          "base_uri": "https://localhost:8080/",
          "height": 173
        },
        "outputId": "ca59eb31-d7ac-47a1-fd1c-4bb13b944273"
      },
      "source": [
        "df_1 = df_1.rename(columns={'diff':'renamed_1','new_diff':'renamed_2','add_mul1':'renamed_3','add_mul2':'renamed_4'})\n",
        "df_1"
      ],
      "execution_count": 45,
      "outputs": [
        {
          "output_type": "execute_result",
          "data": {
            "text/html": [
              "<div>\n",
              "<style scoped>\n",
              "    .dataframe tbody tr th:only-of-type {\n",
              "        vertical-align: middle;\n",
              "    }\n",
              "\n",
              "    .dataframe tbody tr th {\n",
              "        vertical-align: top;\n",
              "    }\n",
              "\n",
              "    .dataframe thead th {\n",
              "        text-align: right;\n",
              "    }\n",
              "</style>\n",
              "<table border=\"1\" class=\"dataframe\">\n",
              "  <thead>\n",
              "    <tr style=\"text-align: right;\">\n",
              "      <th></th>\n",
              "      <th>a</th>\n",
              "      <th>b</th>\n",
              "      <th>c</th>\n",
              "      <th>d</th>\n",
              "      <th>renamed_1</th>\n",
              "      <th>renamed_2</th>\n",
              "      <th>renamed_3</th>\n",
              "      <th>renamed_4</th>\n",
              "    </tr>\n",
              "  </thead>\n",
              "  <tbody>\n",
              "    <tr>\n",
              "      <th>0</th>\n",
              "      <td>1</td>\n",
              "      <td>2</td>\n",
              "      <td>3</td>\n",
              "      <td>4</td>\n",
              "      <td>-1</td>\n",
              "      <td>-2</td>\n",
              "      <td>3</td>\n",
              "      <td>4</td>\n",
              "    </tr>\n",
              "    <tr>\n",
              "      <th>1</th>\n",
              "      <td>10</td>\n",
              "      <td>20</td>\n",
              "      <td>30</td>\n",
              "      <td>40</td>\n",
              "      <td>-10</td>\n",
              "      <td>-20</td>\n",
              "      <td>30</td>\n",
              "      <td>40</td>\n",
              "    </tr>\n",
              "    <tr>\n",
              "      <th>2</th>\n",
              "      <td>100</td>\n",
              "      <td>200</td>\n",
              "      <td>300</td>\n",
              "      <td>400</td>\n",
              "      <td>-100</td>\n",
              "      <td>-200</td>\n",
              "      <td>300</td>\n",
              "      <td>400</td>\n",
              "    </tr>\n",
              "    <tr>\n",
              "      <th>3</th>\n",
              "      <td>1000</td>\n",
              "      <td>2000</td>\n",
              "      <td>3000</td>\n",
              "      <td>4000</td>\n",
              "      <td>-1000</td>\n",
              "      <td>-2000</td>\n",
              "      <td>3000</td>\n",
              "      <td>4000</td>\n",
              "    </tr>\n",
              "  </tbody>\n",
              "</table>\n",
              "</div>"
            ],
            "text/plain": [
              "      a     b     c     d  renamed_1  renamed_2  renamed_3  renamed_4\n",
              "0     1     2     3     4         -1         -2          3          4\n",
              "1    10    20    30    40        -10        -20         30         40\n",
              "2   100   200   300   400       -100       -200        300        400\n",
              "3  1000  2000  3000  4000      -1000      -2000       3000       4000"
            ]
          },
          "metadata": {
            "tags": []
          },
          "execution_count": 45
        }
      ]
    },
    {
      "cell_type": "markdown",
      "metadata": {
        "id": "yWR1p7cX7-Oc",
        "colab_type": "text"
      },
      "source": [
        "### Delete a column"
      ]
    },
    {
      "cell_type": "code",
      "metadata": {
        "id": "BC48UIlB728u",
        "colab_type": "code",
        "colab": {
          "base_uri": "https://localhost:8080/",
          "height": 173
        },
        "outputId": "203894d4-1fc6-470a-c0d0-d61c342d8c04"
      },
      "source": [
        "del df_1['renamed_4']\n",
        "df_1"
      ],
      "execution_count": 46,
      "outputs": [
        {
          "output_type": "execute_result",
          "data": {
            "text/html": [
              "<div>\n",
              "<style scoped>\n",
              "    .dataframe tbody tr th:only-of-type {\n",
              "        vertical-align: middle;\n",
              "    }\n",
              "\n",
              "    .dataframe tbody tr th {\n",
              "        vertical-align: top;\n",
              "    }\n",
              "\n",
              "    .dataframe thead th {\n",
              "        text-align: right;\n",
              "    }\n",
              "</style>\n",
              "<table border=\"1\" class=\"dataframe\">\n",
              "  <thead>\n",
              "    <tr style=\"text-align: right;\">\n",
              "      <th></th>\n",
              "      <th>a</th>\n",
              "      <th>b</th>\n",
              "      <th>c</th>\n",
              "      <th>d</th>\n",
              "      <th>renamed_1</th>\n",
              "      <th>renamed_2</th>\n",
              "      <th>renamed_3</th>\n",
              "    </tr>\n",
              "  </thead>\n",
              "  <tbody>\n",
              "    <tr>\n",
              "      <th>0</th>\n",
              "      <td>1</td>\n",
              "      <td>2</td>\n",
              "      <td>3</td>\n",
              "      <td>4</td>\n",
              "      <td>-1</td>\n",
              "      <td>-2</td>\n",
              "      <td>3</td>\n",
              "    </tr>\n",
              "    <tr>\n",
              "      <th>1</th>\n",
              "      <td>10</td>\n",
              "      <td>20</td>\n",
              "      <td>30</td>\n",
              "      <td>40</td>\n",
              "      <td>-10</td>\n",
              "      <td>-20</td>\n",
              "      <td>30</td>\n",
              "    </tr>\n",
              "    <tr>\n",
              "      <th>2</th>\n",
              "      <td>100</td>\n",
              "      <td>200</td>\n",
              "      <td>300</td>\n",
              "      <td>400</td>\n",
              "      <td>-100</td>\n",
              "      <td>-200</td>\n",
              "      <td>300</td>\n",
              "    </tr>\n",
              "    <tr>\n",
              "      <th>3</th>\n",
              "      <td>1000</td>\n",
              "      <td>2000</td>\n",
              "      <td>3000</td>\n",
              "      <td>4000</td>\n",
              "      <td>-1000</td>\n",
              "      <td>-2000</td>\n",
              "      <td>3000</td>\n",
              "    </tr>\n",
              "  </tbody>\n",
              "</table>\n",
              "</div>"
            ],
            "text/plain": [
              "      a     b     c     d  renamed_1  renamed_2  renamed_3\n",
              "0     1     2     3     4         -1         -2          3\n",
              "1    10    20    30    40        -10        -20         30\n",
              "2   100   200   300   400       -100       -200        300\n",
              "3  1000  2000  3000  4000      -1000      -2000       3000"
            ]
          },
          "metadata": {
            "tags": []
          },
          "execution_count": 46
        }
      ]
    },
    {
      "cell_type": "code",
      "metadata": {
        "id": "PE-oUlht8H9Y",
        "colab_type": "code",
        "colab": {}
      },
      "source": [
        ""
      ],
      "execution_count": 50,
      "outputs": []
    },
    {
      "cell_type": "code",
      "metadata": {
        "id": "RYAgqw_18xQD",
        "colab_type": "code",
        "colab": {}
      },
      "source": [
        ""
      ],
      "execution_count": null,
      "outputs": []
    }
  ]
}