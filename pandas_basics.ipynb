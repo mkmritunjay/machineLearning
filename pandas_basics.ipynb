{
  "nbformat": 4,
  "nbformat_minor": 0,
  "metadata": {
    "colab": {
      "name": "pandas_basics.ipynb",
      "version": "0.3.2",
      "provenance": [],
      "include_colab_link": true
    },
    "kernelspec": {
      "name": "python3",
      "display_name": "Python 3"
    }
  },
  "cells": [
    {
      "cell_type": "markdown",
      "metadata": {
        "id": "view-in-github",
        "colab_type": "text"
      },
      "source": [
        "<a href=\"https://colab.research.google.com/github/mkmritunjay/machineLearning/blob/master/pandas_basics.ipynb\" target=\"_parent\"><img src=\"https://colab.research.google.com/assets/colab-badge.svg\" alt=\"Open In Colab\"/></a>"
      ]
    },
    {
      "cell_type": "markdown",
      "metadata": {
        "id": "oAcMXDzfnfKV",
        "colab_type": "text"
      },
      "source": [
        "# Pandas Basics\n",
        "\n",
        "Pandas is a software library in python for data manipulation and analysis. The name is derived from the term \"panel data\".\n",
        "\n",
        "The two primary data structures of pandas are Series (1-dimensional) and DataFrame (2-dimensional)."
      ]
    },
    {
      "cell_type": "markdown",
      "metadata": {
        "id": "-LFFiT9tqaSl",
        "colab_type": "text"
      },
      "source": [
        "### Series:\n",
        "\n",
        "***pandas.Series(data=None, index=None, dtype=None, name=None, copy=False, fastpath=False)***\n",
        "\n",
        "\n",
        "\n",
        "Its a one dimentional ndarray with axis labels (including time series).\n",
        "\n",
        "Lets create a series and do some basic operations."
      ]
    },
    {
      "cell_type": "code",
      "metadata": {
        "id": "t_ydZh4SrVot",
        "colab_type": "code",
        "outputId": "d62a1899-5626-4f34-b683-cee71e717998",
        "colab": {
          "base_uri": "https://localhost:8080/",
          "height": 289
        }
      },
      "source": [
        "import pandas as pd\n",
        "\n",
        "list_1 = [1,2,3,4,5]\n",
        "tuple_1 = (1,2,3,4,5)\n",
        "\n",
        "series_1 = pd.Series(data=list_1)\n",
        "series_2 = pd.Series(data=tuple_1)\n",
        "\n",
        "print(\"List Series:\")\n",
        "print(series_1)\n",
        "print(\"\\nTuple Series:\\n\")\n",
        "print(series_2)"
      ],
      "execution_count": 0,
      "outputs": [
        {
          "output_type": "stream",
          "text": [
            "List Series:\n",
            "0    1\n",
            "1    2\n",
            "2    3\n",
            "3    4\n",
            "4    5\n",
            "dtype: int64\n",
            "\n",
            "Tuple Series:\n",
            "\n",
            "0    1\n",
            "1    2\n",
            "2    3\n",
            "3    4\n",
            "4    5\n",
            "dtype: int64\n"
          ],
          "name": "stdout"
        }
      ]
    },
    {
      "cell_type": "markdown",
      "metadata": {
        "id": "60yUUqqwreKM",
        "colab_type": "text"
      },
      "source": [
        "### Dataframe:\n",
        "\n",
        "***pandas.DataFrame(data=None, index=None, columns=None, dtype=None, copy=False)***\n",
        "\n",
        "Its a two-dimensional mutable, heterogeneous tabular data structure with labeled axes (rows and columns).\n",
        "\n",
        "Lets create a dataframe and do some basic operations."
      ]
    },
    {
      "cell_type": "code",
      "metadata": {
        "id": "oFhg4W2Yu3iW",
        "colab_type": "code",
        "outputId": "799309f1-2dcc-4a50-a16b-14dd3685d561",
        "colab": {
          "base_uri": "https://localhost:8080/",
          "height": 173
        }
      },
      "source": [
        "df_dict_1 = [{'a': 1, 'b': 2, 'c': 3, 'd': 4},\n",
        "             {'a': 10, 'b': 20, 'c': 30, 'd': 40},\n",
        "              {'a': 100, 'b': 200, 'c': 300, 'd': 400},\n",
        "                {'a': 1000, 'b': 2000, 'c': 3000, 'd': 4000 }]\n",
        "\n",
        "df_1 = pd.DataFrame(df_dict_1)\n",
        "\n",
        "df_1"
      ],
      "execution_count": 0,
      "outputs": [
        {
          "output_type": "execute_result",
          "data": {
            "text/html": [
              "<div>\n",
              "<style scoped>\n",
              "    .dataframe tbody tr th:only-of-type {\n",
              "        vertical-align: middle;\n",
              "    }\n",
              "\n",
              "    .dataframe tbody tr th {\n",
              "        vertical-align: top;\n",
              "    }\n",
              "\n",
              "    .dataframe thead th {\n",
              "        text-align: right;\n",
              "    }\n",
              "</style>\n",
              "<table border=\"1\" class=\"dataframe\">\n",
              "  <thead>\n",
              "    <tr style=\"text-align: right;\">\n",
              "      <th></th>\n",
              "      <th>a</th>\n",
              "      <th>b</th>\n",
              "      <th>c</th>\n",
              "      <th>d</th>\n",
              "    </tr>\n",
              "  </thead>\n",
              "  <tbody>\n",
              "    <tr>\n",
              "      <th>0</th>\n",
              "      <td>1</td>\n",
              "      <td>2</td>\n",
              "      <td>3</td>\n",
              "      <td>4</td>\n",
              "    </tr>\n",
              "    <tr>\n",
              "      <th>1</th>\n",
              "      <td>10</td>\n",
              "      <td>20</td>\n",
              "      <td>30</td>\n",
              "      <td>40</td>\n",
              "    </tr>\n",
              "    <tr>\n",
              "      <th>2</th>\n",
              "      <td>100</td>\n",
              "      <td>200</td>\n",
              "      <td>300</td>\n",
              "      <td>400</td>\n",
              "    </tr>\n",
              "    <tr>\n",
              "      <th>3</th>\n",
              "      <td>1000</td>\n",
              "      <td>2000</td>\n",
              "      <td>3000</td>\n",
              "      <td>4000</td>\n",
              "    </tr>\n",
              "  </tbody>\n",
              "</table>\n",
              "</div>"
            ],
            "text/plain": [
              "      a     b     c     d\n",
              "0     1     2     3     4\n",
              "1    10    20    30    40\n",
              "2   100   200   300   400\n",
              "3  1000  2000  3000  4000"
            ]
          },
          "metadata": {
            "tags": []
          },
          "execution_count": 12
        }
      ]
    },
    {
      "cell_type": "markdown",
      "metadata": {
        "id": "Ir6PRHNOvUhf",
        "colab_type": "text"
      },
      "source": [
        "#### Selecting rows and columns of a dataframe:\n",
        "\n",
        "loc and iloc are widely used to fetch rows and columns from a dataframe.\n",
        "\n"
      ]
    },
    {
      "cell_type": "markdown",
      "metadata": {
        "id": "BRjWI4Lg_K6U",
        "colab_type": "text"
      },
      "source": [
        "#### iloc\n",
        "iloc is purely integer-location based indexing for selection by position. While selection through iloc start and (stop-1) are fetched. Below are some of the allowed inputs for iloc:\n",
        "\n",
        "1. An integer, (series.iloc[5])\n",
        "\n",
        "2. A list or array of integers, (series.iloc[[0,1]])\n",
        "\n",
        "3. A slice object with ints, (series.iloc[1:5])\n",
        "\n",
        "4. A boolean array, (series.iloc[True,False,True])"
      ]
    },
    {
      "cell_type": "code",
      "metadata": {
        "id": "TnRnHVg_0aT2",
        "colab_type": "code",
        "outputId": "99247c7a-a24f-427f-a19e-72f8f48229ca",
        "colab": {
          "base_uri": "https://localhost:8080/",
          "height": 119
        }
      },
      "source": [
        "# selection using an integer\n",
        "print(\"using integers\")\n",
        "print(df_1.iloc[0]) # this fetches all columns of row 1"
      ],
      "execution_count": 0,
      "outputs": [
        {
          "output_type": "stream",
          "text": [
            "using integers\n",
            "a    1\n",
            "b    2\n",
            "c    3\n",
            "d    4\n",
            "Name: 0, dtype: int64\n"
          ],
          "name": "stdout"
        }
      ]
    },
    {
      "cell_type": "code",
      "metadata": {
        "id": "6LstHsSs4dE-",
        "colab_type": "code",
        "outputId": "43ff9d91-50a3-4cf2-e809-1cb2a885f5a8",
        "colab": {
          "base_uri": "https://localhost:8080/",
          "height": 85
        }
      },
      "source": [
        "#to fetch specific columns use comma\",\" (left side of comma specify rows index and right side columns index)\n",
        "print(\"\\nspecific columns using integers\\n\")\n",
        "print(df_1.iloc[0,1])"
      ],
      "execution_count": 0,
      "outputs": [
        {
          "output_type": "stream",
          "text": [
            "\n",
            "specific columns using integers\n",
            "\n",
            "2\n"
          ],
          "name": "stdout"
        }
      ]
    },
    {
      "cell_type": "code",
      "metadata": {
        "id": "8FIlBAdX4gMM",
        "colab_type": "code",
        "outputId": "e5b80305-1baa-4116-d284-3247c7321e7d",
        "colab": {
          "base_uri": "https://localhost:8080/",
          "height": 119
        }
      },
      "source": [
        "# selection using an array of integers\n",
        "print(\"\\nspecific columns using arrays of integers\\n\")\n",
        "print(df_1.iloc[[0,1],[2,3]])"
      ],
      "execution_count": 0,
      "outputs": [
        {
          "output_type": "stream",
          "text": [
            "\n",
            "specific columns using arrays of integers\n",
            "\n",
            "    c   d\n",
            "0   3   4\n",
            "1  30  40\n"
          ],
          "name": "stdout"
        }
      ]
    },
    {
      "cell_type": "code",
      "metadata": {
        "id": "ZViz2DFQ4lRX",
        "colab_type": "code",
        "outputId": "eed2d999-1cd5-46a2-9441-b124185dfe02",
        "colab": {
          "base_uri": "https://localhost:8080/",
          "height": 119
        }
      },
      "source": [
        "# slice object with ints\n",
        "print(\"\\nslice\\n\")\n",
        "print(df_1.iloc[0:2,1:3])"
      ],
      "execution_count": 0,
      "outputs": [
        {
          "output_type": "stream",
          "text": [
            "\n",
            "slice\n",
            "\n",
            "    b   c\n",
            "0   2   3\n",
            "1  20  30\n"
          ],
          "name": "stdout"
        }
      ]
    },
    {
      "cell_type": "code",
      "metadata": {
        "id": "yHtANgZn4rut",
        "colab_type": "code",
        "outputId": "d3b8d114-b73e-42f2-85f1-da604acdbfb3",
        "colab": {
          "base_uri": "https://localhost:8080/",
          "height": 170
        }
      },
      "source": [
        "# some more examples\n",
        "print(df_1.iloc[0:2,[0,3]])\n",
        "print(\"\\n\\n\")\n",
        "print(df_1.iloc[[0,2],0:3])"
      ],
      "execution_count": 0,
      "outputs": [
        {
          "output_type": "stream",
          "text": [
            "    a   d\n",
            "0   1   4\n",
            "1  10  40\n",
            "\n",
            "\n",
            "\n",
            "     a    b    c\n",
            "0    1    2    3\n",
            "2  100  200  300\n"
          ],
          "name": "stdout"
        }
      ]
    },
    {
      "cell_type": "markdown",
      "metadata": {
        "id": "nKyCZmfGzs3I",
        "colab_type": "text"
      },
      "source": [
        "#### loc\n",
        "loc is purely label-location based indexer for selection by label. While selection through loc both the start and the stop are fetched. Below are some of the allowed inputs for loc:\n",
        "\n",
        "1. A single label, e.g. (series.loc[5]) or (series.loc['label']), (note that 5 is interpreted as a label of the index, and never as an integer position along the index).\n",
        "\n",
        "2. A list or array of labels, (series.loc['a', 'b', 'c']).\n",
        "\n",
        "3. A slice object with labels, (series.loc['a':'f']).\n",
        "\n",
        "4. A boolean array of the same length as the axis being sliced, (series.loc[True, False, True].)"
      ]
    },
    {
      "cell_type": "code",
      "metadata": {
        "id": "4gkhaEqs0Dgp",
        "colab_type": "code",
        "outputId": "ee9ee894-a8e4-405c-8c40-a06af6eef948",
        "colab": {
          "base_uri": "https://localhost:8080/",
          "height": 102
        }
      },
      "source": [
        "# selection using a single label\n",
        "print(df_1.loc[:,'a']) # this fetches all rows of column 'a'"
      ],
      "execution_count": 0,
      "outputs": [
        {
          "output_type": "stream",
          "text": [
            "0       1\n",
            "1      10\n",
            "2     100\n",
            "3    1000\n",
            "Name: a, dtype: int64\n"
          ],
          "name": "stdout"
        }
      ]
    },
    {
      "cell_type": "code",
      "metadata": {
        "id": "PWCY30LU6NON",
        "colab_type": "code",
        "outputId": "ba407b6a-bf60-4486-92de-d9fd2d595c38",
        "colab": {
          "base_uri": "https://localhost:8080/",
          "height": 102
        }
      },
      "source": [
        "# selection using array of labels\n",
        "print(df_1.loc[:,['a','b']]) # this fetches all rows of column 'a' and 'b'"
      ],
      "execution_count": 0,
      "outputs": [
        {
          "output_type": "stream",
          "text": [
            "      a     b\n",
            "0     1     2\n",
            "1    10    20\n",
            "2   100   200\n",
            "3  1000  2000\n"
          ],
          "name": "stdout"
        }
      ]
    },
    {
      "cell_type": "code",
      "metadata": {
        "id": "oES6y0AL6w4x",
        "colab_type": "code",
        "outputId": "3b5ca311-644c-4684-ac4a-9d1340fad40a",
        "colab": {
          "base_uri": "https://localhost:8080/",
          "height": 68
        }
      },
      "source": [
        "# selecting a slice\n",
        "print(df_1.loc[2:3,'a':'c']) # this fetches row 2 to 3 and columns 'a' to 'c'"
      ],
      "execution_count": 0,
      "outputs": [
        {
          "output_type": "stream",
          "text": [
            "      a     b     c\n",
            "2   100   200   300\n",
            "3  1000  2000  3000\n"
          ],
          "name": "stdout"
        }
      ]
    },
    {
      "cell_type": "code",
      "metadata": {
        "id": "OzUwL3f27Gbh",
        "colab_type": "code",
        "colab": {}
      },
      "source": [
        ""
      ],
      "execution_count": 0,
      "outputs": []
    }
  ]
}