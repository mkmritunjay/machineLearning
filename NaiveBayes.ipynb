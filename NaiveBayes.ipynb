{
  "nbformat": 4,
  "nbformat_minor": 0,
  "metadata": {
    "colab": {
      "name": "NaiveBayes.ipynb",
      "provenance": [],
      "collapsed_sections": [],
      "authorship_tag": "ABX9TyN97gxz/pbtCjM+9pq1ULhl",
      "include_colab_link": true
    },
    "kernelspec": {
      "name": "python3",
      "display_name": "Python 3"
    }
  },
  "cells": [
    {
      "cell_type": "markdown",
      "metadata": {
        "id": "view-in-github",
        "colab_type": "text"
      },
      "source": [
        "<a href=\"https://colab.research.google.com/github/mkmritunjay/machineLearning/blob/master/NaiveBayes.ipynb\" target=\"_parent\"><img src=\"https://colab.research.google.com/assets/colab-badge.svg\" alt=\"Open In Colab\"/></a>"
      ]
    },
    {
      "cell_type": "markdown",
      "metadata": {
        "id": "TO_XadVibEKa",
        "colab_type": "text"
      },
      "source": [
        "# Bank Marketing Case Study\n",
        "\n",
        "#### BANKING: DIRECT MARKETING CASE STUDY (CAMPAIGN RESPONSE MODEL) - CLASSIFICATION MODEL\n",
        "\n",
        "**OBJECTIVE:** This example uses data related with direct marketing campaigns of a Portuguese banking institution. The marketing campaigns were based on phone calls. Often, more than one contact to the same client was required, in order to assess if the product (bank term deposit) would be subscribed ('yes') or not ('no')."
      ]
    },
    {
      "cell_type": "markdown",
      "metadata": {
        "id": "NH3Z9dsEbO2m",
        "colab_type": "text"
      },
      "source": [
        "---\n",
        "##### Bank client data:\n",
        "- age (numeric)\n",
        "- job: type of job (categorical: 'admin.', 'blue-collar', 'entrepreneur', 'housemaid', 'management', 'retired', 'self-employed', 'services', 'student', 'technician', 'unemployed', 'unknown')\n",
        "- marital: marital status (categorical: 'divorced', 'married', 'single', 'unknown'; note: 'divorced' means divorced or widowed)\n",
        "- education (categorical: 'basic.4y', 'basic.6y', 'basic.9y', 'high.school', 'illiterate', 'professional.course', 'university.degree', 'unknown')\n",
        "- default: has credit in default? (categorical: 'no', 'yes', 'unknown')\n",
        "- housing: has housing loan? (categorical: 'no', 'yes', 'unknown')\n",
        "- loan: has personal loan? (categorical: 'no', 'yes', 'unknown')"
      ]
    },
    {
      "cell_type": "markdown",
      "metadata": {
        "id": "4x9PhFKpbcLo",
        "colab_type": "text"
      },
      "source": [
        "---\n",
        "##### Related with the last contact of the current campaign:\n",
        "- contact: contact communication type (categorical: 'cellular', 'telephone')\n",
        "- month: last contact month of year (categorical: 'jan', 'feb', 'mar', ., 'nov', 'dec')\n",
        "- day_of_week: last contact day of the week (categorical: 'mon', 'tue', 'wed', 'thu', 'fri')\n",
        "- duration: last contact duration, in seconds (numeric). Important note: this attribute highly affects the output target (e.g., if duration=0 then y='no'). Yet, the duration is not known before a call is performed. Also, after the end of the call y is obviously known. Thus, this input should only be included for benchmark purposes and should be discarded if the intention is to have a realistic predictive model."
      ]
    },
    {
      "cell_type": "markdown",
      "metadata": {
        "id": "i5ApFPkybgbl",
        "colab_type": "text"
      },
      "source": [
        "---\n",
        "##### other attributes:\n",
        "- campaign: number of contacts performed during this campaign and for this client (numeric, includes last contact)\n",
        "- pdays: number of days that passed by after the client was last contacted from a previous campaign (numeric; 999 means client was not previously contacted)\n",
        "- previous: number of contacts performed before this campaign and for this client (numeric)\n",
        "- poutcome: outcome of the previous marketing campaign (categorical: 'failure','nonexistent','success')"
      ]
    },
    {
      "cell_type": "markdown",
      "metadata": {
        "id": "ql7qiFTKbl8g",
        "colab_type": "text"
      },
      "source": [
        "---\n",
        "##### social and economic context attributes\n",
        "- emp.var.rate: employment variation rate - quarterly indicator (numeric)\n",
        "- cons.price.idx: consumer price index - monthly indicator (numeric)     \n",
        "- cons.conf.idx: consumer confidence index - monthly indicator (numeric)     \n",
        "- euribor3m: euribor 3 month rate - daily indicator (numeric)\n",
        "- nr.employed: number of employees - quarterly indicator (numeric)"
      ]
    },
    {
      "cell_type": "markdown",
      "metadata": {
        "id": "neJWSHodbq6I",
        "colab_type": "text"
      },
      "source": [
        "---\n",
        "##### Output variable (desired target):\n",
        "- y - has the client subscribed a term deposit? (binary: \"yes\",\"no\")\n",
        "\n",
        "Missing Attribute Values: There are several missing values in some categorical attributes, all coded with the \"unknown\" label. These missing values can be treated as a possible class label or using deletion or imputation techniques."
      ]
    },
    {
      "cell_type": "code",
      "metadata": {
        "id": "klK-Ihmyav6h",
        "colab_type": "code",
        "colab": {}
      },
      "source": [
        "import pandas as pd\n",
        "from pandas import Series, DataFrame\n",
        "#import pandas_profiling\n",
        "import matplotlib.pyplot as plt\n",
        "import numpy as np\n",
        "%matplotlib inline\n",
        "\n",
        "plt.rc(\"font\", size=14)\n",
        "\n",
        "from sklearn.model_selection import train_test_split\n",
        "\n",
        "import seaborn as sns\n",
        "sns.set(style=\"white\")\n",
        "sns.set(style=\"whitegrid\", color_codes=True)\n",
        "\n",
        "import sklearn.naive_bayes as nb\n",
        "from sklearn.naive_bayes import GaussianNB\n",
        "from sklearn import metrics\n",
        "from sklearn.model_selection import GridSearchCV\n",
        "\n",
        "url = 'https://raw.githubusercontent.com/mkmritunjay/machineLearning/master/bank-additional-full.csv'"
      ],
      "execution_count": 0,
      "outputs": []
    },
    {
      "cell_type": "code",
      "metadata": {
        "id": "XHiWW3G2cQmq",
        "colab_type": "code",
        "colab": {
          "base_uri": "https://localhost:8080/",
          "height": 224
        },
        "outputId": "cec20b5a-ecc5-48a9-d459-21742b29186b"
      },
      "source": [
        "data = pd.read_csv(url, sep=';')\n",
        "data.head(5)"
      ],
      "execution_count": 5,
      "outputs": [
        {
          "output_type": "execute_result",
          "data": {
            "text/html": [
              "<div>\n",
              "<style scoped>\n",
              "    .dataframe tbody tr th:only-of-type {\n",
              "        vertical-align: middle;\n",
              "    }\n",
              "\n",
              "    .dataframe tbody tr th {\n",
              "        vertical-align: top;\n",
              "    }\n",
              "\n",
              "    .dataframe thead th {\n",
              "        text-align: right;\n",
              "    }\n",
              "</style>\n",
              "<table border=\"1\" class=\"dataframe\">\n",
              "  <thead>\n",
              "    <tr style=\"text-align: right;\">\n",
              "      <th></th>\n",
              "      <th>age</th>\n",
              "      <th>job</th>\n",
              "      <th>marital</th>\n",
              "      <th>education</th>\n",
              "      <th>default</th>\n",
              "      <th>housing</th>\n",
              "      <th>loan</th>\n",
              "      <th>contact</th>\n",
              "      <th>month</th>\n",
              "      <th>day_of_week</th>\n",
              "      <th>duration</th>\n",
              "      <th>campaign</th>\n",
              "      <th>pdays</th>\n",
              "      <th>previous</th>\n",
              "      <th>poutcome</th>\n",
              "      <th>emp.var.rate</th>\n",
              "      <th>cons.price.idx</th>\n",
              "      <th>cons.conf.idx</th>\n",
              "      <th>euribor3m</th>\n",
              "      <th>nr.employed</th>\n",
              "      <th>y</th>\n",
              "    </tr>\n",
              "  </thead>\n",
              "  <tbody>\n",
              "    <tr>\n",
              "      <th>0</th>\n",
              "      <td>56</td>\n",
              "      <td>housemaid</td>\n",
              "      <td>married</td>\n",
              "      <td>basic.4y</td>\n",
              "      <td>no</td>\n",
              "      <td>no</td>\n",
              "      <td>no</td>\n",
              "      <td>telephone</td>\n",
              "      <td>may</td>\n",
              "      <td>mon</td>\n",
              "      <td>261</td>\n",
              "      <td>1</td>\n",
              "      <td>999</td>\n",
              "      <td>0</td>\n",
              "      <td>nonexistent</td>\n",
              "      <td>1.1</td>\n",
              "      <td>93.994</td>\n",
              "      <td>-36.4</td>\n",
              "      <td>4.857</td>\n",
              "      <td>5191.0</td>\n",
              "      <td>no</td>\n",
              "    </tr>\n",
              "    <tr>\n",
              "      <th>1</th>\n",
              "      <td>57</td>\n",
              "      <td>services</td>\n",
              "      <td>married</td>\n",
              "      <td>high.school</td>\n",
              "      <td>unknown</td>\n",
              "      <td>no</td>\n",
              "      <td>no</td>\n",
              "      <td>telephone</td>\n",
              "      <td>may</td>\n",
              "      <td>mon</td>\n",
              "      <td>149</td>\n",
              "      <td>1</td>\n",
              "      <td>999</td>\n",
              "      <td>0</td>\n",
              "      <td>nonexistent</td>\n",
              "      <td>1.1</td>\n",
              "      <td>93.994</td>\n",
              "      <td>-36.4</td>\n",
              "      <td>4.857</td>\n",
              "      <td>5191.0</td>\n",
              "      <td>no</td>\n",
              "    </tr>\n",
              "    <tr>\n",
              "      <th>2</th>\n",
              "      <td>37</td>\n",
              "      <td>services</td>\n",
              "      <td>married</td>\n",
              "      <td>high.school</td>\n",
              "      <td>no</td>\n",
              "      <td>yes</td>\n",
              "      <td>no</td>\n",
              "      <td>telephone</td>\n",
              "      <td>may</td>\n",
              "      <td>mon</td>\n",
              "      <td>226</td>\n",
              "      <td>1</td>\n",
              "      <td>999</td>\n",
              "      <td>0</td>\n",
              "      <td>nonexistent</td>\n",
              "      <td>1.1</td>\n",
              "      <td>93.994</td>\n",
              "      <td>-36.4</td>\n",
              "      <td>4.857</td>\n",
              "      <td>5191.0</td>\n",
              "      <td>no</td>\n",
              "    </tr>\n",
              "    <tr>\n",
              "      <th>3</th>\n",
              "      <td>40</td>\n",
              "      <td>admin.</td>\n",
              "      <td>married</td>\n",
              "      <td>basic.6y</td>\n",
              "      <td>no</td>\n",
              "      <td>no</td>\n",
              "      <td>no</td>\n",
              "      <td>telephone</td>\n",
              "      <td>may</td>\n",
              "      <td>mon</td>\n",
              "      <td>151</td>\n",
              "      <td>1</td>\n",
              "      <td>999</td>\n",
              "      <td>0</td>\n",
              "      <td>nonexistent</td>\n",
              "      <td>1.1</td>\n",
              "      <td>93.994</td>\n",
              "      <td>-36.4</td>\n",
              "      <td>4.857</td>\n",
              "      <td>5191.0</td>\n",
              "      <td>no</td>\n",
              "    </tr>\n",
              "    <tr>\n",
              "      <th>4</th>\n",
              "      <td>56</td>\n",
              "      <td>services</td>\n",
              "      <td>married</td>\n",
              "      <td>high.school</td>\n",
              "      <td>no</td>\n",
              "      <td>no</td>\n",
              "      <td>yes</td>\n",
              "      <td>telephone</td>\n",
              "      <td>may</td>\n",
              "      <td>mon</td>\n",
              "      <td>307</td>\n",
              "      <td>1</td>\n",
              "      <td>999</td>\n",
              "      <td>0</td>\n",
              "      <td>nonexistent</td>\n",
              "      <td>1.1</td>\n",
              "      <td>93.994</td>\n",
              "      <td>-36.4</td>\n",
              "      <td>4.857</td>\n",
              "      <td>5191.0</td>\n",
              "      <td>no</td>\n",
              "    </tr>\n",
              "  </tbody>\n",
              "</table>\n",
              "</div>"
            ],
            "text/plain": [
              "   age        job  marital  ... euribor3m nr.employed   y\n",
              "0   56  housemaid  married  ...     4.857      5191.0  no\n",
              "1   57   services  married  ...     4.857      5191.0  no\n",
              "2   37   services  married  ...     4.857      5191.0  no\n",
              "3   40     admin.  married  ...     4.857      5191.0  no\n",
              "4   56   services  married  ...     4.857      5191.0  no\n",
              "\n",
              "[5 rows x 21 columns]"
            ]
          },
          "metadata": {
            "tags": []
          },
          "execution_count": 5
        }
      ]
    },
    {
      "cell_type": "code",
      "metadata": {
        "id": "r-FiUlV4d87j",
        "colab_type": "code",
        "colab": {
          "base_uri": "https://localhost:8080/",
          "height": 459
        },
        "outputId": "bd62b88a-26ef-4427-9cdc-7d5bcc2ae075"
      },
      "source": [
        "data.info()"
      ],
      "execution_count": 6,
      "outputs": [
        {
          "output_type": "stream",
          "text": [
            "<class 'pandas.core.frame.DataFrame'>\n",
            "RangeIndex: 41188 entries, 0 to 41187\n",
            "Data columns (total 21 columns):\n",
            "age               41188 non-null int64\n",
            "job               41188 non-null object\n",
            "marital           41188 non-null object\n",
            "education         41188 non-null object\n",
            "default           41188 non-null object\n",
            "housing           41188 non-null object\n",
            "loan              41188 non-null object\n",
            "contact           41188 non-null object\n",
            "month             41188 non-null object\n",
            "day_of_week       41188 non-null object\n",
            "duration          41188 non-null int64\n",
            "campaign          41188 non-null int64\n",
            "pdays             41188 non-null int64\n",
            "previous          41188 non-null int64\n",
            "poutcome          41188 non-null object\n",
            "emp.var.rate      41188 non-null float64\n",
            "cons.price.idx    41188 non-null float64\n",
            "cons.conf.idx     41188 non-null float64\n",
            "euribor3m         41188 non-null float64\n",
            "nr.employed       41188 non-null float64\n",
            "y                 41188 non-null object\n",
            "dtypes: float64(5), int64(5), object(11)\n",
            "memory usage: 6.6+ MB\n"
          ],
          "name": "stdout"
        }
      ]
    },
    {
      "cell_type": "code",
      "metadata": {
        "id": "rwskN-OffRqw",
        "colab_type": "code",
        "colab": {
          "base_uri": "https://localhost:8080/",
          "height": 359
        },
        "outputId": "c41e660c-b967-4e16-c438-d5330209b1d8"
      },
      "source": [
        "data.describe().T"
      ],
      "execution_count": 7,
      "outputs": [
        {
          "output_type": "execute_result",
          "data": {
            "text/html": [
              "<div>\n",
              "<style scoped>\n",
              "    .dataframe tbody tr th:only-of-type {\n",
              "        vertical-align: middle;\n",
              "    }\n",
              "\n",
              "    .dataframe tbody tr th {\n",
              "        vertical-align: top;\n",
              "    }\n",
              "\n",
              "    .dataframe thead th {\n",
              "        text-align: right;\n",
              "    }\n",
              "</style>\n",
              "<table border=\"1\" class=\"dataframe\">\n",
              "  <thead>\n",
              "    <tr style=\"text-align: right;\">\n",
              "      <th></th>\n",
              "      <th>count</th>\n",
              "      <th>mean</th>\n",
              "      <th>std</th>\n",
              "      <th>min</th>\n",
              "      <th>25%</th>\n",
              "      <th>50%</th>\n",
              "      <th>75%</th>\n",
              "      <th>max</th>\n",
              "    </tr>\n",
              "  </thead>\n",
              "  <tbody>\n",
              "    <tr>\n",
              "      <th>age</th>\n",
              "      <td>41188.0</td>\n",
              "      <td>40.024060</td>\n",
              "      <td>10.421250</td>\n",
              "      <td>17.000</td>\n",
              "      <td>32.000</td>\n",
              "      <td>38.000</td>\n",
              "      <td>47.000</td>\n",
              "      <td>98.000</td>\n",
              "    </tr>\n",
              "    <tr>\n",
              "      <th>duration</th>\n",
              "      <td>41188.0</td>\n",
              "      <td>258.285010</td>\n",
              "      <td>259.279249</td>\n",
              "      <td>0.000</td>\n",
              "      <td>102.000</td>\n",
              "      <td>180.000</td>\n",
              "      <td>319.000</td>\n",
              "      <td>4918.000</td>\n",
              "    </tr>\n",
              "    <tr>\n",
              "      <th>campaign</th>\n",
              "      <td>41188.0</td>\n",
              "      <td>2.567593</td>\n",
              "      <td>2.770014</td>\n",
              "      <td>1.000</td>\n",
              "      <td>1.000</td>\n",
              "      <td>2.000</td>\n",
              "      <td>3.000</td>\n",
              "      <td>56.000</td>\n",
              "    </tr>\n",
              "    <tr>\n",
              "      <th>pdays</th>\n",
              "      <td>41188.0</td>\n",
              "      <td>962.475454</td>\n",
              "      <td>186.910907</td>\n",
              "      <td>0.000</td>\n",
              "      <td>999.000</td>\n",
              "      <td>999.000</td>\n",
              "      <td>999.000</td>\n",
              "      <td>999.000</td>\n",
              "    </tr>\n",
              "    <tr>\n",
              "      <th>previous</th>\n",
              "      <td>41188.0</td>\n",
              "      <td>0.172963</td>\n",
              "      <td>0.494901</td>\n",
              "      <td>0.000</td>\n",
              "      <td>0.000</td>\n",
              "      <td>0.000</td>\n",
              "      <td>0.000</td>\n",
              "      <td>7.000</td>\n",
              "    </tr>\n",
              "    <tr>\n",
              "      <th>emp.var.rate</th>\n",
              "      <td>41188.0</td>\n",
              "      <td>0.081886</td>\n",
              "      <td>1.570960</td>\n",
              "      <td>-3.400</td>\n",
              "      <td>-1.800</td>\n",
              "      <td>1.100</td>\n",
              "      <td>1.400</td>\n",
              "      <td>1.400</td>\n",
              "    </tr>\n",
              "    <tr>\n",
              "      <th>cons.price.idx</th>\n",
              "      <td>41188.0</td>\n",
              "      <td>93.575664</td>\n",
              "      <td>0.578840</td>\n",
              "      <td>92.201</td>\n",
              "      <td>93.075</td>\n",
              "      <td>93.749</td>\n",
              "      <td>93.994</td>\n",
              "      <td>94.767</td>\n",
              "    </tr>\n",
              "    <tr>\n",
              "      <th>cons.conf.idx</th>\n",
              "      <td>41188.0</td>\n",
              "      <td>-40.502600</td>\n",
              "      <td>4.628198</td>\n",
              "      <td>-50.800</td>\n",
              "      <td>-42.700</td>\n",
              "      <td>-41.800</td>\n",
              "      <td>-36.400</td>\n",
              "      <td>-26.900</td>\n",
              "    </tr>\n",
              "    <tr>\n",
              "      <th>euribor3m</th>\n",
              "      <td>41188.0</td>\n",
              "      <td>3.621291</td>\n",
              "      <td>1.734447</td>\n",
              "      <td>0.634</td>\n",
              "      <td>1.344</td>\n",
              "      <td>4.857</td>\n",
              "      <td>4.961</td>\n",
              "      <td>5.045</td>\n",
              "    </tr>\n",
              "    <tr>\n",
              "      <th>nr.employed</th>\n",
              "      <td>41188.0</td>\n",
              "      <td>5167.035911</td>\n",
              "      <td>72.251528</td>\n",
              "      <td>4963.600</td>\n",
              "      <td>5099.100</td>\n",
              "      <td>5191.000</td>\n",
              "      <td>5228.100</td>\n",
              "      <td>5228.100</td>\n",
              "    </tr>\n",
              "  </tbody>\n",
              "</table>\n",
              "</div>"
            ],
            "text/plain": [
              "                  count         mean         std  ...       50%       75%       max\n",
              "age             41188.0    40.024060   10.421250  ...    38.000    47.000    98.000\n",
              "duration        41188.0   258.285010  259.279249  ...   180.000   319.000  4918.000\n",
              "campaign        41188.0     2.567593    2.770014  ...     2.000     3.000    56.000\n",
              "pdays           41188.0   962.475454  186.910907  ...   999.000   999.000   999.000\n",
              "previous        41188.0     0.172963    0.494901  ...     0.000     0.000     7.000\n",
              "emp.var.rate    41188.0     0.081886    1.570960  ...     1.100     1.400     1.400\n",
              "cons.price.idx  41188.0    93.575664    0.578840  ...    93.749    93.994    94.767\n",
              "cons.conf.idx   41188.0   -40.502600    4.628198  ...   -41.800   -36.400   -26.900\n",
              "euribor3m       41188.0     3.621291    1.734447  ...     4.857     4.961     5.045\n",
              "nr.employed     41188.0  5167.035911   72.251528  ...  5191.000  5228.100  5228.100\n",
              "\n",
              "[10 rows x 8 columns]"
            ]
          },
          "metadata": {
            "tags": []
          },
          "execution_count": 7
        }
      ]
    },
    {
      "cell_type": "code",
      "metadata": {
        "id": "12fhnifCfXxO",
        "colab_type": "code",
        "colab": {
          "base_uri": "https://localhost:8080/",
          "height": 71
        },
        "outputId": "9bb7018f-67fa-487e-b9f2-53fd720cc398"
      },
      "source": [
        "data = data.dropna()\n",
        "print(data.shape)\n",
        "print(list(data.columns))"
      ],
      "execution_count": 8,
      "outputs": [
        {
          "output_type": "stream",
          "text": [
            "(41188, 21)\n",
            "['age', 'job', 'marital', 'education', 'default', 'housing', 'loan', 'contact', 'month', 'day_of_week', 'duration', 'campaign', 'pdays', 'previous', 'poutcome', 'emp.var.rate', 'cons.price.idx', 'cons.conf.idx', 'euribor3m', 'nr.employed', 'y']\n"
          ],
          "name": "stdout"
        }
      ]
    },
    {
      "cell_type": "code",
      "metadata": {
        "id": "dXgNbz7nfkSv",
        "colab_type": "code",
        "colab": {
          "base_uri": "https://localhost:8080/",
          "height": 391
        },
        "outputId": "b03806f7-e82c-45cc-e30a-3df1ce9ce078"
      },
      "source": [
        "#checking the missing values\n",
        "data.isnull().sum()"
      ],
      "execution_count": 10,
      "outputs": [
        {
          "output_type": "execute_result",
          "data": {
            "text/plain": [
              "age               0\n",
              "job               0\n",
              "marital           0\n",
              "education         0\n",
              "default           0\n",
              "housing           0\n",
              "loan              0\n",
              "contact           0\n",
              "month             0\n",
              "day_of_week       0\n",
              "duration          0\n",
              "campaign          0\n",
              "pdays             0\n",
              "previous          0\n",
              "poutcome          0\n",
              "emp.var.rate      0\n",
              "cons.price.idx    0\n",
              "cons.conf.idx     0\n",
              "euribor3m         0\n",
              "nr.employed       0\n",
              "y                 0\n",
              "dtype: int64"
            ]
          },
          "metadata": {
            "tags": []
          },
          "execution_count": 10
        }
      ]
    },
    {
      "cell_type": "code",
      "metadata": {
        "id": "ilVoSsymfrK6",
        "colab_type": "code",
        "colab": {}
      },
      "source": [
        "#Create dummy variables for categorical variables\n",
        "\n",
        "cat_vars=['job','marital','education','default','housing','loan','contact','month','day_of_week','poutcome']\n",
        "for var in cat_vars:\n",
        "    cat_list='var'+'_'+var\n",
        "    cat_list = pd.get_dummies(data[var], prefix=var)\n",
        "    data1=data.join(cat_list)\n",
        "    data=data1\n",
        "cat_vars=['job','marital','education','default','housing','loan','contact','month','day_of_week','poutcome']\n",
        "data_vars=data.columns.values.tolist()\n",
        "to_keep=[i for i in data_vars if i not in cat_vars]"
      ],
      "execution_count": 0,
      "outputs": []
    },
    {
      "cell_type": "code",
      "metadata": {
        "id": "vc-QcPhug6YG",
        "colab_type": "code",
        "colab": {
          "base_uri": "https://localhost:8080/",
          "height": 340
        },
        "outputId": "e6687665-82b0-48d9-f6c8-8ecd0cd9e814"
      },
      "source": [
        "data_final = data[to_keep]\n",
        "data_final.columns.values"
      ],
      "execution_count": 12,
      "outputs": [
        {
          "output_type": "execute_result",
          "data": {
            "text/plain": [
              "array(['age', 'duration', 'campaign', 'pdays', 'previous', 'emp.var.rate',\n",
              "       'cons.price.idx', 'cons.conf.idx', 'euribor3m', 'nr.employed', 'y',\n",
              "       'job_admin.', 'job_blue-collar', 'job_entrepreneur',\n",
              "       'job_housemaid', 'job_management', 'job_retired',\n",
              "       'job_self-employed', 'job_services', 'job_student',\n",
              "       'job_technician', 'job_unemployed', 'job_unknown',\n",
              "       'marital_divorced', 'marital_married', 'marital_single',\n",
              "       'marital_unknown', 'education_basic.4y', 'education_basic.6y',\n",
              "       'education_basic.9y', 'education_high.school',\n",
              "       'education_illiterate', 'education_professional.course',\n",
              "       'education_university.degree', 'education_unknown', 'default_no',\n",
              "       'default_unknown', 'default_yes', 'housing_no', 'housing_unknown',\n",
              "       'housing_yes', 'loan_no', 'loan_unknown', 'loan_yes',\n",
              "       'contact_cellular', 'contact_telephone', 'month_apr', 'month_aug',\n",
              "       'month_dec', 'month_jul', 'month_jun', 'month_mar', 'month_may',\n",
              "       'month_nov', 'month_oct', 'month_sep', 'day_of_week_fri',\n",
              "       'day_of_week_mon', 'day_of_week_thu', 'day_of_week_tue',\n",
              "       'day_of_week_wed', 'poutcome_failure', 'poutcome_nonexistent',\n",
              "       'poutcome_success'], dtype=object)"
            ]
          },
          "metadata": {
            "tags": []
          },
          "execution_count": 12
        }
      ]
    },
    {
      "cell_type": "code",
      "metadata": {
        "id": "ZyW6SFtIhExM",
        "colab_type": "code",
        "colab": {}
      },
      "source": [
        "# these variabls were selected using RFE(recursive feature elimination). i will include that part later.\n",
        "cols=[\"previous\", \"euribor3m\", \"job_blue-collar\", \"job_retired\", \"job_services\", \"job_student\", \"default_no\", \n",
        "      \"month_aug\", \"month_dec\", \"month_jul\", \"month_nov\", \"month_oct\", \"month_sep\", \"day_of_week_fri\", \"day_of_week_wed\", \n",
        "      \"poutcome_failure\", \"poutcome_nonexistent\", \"poutcome_success\"] \n",
        "X=data_final[cols]\n",
        "y=data_final['y']"
      ],
      "execution_count": 0,
      "outputs": []
    },
    {
      "cell_type": "markdown",
      "metadata": {
        "id": "yev3_oNvhkqy",
        "colab_type": "text"
      },
      "source": [
        "### Train Test Split"
      ]
    },
    {
      "cell_type": "code",
      "metadata": {
        "id": "KvSiL6Xrhc3D",
        "colab_type": "code",
        "colab": {}
      },
      "source": [
        "X_train, X_test, y_train, y_test = train_test_split(X, y, test_size=0.3, random_state=0)"
      ],
      "execution_count": 0,
      "outputs": []
    },
    {
      "cell_type": "code",
      "metadata": {
        "id": "L8oXuOC0hsvz",
        "colab_type": "code",
        "colab": {
          "base_uri": "https://localhost:8080/",
          "height": 34
        },
        "outputId": "da6d4c94-678d-4f0a-8ad9-5e91954e0e47"
      },
      "source": [
        "nb_clf = GaussianNB()\n",
        "nb_clf.fit(X_train, y_train)"
      ],
      "execution_count": 23,
      "outputs": [
        {
          "output_type": "execute_result",
          "data": {
            "text/plain": [
              "GaussianNB(priors=None, var_smoothing=1e-09)"
            ]
          },
          "metadata": {
            "tags": []
          },
          "execution_count": 23
        }
      ]
    },
    {
      "cell_type": "code",
      "metadata": {
        "id": "ObFevBqPh-i1",
        "colab_type": "code",
        "colab": {
          "base_uri": "https://localhost:8080/",
          "height": 302
        },
        "outputId": "4d5076c7-1d25-420d-a372-b3fb00e94419"
      },
      "source": [
        "nb_cm = metrics.confusion_matrix( y_test,nb_clf.predict( X_test) )\n",
        "sns.heatmap(nb_cm, annot=True,  fmt='.2f', xticklabels = [\"no\", \"Yes\"] , yticklabels = [\"No\", \"Yes\"] )\n",
        "plt.ylabel('True label')\n",
        "plt.xlabel('Predicted label')"
      ],
      "execution_count": 25,
      "outputs": [
        {
          "output_type": "execute_result",
          "data": {
            "text/plain": [
              "Text(0.5, 12.5, 'Predicted label')"
            ]
          },
          "metadata": {
            "tags": []
          },
          "execution_count": 25
        },
        {
          "output_type": "display_data",
          "data": {
            "image/png": "[encoded data removed]",
            "text/plain": [
              "<Figure size 432x288 with 2 Axes>"
            ]
          },
          "metadata": {
            "tags": []
          }
        }
      ]
    },
    {
      "cell_type": "code",
      "metadata": {
        "id": "wQ1430GJjwG0",
        "colab_type": "code",
        "colab": {
          "base_uri": "https://localhost:8080/",
          "height": 34
        },
        "outputId": "d66d5e33-9467-426a-9237-339b7d98f349"
      },
      "source": [
        "metrics.accuracy_score( y_test, nb_clf.predict( X_test ) )"
      ],
      "execution_count": 26,
      "outputs": [
        {
          "output_type": "execute_result",
          "data": {
            "text/plain": [
              "0.8741603949178604"
            ]
          },
          "metadata": {
            "tags": []
          },
          "execution_count": 26
        }
      ]
    },
    {
      "cell_type": "code",
      "metadata": {
        "id": "NQ0c1rG0j45K",
        "colab_type": "code",
        "colab": {}
      },
      "source": [
        ""
      ],
      "execution_count": 0,
      "outputs": []
    }
  ]
}